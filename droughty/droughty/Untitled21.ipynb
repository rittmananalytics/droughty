{
 "cells": [
  {
   "cell_type": "code",
   "execution_count": 6,
   "id": "4944cec0-8a81-44d7-a181-822c7510a0d3",
   "metadata": {},
   "outputs": [],
   "source": [
    "import lkml as looker\n",
    "from pprint import pprint\n",
    "from google.oauth2 import service_account\n",
    "import pandas_gbq\n",
    "from contextlib import redirect_stdout\n",
    "import snowflake.connector\n",
    "from sqlalchemy import create_engine\n",
    "from snowflake.sqlalchemy import URL\n",
    "import pandas as pd\n",
    "import pandas\n",
    "import os\n",
    "import json\n",
    "import sys\n",
    "import yaml\n",
    "\n",
    "import warehouse_target\n",
    "import config\n",
    "\n",
    "import git\n",
    "\n",
    "pd.options.mode.chained_assignment = None\n",
    "\n",
    "credentials = config.service_account\n",
    "\n",
    "warehouse_name = config.warehouse_name\n",
    "lookml_project = config.project_name\n",
    "\n",
    "sql = warehouse_target.warehouse_schema\n",
    "explore_sql = warehouse_target.lookml_explore_schema\n",
    "\n",
    "if warehouse_name == 'big_query':\n",
    "\n",
    "    # Run a Standard SQL query with the project set explicitly\n",
    "    project_id = lookml_project\n",
    "    df = pandas.read_gbq(sql, dialect='standard', project_id=lookml_project, credentials=credentials)\n",
    "\n",
    "    df['description'] = df['description'].fillna('not available')\n",
    "\n",
    "    df1 = df[['table_name','column_name','data_type','description']]\n",
    "\n",
    "    df1['data_type'] = df1['data_type'].str.replace('TIMESTAMP','timestamp')\n",
    "    df1['data_type'] = df1['data_type'].str.replace('DATE','date')\n",
    "    df1['data_type'] = df1['data_type'].str.replace('INT64','number')\n",
    "    df1['data_type'] = df1['data_type'].str.replace('FLOAT64','number')\n",
    "    df1['data_type'] = df1['data_type'].str.replace('NUMERIC','number')\n",
    "    df1['data_type'] = df1['data_type'].str.replace('STRING','string')\n",
    "    df1['data_type'] = df1['data_type'].str.replace('BOOL','yesno')\n",
    "\n",
    "    df2 = df1\n",
    "\n",
    "    explore_df = pandas.read_gbq(explore_sql, dialect='standard', project_id=lookml_project, credentials=credentials)\n",
    "   \n",
    "\n",
    "elif warehouse_name == 'snowflake': \n",
    "\n",
    "    url = URL(\n",
    "\n",
    "        account = config.snowflake_account,\n",
    "        user =  config.snowflake_user,\n",
    "        schema =  config.snowflake_schema,\n",
    "        database =  config.snowflake_database,\n",
    "        password =  config.snowflake_password,\n",
    "        warehouse= config.snowflake_warehouse,\n",
    "        role =  config.snowflake_role\n",
    "\n",
    "    )\n",
    "\n",
    "    engine = create_engine(url)\n",
    "\n",
    "    connection = engine.connect()\n",
    "\n",
    "    query = '''\n",
    "    select * from snowflake_sample_data.information_schema.columns;\n",
    "    '''\n",
    "\n",
    "    df = pd.read_sql(query, connection)\n",
    "    \n",
    "    df['description'] = df['comment'].fillna('not available')\n",
    "    \n",
    "    df1 = df.groupby(['table_name', 'column_name','data_type','description']).size().reset_index().rename(columns={0:'count'})\n",
    "\n",
    "    df2 = df1[['table_name','column_name','data_type','description']]\n",
    "\n",
    "    connection.close()\n",
    "    engine.dispose()\n",
    "\n",
    "    \n",
    "df3 = {n: grp.loc[n].to_dict('index')\n",
    "    \n",
    "for n, grp in df2.set_index(['table_name', 'column_name','data_type','description']).groupby(level='table_name')}\n",
    "\n",
    "d1 = df3\n",
    "\n",
    "##\n",
    "\n",
    "df4 = {n: grp.loc[n].to_dict('index')\n",
    "    \n",
    "for n, grp in explore_df.set_index(['pk_table_name', 'pk_column_name','fk_table_name','fk_column_name']).groupby(level='pk_table_name')}\n",
    "\n",
    "d2 = df4\n",
    "\n",
    "##\n",
    "\n",
    "def recur_dictify(frame):\n",
    "    if len(frame.columns) == 1:\n",
    "        if frame.values.size == 1: return frame.values[0][0]\n",
    "        return frame.values.squeeze()\n",
    "    grouped = frame.groupby(frame.columns[0])\n",
    "    d = {k: recur_dictify(g.iloc[:,1:]) for k,g in grouped}\n",
    "    return d\n",
    "\n",
    "d5 = (recur_dictify(explore_df))\n",
    "\n",
    "\t\t\t\t"
   ]
  },
  {
   "cell_type": "code",
   "execution_count": 7,
   "id": "46e1e5c9-b918-4e65-b1d1-fdf5d5e7237e",
   "metadata": {},
   "outputs": [
    {
     "data": {
      "text/plain": [
       "{}"
      ]
     },
     "execution_count": 7,
     "metadata": {},
     "output_type": "execute_result"
    }
   ],
   "source": [
    "d5"
   ]
  },
  {
   "cell_type": "code",
   "execution_count": 8,
   "id": "daf57aee-c21e-4786-bd03-fdf457c35088",
   "metadata": {},
   "outputs": [
    {
     "data": {
      "text/plain": [
       "{}"
      ]
     },
     "execution_count": 8,
     "metadata": {},
     "output_type": "execute_result"
    }
   ],
   "source": [
    "d2"
   ]
  },
  {
   "cell_type": "code",
   "execution_count": 9,
   "id": "bfb985cd-2ae8-4e86-aa6e-305adaf71c3b",
   "metadata": {},
   "outputs": [
    {
     "data": {
      "text/plain": [
       "'\\n\\n\\n                        with source as (\\n\\n                        select * from `ra-development.jordan_analytics_dev.INFORMATION_SCHEMA.COLUMN_FIELD_PATHS`\\n\\n                        where table_name in (\\'wh_web_events_fact\\',\\'wh_website_users_dim\\',\\'wh_website_pages_fact\\')\\n\\n                        ),\\n\\n                        pks as (\\n                            select \\n                            table_name as pk_table_name,\\n                            column_name as pk_column_name,\\n                            trim(column_name, \"_pk\") as pk_sk,\\n                            from source\\n                            where column_name like \\'%pk%\\'\\n                            ),\\n\\n                            fks as (\\n                            select\\n                            table_name as fk_table_name,\\n                            column_name as fk_column_name,\\n                            trim(column_name, \"_fk\") as fk_sk,\\n                            from source\\n                            where column_name like \\'%fk%\\'\\n\\n                            )\\n\\n\\n                            select \\n\\n                            pk_table_name,\\n                            pk_column_name,\\n                            fk_table_name,\\n                            pk_table_name as pk_table_name_value,\\n                            fk_column_name\\n                            from pks\\n\\n                            inner join fks on pks.pk_sk = fks.fk_sk\\n\\n\\n\\n        '"
      ]
     },
     "execution_count": 9,
     "metadata": {},
     "output_type": "execute_result"
    }
   ],
   "source": [
    "explore_sql"
   ]
  },
  {
   "cell_type": "code",
   "execution_count": 10,
   "id": "fd0b098f-e5fa-41ae-bba1-72799a8cce58",
   "metadata": {},
   "outputs": [
    {
     "data": {
      "text/html": [
       "<div>\n",
       "<style scoped>\n",
       "    .dataframe tbody tr th:only-of-type {\n",
       "        vertical-align: middle;\n",
       "    }\n",
       "\n",
       "    .dataframe tbody tr th {\n",
       "        vertical-align: top;\n",
       "    }\n",
       "\n",
       "    .dataframe thead th {\n",
       "        text-align: right;\n",
       "    }\n",
       "</style>\n",
       "<table border=\"1\" class=\"dataframe\">\n",
       "  <thead>\n",
       "    <tr style=\"text-align: right;\">\n",
       "      <th></th>\n",
       "      <th>pk_table_name</th>\n",
       "      <th>pk_column_name</th>\n",
       "      <th>fk_table_name</th>\n",
       "      <th>pk_table_name_value</th>\n",
       "      <th>fk_column_name</th>\n",
       "    </tr>\n",
       "  </thead>\n",
       "  <tbody>\n",
       "  </tbody>\n",
       "</table>\n",
       "</div>"
      ],
      "text/plain": [
       "Empty DataFrame\n",
       "Columns: [pk_table_name, pk_column_name, fk_table_name, pk_table_name_value, fk_column_name]\n",
       "Index: []"
      ]
     },
     "execution_count": 10,
     "metadata": {},
     "output_type": "execute_result"
    }
   ],
   "source": [
    "explore_df"
   ]
  },
  {
   "cell_type": "code",
   "execution_count": null,
   "id": "e3f7818e-9498-4547-87c0-cbdb14ab3b25",
   "metadata": {},
   "outputs": [],
   "source": []
  }
 ],
 "metadata": {
  "kernelspec": {
   "display_name": "Python 3 (ipykernel)",
   "language": "python",
   "name": "python3"
  },
  "language_info": {
   "codemirror_mode": {
    "name": "ipython",
    "version": 3
   },
   "file_extension": ".py",
   "mimetype": "text/x-python",
   "name": "python",
   "nbconvert_exporter": "python",
   "pygments_lexer": "ipython3",
   "version": "3.8.12"
  }
 },
 "nbformat": 4,
 "nbformat_minor": 5
}
