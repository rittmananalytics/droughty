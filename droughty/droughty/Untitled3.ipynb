{
 "cells": [
  {
   "cell_type": "code",
   "execution_count": 6,
   "id": "16feb122",
   "metadata": {},
   "outputs": [],
   "source": [
    "import lkml as looker\n",
    "from pprint import pprint\n",
    "from google.oauth2 import service_account\n",
    "import pandas_gbq\n",
    "from contextlib import redirect_stdout\n",
    "import snowflake.connector\n",
    "from sqlalchemy import create_engine\n",
    "from snowflake.sqlalchemy import URL\n",
    "import pandas as pd\n",
    "import pandas\n",
    "import os\n",
    "import json\n",
    "import sys\n",
    "import yaml\n",
    "\n",
    "from droughty import warehouse_target\n",
    "from droughty import config\n",
    "\n",
    "import git\n",
    "\n",
    "pd.options.mode.chained_assignment = None\n",
    "\n",
    "credentials = config.service_account\n",
    "\n",
    "warehouse_name = config.warehouse_name\n",
    "lookml_project = config.project_name\n",
    "\n",
    "dimensional_inference_status = warehouse_target.dimensional_inference\n",
    "sql = warehouse_target.warehouse_schema\n",
    "explore_sql = warehouse_target.explore_sql\n",
    "\n",
    "if warehouse_name == 'big_query':\n",
    "\n",
    "    # Run a Standard SQL query with the project set explicitly\n",
    "    project_id = lookml_project\n",
    "    df = pandas.read_gbq(sql, dialect='standard', project_id=lookml_project, credentials=credentials)\n",
    "\n",
    "    df['description'] = df['description'].fillna('not available')\n",
    "\n",
    "    df1 = df[['table_name','column_name','data_type','description']]\n",
    "\n",
    "    df1['data_type'] = df1['data_type'].str.replace('TIMESTAMP','timestamp')\n",
    "    df1['data_type'] = df1['data_type'].str.replace('DATE','date')\n",
    "    df1['data_type'] = df1['data_type'].str.replace('INT64','number')\n",
    "    df1['data_type'] = df1['data_type'].str.replace('FLOAT64','number')\n",
    "    df1['data_type'] = df1['data_type'].str.replace('NUMERIC','number')\n",
    "    df1['data_type'] = df1['data_type'].str.replace('STRING','string')\n",
    "    df1['data_type'] = df1['data_type'].str.replace('BOOL','yesno')\n",
    "\n",
    "    df2 = df1\n",
    "\n",
    "    explore_df = pandas.read_gbq(explore_sql, dialect='standard', project_id=lookml_project, credentials=credentials)\n",
    "\n",
    "    explore_df_2 = explore_df[['parent_table_name','pk_table_name', 'pk_column_name','fk_table_name','fk_column_name','looker_relationship']]\n",
    "\n",
    "    pk_table_name_df = explore_df[['pk_table_name']]\n",
    "\n",
    "    duplicate_explore_rows = pk_table_name_df[pk_table_name_df.duplicated(['pk_table_name'])]\n",
    "\n",
    "    distinct_duplicate_explore_rows = duplicate_explore_rows['pk_table_name'].drop_duplicates().to_list()\n",
    "\n",
    "    df4 = {n: grp.loc[n].to_dict('index')\n",
    "        \n",
    "    for n, grp in explore_df.set_index(['parent_table_name','pk_table_name', 'pk_column_name','fk_table_name','fk_column_name','looker_relationship']).groupby(level='parent_table_name')}\n",
    "\n",
    "    d2 = df4\n",
    "\n",
    "    def recur_dictify(frame):\n",
    "        if len(frame.columns) == 1:\n",
    "            if frame.values.size == 1: return frame.values[0][0]\n",
    "            return frame.values.squeeze()\n",
    "        grouped = frame.groupby(frame.columns[0])\n",
    "        d = {k: recur_dictify(g.iloc[:,1:]) for k,g in grouped}\n",
    "        return d\n",
    "\n",
    "elif warehouse_name == 'snowflake': \n",
    "\n",
    "    url = URL(\n",
    "\n",
    "        account = config.snowflake_account,\n",
    "        user =  config.snowflake_user,\n",
    "        schema =  config.snowflake_schema,\n",
    "        database =  config.snowflake_database,\n",
    "        password =  config.snowflake_password,\n",
    "        warehouse= config.snowflake_warehouse,\n",
    "        role =  config.snowflake_role\n",
    "\n",
    "    )\n",
    "\n",
    "    engine = create_engine(url)\n",
    "\n",
    "    connection = engine.connect()\n",
    "\n",
    "    explore_df = pd.read_sql(explore_sql, connection)\n",
    "\n",
    "    explore_df_2 = explore_df[['parent_table_name','pk_table_name', 'pk_column_name','fk_table_name','fk_column_name','looker_relationship']]\n",
    "\n",
    "    pk_table_name_df = explore_df[['pk_table_name']]\n",
    "\n",
    "    duplicate_explore_rows = pk_table_name_df[pk_table_name_df.duplicated(['pk_table_name'])]\n",
    "\n",
    "    distinct_duplicate_explore_rows = duplicate_explore_rows['pk_table_name'].drop_duplicates().to_list()\n",
    "\n",
    "    connection.close()\n",
    "    engine.dispose()\n",
    "\n",
    "    df4 = {n: grp.loc[n].to_dict('index')\n",
    "        \n",
    "    for n, grp in explore_df.set_index(['parent_table_name','pk_table_name', 'pk_column_name','fk_table_name','fk_column_name','looker_relationship']).groupby(level='parent_table_name')}\n",
    "\n",
    "    d2 = df4\n",
    "\n",
    "    def recur_dictify(frame):\n",
    "        if len(frame.columns) == 1:\n",
    "            if frame.values.size == 1: return frame.values[0][0]\n",
    "            return frame.values.squeeze()\n",
    "        grouped = frame.groupby(frame.columns[0])\n",
    "        d = {k: recur_dictify(g.iloc[:,1:]) for k,g in grouped}\n",
    "        return d"
   ]
  },
  {
   "cell_type": "code",
   "execution_count": 7,
   "id": "c646a62c",
   "metadata": {},
   "outputs": [
    {
     "data": {
      "text/plain": [
       "{}"
      ]
     },
     "execution_count": 7,
     "metadata": {},
     "output_type": "execute_result"
    }
   ],
   "source": [
    "df4"
   ]
  },
  {
   "cell_type": "code",
   "execution_count": 8,
   "id": "1d6bb7d1",
   "metadata": {},
   "outputs": [
    {
     "data": {
      "text/plain": [
       "{}"
      ]
     },
     "execution_count": 8,
     "metadata": {},
     "output_type": "execute_result"
    }
   ],
   "source": [
    "d2"
   ]
  },
  {
   "cell_type": "code",
   "execution_count": 9,
   "id": "47d432bc",
   "metadata": {},
   "outputs": [
    {
     "data": {
      "text/html": [
       "<div>\n",
       "<style scoped>\n",
       "    .dataframe tbody tr th:only-of-type {\n",
       "        vertical-align: middle;\n",
       "    }\n",
       "\n",
       "    .dataframe tbody tr th {\n",
       "        vertical-align: top;\n",
       "    }\n",
       "\n",
       "    .dataframe thead th {\n",
       "        text-align: right;\n",
       "    }\n",
       "</style>\n",
       "<table border=\"1\" class=\"dataframe\">\n",
       "  <thead>\n",
       "    <tr style=\"text-align: right;\">\n",
       "      <th></th>\n",
       "      <th>parent_table_name</th>\n",
       "      <th>pk_table_name</th>\n",
       "      <th>pk_column_name</th>\n",
       "      <th>fk_table_name</th>\n",
       "      <th>fk_column_name</th>\n",
       "      <th>looker_relationship</th>\n",
       "    </tr>\n",
       "  </thead>\n",
       "  <tbody>\n",
       "  </tbody>\n",
       "</table>\n",
       "</div>"
      ],
      "text/plain": [
       "Empty DataFrame\n",
       "Columns: [parent_table_name, pk_table_name, pk_column_name, fk_table_name, fk_column_name, looker_relationship]\n",
       "Index: []"
      ]
     },
     "execution_count": 9,
     "metadata": {},
     "output_type": "execute_result"
    }
   ],
   "source": [
    "explore_df_2"
   ]
  },
  {
   "cell_type": "code",
   "execution_count": 10,
   "id": "6ae6207c",
   "metadata": {},
   "outputs": [
    {
     "data": {
      "text/plain": [
       "'\\n                with source as (\\n                select \\n                *\\n                from \"ANALYTICS\".\"INFORMATION_SCHEMA\".\"COLUMNS\"\\n                where table_name in \\n                (\\'WH_PLATFORM__INVOICES_FACT\\',\\'WH_PLATFORM__VEHICLES_DIM\\',\\'WH_PLATFORM__POLICIES_FACT\\')\\n                ),\\n                \\n                explore_table_row_count_WH_PLATFORM__INVOICES_FACT as (\\n                select \\n                \\'WH_PLATFORM__INVOICES_FACT\\' as table_name,\\n                count(*) as row_count\\n                from \"ANALYTICS\".\"DBT_ALARIC\".\"WH_PLATFORM__INVOICES_FACT\"\\n                group by 1\\n                ),\\n                \\n                explore_table_row_count_WH_PLATFORM__VEHICLES_DIM as (\\n                select \\n                \\'WH_PLATFORM__VEHICLES_DIM\\' as table_name,\\n                count(*) as row_count\\n                from \"ANALYTICS\".\"DBT_ALARIC\".\"WH_PLATFORM__VEHICLES_DIM\"\\n                group by 1\\n                ),\\n                \\n                explore_table_row_count_WH_PLATFORM__POLICIES_FACT as (\\n                select \\n                \\'WH_PLATFORM__POLICIES_FACT\\' as table_name,\\n                count(*) as row_count\\n                from \"ANALYTICS\".\"DBT_ALARIC\".\"WH_PLATFORM__POLICIES_FACT\"\\n                group by 1\\n                ),\\n                \\n                merge_counts as (\\n                \\n                select * from explore_table_row_count_WH_PLATFORM__INVOICES_FACT\\n                union all\\n                \\n                select * from explore_table_row_count_WH_PLATFORM__VEHICLES_DIM\\n                union all\\n                \\n                select * from explore_table_row_count_WH_PLATFORM__POLICIES_FACT\\n                \\n                \\n                ),\\n                pks as (\\n                    select \\n                    table_name as pk_table_name,\\n                    column_name as pk_column_name,\\n                    trim(column_name, \\'_pk\\') as pk_sk\\n                    from source\\n                    where column_name like \\'%pk%\\'\\n                ),\\n                fks as (\\n                    select\\n                    table_name as fk_table_name,\\n                    column_name as fk_column_name,\\n                    trim(column_name, \\'_fk\\') as fk_sk\\n                    from source\\n                    where column_name like \\'%fk%\\'\\n                )\\n                select \\n                \\'WH_PLATFORM__INVOICES_FACT\\' as parent_table_name,\\n                pk_table_name,\\n                pk_column_name,\\n                fk_table_name,\\n                fk_column_name,\\n                merge_counts_pk.row_count as pk_row_count,\\n                merge_counts_fk.row_count as fk_row_count,\\n                merge_counts_parent.row_count as parent_row_count,\\n                case when merge_counts_pk.row_count > merge_counts_fk.row_count\\n                        then \\'many_to_one\\'   \\n                    when merge_counts_pk.row_count < merge_counts_fk.row_count\\n                        then \\'one_to_many\\'\\n                    when merge_counts_pk.row_count = merge_counts_fk.row_count\\n                        then \\'one_to_one\\'\\n                end as true_relationship,\\n                case when merge_counts_pk.row_count < merge_counts_parent.row_count\\n                    and merge_counts_fk.row_count < merge_counts_parent.row_count\\n                    or  merge_counts_pk.row_count != merge_counts_parent.row_count\\n                    and  merge_counts_fk.row_count != merge_counts_parent.row_count\\n                        then \\'many_to_one\\'\\n                    when merge_counts_pk.row_count > merge_counts_parent.row_count\\n                        then \\'one_to_many\\'\\n                    when merge_counts_fk.row_count > merge_counts_parent.row_count\\n                        then \\'one_to_many\\'\\n                    when merge_counts_pk.row_count = merge_counts_parent.row_count\\n                    or merge_counts_fk.row_count = merge_counts_parent.row_count\\n                        then \\'one_to_one\\'                \\n                        \\n                end as looker_relationship\\n                    \\n                    \\n                \\n                \\n                from pks\\n                inner join fks on pks.pk_sk = fks.fk_sk\\n                left join merge_counts as merge_counts_fk on merge_counts_fk.table_name = fks.fk_table_name\\n                left join merge_counts as merge_counts_pk on merge_counts_pk.table_name = pks.pk_table_name\\n                left join merge_counts as merge_counts_parent on merge_counts_parent.table_name = \\'WH_PLATFORM__INVOICES_FACT\\'\\n                order by looker_relationship\\n                '"
      ]
     },
     "execution_count": 10,
     "metadata": {},
     "output_type": "execute_result"
    }
   ],
   "source": [
    "explore_sql"
   ]
  },
  {
   "cell_type": "code",
   "execution_count": null,
   "id": "17551c19",
   "metadata": {},
   "outputs": [],
   "source": []
  }
 ],
 "metadata": {
  "kernelspec": {
   "display_name": "Python 3 (ipykernel)",
   "language": "python",
   "name": "python3"
  },
  "language_info": {
   "codemirror_mode": {
    "name": "ipython",
    "version": 3
   },
   "file_extension": ".py",
   "mimetype": "text/x-python",
   "name": "python",
   "nbconvert_exporter": "python",
   "pygments_lexer": "ipython3",
   "version": "3.8.12"
  }
 },
 "nbformat": 4,
 "nbformat_minor": 5
}
