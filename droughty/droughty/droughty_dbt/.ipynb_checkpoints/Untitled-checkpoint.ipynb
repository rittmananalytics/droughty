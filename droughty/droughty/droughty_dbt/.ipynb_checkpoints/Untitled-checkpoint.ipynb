{
 "cells": [
  {
   "cell_type": "code",
   "execution_count": 24,
   "id": "0930227b",
   "metadata": {},
   "outputs": [],
   "source": [
    "test_schemas = {'test_schemas': ['amir_analytics_dev_staging', 'amir_analytics_dev_integration', 'amir_analytics_dev'], 'test_overwrite': [{'models': [{'wh_operations__events_fact': [{'columns': {'document_fk': {'tests': ['not null', 'unique']}}}]}]}]}"
   ]
  },
  {
   "cell_type": "code",
   "execution_count": 25,
   "id": "83545bf9",
   "metadata": {},
   "outputs": [
    {
     "name": "stdout",
     "output_type": "stream",
     "text": [
      "{'test_schemas': ['amir_analytics_dev_staging', 'amir_analytics_dev_integration', 'amir_analytics_dev'], 'test_overwrite': [{'models': [{'wh_operations__events_fact': [{'columns': {'document_fk': {'tests': ['not null', 'unique']}}}]}]}]}\n"
     ]
    }
   ],
   "source": [
    "print (test_schemas)"
   ]
  },
  {
   "cell_type": "code",
   "execution_count": 27,
   "id": "286d1dda",
   "metadata": {},
   "outputs": [
    {
     "name": "stdout",
     "output_type": "stream",
     "text": [
      "[{'models': [{'wh_operations__events_fact': [{'columns': {'document_fk': {'tests': ['not null', 'unique']}}}]}]}]\n"
     ]
    }
   ],
   "source": [
    "print (test_schemas['test_overwrite'])"
   ]
  },
  {
   "cell_type": "code",
   "execution_count": 38,
   "id": "ed2ff85e",
   "metadata": {},
   "outputs": [],
   "source": [
    "test_overwrite = (test_schemas['test_overwrite'])"
   ]
  },
  {
   "cell_type": "code",
   "execution_count": 39,
   "id": "1440e42d",
   "metadata": {},
   "outputs": [
    {
     "data": {
      "text/plain": [
       "[{'models': [{'wh_operations__events_fact': [{'columns': {'document_fk': {'tests': ['not null',\n",
       "         'unique']}}}]}]}]"
      ]
     },
     "execution_count": 39,
     "metadata": {},
     "output_type": "execute_result"
    }
   ],
   "source": [
    "test_overwrite"
   ]
  },
  {
   "cell_type": "code",
   "execution_count": 41,
   "id": "013ab812",
   "metadata": {},
   "outputs": [
    {
     "data": {
      "text/plain": [
       "list"
      ]
     },
     "execution_count": 41,
     "metadata": {},
     "output_type": "execute_result"
    }
   ],
   "source": [
    "type(test_overwrite)"
   ]
  },
  {
   "cell_type": "code",
   "execution_count": 46,
   "id": "466b3005",
   "metadata": {},
   "outputs": [],
   "source": [
    "x = test_schemas.get(\"models\")"
   ]
  },
  {
   "cell_type": "code",
   "execution_count": 48,
   "id": "640bf436",
   "metadata": {},
   "outputs": [
    {
     "name": "stdout",
     "output_type": "stream",
     "text": [
      "None\n"
     ]
    }
   ],
   "source": [
    "print(x)"
   ]
  },
  {
   "cell_type": "code",
   "execution_count": 45,
   "id": "b1c65acf",
   "metadata": {},
   "outputs": [
    {
     "data": {
      "text/plain": [
       "list"
      ]
     },
     "execution_count": 45,
     "metadata": {},
     "output_type": "execute_result"
    }
   ],
   "source": [
    "type(x)"
   ]
  },
  {
   "cell_type": "code",
   "execution_count": 50,
   "id": "5d2e1807",
   "metadata": {},
   "outputs": [],
   "source": [
    "test_overwrite = (test_schemas['test_overwrite'])"
   ]
  },
  {
   "cell_type": "code",
   "execution_count": 51,
   "id": "fa472efa",
   "metadata": {},
   "outputs": [
    {
     "name": "stdout",
     "output_type": "stream",
     "text": [
      "[{'models': [{'wh_operations__events_fact': [{'columns': {'document_fk': {'tests': ['not null', 'unique']}}}]}]}]\n"
     ]
    }
   ],
   "source": [
    "print(test_overwrite)"
   ]
  },
  {
   "cell_type": "code",
   "execution_count": 52,
   "id": "246356d9",
   "metadata": {},
   "outputs": [
    {
     "name": "stdout",
     "output_type": "stream",
     "text": [
      "[{'wh_operations__events_fact': [{'columns': {'document_fk': {'tests': ['not null', 'unique']}}}]}]\n"
     ]
    }
   ],
   "source": [
    "print(test_overwrite[0]['models'])\n"
   ]
  },
  {
   "cell_type": "code",
   "execution_count": 53,
   "id": "78b467e4",
   "metadata": {},
   "outputs": [
    {
     "ename": "KeyError",
     "evalue": "'columns'",
     "output_type": "error",
     "traceback": [
      "\u001b[0;31m---------------------------------------------------------------------------\u001b[0m",
      "\u001b[0;31mKeyError\u001b[0m                                  Traceback (most recent call last)",
      "Input \u001b[0;32mIn [53]\u001b[0m, in \u001b[0;36m<module>\u001b[0;34m\u001b[0m\n\u001b[0;32m----> 1\u001b[0m \u001b[38;5;28mprint\u001b[39m(\u001b[43mtest_overwrite\u001b[49m\u001b[43m[\u001b[49m\u001b[38;5;241;43m0\u001b[39;49m\u001b[43m]\u001b[49m\u001b[43m[\u001b[49m\u001b[38;5;124;43m'\u001b[39;49m\u001b[38;5;124;43mcolumns\u001b[39;49m\u001b[38;5;124;43m'\u001b[39;49m\u001b[43m]\u001b[49m)\n",
      "\u001b[0;31mKeyError\u001b[0m: 'columns'"
     ]
    }
   ],
   "source": [
    "print(test_overwrite[0]['columns'])\n"
   ]
  },
  {
   "cell_type": "code",
   "execution_count": 55,
   "id": "7404918c",
   "metadata": {},
   "outputs": [],
   "source": [
    "test = [{'models': [{'wh_operations__events_fact': [{'columns': {'document_fk': {'tests': ['not null', 'unique']}}}]}, {'wh_operations__sessions_fact': [{'columns': {'sessions_pk': {'tests': ['not null']}}}]}]}]\n"
   ]
  },
  {
   "cell_type": "code",
   "execution_count": 56,
   "id": "c877b91b",
   "metadata": {},
   "outputs": [
    {
     "name": "stdout",
     "output_type": "stream",
     "text": [
      "[{'models': [{'wh_operations__events_fact': [{'columns': {'document_fk': {'tests': ['not null', 'unique']}}}]}, {'wh_operations__sessions_fact': [{'columns': {'sessions_pk': {'tests': ['not null']}}}]}]}]\n"
     ]
    }
   ],
   "source": [
    "print (test)"
   ]
  },
  {
   "cell_type": "code",
   "execution_count": 61,
   "id": "13b08e95",
   "metadata": {},
   "outputs": [
    {
     "ename": "KeyError",
     "evalue": "'models'",
     "output_type": "error",
     "traceback": [
      "\u001b[0;31m---------------------------------------------------------------------------\u001b[0m",
      "\u001b[0;31mKeyError\u001b[0m                                  Traceback (most recent call last)",
      "Input \u001b[0;32mIn [61]\u001b[0m, in \u001b[0;36m<module>\u001b[0;34m\u001b[0m\n\u001b[0;32m----> 1\u001b[0m \u001b[38;5;28mprint\u001b[39m(\u001b[43mtest_schemas\u001b[49m\u001b[43m[\u001b[49m\u001b[38;5;124;43m'\u001b[39;49m\u001b[38;5;124;43mmodels\u001b[39;49m\u001b[38;5;124;43m'\u001b[39;49m\u001b[43m]\u001b[49m)\n",
      "\u001b[0;31mKeyError\u001b[0m: 'models'"
     ]
    }
   ],
   "source": [
    "print(test_schemas['models'])"
   ]
  },
  {
   "cell_type": "code",
   "execution_count": 65,
   "id": "1a2c9703",
   "metadata": {},
   "outputs": [
    {
     "name": "stdout",
     "output_type": "stream",
     "text": [
      "[{'wh_operations__events_fact': [{'columns': {'document_fk': {'tests': ['not null', 'unique']}}}]}, {'wh_operations__sessions_fact': [{'columns': {'sessions_pk': {'tests': ['not null']}}}]}]\n"
     ]
    }
   ],
   "source": [
    "for d in test:\n",
    "    print (d['models'])"
   ]
  },
  {
   "cell_type": "code",
   "execution_count": 69,
   "id": "9360c1ec",
   "metadata": {},
   "outputs": [],
   "source": [
    "models = [x['models'] for x in test]"
   ]
  },
  {
   "cell_type": "code",
   "execution_count": 71,
   "id": "620dbc73",
   "metadata": {},
   "outputs": [
    {
     "data": {
      "text/plain": [
       "list"
      ]
     },
     "execution_count": 71,
     "metadata": {},
     "output_type": "execute_result"
    }
   ],
   "source": [
    "type(models)"
   ]
  },
  {
   "cell_type": "code",
   "execution_count": 72,
   "id": "a9540169",
   "metadata": {},
   "outputs": [
    {
     "data": {
      "text/plain": [
       "[[{'wh_operations__events_fact': [{'columns': {'document_fk': {'tests': ['not null',\n",
       "        'unique']}}}]},\n",
       "  {'wh_operations__sessions_fact': [{'columns': {'sessions_pk': {'tests': ['not null']}}}]}]]"
      ]
     },
     "execution_count": 72,
     "metadata": {},
     "output_type": "execute_result"
    }
   ],
   "source": [
    "models"
   ]
  },
  {
   "cell_type": "code",
   "execution_count": 74,
   "id": "47ca43ce",
   "metadata": {},
   "outputs": [
    {
     "name": "stdout",
     "output_type": "stream",
     "text": [
      "1\n",
      "3\n",
      "5\n"
     ]
    }
   ],
   "source": [
    "dlist = [{'a': 1}, {'b': 3}, {'c': 5}]\n",
    "for index in range(len(dlist)):\n",
    "    for key in dlist[index]:\n",
    "        print(dlist[index][key])"
   ]
  },
  {
   "cell_type": "code",
   "execution_count": 75,
   "id": "5acf44e9",
   "metadata": {},
   "outputs": [
    {
     "ename": "TypeError",
     "evalue": "list indices must be integers or slices, not dict",
     "output_type": "error",
     "traceback": [
      "\u001b[0;31m---------------------------------------------------------------------------\u001b[0m",
      "\u001b[0;31mTypeError\u001b[0m                                 Traceback (most recent call last)",
      "Input \u001b[0;32mIn [75]\u001b[0m, in \u001b[0;36m<module>\u001b[0;34m\u001b[0m\n\u001b[1;32m      2\u001b[0m \u001b[38;5;28;01mfor\u001b[39;00m index \u001b[38;5;129;01min\u001b[39;00m \u001b[38;5;28mrange\u001b[39m(\u001b[38;5;28mlen\u001b[39m(models)):\n\u001b[1;32m      3\u001b[0m     \u001b[38;5;28;01mfor\u001b[39;00m key \u001b[38;5;129;01min\u001b[39;00m models[index]:\n\u001b[0;32m----> 4\u001b[0m         \u001b[38;5;28mprint\u001b[39m(\u001b[43mmodels\u001b[49m\u001b[43m[\u001b[49m\u001b[43mindex\u001b[49m\u001b[43m]\u001b[49m\u001b[43m[\u001b[49m\u001b[43mkey\u001b[49m\u001b[43m]\u001b[49m)\n",
      "\u001b[0;31mTypeError\u001b[0m: list indices must be integers or slices, not dict"
     ]
    }
   ],
   "source": [
    "dlist = [{'a': 1}, {'b': 3}, {'c': 5}]\n",
    "for index in range(len(models)):\n",
    "    for key in models[index]:\n",
    "        print(models[index][key])"
   ]
  },
  {
   "cell_type": "code",
   "execution_count": 76,
   "id": "8c44853f",
   "metadata": {},
   "outputs": [
    {
     "ename": "AttributeError",
     "evalue": "'list' object has no attribute 'values'",
     "output_type": "error",
     "traceback": [
      "\u001b[0;31m---------------------------------------------------------------------------\u001b[0m",
      "\u001b[0;31mAttributeError\u001b[0m                            Traceback (most recent call last)",
      "Input \u001b[0;32mIn [76]\u001b[0m, in \u001b[0;36m<module>\u001b[0;34m\u001b[0m\n\u001b[1;32m      1\u001b[0m dList \u001b[38;5;241m=\u001b[39m models\n\u001b[1;32m      2\u001b[0m \u001b[38;5;28;01mfor\u001b[39;00m dic \u001b[38;5;129;01min\u001b[39;00m dList:\n\u001b[0;32m----> 3\u001b[0m     \u001b[38;5;28;01mfor\u001b[39;00m val \u001b[38;5;129;01min\u001b[39;00m \u001b[43mdic\u001b[49m\u001b[38;5;241;43m.\u001b[39;49m\u001b[43mvalues\u001b[49m():\n\u001b[1;32m      4\u001b[0m         \u001b[38;5;28mprint\u001b[39m(val)\n",
      "\u001b[0;31mAttributeError\u001b[0m: 'list' object has no attribute 'values'"
     ]
    }
   ],
   "source": [
    "dList = models\n",
    "for dic in dList:\n",
    "    for val in dic.values():\n",
    "        print(val)"
   ]
  },
  {
   "cell_type": "code",
   "execution_count": 88,
   "id": "95019d02",
   "metadata": {},
   "outputs": [],
   "source": [
    "nested_dict = {'test_schemas': ['amir_analytics_dev_staging', 'amir_analytics_dev_integration', 'amir_analytics_dev'], 'test_overwrite': [{'models': [{'wh_operations__events_fact': [{'columns': {'document_fk': {'tests': ['not null', 'unique']}}}]}, {'wh_operations__sessions_fact': [{'columns': {'sessions_pk': {'tests': ['not null']}}}]}]}]}"
   ]
  },
  {
   "cell_type": "code",
   "execution_count": 89,
   "id": "4b6b2cec",
   "metadata": {},
   "outputs": [
    {
     "name": "stdout",
     "output_type": "stream",
     "text": [
      "{'test_schemas': ['amir_analytics_dev_staging', 'amir_analytics_dev_integration', 'amir_analytics_dev'], 'test_overwrite': [{'models': [{'wh_operations__events_fact': [{'columns': {'document_fk': {'tests': ['not null', 'unique']}}}]}, {'wh_operations__sessions_fact': [{'columns': {'sessions_pk': {'tests': ['not null']}}}]}]}]}\n"
     ]
    }
   ],
   "source": [
    "print(nested_dict)"
   ]
  },
  {
   "cell_type": "code",
   "execution_count": 86,
   "id": "91f436f4",
   "metadata": {},
   "outputs": [],
   "source": [
    "ignore_test = nested_dict.get('test_overwrite')"
   ]
  },
  {
   "cell_type": "code",
   "execution_count": 84,
   "id": "07ed4f50",
   "metadata": {},
   "outputs": [
    {
     "data": {
      "text/plain": [
       "[{'models': [{'wh_operations__events_fact': [{'columns': {'document_fk': {'tests': ['not null',\n",
       "         'unique']}}}]},\n",
       "   {'wh_operations__sessions_fact': [{'columns': {'sessions_pk': {'tests': ['not null']}}}]}]}]"
      ]
     },
     "execution_count": 84,
     "metadata": {},
     "output_type": "execute_result"
    }
   ],
   "source": [
    "ignore_test"
   ]
  },
  {
   "cell_type": "markdown",
   "id": "498a4594",
   "metadata": {},
   "source": [
    "print(nested_dict.get(1).get('test_overwrite'))\n"
   ]
  },
  {
   "cell_type": "code",
   "execution_count": null,
   "id": "8f28dc81",
   "metadata": {},
   "outputs": [],
   "source": []
  }
 ],
 "metadata": {
  "kernelspec": {
   "display_name": "Python 3 (ipykernel)",
   "language": "python",
   "name": "python3"
  },
  "language_info": {
   "codemirror_mode": {
    "name": "ipython",
    "version": 3
   },
   "file_extension": ".py",
   "mimetype": "text/x-python",
   "name": "python",
   "nbconvert_exporter": "python",
   "pygments_lexer": "ipython3",
   "version": "3.8.12"
  }
 },
 "nbformat": 4,
 "nbformat_minor": 5
}
