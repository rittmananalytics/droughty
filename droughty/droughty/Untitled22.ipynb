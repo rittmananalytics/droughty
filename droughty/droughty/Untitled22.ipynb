{
 "cells": [
  {
   "cell_type": "code",
   "execution_count": 91,
   "id": "ed704515-cf79-47b8-bb60-c015453d8b3c",
   "metadata": {},
   "outputs": [],
   "source": [
    "import os\n",
    "import yaml\n",
    "\n",
    "from google.oauth2 import service_account\n",
    "import os\n",
    "import yaml\n",
    "import git\n",
    "\n",
    "## source vars\n",
    "\n",
    "path = os.path.expanduser('~')\n",
    "\n",
    "profile_pass = os.path.join(path,\".droughty/profile.yaml\")\n",
    "\n",
    "with open(profile_pass) as f:\n",
    "    lookml_config = yaml.load(f, Loader=yaml.FullLoader)\n",
    "\n",
    "def get_git_root(path):\n",
    "\n",
    "        git_repo = git.Repo(path, search_parent_directories=True)\n",
    "        git_root = git_repo.git.rev_parse(\"--show-toplevel\")\n",
    "        return (git_root)\n",
    "    \n",
    "    \n",
    "git_def_path = get_git_root(os.getcwd())\n",
    "\n",
    "git_path = git_def_path\n",
    "\n",
    "filename = 'droughty_project.yaml'\n",
    "\n",
    "droughty_project = os.path.join(git_path,filename)\n",
    "\n",
    "with open(droughty_project) as f:\n",
    "    enviroment_project = yaml.load(f, Loader=yaml.FullLoader)\n",
    "\n",
    "\n",
    "\n",
    "for key,value in enviroment_project.items():\n",
    "    \n",
    "    if key == 'profile':\n",
    "\n",
    "        if lookml_config[value]['warehouse_name'] == 'big_query':\n",
    "\n",
    "            if value in lookml_config:\n",
    "\n",
    "        ## global vars \n",
    "\n",
    "                warehouse_name =  lookml_config[value]['warehouse_name']\n",
    "                project_name =  lookml_config[value]['project_name']\n",
    "                schema_name =  lookml_config[value]['schema_name']\n",
    "                test_schemas = lookml_config[value]['test_schemas']\n",
    "                \n",
    "                warehouse_schema =   \"\"\"\n",
    "\n",
    "                with source as (\n",
    "\n",
    "                    select * from `{0}.{1}.INFORMATION_SCHEMA.COLUMN_FIELD_PATHS`\n",
    "\n",
    "                    )\n",
    "\n",
    "                    select * from source\n",
    "\n",
    "                \"\"\".format(project_name,schema_name)\n",
    "\n",
    "                dbml_reference_dict = \"\"\"\n",
    "\n",
    "\n",
    "                with source as (\n",
    "\n",
    "                select * from `{0}.{1}.INFORMATION_SCHEMA.COLUMN_FIELD_PATHS`\n",
    "\n",
    "                ),\n",
    "\n",
    "                    pks as (\n",
    "                    select \n",
    "                    table_name as pk_table_name,\n",
    "                    column_name as pk_column_name,\n",
    "                    trim(column_name, \"_pk\") as pk_sk,\n",
    "                    from source\n",
    "                    where column_name like '%pk%'\n",
    "                    ),\n",
    "\n",
    "                    fks as (\n",
    "                    select\n",
    "                    table_name as fk_table_name,\n",
    "                    column_name as fk_column_name,\n",
    "                    trim(column_name, \"_fk\") as fk_sk,\n",
    "                    from source\n",
    "                    where column_name like '%fk%'\n",
    "\n",
    "                    ),\n",
    "\n",
    "                    references as (\n",
    "                    select * from pks\n",
    "\n",
    "                    inner join fks on pks.pk_sk = fks.fk_sk\n",
    "\n",
    "                    )\n",
    "\n",
    "                    select \n",
    "                    \n",
    "                    *except (pk_column_name,pk_table_name),\n",
    "\n",
    "                    case when pk_column_name is null\n",
    "                        then 'not_available'\n",
    "                    else pk_column_name\n",
    "                    end as pk_column_name,\n",
    "\n",
    "                    case when pk_table_name is null\n",
    "                        then 'not_available'\n",
    "                    else pk_table_name\n",
    "                    end as pk_table_name                   \n",
    "                    from source\n",
    "\n",
    "                    left join references on source.column_name = references.fk_column_name and references.fk_table_name = source.table_name\n",
    "                \n",
    "                \"\"\".format(project_name,schema_name)\n",
    "\n",
    "        elif lookml_config[value]['warehouse_name'] == 'snowflake':\n",
    "            \n",
    "            if value in lookml_config:\n",
    "\n",
    "                warehouse_name =  lookml_config[value]['warehouse_name']\n",
    "                project_name =  lookml_config[value]['project_name']\n",
    "                schema_name =  lookml_config[value]['schema_name']\n",
    "                test_schemas = lookml_config[value]['test_schemas']\n",
    "                database = lookml_config[value]['database']\n",
    "\n",
    "                snowflake_schema = '''\n",
    "\n",
    "                select * from {0}.information_schema.columns;\n",
    "\n",
    "                '''.format(database)\n",
    "\n",
    "    ## warehouse test schemas\n",
    "\n",
    "test_warehouse_schema =   \"\"\"\n",
    "\n",
    "        with source_1 as (\n",
    "\n",
    "            select * from `{0}.{1}.INFORMATION_SCHEMA.COLUMNS`\n",
    "\n",
    "            ),\n",
    "\n",
    "        source_2 as (\n",
    "\n",
    "        select * from `{0}.{2}.INFORMATION_SCHEMA.COLUMNS`\n",
    "        \n",
    "        ),\n",
    "        \n",
    "        source_3 as (\n",
    "\n",
    "        select * from `{0}.{3}.INFORMATION_SCHEMA.COLUMNS`\n",
    "        \n",
    "        ),\n",
    "        \n",
    "        unioned as (\n",
    "\n",
    "        select * from source_1\n",
    "        \n",
    "        union all\n",
    "        \n",
    "        select * from source_2\n",
    "        \n",
    "        union all\n",
    "        \n",
    "        select * from source_3\n",
    "        \n",
    "        )\n",
    "\n",
    "        select * from unioned\n",
    "\n",
    "\"\"\".format(project_name,test_schemas[0],test_schemas[1],test_schemas[2])\n",
    "\n",
    "explores = (enviroment_project.get(\"explores\"))\n",
    "\n",
    "## \n",
    "\n",
    "explore_tables = []\n",
    "\n",
    "for key,value in explores.items():\n",
    "\n",
    "    for key,value in value.items():\n",
    "\n",
    "        explore_tables.append(value)\n",
    "\n",
    "## reduce explore_tables from array to single list\n",
    "        \n",
    "single_list_tables = [i[0] for i in explore_tables]\n",
    "\n",
    "\n",
    "flat_list = []\n",
    "for sublist in explore_tables:\n",
    "    for item in sublist:\n",
    "        flat_list.append(item)\n",
    "        \n",
    "final_list = []\n",
    "for x in flat_list:\n",
    "    final_list.append(\"'\" + x + \"'\")\n",
    "    \n",
    "join_key_list = ['merge_counts_fk','merge_counts_pk']\n",
    "\n",
    "params = {\n",
    "    'project_id': project_name,\n",
    "    'schema_id': schema_name, \n",
    "    'table_names': final_list,\n",
    "    'table_names_unqouted': flat_list,\n",
    "    'pk_fk_join_key_list': join_key_list\n",
    "    \n",
    "}\n",
    "\n",
    "\n",
    "user_transaction_template = '''\n",
    "\n",
    "with source as (\n",
    "\n",
    "select * from `{{project_id}}.{{schema_id}}.INFORMATION_SCHEMA.COLUMN_FIELD_PATHS`\n",
    "where table_name in \n",
    "{% for tables in table_names [2:] %} {{table_names | inclause }} {% endfor %}\n",
    "\n",
    "),\n",
    "\n",
    "{% for value in table_names_unqouted  %}\n",
    "\n",
    "explore_table_row_count_{{ value | sqlsafe }} as (\n",
    "\n",
    "select \n",
    "\n",
    "'{{ value | sqlsafe }}' as table_name,\n",
    "count(*) as {{ value | sqlsafe }}_row_count\n",
    "\n",
    "from `{{project_id}}.{{schema_id}}.{{ value | sqlsafe }}`\n",
    "\n",
    "group by 1\n",
    "\n",
    "),\n",
    "\n",
    "{% endfor %}\n",
    "\n",
    "\n",
    "merge_counts as (\n",
    "\n",
    "select\n",
    "\n",
    "source.table_name,\n",
    "\n",
    "{% for value in table_names_unqouted  %}\n",
    "\n",
    "{{ value | sqlsafe }}_row_count\n",
    "\n",
    "{% if not loop.last %},{% endif %}\n",
    "\n",
    "{% endfor %}\n",
    "\n",
    "from source \n",
    "\n",
    "{% for value in table_names_unqouted  %}\n",
    "\n",
    "left join \n",
    "\n",
    "explore_table_row_count_{{value | sqlsafe }} on source.table_name = explore_table_row_count_{{value | sqlsafe }}.table_name\n",
    "\n",
    "{% endfor %}\n",
    "\n",
    "group by 1,2,3,4\n",
    "\n",
    "),\n",
    "\n",
    "pks as (\n",
    "    select \n",
    "    table_name as pk_table_name,\n",
    "    column_name as pk_column_name,\n",
    "    trim(column_name, \"_pk\") as pk_sk,\n",
    "    from source\n",
    "    where column_name like '%%pk%%'\n",
    "),\n",
    "\n",
    "fks as (\n",
    "    select\n",
    "    table_name as fk_table_name,\n",
    "    column_name as fk_column_name,\n",
    "    trim(column_name, \"_fk\") as fk_sk,\n",
    "    from source\n",
    "    where column_name like '%%fk%%'\n",
    "\n",
    ")\n",
    "\n",
    "\n",
    "select \n",
    "\n",
    "pk_table_name,\n",
    "pk_column_name,\n",
    "fk_table_name,\n",
    "fk_column_name,\n",
    "\n",
    "{% for value in table_names_unqouted  %}\n",
    "\n",
    "        {% for join_keys in pk_fk_join_key_list [2:] %}\n",
    "\n",
    "            {% set item_1 = table_names_unqouted[loop.index-1] %}\n",
    "            {% set item_2 = pk_fk_join_key_list[loop.index-1] %}\n",
    "\n",
    "         {{item_1}}.{{item_2}}_row_count\n",
    "\n",
    "        {% if not loop.last %},{% endif %}\n",
    "\n",
    "    {% endfor %}\n",
    "\n",
    "{% endfor %}\n",
    "\n",
    "from pks\n",
    "\n",
    "inner join fks on pks.pk_sk = fks.fk_sk\n",
    "\n",
    "{% for merge_values in pk_fk_join_key_list  %}\n",
    "\n",
    "inner join merge_counts on {{merge_values | sqlsafe }}.table_name = pks.pk_table_name\n",
    "\n",
    "{% endfor %}\n",
    "\n",
    "\n",
    "'''"
   ]
  },
  {
   "cell_type": "code",
   "execution_count": 92,
   "id": "3fb650f9-0ba6-4dd5-8055-9557f6fc3a6a",
   "metadata": {},
   "outputs": [
    {
     "data": {
      "text/plain": [
       "{'sales_explore': {'parent_table': ['wh_marketing_website_event_tracks_fact'],\n",
       "  'dimensions': ['wh_marketing_website_users_dim'],\n",
       "  'facts': ['wh_marketing_website_event_pages_fact']}}"
      ]
     },
     "execution_count": 92,
     "metadata": {},
     "output_type": "execute_result"
    }
   ],
   "source": [
    "explores"
   ]
  },
  {
   "cell_type": "code",
   "execution_count": 12,
   "id": "e092bd54-e6a6-4492-bde1-b7b7f449be29",
   "metadata": {},
   "outputs": [],
   "source": [
    "from jinjasql import JinjaSql\n",
    "j = JinjaSql(param_style='pyformat')\n",
    "query, bind_params = j.prepare_query(user_transaction_template,params)"
   ]
  },
  {
   "cell_type": "code",
   "execution_count": 13,
   "id": "7e4f84d4-2e6d-4a8b-8f07-4e9b3562972c",
   "metadata": {},
   "outputs": [
    {
     "name": "stdout",
     "output_type": "stream",
     "text": [
      "\n",
      "\n",
      "with source as (\n",
      "\n",
      "select * from `ra-development.jordan_analytics_dev.INFORMATION_SCHEMA.COLUMN_FIELD_PATHS`\n",
      "where table_name in \n",
      " ('wh_marketing_website_event_pages_fact','wh_marketing_website_users_dim','wh_marketing_website_event_tracks_fact') \n",
      "\n",
      "),\n",
      "\n",
      "\n",
      "\n",
      "explore_table_row_count_wh_marketing_website_event_pages_fact as (\n",
      "\n",
      "select \n",
      "\n",
      "'wh_marketing_website_event_pages_fact' as table_name,\n",
      "count(*) as wh_marketing_website_event_pages_fact_row_count\n",
      "\n",
      "from `ra-development.jordan_analytics_dev.wh_marketing_website_event_pages_fact`\n",
      "\n",
      "group by 1\n",
      "\n",
      "),\n",
      "\n",
      "\n",
      "\n",
      "explore_table_row_count_wh_marketing_website_users_dim as (\n",
      "\n",
      "select \n",
      "\n",
      "'wh_marketing_website_users_dim' as table_name,\n",
      "count(*) as wh_marketing_website_users_dim_row_count\n",
      "\n",
      "from `ra-development.jordan_analytics_dev.wh_marketing_website_users_dim`\n",
      "\n",
      "group by 1\n",
      "\n",
      "),\n",
      "\n",
      "\n",
      "\n",
      "explore_table_row_count_wh_marketing_website_event_tracks_fact as (\n",
      "\n",
      "select \n",
      "\n",
      "'wh_marketing_website_event_tracks_fact' as table_name,\n",
      "count(*) as wh_marketing_website_event_tracks_fact_row_count\n",
      "\n",
      "from `ra-development.jordan_analytics_dev.wh_marketing_website_event_tracks_fact`\n",
      "\n",
      "group by 1\n",
      "\n",
      "),\n",
      "\n",
      "\n",
      "\n",
      "\n",
      "merge_counts as (\n",
      "\n",
      "select\n",
      "\n",
      "source.table_name,\n",
      "\n",
      "\n",
      "\n",
      "wh_marketing_website_event_pages_fact_row_count\n",
      "\n",
      ",\n",
      "\n",
      "\n",
      "\n",
      "wh_marketing_website_users_dim_row_count\n",
      "\n",
      ",\n",
      "\n",
      "\n",
      "\n",
      "wh_marketing_website_event_tracks_fact_row_count\n",
      "\n",
      "\n",
      "\n",
      "\n",
      "\n",
      "from source \n",
      "\n",
      "\n",
      "\n",
      "left join \n",
      "\n",
      "explore_table_row_count_wh_marketing_website_event_pages_fact on source.table_name = explore_table_row_count_wh_marketing_website_event_pages_fact.table_name\n",
      "\n",
      "\n",
      "\n",
      "left join \n",
      "\n",
      "explore_table_row_count_wh_marketing_website_users_dim on source.table_name = explore_table_row_count_wh_marketing_website_users_dim.table_name\n",
      "\n",
      "\n",
      "\n",
      "left join \n",
      "\n",
      "explore_table_row_count_wh_marketing_website_event_tracks_fact on source.table_name = explore_table_row_count_wh_marketing_website_event_tracks_fact.table_name\n",
      "\n",
      "\n",
      "\n",
      "group by 1,2,3,4\n",
      "\n",
      "),\n",
      "\n",
      "pks as (\n",
      "    select \n",
      "    table_name as pk_table_name,\n",
      "    column_name as pk_column_name,\n",
      "    trim(column_name, \"_pk\") as pk_sk,\n",
      "    from source\n",
      "    where column_name like '%pk%'\n",
      "),\n",
      "\n",
      "fks as (\n",
      "    select\n",
      "    table_name as fk_table_name,\n",
      "    column_name as fk_column_name,\n",
      "    trim(column_name, \"_fk\") as fk_sk,\n",
      "    from source\n",
      "    where column_name like '%fk%'\n",
      "\n",
      ")\n",
      "\n",
      "\n",
      "select \n",
      "\n",
      "pk_table_name,\n",
      "pk_column_name,\n",
      "fk_table_name,\n",
      "fk_column_name,\n",
      "\n",
      "\n",
      "\n",
      "        \n",
      "\n",
      "\n",
      "\n",
      "        \n",
      "\n",
      "\n",
      "\n",
      "        \n",
      "\n",
      "\n",
      "\n",
      "from pks\n",
      "\n",
      "inner join fks on pks.pk_sk = fks.fk_sk\n",
      "\n",
      "\n",
      "\n",
      "inner join merge_counts on merge_counts_fk.table_name = pks.pk_table_name\n",
      "\n",
      "\n",
      "\n",
      "inner join merge_counts on merge_counts_pk.table_name = pks.pk_table_name\n",
      "\n",
      "\n",
      "\n",
      "\n"
     ]
    }
   ],
   "source": [
    "print(query % bind_params)"
   ]
  },
  {
   "cell_type": "code",
   "execution_count": 15,
   "id": "2d9e1f1c-f52b-46ae-8251-858992c3c5cc",
   "metadata": {},
   "outputs": [
    {
     "data": {
      "text/plain": [
       "{'profile': 'ra-development',\n",
       " 'explores': {'sales_explore': {'parent_table': ['wh_marketing_website_event_pages_fact'],\n",
       "   'dimensions': ['wh_marketing_website_users_dim'],\n",
       "   'facts': ['wh_marketing_website_event_tracks_fact']}}}"
      ]
     },
     "execution_count": 15,
     "metadata": {},
     "output_type": "execute_result"
    }
   ],
   "source": [
    "enviroment_project"
   ]
  },
  {
   "cell_type": "code",
   "execution_count": 16,
   "id": "731a86a3-4b89-46f9-936b-23369deba465",
   "metadata": {},
   "outputs": [
    {
     "data": {
      "text/plain": [
       "{'sales_explore': {'parent_table': ['wh_marketing_website_event_pages_fact'],\n",
       "  'dimensions': ['wh_marketing_website_users_dim'],\n",
       "  'facts': ['wh_marketing_website_event_tracks_fact']}}"
      ]
     },
     "execution_count": 16,
     "metadata": {},
     "output_type": "execute_result"
    }
   ],
   "source": [
    "explores"
   ]
  },
  {
   "cell_type": "code",
   "execution_count": 17,
   "id": "0eb6ccf4-9abe-471f-b23d-113f51872df0",
   "metadata": {},
   "outputs": [
    {
     "ename": "NameError",
     "evalue": "name 'parent_table' is not defined",
     "output_type": "error",
     "traceback": [
      "\u001b[0;31m---------------------------------------------------------------------------\u001b[0m",
      "\u001b[0;31mNameError\u001b[0m                                 Traceback (most recent call last)",
      "Input \u001b[0;32mIn [17]\u001b[0m, in \u001b[0;36m<module>\u001b[0;34m\u001b[0m\n\u001b[1;32m      1\u001b[0m params \u001b[38;5;241m=\u001b[39m {\n\u001b[0;32m----> 2\u001b[0m     \u001b[38;5;124m'\u001b[39m\u001b[38;5;124mparent_table\u001b[39m\u001b[38;5;124m'\u001b[39m:\u001b[43mparent_table\u001b[49m,\n\u001b[1;32m      3\u001b[0m     \u001b[38;5;124m'\u001b[39m\u001b[38;5;124mproject_id\u001b[39m\u001b[38;5;124m'\u001b[39m: project_name,\n\u001b[1;32m      4\u001b[0m     \u001b[38;5;124m'\u001b[39m\u001b[38;5;124mschema_id\u001b[39m\u001b[38;5;124m'\u001b[39m: schema_name, \n\u001b[1;32m      5\u001b[0m     \u001b[38;5;124m'\u001b[39m\u001b[38;5;124mtable_names\u001b[39m\u001b[38;5;124m'\u001b[39m: final_list,\n\u001b[1;32m      6\u001b[0m     \u001b[38;5;124m'\u001b[39m\u001b[38;5;124mtable_names_unqouted\u001b[39m\u001b[38;5;124m'\u001b[39m: flat_list,\n\u001b[1;32m      7\u001b[0m     \u001b[38;5;124m'\u001b[39m\u001b[38;5;124mpk_fk_join_key_list\u001b[39m\u001b[38;5;124m'\u001b[39m: join_key_list\n\u001b[1;32m      8\u001b[0m     \n\u001b[1;32m      9\u001b[0m }\n",
      "\u001b[0;31mNameError\u001b[0m: name 'parent_table' is not defined"
     ]
    }
   ],
   "source": [
    "params = {\n",
    "    'parent_table':parent_table,\n",
    "    'project_id': project_name,\n",
    "    'schema_id': schema_name, \n",
    "    'table_names': final_list,\n",
    "    'table_names_unqouted': flat_list,\n",
    "    'pk_fk_join_key_list': join_key_list\n",
    "    \n",
    "}"
   ]
  },
  {
   "cell_type": "code",
   "execution_count": 33,
   "id": "683df5c3-5a1d-4422-a048-a1c5a971bf18",
   "metadata": {},
   "outputs": [],
   "source": [
    "parent_table = (explores.get(\"parent_table\"))\n"
   ]
  },
  {
   "cell_type": "code",
   "execution_count": 34,
   "id": "28b9a705-038c-4c6d-bced-76a1a6fb7f31",
   "metadata": {},
   "outputs": [],
   "source": [
    "parent_table"
   ]
  },
  {
   "cell_type": "code",
   "execution_count": 22,
   "id": "bd4b8e1e-4e6f-4d80-a018-cc60c6c387c5",
   "metadata": {},
   "outputs": [
    {
     "data": {
      "text/plain": [
       "{'sales_explore': {'parent_table': ['wh_marketing_website_event_pages_fact'],\n",
       "  'dimensions': ['wh_marketing_website_users_dim'],\n",
       "  'facts': ['wh_marketing_website_event_tracks_fact']}}"
      ]
     },
     "execution_count": 22,
     "metadata": {},
     "output_type": "execute_result"
    }
   ],
   "source": [
    "explores"
   ]
  },
  {
   "cell_type": "code",
   "execution_count": 27,
   "id": "1797b876-750f-4fd0-b4d2-90477b5ebe9c",
   "metadata": {},
   "outputs": [],
   "source": [
    "def deep_get(dictionary, keys, default=None):\n",
    "    return reduce(lambda d, key: d.get(key, default) if isinstance(d, dict) else default, keys.split(\".\"), dictionary)"
   ]
  },
  {
   "cell_type": "code",
   "execution_count": 29,
   "id": "8769e032-a965-4b8b-bf99-f1c096d4c86f",
   "metadata": {},
   "outputs": [],
   "source": [
    "from functools import reduce"
   ]
  },
  {
   "cell_type": "code",
   "execution_count": 32,
   "id": "bbc5130b-bd9d-4d1a-b0a0-23efdcf420c9",
   "metadata": {},
   "outputs": [
    {
     "name": "stdout",
     "output_type": "stream",
     "text": [
      "None\n"
     ]
    }
   ],
   "source": [
    "print (deep_get(enviroment_project, \"explores.parent_table\"))"
   ]
  },
  {
   "cell_type": "code",
   "execution_count": 94,
   "id": "1a41ca14-8a8d-468c-9fae-5d92453bec62",
   "metadata": {},
   "outputs": [],
   "source": [
    "parent_table = []\n",
    "\n",
    "for key,value in explores.items():\n",
    "\n",
    "    for key,value in value.items():\n",
    "\n",
    "        parent_table.append(value[0])"
   ]
  },
  {
   "cell_type": "code",
   "execution_count": 95,
   "id": "e03e87c5-e003-4995-818d-d1f5c81c6d29",
   "metadata": {},
   "outputs": [
    {
     "data": {
      "text/plain": [
       "'wh_marketing_website_event_tracks_fact'"
      ]
     },
     "execution_count": 95,
     "metadata": {},
     "output_type": "execute_result"
    }
   ],
   "source": [
    "parent_table[0]"
   ]
  },
  {
   "cell_type": "code",
   "execution_count": 89,
   "id": "c88a4000-5678-4225-93fa-81eb0466f72b",
   "metadata": {},
   "outputs": [],
   "source": [
    "res = parent_table"
   ]
  },
  {
   "cell_type": "raw",
   "id": "d07d0cd3-4e66-43cf-9db3-8859ba33b119",
   "metadata": {},
   "source": [
    "res"
   ]
  },
  {
   "cell_type": "code",
   "execution_count": 53,
   "id": "4d7f31a7-4b92-4c06-99fa-5b757c103a06",
   "metadata": {},
   "outputs": [
    {
     "name": "stdout",
     "output_type": "stream",
     "text": [
      "None\n"
     ]
    }
   ],
   "source": [
    "print (enviroment_project.get('explores', {}).get('parent_table'))"
   ]
  },
  {
   "cell_type": "code",
   "execution_count": 51,
   "id": "9c098463-9604-44f4-9738-9bf77be11c1d",
   "metadata": {},
   "outputs": [
    {
     "data": {
      "text/plain": [
       "{'profile': 'ra-development',\n",
       " 'explores': {'sales_explore': {'parent_table': ['wh_marketing_website_event_pages_fact'],\n",
       "   'dimensions': ['wh_marketing_website_users_dim'],\n",
       "   'facts': ['wh_marketing_website_event_tracks_fact']}}}"
      ]
     },
     "execution_count": 51,
     "metadata": {},
     "output_type": "execute_result"
    }
   ],
   "source": [
    "enviroment_project"
   ]
  },
  {
   "cell_type": "code",
   "execution_count": 55,
   "id": "a77b6c36-b9ac-49ae-83e4-fa9caf08ffd7",
   "metadata": {},
   "outputs": [
    {
     "ename": "KeyError",
     "evalue": "'parent_table'",
     "output_type": "error",
     "traceback": [
      "\u001b[0;31m---------------------------------------------------------------------------\u001b[0m",
      "\u001b[0;31mKeyError\u001b[0m                                  Traceback (most recent call last)",
      "Input \u001b[0;32mIn [55]\u001b[0m, in \u001b[0;36m<module>\u001b[0;34m\u001b[0m\n\u001b[0;32m----> 1\u001b[0m \u001b[38;5;28mprint\u001b[39m(\u001b[43menviroment_project\u001b[49m\u001b[43m[\u001b[49m\u001b[38;5;124;43m'\u001b[39;49m\u001b[38;5;124;43mexplores\u001b[39;49m\u001b[38;5;124;43m'\u001b[39;49m\u001b[43m]\u001b[49m\u001b[43m[\u001b[49m\u001b[38;5;124;43m'\u001b[39;49m\u001b[38;5;124;43mparent_table\u001b[39;49m\u001b[38;5;124;43m'\u001b[39;49m\u001b[43m]\u001b[49m)\n",
      "\u001b[0;31mKeyError\u001b[0m: 'parent_table'"
     ]
    }
   ],
   "source": [
    "print(enviroment_project['explores']['parent_table'])"
   ]
  },
  {
   "cell_type": "code",
   "execution_count": null,
   "id": "35bcdd25-3da5-43e2-961c-d5f2cf11a268",
   "metadata": {},
   "outputs": [],
   "source": []
  }
 ],
 "metadata": {
  "kernelspec": {
   "display_name": "Python 3 (ipykernel)",
   "language": "python",
   "name": "python3"
  },
  "language_info": {
   "codemirror_mode": {
    "name": "ipython",
    "version": 3
   },
   "file_extension": ".py",
   "mimetype": "text/x-python",
   "name": "python",
   "nbconvert_exporter": "python",
   "pygments_lexer": "ipython3",
   "version": "3.8.12"
  }
 },
 "nbformat": 4,
 "nbformat_minor": 5
}
