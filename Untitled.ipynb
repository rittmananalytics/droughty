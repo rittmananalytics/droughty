{
 "cells": [
  {
   "cell_type": "code",
   "execution_count": 36,
   "id": "6a1e10c1",
   "metadata": {},
   "outputs": [],
   "source": [
    "d = {'wh_delivery__harvest_clients_dim': ['harvest_client_name', 'harvest_client_id'], 'wh_delivery__jira_proects_dim': ['jira_project_name', 'jira_project_id']}"
   ]
  },
  {
   "cell_type": "code",
   "execution_count": 37,
   "id": "5d66443f",
   "metadata": {},
   "outputs": [
    {
     "data": {
      "text/plain": [
       "{'wh_delivery__harvest_clients_dim': ['harvest_client_name',\n",
       "  'harvest_client_id'],\n",
       " 'wh_delivery__jira_proects_dim': ['jira_project_name', 'jira_project_id']}"
      ]
     },
     "execution_count": 37,
     "metadata": {},
     "output_type": "execute_result"
    }
   ],
   "source": [
    "d"
   ]
  },
  {
   "cell_type": "code",
   "execution_count": 31,
   "id": "8e0de580",
   "metadata": {},
   "outputs": [
    {
     "data": {
      "text/plain": [
       "[['harvest_client_name'], ['jira_project_name']]"
      ]
     },
     "execution_count": 31,
     "metadata": {},
     "output_type": "execute_result"
    }
   ],
   "source": [
    "list(d.values())"
   ]
  },
  {
   "cell_type": "code",
   "execution_count": 32,
   "id": "f0282aab",
   "metadata": {},
   "outputs": [],
   "source": [
    "f = d.get('column_names')"
   ]
  },
  {
   "cell_type": "code",
   "execution_count": 33,
   "id": "54505c60",
   "metadata": {},
   "outputs": [],
   "source": [
    "f"
   ]
  },
  {
   "cell_type": "code",
   "execution_count": 34,
   "id": "c4e22369",
   "metadata": {},
   "outputs": [
    {
     "data": {
      "text/plain": [
       "{'wh_delivery__harvest_clients_dim': ['harvest_client_name'],\n",
       " 'wh_delivery__jira_proects_dim': ['jira_project_name']}"
      ]
     },
     "execution_count": 34,
     "metadata": {},
     "output_type": "execute_result"
    }
   ],
   "source": [
    "d"
   ]
  },
  {
   "cell_type": "code",
   "execution_count": 12,
   "id": "d46079e6",
   "metadata": {},
   "outputs": [
    {
     "data": {
      "text/plain": [
       "['wh_delivery__harvest_clients_dim']"
      ]
     },
     "execution_count": 12,
     "metadata": {},
     "output_type": "execute_result"
    }
   ],
   "source": [
    "list(d.keys())"
   ]
  },
  {
   "cell_type": "code",
   "execution_count": 13,
   "id": "60b30b5d",
   "metadata": {},
   "outputs": [
    {
     "data": {
      "text/plain": [
       "[{'column_names': ['harvest_client_name']}]"
      ]
     },
     "execution_count": 13,
     "metadata": {},
     "output_type": "execute_result"
    }
   ],
   "source": [
    "list(d.values())"
   ]
  },
  {
   "cell_type": "code",
   "execution_count": 14,
   "id": "bd8c47d8",
   "metadata": {},
   "outputs": [],
   "source": [
    "l = list(d.values())"
   ]
  },
  {
   "cell_type": "code",
   "execution_count": 15,
   "id": "9d5f6cf3",
   "metadata": {},
   "outputs": [
    {
     "data": {
      "text/plain": [
       "[{'column_names': ['harvest_client_name']}]"
      ]
     },
     "execution_count": 15,
     "metadata": {},
     "output_type": "execute_result"
    }
   ],
   "source": [
    "l"
   ]
  },
  {
   "cell_type": "code",
   "execution_count": 17,
   "id": "8752f6da",
   "metadata": {},
   "outputs": [
    {
     "ename": "AttributeError",
     "evalue": "'list' object has no attribute 'values'",
     "output_type": "error",
     "traceback": [
      "\u001b[0;31m---------------------------------------------------------------------------\u001b[0m",
      "\u001b[0;31mAttributeError\u001b[0m                            Traceback (most recent call last)",
      "Input \u001b[0;32mIn [17]\u001b[0m, in \u001b[0;36m<cell line: 1>\u001b[0;34m()\u001b[0m\n\u001b[0;32m----> 1\u001b[0m \u001b[38;5;28;01mfor\u001b[39;00m key \u001b[38;5;129;01min\u001b[39;00m \u001b[43ml\u001b[49m\u001b[38;5;241;43m.\u001b[39;49m\u001b[43mvalues\u001b[49m():\n\u001b[1;32m      2\u001b[0m     \u001b[38;5;28mprint\u001b[39m(key)\n",
      "\u001b[0;31mAttributeError\u001b[0m: 'list' object has no attribute 'values'"
     ]
    }
   ],
   "source": [
    "for key in l.values():\n",
    "    print(key)"
   ]
  },
  {
   "cell_type": "code",
   "execution_count": 19,
   "id": "53e35966",
   "metadata": {},
   "outputs": [
    {
     "name": "stdout",
     "output_type": "stream",
     "text": [
      "dict_keys(['column_names'])\n"
     ]
    }
   ],
   "source": [
    "for i in d:\n",
    "  # display\n",
    "    print(d[i].keys())"
   ]
  },
  {
   "cell_type": "code",
   "execution_count": null,
   "id": "d995d84b",
   "metadata": {},
   "outputs": [],
   "source": [
    "for i in d:\n",
    "  # display\n",
    "    print(d[i].keys())"
   ]
  },
  {
   "cell_type": "code",
   "execution_count": 27,
   "id": "6a03efec",
   "metadata": {},
   "outputs": [
    {
     "name": "stdout",
     "output_type": "stream",
     "text": [
      "wh_delivery__harvest_clients_dim\n",
      "wh_delivery__jira_proects_dim\n"
     ]
    }
   ],
   "source": [
    "for key,value in d.items():\n",
    "    \n",
    "    print(key)"
   ]
  },
  {
   "cell_type": "code",
   "execution_count": 41,
   "id": "32562b77",
   "metadata": {},
   "outputs": [
    {
     "name": "stdout",
     "output_type": "stream",
     "text": [
      "wh_delivery__harvest_clients_dim ['harvest_client_name', 'harvest_client_id']\n",
      "wh_delivery__jira_proects_dim ['jira_project_name', 'jira_project_id']\n"
     ]
    }
   ],
   "source": [
    "for key,value in d.items():\n",
    "    \n",
    "    print(key,value)\n",
    "    "
   ]
  },
  {
   "cell_type": "code",
   "execution_count": 44,
   "id": "be139572",
   "metadata": {},
   "outputs": [],
   "source": [
    "resolution_columns = list(d.values())"
   ]
  },
  {
   "cell_type": "code",
   "execution_count": 45,
   "id": "c6d9ff39",
   "metadata": {},
   "outputs": [
    {
     "data": {
      "text/plain": [
       "[['harvest_client_name', 'harvest_client_id'],\n",
       " ['jira_project_name', 'jira_project_id']]"
      ]
     },
     "execution_count": 45,
     "metadata": {},
     "output_type": "execute_result"
    }
   ],
   "source": [
    "resolution_columns"
   ]
  },
  {
   "cell_type": "code",
   "execution_count": 46,
   "id": "6b7de42f",
   "metadata": {},
   "outputs": [],
   "source": [
    "xs = ['1', '2', '3']\n",
    "s = ''.join(xs)"
   ]
  },
  {
   "cell_type": "code",
   "execution_count": 47,
   "id": "f1bef93b",
   "metadata": {},
   "outputs": [
    {
     "data": {
      "text/plain": [
       "'123'"
      ]
     },
     "execution_count": 47,
     "metadata": {},
     "output_type": "execute_result"
    }
   ],
   "source": [
    "s"
   ]
  },
  {
   "cell_type": "code",
   "execution_count": 48,
   "id": "dbffcdd3",
   "metadata": {},
   "outputs": [],
   "source": [
    "resolution_tables_string = ','.join(xs)"
   ]
  },
  {
   "cell_type": "code",
   "execution_count": 49,
   "id": "baa7f0ce",
   "metadata": {},
   "outputs": [
    {
     "data": {
      "text/plain": [
       "'1,2,3'"
      ]
     },
     "execution_count": 49,
     "metadata": {},
     "output_type": "execute_result"
    }
   ],
   "source": [
    "resolution_tables_string"
   ]
  },
  {
   "cell_type": "code",
   "execution_count": 50,
   "id": "3207e3a4",
   "metadata": {},
   "outputs": [
    {
     "data": {
      "text/plain": [
       "['1', '2', '3']"
      ]
     },
     "execution_count": 50,
     "metadata": {},
     "output_type": "execute_result"
    }
   ],
   "source": [
    "xs"
   ]
  },
  {
   "cell_type": "code",
   "execution_count": 53,
   "id": "6149a7bf",
   "metadata": {},
   "outputs": [
    {
     "data": {
      "text/plain": [
       "'\"1\", \"2\", \"3\"'"
      ]
     },
     "execution_count": 53,
     "metadata": {},
     "output_type": "execute_result"
    }
   ],
   "source": [
    "', '.join(f'\"{w}\"' for w in xs)"
   ]
  },
  {
   "cell_type": "code",
   "execution_count": 54,
   "id": "9622a5c3",
   "metadata": {},
   "outputs": [],
   "source": [
    "res = str(xs)[1:-1]"
   ]
  },
  {
   "cell_type": "code",
   "execution_count": 55,
   "id": "584924e8",
   "metadata": {},
   "outputs": [
    {
     "data": {
      "text/plain": [
       "\"'1', '2', '3'\""
      ]
     },
     "execution_count": 55,
     "metadata": {},
     "output_type": "execute_result"
    }
   ],
   "source": [
    "res"
   ]
  },
  {
   "cell_type": "code",
   "execution_count": 56,
   "id": "905a46ad",
   "metadata": {},
   "outputs": [
    {
     "data": {
      "text/plain": [
       "'\"1\", \"2\", \"3\"'"
      ]
     },
     "execution_count": 56,
     "metadata": {},
     "output_type": "execute_result"
    }
   ],
   "source": [
    "', '.join('\"{0}\"'.format(w) for w in xs)"
   ]
  },
  {
   "cell_type": "code",
   "execution_count": null,
   "id": "962f99a1",
   "metadata": {},
   "outputs": [],
   "source": []
  }
 ],
 "metadata": {
  "kernelspec": {
   "display_name": "Python 3 (ipykernel)",
   "language": "python",
   "name": "python3"
  },
  "language_info": {
   "codemirror_mode": {
    "name": "ipython",
    "version": 3
   },
   "file_extension": ".py",
   "mimetype": "text/x-python",
   "name": "python",
   "nbconvert_exporter": "python",
   "pygments_lexer": "ipython3",
   "version": "3.9.12"
  }
 },
 "nbformat": 4,
 "nbformat_minor": 5
}
