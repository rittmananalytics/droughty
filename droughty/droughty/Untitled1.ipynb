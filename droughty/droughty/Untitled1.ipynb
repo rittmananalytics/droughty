{
 "cells": [
  {
   "cell_type": "code",
   "execution_count": 1,
   "id": "d884e659-a413-4ebb-af08-2cebf291f24e",
   "metadata": {},
   "outputs": [],
   "source": [
    "import os\n",
    "import yaml\n",
    "\n",
    "from google.oauth2 import service_account\n",
    "import os\n",
    "import yaml\n",
    "import git\n",
    "\n",
    "## source vars\n",
    "\n",
    "path = os.path.expanduser('~')\n",
    "\n",
    "profile_pass = os.path.join(path,\".droughty/profile.yaml\")\n",
    "\n",
    "with open(profile_pass) as f:\n",
    "    lookml_config = yaml.load(f, Loader=yaml.FullLoader)\n",
    "\n",
    "def get_git_root(path):\n",
    "\n",
    "        git_repo = git.Repo(path, search_parent_directories=True)\n",
    "        git_root = git_repo.git.rev_parse(\"--show-toplevel\")\n",
    "        return (git_root)\n",
    "    \n",
    "    \n",
    "git_def_path = get_git_root(os.getcwd())\n",
    "\n",
    "git_path = git_def_path\n",
    "\n",
    "filename = 'droughty_project.yaml'\n",
    "\n",
    "droughty_project = os.path.join(git_path,filename)\n",
    "\n",
    "with open(droughty_project) as f:\n",
    "    enviroment_project = yaml.load(f, Loader=yaml.FullLoader)\n",
    "\n",
    "project_value = list(enviroment_project.values())"
   ]
  },
  {
   "cell_type": "code",
   "execution_count": 2,
   "id": "fb77b763-ce4e-42f5-81f9-e4ee0ff234fe",
   "metadata": {},
   "outputs": [],
   "source": [
    "explores = (enviroment_project.get(\"explores\"))"
   ]
  },
  {
   "cell_type": "code",
   "execution_count": 3,
   "id": "e3a75f9a-49fc-4780-b808-5f5835eb8028",
   "metadata": {},
   "outputs": [],
   "source": [
    "list = []\n",
    "\n",
    "for key,value in explores.items():\n",
    "\n",
    "    for key,value in value.items():\n",
    "\n",
    "        list.append(value)\n"
   ]
  },
  {
   "cell_type": "code",
   "execution_count": 4,
   "id": "01ac3782-72a4-41ba-8fb3-d17f4e111093",
   "metadata": {},
   "outputs": [
    {
     "data": {
      "text/plain": [
       "[['wh_web_events_fact'], ['wh_website_users_dim'], ['wh_website_pages_fct']]"
      ]
     },
     "execution_count": 4,
     "metadata": {},
     "output_type": "execute_result"
    }
   ],
   "source": [
    "list"
   ]
  },
  {
   "cell_type": "code",
   "execution_count": 6,
   "id": "27366a15-3efa-4342-b4e0-4c8b26d3b9ea",
   "metadata": {},
   "outputs": [],
   "source": [
    "lookml_explore_schema =     \"\"\"\n",
    "\n",
    "\n",
    "        select * from {0}.information_schema.columns\n",
    "\n",
    "        where table_name in ('{0}','{1}','{2}') \n",
    "\n",
    "        ## assign a for loop for the table names ##\n",
    "\n",
    "\n",
    "\"\"\".format(list[0],list[1],list[2])"
   ]
  },
  {
   "cell_type": "code",
   "execution_count": 7,
   "id": "a6fd9b47-bf6d-4f9d-91b4-20f173e80f97",
   "metadata": {},
   "outputs": [
    {
     "data": {
      "text/plain": [
       "\"\\n\\n\\n        select * from ['wh_web_events_fact'].information_schema.columns\\n\\n        where table_name in ('['wh_web_events_fact']','['wh_website_users_dim']','['wh_website_pages_fct']') \\n\\n        ## assign a for loop for the table names ##\\n\\n\\n\""
      ]
     },
     "execution_count": 7,
     "metadata": {},
     "output_type": "execute_result"
    }
   ],
   "source": [
    "lookml_explore_schema"
   ]
  },
  {
   "cell_type": "code",
   "execution_count": 8,
   "id": "c2cbb622-f33a-41b7-afe5-f28fd3c3b6e3",
   "metadata": {},
   "outputs": [
    {
     "data": {
      "text/plain": [
       "list"
      ]
     },
     "execution_count": 8,
     "metadata": {},
     "output_type": "execute_result"
    }
   ],
   "source": [
    "type(list)"
   ]
  },
  {
   "cell_type": "code",
   "execution_count": 10,
   "id": "be202718-bb1a-4932-a263-c3a46ce07764",
   "metadata": {},
   "outputs": [],
   "source": [
    "profile = (enviroment_project.get(\"profile\"))"
   ]
  },
  {
   "cell_type": "code",
   "execution_count": 12,
   "id": "bfc7314b-fdad-4c3c-8132-da21df1f87d7",
   "metadata": {},
   "outputs": [
    {
     "data": {
      "text/plain": [
       "'example_project'"
      ]
     },
     "execution_count": 12,
     "metadata": {},
     "output_type": "execute_result"
    }
   ],
   "source": [
    "profile"
   ]
  },
  {
   "cell_type": "code",
   "execution_count": 13,
   "id": "c6530ce4-dc3a-484c-8d8c-34c7b90d006d",
   "metadata": {},
   "outputs": [],
   "source": [
    "explores = (enviroment_project.get(\"explores\"))"
   ]
  },
  {
   "cell_type": "code",
   "execution_count": 14,
   "id": "a8ca3ae0-fb4b-44c8-a790-99d89e27dc9b",
   "metadata": {},
   "outputs": [
    {
     "data": {
      "text/plain": [
       "{'sales_explore': {'parent_table': ['wh_web_events_fact'],\n",
       "  'dimensions': ['wh_website_users_dim'],\n",
       "  'facts': ['wh_website_pages_fct']}}"
      ]
     },
     "execution_count": 14,
     "metadata": {},
     "output_type": "execute_result"
    }
   ],
   "source": [
    "explores"
   ]
  },
  {
   "cell_type": "code",
   "execution_count": 16,
   "id": "4bda9e6d-2743-4717-9caf-ecc859353467",
   "metadata": {},
   "outputs": [],
   "source": [
    "list = []\n",
    "\n",
    "for key,value in explores.items():\n",
    "\n",
    "    for key,value in value.items():\n",
    "\n",
    "        list.append(value)"
   ]
  },
  {
   "cell_type": "code",
   "execution_count": 17,
   "id": "038928af-50ec-4951-aab6-a492567da8c0",
   "metadata": {},
   "outputs": [
    {
     "name": "stdout",
     "output_type": "stream",
     "text": [
      "profile example_project\n",
      "parent_table ['wh_web_events_fact']\n",
      "dimensions ['wh_website_users_dim']\n",
      "facts ['wh_website_pages_fct']\n"
     ]
    }
   ],
   "source": [
    "def recursive_items(dictionary):\n",
    "    for key, value in dictionary.items():\n",
    "        if type(value) is dict:\n",
    "            yield from recursive_items(value)\n",
    "        else:\n",
    "            yield (key, value)\n",
    "            \n",
    "for key, value in recursive_items(enviroment_project):\n",
    "    print(key, value)"
   ]
  },
  {
   "cell_type": "code",
   "execution_count": 18,
   "id": "d3f38621-3b59-433e-9902-87f4a0acd615",
   "metadata": {},
   "outputs": [],
   "source": []
  },
  {
   "cell_type": "code",
   "execution_count": 19,
   "id": "cab5ef3a-088b-4d2b-bcf9-c6e2877c6454",
   "metadata": {},
   "outputs": [
    {
     "data": {
      "text/plain": [
       "dict_items([('profile', 'example_project'), ('explores', {'sales_explore': {'parent_table': ['wh_web_events_fact'], 'dimensions': ['wh_website_users_dim'], 'facts': ['wh_website_pages_fct']}})])"
      ]
     },
     "execution_count": 19,
     "metadata": {},
     "output_type": "execute_result"
    }
   ],
   "source": [
    "dict_pairs"
   ]
  },
  {
   "cell_type": "code",
   "execution_count": 23,
   "id": "6109d393-d27f-465c-970d-1c0ee284fc91",
   "metadata": {},
   "outputs": [],
   "source": [
    "dict_pairs = enviroment_project.items()\n",
    "pairs_iterator = iter(dict_pairs)\n",
    "first_pair = next(pairs_iterator)\n"
   ]
  },
  {
   "cell_type": "code",
   "execution_count": 21,
   "id": "6f852d3b-dca3-4da3-ab0a-6a3245c11ed9",
   "metadata": {},
   "outputs": [
    {
     "data": {
      "text/plain": [
       "('profile', 'example_project')"
      ]
     },
     "execution_count": 21,
     "metadata": {},
     "output_type": "execute_result"
    }
   ],
   "source": [
    "first_pair"
   ]
  },
  {
   "cell_type": "code",
   "execution_count": 22,
   "id": "bd986a0f-a4aa-4170-be2a-e950a7def0b9",
   "metadata": {},
   "outputs": [
    {
     "data": {
      "text/plain": [
       "tuple"
      ]
     },
     "execution_count": 22,
     "metadata": {},
     "output_type": "execute_result"
    }
   ],
   "source": [
    "type(first_pair)"
   ]
  },
  {
   "cell_type": "code",
   "execution_count": null,
   "id": "3b9d50cd-5f5b-4dc0-acc0-00d23e019a92",
   "metadata": {},
   "outputs": [],
   "source": []
  }
 ],
 "metadata": {
  "kernelspec": {
   "display_name": "Python 3 (ipykernel)",
   "language": "python",
   "name": "python3"
  },
  "language_info": {
   "codemirror_mode": {
    "name": "ipython",
    "version": 3
   },
   "file_extension": ".py",
   "mimetype": "text/x-python",
   "name": "python",
   "nbconvert_exporter": "python",
   "pygments_lexer": "ipython3",
   "version": "3.8.12"
  }
 },
 "nbformat": 4,
 "nbformat_minor": 5
}
