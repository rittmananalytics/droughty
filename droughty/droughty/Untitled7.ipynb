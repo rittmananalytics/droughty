{
 "cells": [
  {
   "cell_type": "code",
   "execution_count": 20,
   "id": "c9ed132a-8fe3-4fab-a060-58b393f93ae1",
   "metadata": {},
   "outputs": [
    {
     "ename": "KeyError",
     "evalue": "0",
     "output_type": "error",
     "traceback": [
      "\u001b[0;31m---------------------------------------------------------------------------\u001b[0m",
      "\u001b[0;31mKeyError\u001b[0m                                  Traceback (most recent call last)",
      "Input \u001b[0;32mIn [20]\u001b[0m, in \u001b[0;36m<module>\u001b[0;34m\u001b[0m\n\u001b[1;32m     47\u001b[0m \u001b[38;5;66;03m##\u001b[39;00m\n\u001b[1;32m     49\u001b[0m \u001b[38;5;28;01mfor\u001b[39;00m value \u001b[38;5;129;01min\u001b[39;00m \u001b[38;5;28mrange\u001b[39m(\u001b[38;5;28mlen\u001b[39m(profile_name)):\n\u001b[0;32m---> 51\u001b[0m     \u001b[38;5;28;01mif\u001b[39;00m \u001b[43mlookml_config\u001b[49m\u001b[43m[\u001b[49m\u001b[43mvalue\u001b[49m\u001b[43m]\u001b[49m[\u001b[38;5;124m'\u001b[39m\u001b[38;5;124mwarehouse_name\u001b[39m\u001b[38;5;124m'\u001b[39m] \u001b[38;5;241m==\u001b[39m \u001b[38;5;124m'\u001b[39m\u001b[38;5;124mbig_query\u001b[39m\u001b[38;5;124m'\u001b[39m:\n\u001b[1;32m     53\u001b[0m         \u001b[38;5;28;01mif\u001b[39;00m value \u001b[38;5;129;01min\u001b[39;00m lookml_config:\n\u001b[1;32m     54\u001b[0m \n\u001b[1;32m     55\u001b[0m         \u001b[38;5;66;03m## global vars \u001b[39;00m\n\u001b[1;32m     57\u001b[0m             warehouse_name \u001b[38;5;241m=\u001b[39m  lookml_config[value][\u001b[38;5;124m'\u001b[39m\u001b[38;5;124mwarehouse_name\u001b[39m\u001b[38;5;124m'\u001b[39m]\n",
      "\u001b[0;31mKeyError\u001b[0m: 0"
     ]
    }
   ],
   "source": [
    "import os\n",
    "import yaml\n",
    "\n",
    "from google.oauth2 import service_account\n",
    "import os\n",
    "import yaml\n",
    "import git\n",
    "\n",
    "## source vars\n",
    "\n",
    "path = os.path.expanduser('~')\n",
    "\n",
    "profile_pass = os.path.join(path,\".droughty/profile.yaml\")\n",
    "\n",
    "with open(profile_pass) as f:\n",
    "    lookml_config = yaml.load(f, Loader=yaml.FullLoader)\n",
    "\n",
    "def get_git_root(path):\n",
    "\n",
    "        git_repo = git.Repo(path, search_parent_directories=True)\n",
    "        git_root = git_repo.git.rev_parse(\"--show-toplevel\")\n",
    "        return (git_root)\n",
    "    \n",
    "    \n",
    "git_def_path = get_git_root(os.getcwd())\n",
    "\n",
    "git_path = git_def_path\n",
    "\n",
    "filename = 'droughty_project.yaml'\n",
    "\n",
    "droughty_project = os.path.join(git_path,filename)\n",
    "\n",
    "with open(droughty_project) as f:\n",
    "    enviroment_project = yaml.load(f, Loader=yaml.FullLoader)\n",
    "\n",
    "##project_value = list(enviroment_project.values())\n",
    "##profile_key = list(lookml_config.keys())\n",
    "explores = (enviroment_project.get(\"explores\"))\n",
    "profile_name = (enviroment_project.get(\"profile\"))\n",
    "\n",
    "profile_targets = []\n",
    "\n",
    "for key in lookml_config.keys():\n",
    "\n",
    "    profile_targets.append(key)\n",
    "    \n",
    "##\n",
    "\n",
    "for value in range(len(profile_name)):\n",
    "\n",
    "    if lookml_config[value]['warehouse_name'] == 'big_query':\n",
    "\n",
    "        if value in lookml_config:\n",
    "\n",
    "        ## global vars \n",
    "\n",
    "            warehouse_name =  lookml_config[value]['warehouse_name']\n",
    "            project_name =  lookml_config[value]['project_name']\n",
    "            schema_name =  lookml_config[value]['schema_name']\n",
    "            test_schemas = lookml_config[value]['test_schemas']\n",
    "            explore_table_names = enviroment_project[value]['explores']\n",
    "\n",
    "            warehouse_schema =   \"\"\"\n",
    "\n",
    "            with source as (\n",
    "\n",
    "                select * from `{0}.{1}.INFORMATION_SCHEMA.COLUMN_FIELD_PATHS`\n",
    "\n",
    "                )\n",
    "\n",
    "                select * from source\n",
    "\n",
    "            \"\"\".format(project_name,schema_name)\n",
    "\n",
    "            dbml_reference_dict = \"\"\"\n",
    "\n",
    "\n",
    "            with source as (\n",
    "\n",
    "            select * from `{0}.{1}.INFORMATION_SCHEMA.COLUMN_FIELD_PATHS`\n",
    "\n",
    "            ),\n",
    "\n",
    "                pks as (\n",
    "                select \n",
    "                table_name as pk_table_name,\n",
    "                column_name as pk_column_name,\n",
    "                trim(column_name, \"_pk\") as pk_sk,\n",
    "                from source\n",
    "                where column_name like '%pk%'\n",
    "                ),\n",
    "\n",
    "                fks as (\n",
    "                select\n",
    "                table_name as fk_table_name,\n",
    "                column_name as fk_column_name,\n",
    "                trim(column_name, \"_fk\") as fk_sk,\n",
    "                from source\n",
    "                where column_name like '%fk%'\n",
    "\n",
    "                ),\n",
    "\n",
    "                references as (\n",
    "                select * from pks\n",
    "\n",
    "                inner join fks on pks.pk_sk = fks.fk_sk\n",
    "\n",
    "                )\n",
    "\n",
    "                select \n",
    "\n",
    "                *except (pk_column_name,pk_table_name),\n",
    "\n",
    "                case when pk_column_name is null\n",
    "                    then 'not_available'\n",
    "                else pk_column_name\n",
    "                end as pk_column_name,\n",
    "\n",
    "                case when pk_table_name is null\n",
    "                    then 'not_available'\n",
    "                else pk_table_name\n",
    "                end as pk_table_name                   \n",
    "                 from source\n",
    "\n",
    "                left join references on source.column_name = references.fk_column_name and references.fk_table_name = source.table_name\n",
    "\n",
    "            \"\"\".format(project_name,schema_name)\n",
    "\n"
   ]
  },
  {
   "cell_type": "code",
   "execution_count": 15,
   "id": "c94912b1-9fff-4976-9ccc-3985d34c39d4",
   "metadata": {},
   "outputs": [
    {
     "ename": "NameError",
     "evalue": "name 'warehouse_name' is not defined",
     "output_type": "error",
     "traceback": [
      "\u001b[0;31m---------------------------------------------------------------------------\u001b[0m",
      "\u001b[0;31mNameError\u001b[0m                                 Traceback (most recent call last)",
      "Input \u001b[0;32mIn [15]\u001b[0m, in \u001b[0;36m<module>\u001b[0;34m\u001b[0m\n\u001b[0;32m----> 1\u001b[0m \u001b[43mwarehouse_name\u001b[49m\n",
      "\u001b[0;31mNameError\u001b[0m: name 'warehouse_name' is not defined"
     ]
    }
   ],
   "source": [
    "warehouse_name"
   ]
  },
  {
   "cell_type": "code",
   "execution_count": 16,
   "id": "22fa0f1e-76fb-4311-8920-9956fc542303",
   "metadata": {},
   "outputs": [
    {
     "data": {
      "text/plain": [
       "['snowflake_demo', 'snowflake_demo_2', 'kaplan_poc', 'kaplan_prod', 'rixo']"
      ]
     },
     "execution_count": 16,
     "metadata": {},
     "output_type": "execute_result"
    }
   ],
   "source": [
    "profile_targets"
   ]
  },
  {
   "cell_type": "code",
   "execution_count": 17,
   "id": "892e3168-9854-4503-9966-93db29873661",
   "metadata": {},
   "outputs": [
    {
     "data": {
      "text/plain": [
       "'kaplan_poc'"
      ]
     },
     "execution_count": 17,
     "metadata": {},
     "output_type": "execute_result"
    }
   ],
   "source": [
    "profile_name"
   ]
  },
  {
   "cell_type": "code",
   "execution_count": 11,
   "id": "20e5dd71-5be3-4adc-945c-9870684266e8",
   "metadata": {},
   "outputs": [
    {
     "ename": "NameError",
     "evalue": "name 'project_name' is not defined",
     "output_type": "error",
     "traceback": [
      "\u001b[0;31m---------------------------------------------------------------------------\u001b[0m",
      "\u001b[0;31mNameError\u001b[0m                                 Traceback (most recent call last)",
      "Input \u001b[0;32mIn [11]\u001b[0m, in \u001b[0;36m<module>\u001b[0;34m\u001b[0m\n\u001b[1;32m      5\u001b[0m     \u001b[38;5;28;01mfor\u001b[39;00m key,value \u001b[38;5;129;01min\u001b[39;00m value\u001b[38;5;241m.\u001b[39mitems():\n\u001b[1;32m      7\u001b[0m         \u001b[38;5;28mlist\u001b[39m\u001b[38;5;241m.\u001b[39mappend(value)\n\u001b[1;32m      9\u001b[0m lookml_explore_schema \u001b[38;5;241m=\u001b[39m     \u001b[38;5;124m\"\"\"\u001b[39m\n\u001b[1;32m     10\u001b[0m \n\u001b[1;32m     11\u001b[0m \n\u001b[1;32m     12\u001b[0m \u001b[38;5;124m        select * from \u001b[39m\u001b[38;5;132;01m{0}\u001b[39;00m\u001b[38;5;124m.information_schema.columns\u001b[39m\n\u001b[1;32m     13\u001b[0m \n\u001b[1;32m     14\u001b[0m \u001b[38;5;124m        where table_name in (\u001b[39m\u001b[38;5;124m'\u001b[39m\u001b[38;5;132;01m{0}\u001b[39;00m\u001b[38;5;124m'\u001b[39m\u001b[38;5;124m,\u001b[39m\u001b[38;5;124m'\u001b[39m\u001b[38;5;132;01m{1}\u001b[39;00m\u001b[38;5;124m'\u001b[39m\u001b[38;5;124m,\u001b[39m\u001b[38;5;124m'\u001b[39m\u001b[38;5;132;01m{2}\u001b[39;00m\u001b[38;5;124m'\u001b[39m\u001b[38;5;124m) \u001b[39m\n\u001b[1;32m     15\u001b[0m \n\u001b[1;32m     16\u001b[0m \n\u001b[0;32m---> 17\u001b[0m \u001b[38;5;124m\"\"\"\u001b[39m\u001b[38;5;241m.\u001b[39mformat(\u001b[43mproject_name\u001b[49m,explore_table_names[\u001b[38;5;241m0\u001b[39m],explore_table_names[\u001b[38;5;241m1\u001b[39m],explore_table_names[\u001b[38;5;241m2\u001b[39m])\n",
      "\u001b[0;31mNameError\u001b[0m: name 'project_name' is not defined"
     ]
    }
   ],
   "source": [
    "list = []\n",
    "\n",
    "for key,value in explores.items():\n",
    "\n",
    "    for key,value in value.items():\n",
    "\n",
    "        list.append(value)\n",
    "\n",
    "lookml_explore_schema =     \"\"\"\n",
    "\n",
    "\n",
    "        select * from {0}.information_schema.columns\n",
    "\n",
    "        where table_name in ('{0}','{1}','{2}') \n",
    "\n",
    "\n",
    "\"\"\".format(project_name,explore_table_names[0],explore_table_names[1],explore_table_names[2])"
   ]
  },
  {
   "cell_type": "code",
   "execution_count": 20,
   "id": "4039d671-8eef-4255-9b2c-f95bbd0d4aec",
   "metadata": {},
   "outputs": [
    {
     "ename": "NameError",
     "evalue": "name 'warehouse_schema' is not defined",
     "output_type": "error",
     "traceback": [
      "\u001b[0;31m---------------------------------------------------------------------------\u001b[0m",
      "\u001b[0;31mNameError\u001b[0m                                 Traceback (most recent call last)",
      "Input \u001b[0;32mIn [6]\u001b[0m, in \u001b[0;36m<module>\u001b[0;34m\u001b[0m\n\u001b[0;32m----> 1\u001b[0m \u001b[43mwarehouse_schema\u001b[49m\n",
      "\u001b[0;31mNameError\u001b[0m: name 'warehouse_schema' is not defined"
     ]
    }
   ],
   "source": [
    "dbml_reference_dict"
   ]
  },
  {
   "cell_type": "code",
   "execution_count": 21,
   "id": "621e2749-69e2-414b-bce1-a462b32ef63e",
   "metadata": {},
   "outputs": [
    {
     "ename": "NameError",
     "evalue": "name 'lookml_explore_schema' is not defined",
     "output_type": "error",
     "traceback": [
      "\u001b[0;31m---------------------------------------------------------------------------\u001b[0m",
      "\u001b[0;31mNameError\u001b[0m                                 Traceback (most recent call last)",
      "Input \u001b[0;32mIn [4]\u001b[0m, in \u001b[0;36m<module>\u001b[0;34m\u001b[0m\n\u001b[0;32m----> 1\u001b[0m \u001b[43mlookml_explore_schema\u001b[49m\n",
      "\u001b[0;31mNameError\u001b[0m: name 'lookml_explore_schema' is not defined"
     ]
    }
   ],
   "source": [
    "lookml_explore_schema"
   ]
  },
  {
   "cell_type": "code",
   "execution_count": 9,
   "id": "4dd89e0c-5f4d-4504-bd17-af3f042e58a5",
   "metadata": {},
   "outputs": [
    {
     "ename": "NameError",
     "evalue": "name 'lookml_explore_schema' is not defined",
     "output_type": "error",
     "traceback": [
      "\u001b[0;31m---------------------------------------------------------------------------\u001b[0m",
      "\u001b[0;31mNameError\u001b[0m                                 Traceback (most recent call last)",
      "Input \u001b[0;32mIn [9]\u001b[0m, in \u001b[0;36m<module>\u001b[0;34m\u001b[0m\n\u001b[0;32m----> 1\u001b[0m explore_tables \u001b[38;5;241m=\u001b[39m  \u001b[43mlookml_explore_schema\u001b[49m[value][\u001b[38;5;124m'\u001b[39m\u001b[38;5;124mwarehouse_name\u001b[39m\u001b[38;5;124m'\u001b[39m]\n",
      "\u001b[0;31mNameError\u001b[0m: name 'lookml_explore_schema' is not defined"
     ]
    }
   ],
   "source": [
    "explore_tables =  lookml_explore_schema[value]['warehouse_name']"
   ]
  },
  {
   "cell_type": "code",
   "execution_count": 26,
   "id": "057aebef-d413-4e80-9f61-c2596df18d58",
   "metadata": {},
   "outputs": [],
   "source": [
    "explore_tables =  list[value]"
   ]
  },
  {
   "cell_type": "code",
   "execution_count": 25,
   "id": "e3b7827d-3fa0-43c2-8a54-27690d58c31b",
   "metadata": {},
   "outputs": [],
   "source": [
    "explore_tables"
   ]
  },
  {
   "cell_type": "code",
   "execution_count": 30,
   "id": "55a23e1a-ac45-42ae-b47e-0c4527e90107",
   "metadata": {},
   "outputs": [],
   "source": [
    "explore_table_names"
   ]
  },
  {
   "cell_type": "code",
   "execution_count": 32,
   "id": "59d3567b-a143-4795-92e9-ebc0356f6f88",
   "metadata": {},
   "outputs": [],
   "source": [
    "schema_name"
   ]
  },
  {
   "cell_type": "code",
   "execution_count": null,
   "id": "23490154-e953-4d64-8b04-0a9699dadda3",
   "metadata": {},
   "outputs": [],
   "source": []
  }
 ],
 "metadata": {
  "kernelspec": {
   "display_name": "Python 3 (ipykernel)",
   "language": "python",
   "name": "python3"
  },
  "language_info": {
   "codemirror_mode": {
    "name": "ipython",
    "version": 3
   },
   "file_extension": ".py",
   "mimetype": "text/x-python",
   "name": "python",
   "nbconvert_exporter": "python",
   "pygments_lexer": "ipython3",
   "version": "3.8.12"
  }
 },
 "nbformat": 4,
 "nbformat_minor": 5
}
