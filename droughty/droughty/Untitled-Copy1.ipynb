{
 "cells": [
  {
   "cell_type": "code",
   "execution_count": 3,
   "id": "4aff6666",
   "metadata": {},
   "outputs": [],
   "source": [
    "import yaml\n",
    "\n",
    "with open('example.yaml', 'r') as file:\n",
    "\n",
    "    prime_service = yaml.safe_load(file)"
   ]
  },
  {
   "cell_type": "code",
   "execution_count": 4,
   "id": "9d0df7d9",
   "metadata": {},
   "outputs": [],
   "source": [
    "with open('example.yaml', 'r') as f:\n",
    "    droughty_project = yaml.load(f, Loader=yaml.FullLoader)"
   ]
  },
  {
   "cell_type": "code",
   "execution_count": 5,
   "id": "89187eb7",
   "metadata": {},
   "outputs": [
    {
     "data": {
      "text/plain": [
       "{'profile': 'snowflake_demo_olivier',\n",
       " 'field_description_path': 'warehouse_docs',\n",
       " 'field_description_file_name': 'field_descriptions.md',\n",
       " 'test_schemas': ['analytics_qa',\n",
       "  'analytics_staging',\n",
       "  'analytics_integration'],\n",
       " 'dbml_schemas': ['analytics_qa',\n",
       "  'analytics_staging',\n",
       "  'analytics_integration'],\n",
       " 'lookml_pop': {'views': {'example_1': {'date_dimensions': ['example_2']},\n",
       "   'example_3': {'date_dimensions': ['example_4', 'example_5']}}}}"
      ]
     },
     "execution_count": 5,
     "metadata": {},
     "output_type": "execute_result"
    }
   ],
   "source": [
    "prime_service"
   ]
  },
  {
   "cell_type": "code",
   "execution_count": 6,
   "id": "6d75d98e",
   "metadata": {},
   "outputs": [
    {
     "name": "stdout",
     "output_type": "stream",
     "text": [
      "{'example_1': {'date_dimensions': ['example_2']}, 'example_3': {'date_dimensions': ['example_4', 'example_5']}}\n"
     ]
    }
   ],
   "source": [
    "print(prime_service['lookml_pop']['views'])"
   ]
  },
  {
   "cell_type": "code",
   "execution_count": 7,
   "id": "81e46e14",
   "metadata": {},
   "outputs": [],
   "source": [
    "test = prime_service['lookml_pop']['views']"
   ]
  },
  {
   "cell_type": "code",
   "execution_count": 8,
   "id": "ce99ba3e",
   "metadata": {},
   "outputs": [
    {
     "data": {
      "text/plain": [
       "{'example_1': {'date_dimensions': ['example_2']},\n",
       " 'example_3': {'date_dimensions': ['example_4', 'example_5']}}"
      ]
     },
     "execution_count": 8,
     "metadata": {},
     "output_type": "execute_result"
    }
   ],
   "source": [
    "test"
   ]
  },
  {
   "cell_type": "code",
   "execution_count": 9,
   "id": "1fea5969",
   "metadata": {},
   "outputs": [
    {
     "data": {
      "text/plain": [
       "dict"
      ]
     },
     "execution_count": 9,
     "metadata": {},
     "output_type": "execute_result"
    }
   ],
   "source": [
    "type(test)"
   ]
  },
  {
   "cell_type": "code",
   "execution_count": 12,
   "id": "5a5719db",
   "metadata": {},
   "outputs": [
    {
     "data": {
      "text/plain": [
       "{'views': {'example_1': {'date_dimensions': ['example_2']},\n",
       "  'example_3': {'date_dimensions': ['example_4', 'example_5']}}}"
      ]
     },
     "execution_count": 12,
     "metadata": {},
     "output_type": "execute_result"
    }
   ],
   "source": [
    "prime_service.get(\"lookml_pop\")"
   ]
  },
  {
   "cell_type": "code",
   "execution_count": 15,
   "id": "e0df0e96",
   "metadata": {},
   "outputs": [
    {
     "data": {
      "text/plain": [
       "{'example_1': {'date_dimensions': ['example_2']},\n",
       " 'example_3': {'date_dimensions': ['example_4', 'example_5']}}"
      ]
     },
     "execution_count": 15,
     "metadata": {},
     "output_type": "execute_result"
    }
   ],
   "source": [
    "prime_service['lookml_pop']['views']"
   ]
  },
  {
   "cell_type": "code",
   "execution_count": 18,
   "id": "b6f3ade6",
   "metadata": {},
   "outputs": [],
   "source": [
    "d = prime_service.get(\"lookml_pop\")"
   ]
  },
  {
   "cell_type": "code",
   "execution_count": 27,
   "id": "3fe19f65",
   "metadata": {},
   "outputs": [
    {
     "data": {
      "text/plain": [
       "{'views': {'example_1': {'date_dimensions': ['example_2']},\n",
       "  'example_3': {'date_dimensions': ['example_4', 'example_5']}}}"
      ]
     },
     "execution_count": 27,
     "metadata": {},
     "output_type": "execute_result"
    }
   ],
   "source": [
    "d"
   ]
  },
  {
   "cell_type": "code",
   "execution_count": 28,
   "id": "6ad3ae76",
   "metadata": {},
   "outputs": [],
   "source": [
    "import pandas as pd \n",
    "df = pd.DataFrame.from_dict(d, orient='index')"
   ]
  },
  {
   "cell_type": "code",
   "execution_count": 29,
   "id": "17297411",
   "metadata": {},
   "outputs": [
    {
     "data": {
      "text/html": [
       "<div>\n",
       "<style scoped>\n",
       "    .dataframe tbody tr th:only-of-type {\n",
       "        vertical-align: middle;\n",
       "    }\n",
       "\n",
       "    .dataframe tbody tr th {\n",
       "        vertical-align: top;\n",
       "    }\n",
       "\n",
       "    .dataframe thead th {\n",
       "        text-align: right;\n",
       "    }\n",
       "</style>\n",
       "<table border=\"1\" class=\"dataframe\">\n",
       "  <thead>\n",
       "    <tr style=\"text-align: right;\">\n",
       "      <th></th>\n",
       "      <th>example_1</th>\n",
       "      <th>example_3</th>\n",
       "    </tr>\n",
       "  </thead>\n",
       "  <tbody>\n",
       "    <tr>\n",
       "      <th>views</th>\n",
       "      <td>{'date_dimensions': ['example_2']}</td>\n",
       "      <td>{'date_dimensions': ['example_4', 'example_5']}</td>\n",
       "    </tr>\n",
       "  </tbody>\n",
       "</table>\n",
       "</div>"
      ],
      "text/plain": [
       "                                example_1  \\\n",
       "views  {'date_dimensions': ['example_2']}   \n",
       "\n",
       "                                             example_3  \n",
       "views  {'date_dimensions': ['example_4', 'example_5']}  "
      ]
     },
     "execution_count": 29,
     "metadata": {},
     "output_type": "execute_result"
    }
   ],
   "source": [
    "df"
   ]
  },
  {
   "cell_type": "code",
   "execution_count": 31,
   "id": "cf020e9e",
   "metadata": {},
   "outputs": [
    {
     "data": {
      "text/html": [
       "<div>\n",
       "<style scoped>\n",
       "    .dataframe tbody tr th:only-of-type {\n",
       "        vertical-align: middle;\n",
       "    }\n",
       "\n",
       "    .dataframe tbody tr th {\n",
       "        vertical-align: top;\n",
       "    }\n",
       "\n",
       "    .dataframe thead th {\n",
       "        text-align: right;\n",
       "    }\n",
       "</style>\n",
       "<table border=\"1\" class=\"dataframe\">\n",
       "  <thead>\n",
       "    <tr style=\"text-align: right;\">\n",
       "      <th></th>\n",
       "      <th>views</th>\n",
       "      <th>date_dimensions</th>\n",
       "    </tr>\n",
       "  </thead>\n",
       "  <tbody>\n",
       "  </tbody>\n",
       "</table>\n",
       "</div>"
      ],
      "text/plain": [
       "Empty DataFrame\n",
       "Columns: [views, date_dimensions]\n",
       "Index: []"
      ]
     },
     "execution_count": 31,
     "metadata": {},
     "output_type": "execute_result"
    }
   ],
   "source": [
    "pd.DataFrame.from_dict(d, orient='index',\n",
    "                       columns=['views', 'date_dimensions'])"
   ]
  },
  {
   "cell_type": "code",
   "execution_count": 32,
   "id": "d3d1a569",
   "metadata": {},
   "outputs": [],
   "source": [
    "df = pd.DataFrame.from_dict(d)"
   ]
  },
  {
   "cell_type": "code",
   "execution_count": 33,
   "id": "c511987d",
   "metadata": {},
   "outputs": [
    {
     "data": {
      "text/html": [
       "<div>\n",
       "<style scoped>\n",
       "    .dataframe tbody tr th:only-of-type {\n",
       "        vertical-align: middle;\n",
       "    }\n",
       "\n",
       "    .dataframe tbody tr th {\n",
       "        vertical-align: top;\n",
       "    }\n",
       "\n",
       "    .dataframe thead th {\n",
       "        text-align: right;\n",
       "    }\n",
       "</style>\n",
       "<table border=\"1\" class=\"dataframe\">\n",
       "  <thead>\n",
       "    <tr style=\"text-align: right;\">\n",
       "      <th></th>\n",
       "      <th>views</th>\n",
       "    </tr>\n",
       "  </thead>\n",
       "  <tbody>\n",
       "    <tr>\n",
       "      <th>example_1</th>\n",
       "      <td>{'date_dimensions': ['example_2']}</td>\n",
       "    </tr>\n",
       "    <tr>\n",
       "      <th>example_3</th>\n",
       "      <td>{'date_dimensions': ['example_4', 'example_5']}</td>\n",
       "    </tr>\n",
       "  </tbody>\n",
       "</table>\n",
       "</div>"
      ],
      "text/plain": [
       "                                                     views\n",
       "example_1               {'date_dimensions': ['example_2']}\n",
       "example_3  {'date_dimensions': ['example_4', 'example_5']}"
      ]
     },
     "execution_count": 33,
     "metadata": {},
     "output_type": "execute_result"
    }
   ],
   "source": [
    "df"
   ]
  },
  {
   "cell_type": "code",
   "execution_count": 34,
   "id": "8cd6d14d",
   "metadata": {},
   "outputs": [
    {
     "data": {
      "text/html": [
       "<div>\n",
       "<style scoped>\n",
       "    .dataframe tbody tr th:only-of-type {\n",
       "        vertical-align: middle;\n",
       "    }\n",
       "\n",
       "    .dataframe tbody tr th {\n",
       "        vertical-align: top;\n",
       "    }\n",
       "\n",
       "    .dataframe thead th {\n",
       "        text-align: right;\n",
       "    }\n",
       "</style>\n",
       "<table border=\"1\" class=\"dataframe\">\n",
       "  <thead>\n",
       "    <tr style=\"text-align: right;\">\n",
       "      <th></th>\n",
       "      <th>views</th>\n",
       "    </tr>\n",
       "  </thead>\n",
       "  <tbody>\n",
       "    <tr>\n",
       "      <th>example_1</th>\n",
       "      <td>date_dimensions</td>\n",
       "    </tr>\n",
       "    <tr>\n",
       "      <th>example_3</th>\n",
       "      <td>date_dimensions</td>\n",
       "    </tr>\n",
       "  </tbody>\n",
       "</table>\n",
       "</div>"
      ],
      "text/plain": [
       "                     views\n",
       "example_1  date_dimensions\n",
       "example_3  date_dimensions"
      ]
     },
     "execution_count": 34,
     "metadata": {},
     "output_type": "execute_result"
    }
   ],
   "source": [
    "df.explode('views')"
   ]
  },
  {
   "cell_type": "code",
   "execution_count": 35,
   "id": "eb2ee662",
   "metadata": {},
   "outputs": [
    {
     "data": {
      "text/html": [
       "<div>\n",
       "<style scoped>\n",
       "    .dataframe tbody tr th:only-of-type {\n",
       "        vertical-align: middle;\n",
       "    }\n",
       "\n",
       "    .dataframe tbody tr th {\n",
       "        vertical-align: top;\n",
       "    }\n",
       "\n",
       "    .dataframe thead th {\n",
       "        text-align: right;\n",
       "    }\n",
       "</style>\n",
       "<table border=\"1\" class=\"dataframe\">\n",
       "  <thead>\n",
       "    <tr style=\"text-align: right;\">\n",
       "      <th></th>\n",
       "      <th>views</th>\n",
       "    </tr>\n",
       "  </thead>\n",
       "  <tbody>\n",
       "    <tr>\n",
       "      <th>example_1</th>\n",
       "      <td>{'date_dimensions': ['example_2']}</td>\n",
       "    </tr>\n",
       "    <tr>\n",
       "      <th>example_3</th>\n",
       "      <td>{'date_dimensions': ['example_4', 'example_5']}</td>\n",
       "    </tr>\n",
       "  </tbody>\n",
       "</table>\n",
       "</div>"
      ],
      "text/plain": [
       "                                                     views\n",
       "example_1               {'date_dimensions': ['example_2']}\n",
       "example_3  {'date_dimensions': ['example_4', 'example_5']}"
      ]
     },
     "execution_count": 35,
     "metadata": {},
     "output_type": "execute_result"
    }
   ],
   "source": [
    "df"
   ]
  },
  {
   "cell_type": "code",
   "execution_count": 42,
   "id": "84aae3f9",
   "metadata": {},
   "outputs": [
    {
     "name": "stdout",
     "output_type": "stream",
     "text": [
      "<class 'pandas.core.frame.DataFrame'>\n",
      "Index: 2 entries, example_1 to example_3\n",
      "Data columns (total 1 columns):\n",
      " #   Column  Non-Null Count  Dtype \n",
      "---  ------  --------------  ----- \n",
      " 0   views   2 non-null      object\n",
      "dtypes: object(1)\n",
      "memory usage: 32.0+ bytes\n"
     ]
    }
   ],
   "source": [
    "df.info()"
   ]
  },
  {
   "cell_type": "code",
   "execution_count": 40,
   "id": "302fd23c",
   "metadata": {},
   "outputs": [],
   "source": [
    "df2 = pd.json_normalize(d)\n"
   ]
  },
  {
   "cell_type": "code",
   "execution_count": 41,
   "id": "2840dccb",
   "metadata": {},
   "outputs": [
    {
     "data": {
      "text/html": [
       "<div>\n",
       "<style scoped>\n",
       "    .dataframe tbody tr th:only-of-type {\n",
       "        vertical-align: middle;\n",
       "    }\n",
       "\n",
       "    .dataframe tbody tr th {\n",
       "        vertical-align: top;\n",
       "    }\n",
       "\n",
       "    .dataframe thead th {\n",
       "        text-align: right;\n",
       "    }\n",
       "</style>\n",
       "<table border=\"1\" class=\"dataframe\">\n",
       "  <thead>\n",
       "    <tr style=\"text-align: right;\">\n",
       "      <th></th>\n",
       "      <th>views.example_1.date_dimensions</th>\n",
       "      <th>views.example_3.date_dimensions</th>\n",
       "    </tr>\n",
       "  </thead>\n",
       "  <tbody>\n",
       "    <tr>\n",
       "      <th>0</th>\n",
       "      <td>[example_2]</td>\n",
       "      <td>[example_4, example_5]</td>\n",
       "    </tr>\n",
       "  </tbody>\n",
       "</table>\n",
       "</div>"
      ],
      "text/plain": [
       "  views.example_1.date_dimensions views.example_3.date_dimensions\n",
       "0                     [example_2]          [example_4, example_5]"
      ]
     },
     "execution_count": 41,
     "metadata": {},
     "output_type": "execute_result"
    }
   ],
   "source": [
    "df2"
   ]
  },
  {
   "cell_type": "code",
   "execution_count": 49,
   "id": "136069a4",
   "metadata": {},
   "outputs": [],
   "source": [
    "df3 = pd.DataFrame.from_dict(d, orient='columns')"
   ]
  },
  {
   "cell_type": "code",
   "execution_count": 50,
   "id": "1e314b18",
   "metadata": {},
   "outputs": [
    {
     "data": {
      "text/html": [
       "<div>\n",
       "<style scoped>\n",
       "    .dataframe tbody tr th:only-of-type {\n",
       "        vertical-align: middle;\n",
       "    }\n",
       "\n",
       "    .dataframe tbody tr th {\n",
       "        vertical-align: top;\n",
       "    }\n",
       "\n",
       "    .dataframe thead th {\n",
       "        text-align: right;\n",
       "    }\n",
       "</style>\n",
       "<table border=\"1\" class=\"dataframe\">\n",
       "  <thead>\n",
       "    <tr style=\"text-align: right;\">\n",
       "      <th></th>\n",
       "      <th>views</th>\n",
       "    </tr>\n",
       "  </thead>\n",
       "  <tbody>\n",
       "    <tr>\n",
       "      <th>example_1</th>\n",
       "      <td>{'date_dimensions': ['example_2']}</td>\n",
       "    </tr>\n",
       "    <tr>\n",
       "      <th>example_3</th>\n",
       "      <td>{'date_dimensions': ['example_4', 'example_5']}</td>\n",
       "    </tr>\n",
       "  </tbody>\n",
       "</table>\n",
       "</div>"
      ],
      "text/plain": [
       "                                                     views\n",
       "example_1               {'date_dimensions': ['example_2']}\n",
       "example_3  {'date_dimensions': ['example_4', 'example_5']}"
      ]
     },
     "execution_count": 50,
     "metadata": {},
     "output_type": "execute_result"
    }
   ],
   "source": [
    "df3"
   ]
  },
  {
   "cell_type": "code",
   "execution_count": 51,
   "id": "61625c4a",
   "metadata": {},
   "outputs": [],
   "source": [
    "df4 = pd.json_normalize(df3)"
   ]
  },
  {
   "cell_type": "code",
   "execution_count": 65,
   "id": "3c586571",
   "metadata": {},
   "outputs": [
    {
     "name": "stderr",
     "output_type": "stream",
     "text": [
      "/var/folders/qj/lbqph1rd0mvbl2g1l310_5nr0000gn/T/ipykernel_67174/693855465.py:5: FutureWarning: pandas.io.json.json_normalize is deprecated, use pandas.json_normalize instead\n",
      "  df_flat = pd.io.json.json_normalize(json_struct) #use pd.io.json\n"
     ]
    }
   ],
   "source": [
    "import pandas as pd\n",
    "import json\n",
    "\n",
    "json_struct = json.loads(df3.to_json(orient=\"columns\"))    \n",
    "df_flat = pd.io.json.json_normalize(json_struct) #use pd.io.json"
   ]
  },
  {
   "cell_type": "code",
   "execution_count": 66,
   "id": "e1373118",
   "metadata": {},
   "outputs": [
    {
     "data": {
      "text/html": [
       "<div>\n",
       "<style scoped>\n",
       "    .dataframe tbody tr th:only-of-type {\n",
       "        vertical-align: middle;\n",
       "    }\n",
       "\n",
       "    .dataframe tbody tr th {\n",
       "        vertical-align: top;\n",
       "    }\n",
       "\n",
       "    .dataframe thead th {\n",
       "        text-align: right;\n",
       "    }\n",
       "</style>\n",
       "<table border=\"1\" class=\"dataframe\">\n",
       "  <thead>\n",
       "    <tr style=\"text-align: right;\">\n",
       "      <th></th>\n",
       "      <th>views.example_1.date_dimensions</th>\n",
       "      <th>views.example_3.date_dimensions</th>\n",
       "    </tr>\n",
       "  </thead>\n",
       "  <tbody>\n",
       "    <tr>\n",
       "      <th>0</th>\n",
       "      <td>[example_2]</td>\n",
       "      <td>[example_4, example_5]</td>\n",
       "    </tr>\n",
       "  </tbody>\n",
       "</table>\n",
       "</div>"
      ],
      "text/plain": [
       "  views.example_1.date_dimensions views.example_3.date_dimensions\n",
       "0                     [example_2]          [example_4, example_5]"
      ]
     },
     "execution_count": 66,
     "metadata": {},
     "output_type": "execute_result"
    }
   ],
   "source": [
    "df_flat"
   ]
  },
  {
   "cell_type": "code",
   "execution_count": null,
   "id": "feaffcd6",
   "metadata": {},
   "outputs": [],
   "source": []
  }
 ],
 "metadata": {
  "kernelspec": {
   "display_name": "Python 3 (ipykernel)",
   "language": "python",
   "name": "python3"
  },
  "language_info": {
   "codemirror_mode": {
    "name": "ipython",
    "version": 3
   },
   "file_extension": ".py",
   "mimetype": "text/x-python",
   "name": "python",
   "nbconvert_exporter": "python",
   "pygments_lexer": "ipython3",
   "version": "3.8.12"
  }
 },
 "nbformat": 4,
 "nbformat_minor": 5
}
