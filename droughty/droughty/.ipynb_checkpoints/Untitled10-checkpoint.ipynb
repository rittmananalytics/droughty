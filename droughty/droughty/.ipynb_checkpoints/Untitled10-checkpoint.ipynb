{
 "cells": [
  {
   "cell_type": "code",
   "execution_count": 36,
   "id": "cc4f8c2a-0acc-40e2-bd1f-6d1fe2bef14c",
   "metadata": {},
   "outputs": [],
   "source": [
    "import os\n",
    "import yaml\n",
    "\n",
    "from google.oauth2 import service_account\n",
    "import os\n",
    "import yaml\n",
    "import git\n",
    "\n",
    "## source vars\n",
    "\n",
    "path = os.path.expanduser('~')\n",
    "\n",
    "profile_pass = os.path.join(path,\".droughty/profile.yaml\")\n",
    "\n",
    "with open(profile_pass) as f:\n",
    "    lookml_config = yaml.load(f, Loader=yaml.FullLoader)\n",
    "\n",
    "def get_git_root(path):\n",
    "\n",
    "        git_repo = git.Repo(path, search_parent_directories=True)\n",
    "        git_root = git_repo.git.rev_parse(\"--show-toplevel\")\n",
    "        return (git_root)\n",
    "    \n",
    "    \n",
    "git_def_path = get_git_root(os.getcwd())\n",
    "\n",
    "git_path = git_def_path\n",
    "\n",
    "filename = 'droughty_project.yaml'\n",
    "\n",
    "droughty_project = os.path.join(git_path,filename)\n",
    "\n",
    "with open(droughty_project) as f:\n",
    "    enviroment_project = yaml.load(f, Loader=yaml.FullLoader)\n",
    "\n",
    "project_value = list(enviroment_project.values())\n",
    "profile_key = list(lookml_config.keys())\n",
    "\n",
    "for key,value in enviroment_project.items():\n",
    "    \n",
    "    if key == 'profile':\n",
    "\n",
    "        if lookml_config[value]['warehouse_name'] == 'big_query':\n",
    "\n",
    "            if value in lookml_config:\n",
    "\n",
    "            ## global vars \n",
    "\n",
    "                warehouse_name =  lookml_config[value]['warehouse_name']\n",
    "                project_name =  lookml_config[value]['project_name']\n",
    "                schema_name =  lookml_config[value]['schema_name']\n",
    "                test_schemas = lookml_config[value]['test_schemas']\n"
   ]
  },
  {
   "cell_type": "code",
   "execution_count": 30,
   "id": "64d62b33-d707-4327-a484-130d8f5aa341",
   "metadata": {},
   "outputs": [],
   "source": [
    "d_items = enviroment_project.items()"
   ]
  },
  {
   "cell_type": "code",
   "execution_count": 31,
   "id": "e98727a7-7c6b-4b4e-ae83-3f6cec191426",
   "metadata": {},
   "outputs": [
    {
     "data": {
      "text/plain": [
       "dict_items([('profile', 'kaplan_poc'), ('explores', {'sales_explore': {'parent_table': ['wh_web_events_fact'], 'dimensions': ['wh_website_users_dim'], 'facts': ['wh_website_pages_fact']}})])"
      ]
     },
     "execution_count": 31,
     "metadata": {},
     "output_type": "execute_result"
    }
   ],
   "source": [
    "d_items"
   ]
  },
  {
   "cell_type": "code",
   "execution_count": 32,
   "id": "4dfeb876-e9e3-420c-9ffd-3dbd4ca035f1",
   "metadata": {},
   "outputs": [
    {
     "name": "stdout",
     "output_type": "stream",
     "text": [
      "('profile', 'kaplan_poc')\n",
      "('explores', {'sales_explore': {'parent_table': ['wh_web_events_fact'], 'dimensions': ['wh_website_users_dim'], 'facts': ['wh_website_pages_fact']}})\n"
     ]
    }
   ],
   "source": [
    "for item in enviroment_project.items():\n",
    "    print(item)"
   ]
  },
  {
   "cell_type": "code",
   "execution_count": 33,
   "id": "fc9d1295-2682-474a-b7ed-4fee027fe964",
   "metadata": {},
   "outputs": [
    {
     "name": "stdout",
     "output_type": "stream",
     "text": [
      "kaplan_poc\n",
      "{'sales_explore': {'parent_table': ['wh_web_events_fact'], 'dimensions': ['wh_website_users_dim'], 'facts': ['wh_website_pages_fact']}}\n"
     ]
    }
   ],
   "source": [
    "for value in enviroment_project.values():\n",
    "    print(value)"
   ]
  },
  {
   "cell_type": "code",
   "execution_count": 37,
   "id": "293aa3f6-2321-402f-8621-f5678ad2e3d7",
   "metadata": {},
   "outputs": [
    {
     "data": {
      "text/plain": [
       "'big_query'"
      ]
     },
     "execution_count": 37,
     "metadata": {},
     "output_type": "execute_result"
    }
   ],
   "source": [
    "warehouse_name"
   ]
  },
  {
   "cell_type": "code",
   "execution_count": 38,
   "id": "89399732-43d3-4e94-bea1-39b627831d79",
   "metadata": {},
   "outputs": [
    {
     "data": {
      "text/plain": [
       "'client-kaplan-poc'"
      ]
     },
     "execution_count": 38,
     "metadata": {},
     "output_type": "execute_result"
    }
   ],
   "source": [
    "project_name"
   ]
  },
  {
   "cell_type": "code",
   "execution_count": 39,
   "id": "a3fd5403-77f0-4207-b2e5-d6a35fe08e9a",
   "metadata": {},
   "outputs": [
    {
     "data": {
      "text/plain": [
       "['lewis_analytics_dev_staging',\n",
       " 'lewis_analytics_dev_integration',\n",
       " 'lewis_analytics_dev']"
      ]
     },
     "execution_count": 39,
     "metadata": {},
     "output_type": "execute_result"
    }
   ],
   "source": [
    "test_schemas"
   ]
  },
  {
   "cell_type": "code",
   "execution_count": null,
   "id": "a8b9a363-f100-41dd-b032-2b5877d18d32",
   "metadata": {},
   "outputs": [],
   "source": []
  }
 ],
 "metadata": {
  "kernelspec": {
   "display_name": "Python 3 (ipykernel)",
   "language": "python",
   "name": "python3"
  },
  "language_info": {
   "codemirror_mode": {
    "name": "ipython",
    "version": 3
   },
   "file_extension": ".py",
   "mimetype": "text/x-python",
   "name": "python",
   "nbconvert_exporter": "python",
   "pygments_lexer": "ipython3",
   "version": "3.8.12"
  }
 },
 "nbformat": 4,
 "nbformat_minor": 5
}
