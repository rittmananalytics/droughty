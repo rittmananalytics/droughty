{
 "cells": [
  {
   "cell_type": "code",
   "execution_count": 12,
   "id": "9525e0b6",
   "metadata": {},
   "outputs": [
    {
     "ename": "TypeError",
     "evalue": "common() missing 1 required positional argument: 'ctx'",
     "output_type": "error",
     "traceback": [
      "\u001b[0;31m---------------------------------------------------------------------------\u001b[0m",
      "\u001b[0;31mTypeError\u001b[0m                                 Traceback (most recent call last)",
      "Input \u001b[0;32mIn [12]\u001b[0m, in \u001b[0;36m<module>\u001b[0;34m\u001b[0m\n\u001b[1;32m     34\u001b[0m     ctx\u001b[38;5;241m.\u001b[39mobj \u001b[38;5;241m=\u001b[39m Common(profile_dir)\n\u001b[1;32m     36\u001b[0m     \u001b[38;5;28;01mreturn\u001b[39;00m {profile_dir}\n\u001b[0;32m---> 38\u001b[0m common_test \u001b[38;5;241m=\u001b[39m \u001b[43mcommon\u001b[49m\u001b[43m(\u001b[49m\u001b[43m)\u001b[49m\n\u001b[1;32m     40\u001b[0m \u001b[38;5;28mprint\u001b[39m (common_test)\n",
      "\u001b[0;31mTypeError\u001b[0m: common() missing 1 required positional argument: 'ctx'"
     ]
    }
   ],
   "source": [
    "import typer\n",
    "import click\n",
    "\n",
    "from dataclasses import dataclass\n",
    "\n",
    "\n",
    "from droughty import lookml_cli \n",
    "from droughty import dbt_test_cli\n",
    "from droughty import dbml_cli\n",
    "from droughty import cube_cli\n",
    "\n",
    "app = typer.Typer()\n",
    "\n",
    "app.add_typer(lookml_cli.app, name=\"lookml\")\n",
    "app.add_typer(dbt_test_cli.app, name=\"dbt\")\n",
    "app.add_typer(dbml_cli.app, name=\"dbml\")\n",
    "app.add_typer(cube_cli.app, name=\"cube\")\n",
    "\n",
    "##app.add_typer(config_cli.app)\n",
    "\n",
    "#####\n",
    "\n",
    "@dataclass\n",
    "class Common:\n",
    "    profile_dir: str\n",
    "\n",
    "@app.callback()\n",
    "def common(ctx: typer.Context,\n",
    "           profile_dir: str = typer.Option(..., )):\n",
    "\n",
    "    ##typer.echo(f\"Hello {profile_dir}\")\n",
    "\n",
    "    \"\"\"Common Entry Point\"\"\"\n",
    "    ctx.obj = Common(profile_dir)\n",
    "\n",
    "    return {profile_dir}\n",
    "\n",
    "common_test = common()\n",
    "\n",
    "print (common_test)\n",
    "\n"
   ]
  },
  {
   "cell_type": "code",
   "execution_count": 22,
   "id": "57cf2a67",
   "metadata": {},
   "outputs": [
    {
     "name": "stdout",
     "output_type": "stream",
     "text": [
      "3\n"
     ]
    }
   ],
   "source": [
    "class ClassA(object):\n",
    "    def __init__(self):\n",
    "        self.var1 = 1\n",
    "        self.var2 = 2\n",
    "\n",
    "    def methodA(self):\n",
    "        self.var1 = self.var1 + self.var2\n",
    "        return self.var1\n",
    "\n",
    "\n",
    "\n",
    "class ClassB(ClassA):\n",
    "    def __init__(self, class_a):\n",
    "        self.var1 = class_a.var1\n",
    "        self.var2 = class_a.var2\n",
    "\n",
    "object1 = ClassA()\n",
    "sum = object1.methodA()\n",
    "object2 = ClassB(object1)\n",
    "print (sum)"
   ]
  },
  {
   "cell_type": "code",
   "execution_count": 14,
   "id": "c6344fc1",
   "metadata": {},
   "outputs": [
    {
     "name": "stdout",
     "output_type": "stream",
     "text": [
      "test_me john\n"
     ]
    }
   ],
   "source": [
    "@dataclass\n",
    "class Common:\n",
    "    name: str\n",
    "\n",
    "    @app.callback()\n",
    "    def common(profile_dir: str):\n",
    "\n",
    "        print ( \"test_me \" + profile_dir.name)\n",
    "\n",
    "p1 = Common(\"john\")\n",
    "\n",
    "p1.common()"
   ]
  },
  {
   "cell_type": "code",
   "execution_count": 15,
   "id": "84b8ea54",
   "metadata": {},
   "outputs": [
    {
     "name": "stdout",
     "output_type": "stream",
     "text": [
      "Hello my name is John\n"
     ]
    }
   ],
   "source": [
    "class Person:\n",
    "  def __init__(mysillyobject, name, age):\n",
    "    mysillyobject.name = name\n",
    "    mysillyobject.age = age\n",
    "\n",
    "  def myfunc(abc):\n",
    "    return \"Hello my name is \" + abc.name\n",
    "\n",
    "p1 = Person(\"John\", 36)\n",
    "\n",
    "reference = p1.myfunc()\n",
    "\n",
    "print (reference)"
   ]
  },
  {
   "cell_type": "code",
   "execution_count": 111,
   "id": "d82333f4",
   "metadata": {},
   "outputs": [
    {
     "name": "stdout",
     "output_type": "stream",
     "text": [
      "test\n"
     ]
    }
   ],
   "source": [
    "@dataclass\n",
    "class Common:\n",
    "    profile_dir: str\n",
    "\n",
    "@app.callback()\n",
    "def profile_callback(ctx: str = typer.Context,\n",
    "                     ##ctx: str = typer.Context,\n",
    "                     profile_dir: str = typer.Option(..., )):\n",
    "\n",
    "    ##test_dir = (f\"{profile_dir}\")\n",
    "\n",
    "    profile_dir = \"test\"\n",
    "\n",
    "    return (profile_dir)\n",
    "\n",
    "    \"\"\"Common Entry Point\"\"\"\n",
    "    \n",
    "    ctx.obj = \"test_me\"\n",
    "\n",
    "    return (ctx.obj)\n",
    "\n",
    "\n",
    "cli_profile_path = profile_callback()\n",
    "\n",
    "print (cli_profile_path)\n"
   ]
  },
  {
   "cell_type": "code",
   "execution_count": 83,
   "id": "3ebaa618",
   "metadata": {},
   "outputs": [
    {
     "name": "stdout",
     "output_type": "stream",
     "text": [
      "problem\n",
      "problem\n"
     ]
    }
   ],
   "source": [
    "class Example(object):\n",
    "    itsProblem = \"problem\"\n",
    "\n",
    "\n",
    "theExample = Example()\n",
    "print(theExample.itsProblem)\n",
    "print (Example.itsProblem)"
   ]
  },
  {
   "cell_type": "code",
   "execution_count": null,
   "id": "44de47b1",
   "metadata": {},
   "outputs": [],
   "source": [
    ">>> class TestClass:\n",
    "        def __init__(self):\n",
    "            print(\"in init\")\n",
    "        def testFunc(self):\n",
    "            print(\"in Test Func\")\n",
    "\n",
    "\n",
    ">>> testInstance = TestClass()\n",
    "in init\n",
    ">>> testInstance.testFunc()\n",
    "in Test Func"
   ]
  },
  {
   "cell_type": "code",
   "execution_count": 43,
   "id": "a9856d7e",
   "metadata": {},
   "outputs": [
    {
     "name": "stdout",
     "output_type": "stream",
     "text": [
      "Hello my name is John\n"
     ]
    }
   ],
   "source": [
    "print (reference)"
   ]
  },
  {
   "cell_type": "code",
   "execution_count": 3,
   "id": "b76cc717",
   "metadata": {},
   "outputs": [
    {
     "data": {
      "text/plain": [
       "'external_vars'"
      ]
     },
     "execution_count": 3,
     "metadata": {},
     "output_type": "execute_result"
    }
   ],
   "source": [
    "path_source"
   ]
  },
  {
   "cell_type": "code",
   "execution_count": 4,
   "id": "7a7b9f29",
   "metadata": {},
   "outputs": [
    {
     "data": {
      "text/plain": [
       "<typer.models.OptionInfo at 0x15d98a040>"
      ]
     },
     "execution_count": 4,
     "metadata": {},
     "output_type": "execute_result"
    }
   ],
   "source": [
    "path"
   ]
  },
  {
   "cell_type": "code",
   "execution_count": 78,
   "id": "a651c031",
   "metadata": {},
   "outputs": [
    {
     "name": "stdout",
     "output_type": "stream",
     "text": [
      "Hello <typer.models.OptionInfo object at 0x111872970>\n"
     ]
    }
   ],
   "source": [
    "@dataclass\n",
    "class Common:\n",
    "    profile_dir: str\n",
    "\n",
    "    @app.callback()\n",
    "    def profile_callback(ctx: str = typer.Context,\n",
    "                         profile_dir: str = typer.Option(..., )):\n",
    "\n",
    "        typer.echo(f\"Hello {profile_dir}\")\n",
    "\n",
    "        #test_dir = \"/Users/lewischarlesbaker/.droughty/\"\n",
    "\n",
    "        test_dir = (f\"{profile_dir}\")\n",
    "\n",
    "        \"\"\"Common Entry Point\"\"\"\n",
    "        ctx.obj = Common(profile_dir)\n",
    "\n",
    "        return (test_dir)\n",
    "\n",
    "\n",
    "cli_profile_path = Common.profile_callback()"
   ]
  },
  {
   "cell_type": "code",
   "execution_count": 108,
   "id": "59185c48",
   "metadata": {},
   "outputs": [
    {
     "name": "stdout",
     "output_type": "stream",
     "text": [
      "Hello <typer.models.OptionInfo object at 0x111a75c40>\n"
     ]
    }
   ],
   "source": [
    "def profile_callback(ctx: str = typer.Context,\n",
    "                     profile_dir: str = typer.Option(..., )):\n",
    "\n",
    "    typer.echo(f\"Hello {profile_dir}\")\n",
    "\n",
    "    #test_dir = \"/Users/lewischarlesbaker/.droughty/\"\n",
    "\n",
    "    #test_dir = (f\"{profile_dir}\")\n",
    "\n",
    "    \"\"\"Common Entry Point\"\"\"\n",
    "    test_dir = ctx.obj = Common(profile_dir)\n",
    "\n",
    "    return (test_dir)\n",
    "\n",
    "cli_profile_path = profile_callback()\n"
   ]
  },
  {
   "cell_type": "code",
   "execution_count": 116,
   "id": "090e046c",
   "metadata": {},
   "outputs": [
    {
     "name": "stdout",
     "output_type": "stream",
     "text": [
      "Hello <typer.models.OptionInfo object at 0x111a956a0>\n"
     ]
    }
   ],
   "source": [
    "def profile_callback(##ctx: typer.Context,\n",
    "                     profile_dir: str = typer.Option(..., )):\n",
    "\n",
    "    typer.echo(f\"Hello {profile_dir}\")\n",
    "\n",
    "    #test_dir = \"/Users/lewischarlesbaker/.droughty/\"\n",
    "\n",
    "    test_dir = \"{profile_dir}\"\n",
    "\n",
    "    \"\"\"Common Entry Point\"\"\"\n",
    "    ##ctx.obj = Common(profile_dir)\n",
    "\n",
    "    return (test_dir)\n",
    "\n",
    "\n",
    "print = profile_callback()\n"
   ]
  },
  {
   "cell_type": "code",
   "execution_count": null,
   "id": "a9066764",
   "metadata": {},
   "outputs": [],
   "source": []
  }
 ],
 "metadata": {
  "kernelspec": {
   "display_name": "Python 3 (ipykernel)",
   "language": "python",
   "name": "python3"
  },
  "language_info": {
   "codemirror_mode": {
    "name": "ipython",
    "version": 3
   },
   "file_extension": ".py",
   "mimetype": "text/x-python",
   "name": "python",
   "nbconvert_exporter": "python",
   "pygments_lexer": "ipython3",
   "version": "3.8.12"
  }
 },
 "nbformat": 4,
 "nbformat_minor": 5
}
