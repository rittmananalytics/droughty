{
 "cells": [
  {
   "cell_type": "code",
   "execution_count": 238,
   "id": "0127cf21-ff68-46a1-bad1-36dab50870ed",
   "metadata": {},
   "outputs": [],
   "source": [
    "import os\n",
    "import yaml\n",
    "\n",
    "from google.oauth2 import service_account\n",
    "import os\n",
    "import yaml\n",
    "import git\n",
    "\n",
    "## source vars\n",
    "\n",
    "path = os.path.expanduser('~')\n",
    "\n",
    "profile_pass = os.path.join(path,\".droughty/profile.yaml\")\n",
    "\n",
    "with open(profile_pass) as f:\n",
    "    lookml_config = yaml.load(f, Loader=yaml.FullLoader)\n",
    "\n",
    "def get_git_root(path):\n",
    "\n",
    "        git_repo = git.Repo(path, search_parent_directories=True)\n",
    "        git_root = git_repo.git.rev_parse(\"--show-toplevel\")\n",
    "        return (git_root)\n",
    "    \n",
    "    \n",
    "git_def_path = get_git_root(os.getcwd())\n",
    "\n",
    "git_path = git_def_path\n",
    "\n",
    "filename = 'droughty_project.yaml'\n",
    "\n",
    "droughty_project = os.path.join(git_path,filename)\n",
    "\n",
    "with open(droughty_project) as f:\n",
    "    enviroment_project = yaml.load(f, Loader=yaml.FullLoader)\n",
    "\n",
    "project_value = list(enviroment_project.values())\n",
    "\n",
    "\n",
    "\n",
    "\n"
   ]
  },
  {
   "cell_type": "code",
   "execution_count": null,
   "id": "3139c504-de8a-40eb-8b2e-08ca0ec4404c",
   "metadata": {},
   "outputs": [],
   "source": [
    "\n",
    "\n",
    "lookml_explore_schema =     \"\"\"\n",
    "\n",
    "\n",
    "        select * from {0}.information_schema.columns\n",
    "\n",
    "        where table_name in ('{0}','{1}','{2}') \n",
    "\n",
    "        ## assign a for loop for the table names ##\n",
    "\n",
    "\n",
    "\"\"\".format(database)"
   ]
  },
  {
   "cell_type": "code",
   "execution_count": 335,
   "id": "a8be769b-a862-4b28-920d-9521e3add7b4",
   "metadata": {},
   "outputs": [],
   "source": [
    "explores = (enviroment_project.get(\"explores\"))"
   ]
  },
  {
   "cell_type": "code",
   "execution_count": 240,
   "id": "cdddf618-b09c-4316-8eed-ce29f571125e",
   "metadata": {},
   "outputs": [
    {
     "data": {
      "text/plain": [
       "{'sales_explore': {'parent_table': ['wh_web_events_fact'],\n",
       "  'dimensions': ['wh_website_users_dim'],\n",
       "  'facts': ['wh_website_pages_fct']}}"
      ]
     },
     "execution_count": 240,
     "metadata": {},
     "output_type": "execute_result"
    }
   ],
   "source": [
    "explores"
   ]
  },
  {
   "cell_type": "code",
   "execution_count": 241,
   "id": "c944fe45-5650-4adb-a69f-a4cc29f0c4fa",
   "metadata": {},
   "outputs": [
    {
     "name": "stdout",
     "output_type": "stream",
     "text": [
      "{'parent_table': ['wh_web_events_fact'], 'dimensions': ['wh_website_users_dim'], 'facts': ['wh_website_pages_fct']}\n"
     ]
    }
   ],
   "source": [
    "    for key,value in explores.items():\n",
    "        \n",
    "        print(value)"
   ]
  },
  {
   "cell_type": "code",
   "execution_count": 242,
   "id": "c54a4cd1-7e97-4d60-a210-b207105e3884",
   "metadata": {},
   "outputs": [
    {
     "name": "stdout",
     "output_type": "stream",
     "text": [
      "['wh_web_events_fact']\n",
      "['wh_website_users_dim']\n",
      "['wh_website_pages_fct']\n"
     ]
    }
   ],
   "source": [
    "    for key,value in explores.items():\n",
    "        \n",
    "        for key,value in value.items():\n",
    "        \n",
    "            print(value)"
   ]
  },
  {
   "cell_type": "code",
   "execution_count": 243,
   "id": "14b6f213-dd6e-4563-8858-8171ddb71441",
   "metadata": {},
   "outputs": [],
   "source": [
    "def result(nested_dictionary):\n",
    "    \n",
    "    values = []\n",
    "\n",
    "    for key,value in explores.items():\n",
    "\n",
    "        for key,value in value.items():\n",
    "\n",
    "            print(value)"
   ]
  },
  {
   "cell_type": "code",
   "execution_count": 244,
   "id": "b7c178d7-48fd-4139-ad91-128bbf375eac",
   "metadata": {},
   "outputs": [],
   "source": [
    "nested_dictionary = explores"
   ]
  },
  {
   "cell_type": "code",
   "execution_count": 303,
   "id": "037ef769-1bce-49ad-a482-e323278290b5",
   "metadata": {},
   "outputs": [
    {
     "name": "stdout",
     "output_type": "stream",
     "text": [
      "['wh_web_events_fact']\n",
      "['wh_website_users_dim']\n",
      "['wh_website_pages_fct']\n"
     ]
    }
   ],
   "source": [
    "listed_explores = get_all_values(nested_dictionary)"
   ]
  },
  {
   "cell_type": "code",
   "execution_count": 302,
   "id": "d38e717a-d20b-460a-afb0-24aacaed8ee0",
   "metadata": {},
   "outputs": [
    {
     "data": {
      "text/plain": [
       "[None]"
      ]
     },
     "execution_count": 302,
     "metadata": {},
     "output_type": "execute_result"
    }
   ],
   "source": [
    "listed_explores"
   ]
  },
  {
   "cell_type": "code",
   "execution_count": 304,
   "id": "82c064b6-2657-484c-9c81-1997a601b844",
   "metadata": {},
   "outputs": [
    {
     "name": "stdout",
     "output_type": "stream",
     "text": [
      "['wh_web_events_fact']\n",
      "['wh_website_users_dim']\n",
      "['wh_website_pages_fct']\n"
     ]
    }
   ],
   "source": [
    "listed_explores = [get_all_values(nested_dictionary)]"
   ]
  },
  {
   "cell_type": "code",
   "execution_count": 306,
   "id": "8b2b6e13-546d-4bc9-8c6f-11a0c0f0d830",
   "metadata": {},
   "outputs": [
    {
     "data": {
      "text/plain": [
       "[None]"
      ]
     },
     "execution_count": 306,
     "metadata": {},
     "output_type": "execute_result"
    }
   ],
   "source": [
    "listed_explores"
   ]
  },
  {
   "cell_type": "code",
   "execution_count": null,
   "id": "fdf5ba7a-94cd-4d1b-952a-eeb7b6e71c67",
   "metadata": {},
   "outputs": [],
   "source": []
  },
  {
   "cell_type": "code",
   "execution_count": 247,
   "id": "555a51bc-f748-48c8-b0e3-3d0617bbf9ef",
   "metadata": {},
   "outputs": [],
   "source": [
    "def result(nested_dictionary):\n",
    "    \n",
    "    values = []\n",
    "\n",
    "    for key,value in explores.items():\n",
    "\n",
    "        for key,value in value.items():\n",
    "\n",
    "            print(values)"
   ]
  },
  {
   "cell_type": "code",
   "execution_count": 248,
   "id": "e7007512-f318-4ecd-8e9e-266745369ad8",
   "metadata": {},
   "outputs": [
    {
     "data": {
      "text/plain": [
       "{'sales_explore': {'parent_table': 'wh_web_events_fact',\n",
       "  'dimensions': ['wh_website_users_dim'],\n",
       "  'facts': ['wh_website_pages_fct']}}"
      ]
     },
     "execution_count": 248,
     "metadata": {},
     "output_type": "execute_result"
    }
   ],
   "source": [
    "values"
   ]
  },
  {
   "cell_type": "code",
   "execution_count": 327,
   "id": "11accad6-c298-491b-b1b0-f89778046962",
   "metadata": {},
   "outputs": [
    {
     "name": "stdout",
     "output_type": "stream",
     "text": [
      "['wh_web_events_fact']\n",
      "['wh_website_users_dim']\n",
      "['wh_website_pages_fct']\n"
     ]
    }
   ],
   "source": [
    "##d = {}\n",
    "\n",
    "for key,value in explores.items():\n",
    "\n",
    "    for key,value in value.items():\n",
    "\n",
    "        d = value\n",
    "        \n",
    "        print (value)"
   ]
  },
  {
   "cell_type": "code",
   "execution_count": 328,
   "id": "055b33f2-e052-438b-b6a0-678aeb7480f7",
   "metadata": {},
   "outputs": [
    {
     "data": {
      "text/plain": [
       "['wh_website_pages_fct']"
      ]
     },
     "execution_count": 328,
     "metadata": {},
     "output_type": "execute_result"
    }
   ],
   "source": [
    "d"
   ]
  },
  {
   "cell_type": "code",
   "execution_count": 292,
   "id": "5d63e1f1-192c-488f-ae86-b5ee03e6bb18",
   "metadata": {},
   "outputs": [],
   "source": [
    "def result(nested_dictionary):\n",
    "    \n",
    "    res = []\n",
    "\n",
    "    for key,value in explores.items():\n",
    "        \n",
    "        seq = []\n",
    "        \n",
    "        res.append({key})\n",
    "\n",
    "        for key,value in value.items():\n",
    "            \n",
    "            return res\n",
    "        \n",
    "data = result(explores)\n",
    "\n",
    "            ##print(value)"
   ]
  },
  {
   "cell_type": "code",
   "execution_count": 293,
   "id": "07ee8d52-79e5-403e-8d84-b8f774f7aa9d",
   "metadata": {},
   "outputs": [
    {
     "data": {
      "text/plain": [
       "[{'sales_explore'}]"
      ]
     },
     "execution_count": 293,
     "metadata": {},
     "output_type": "execute_result"
    }
   ],
   "source": [
    "data"
   ]
  },
  {
   "cell_type": "code",
   "execution_count": 319,
   "id": "a3dddfb5-441a-4cd7-a55b-0aa1c1700a0f",
   "metadata": {},
   "outputs": [
    {
     "ename": "TypeError",
     "evalue": "unhashable type: 'list'",
     "output_type": "error",
     "traceback": [
      "\u001b[0;31m---------------------------------------------------------------------------\u001b[0m",
      "\u001b[0;31mTypeError\u001b[0m                                 Traceback (most recent call last)",
      "Input \u001b[0;32mIn [319]\u001b[0m, in \u001b[0;36m<module>\u001b[0;34m\u001b[0m\n\u001b[1;32m      9\u001b[0m             values\u001b[38;5;241m.\u001b[39mappend({value})\n\u001b[1;32m     11\u001b[0m             \u001b[38;5;28;01mreturn\u001b[39;00m(values)\n\u001b[0;32m---> 13\u001b[0m data \u001b[38;5;241m=\u001b[39m \u001b[43mresult\u001b[49m\u001b[43m(\u001b[49m\u001b[43mexplores\u001b[49m\u001b[43m)\u001b[49m\n",
      "Input \u001b[0;32mIn [319]\u001b[0m, in \u001b[0;36mresult\u001b[0;34m(nested_dictionary)\u001b[0m\n\u001b[1;32m      5\u001b[0m \u001b[38;5;28;01mfor\u001b[39;00m key,value \u001b[38;5;129;01min\u001b[39;00m explores\u001b[38;5;241m.\u001b[39mitems():\n\u001b[1;32m      7\u001b[0m     \u001b[38;5;28;01mfor\u001b[39;00m key,value \u001b[38;5;129;01min\u001b[39;00m value\u001b[38;5;241m.\u001b[39mitems():\n\u001b[0;32m----> 9\u001b[0m         values\u001b[38;5;241m.\u001b[39mappend({value})\n\u001b[1;32m     11\u001b[0m         \u001b[38;5;28;01mreturn\u001b[39;00m(values)\n",
      "\u001b[0;31mTypeError\u001b[0m: unhashable type: 'list'"
     ]
    }
   ],
   "source": [
    "def result(nested_dictionary):\n",
    "    \n",
    "    values = []\n",
    "\n",
    "    for key,value in explores.items():\n",
    "\n",
    "        for key,value in value.items():\n",
    "            \n",
    "            values.append({value})\n",
    "\n",
    "            return(values)\n",
    "        \n",
    "data = result(explores)"
   ]
  },
  {
   "cell_type": "code",
   "execution_count": 299,
   "id": "ffa29803-56b9-4673-8452-654d0955e03d",
   "metadata": {},
   "outputs": [
    {
     "data": {
      "text/plain": [
       "[]"
      ]
     },
     "execution_count": 299,
     "metadata": {},
     "output_type": "execute_result"
    }
   ],
   "source": [
    "data"
   ]
  },
  {
   "cell_type": "code",
   "execution_count": 272,
   "id": "131276d8-4662-48b5-ab68-8b07007598e8",
   "metadata": {},
   "outputs": [
    {
     "data": {
      "text/plain": [
       "NoneType"
      ]
     },
     "execution_count": 272,
     "metadata": {},
     "output_type": "execute_result"
    }
   ],
   "source": [
    "d1 = dict(budgets_sales=dict(budget_amt=None, budget_group=None, budget_name=None, budget_pk=None))\n",
    "\n",
    "def get_all_values(nested_dictionary):\n",
    "    res = []\n",
    "    for key,value in nested_dictionary.items():\n",
    "        seq = []\n",
    "        res.append({\"name\": key, \"columns\": seq})\n",
    "        # for key1, value1 in value.items():  # not using value1\n",
    "        for key1 in value.keys():\n",
    "            elem = {\"name\": key, \"tests\": [\"not_null\", \"unique\"]}\n",
    "            seq.append(elem)\n",
    "    return res\n",
    "    \n",
    "data = get_all_values(d1)\n"
   ]
  },
  {
   "cell_type": "code",
   "execution_count": 310,
   "id": "6a82bc6c-ba98-4384-8f31-07849d8f93c1",
   "metadata": {},
   "outputs": [],
   "source": [
    "result = []\n",
    "\n",
    "def result(nested_dictionary):\n",
    "    \n",
    "    for key,value in explores.items():\n",
    "\n",
    "        for key,value in value.items():\n",
    "\n",
    "            result.apend(value)\n",
    "            \n",
    "        return result"
   ]
  },
  {
   "cell_type": "code",
   "execution_count": 341,
   "id": "c581238a-4615-4620-acd4-0ba34fbfad15",
   "metadata": {},
   "outputs": [],
   "source": [
    "list = []\n",
    "\n",
    "for key,value in explores.items():\n",
    "\n",
    "    for key,value in value.items():\n",
    "\n",
    "        list.append(value)\n"
   ]
  },
  {
   "cell_type": "code",
   "execution_count": 342,
   "id": "011dcf32-dbec-40a6-b01e-2632374e5c38",
   "metadata": {},
   "outputs": [
    {
     "data": {
      "text/plain": [
       "[['wh_web_events_fact'], ['wh_website_users_dim'], ['wh_website_pages_fct']]"
      ]
     },
     "execution_count": 342,
     "metadata": {},
     "output_type": "execute_result"
    }
   ],
   "source": [
    "list"
   ]
  },
  {
   "cell_type": "code",
   "execution_count": 330,
   "id": "70dabb79-d271-458a-98c7-4b8f259644ff",
   "metadata": {},
   "outputs": [],
   "source": [
    "nested_dictionary = explores"
   ]
  },
  {
   "cell_type": "code",
   "execution_count": 331,
   "id": "da67cc0d-fdc1-4cd7-b734-aed2f703bbe3",
   "metadata": {},
   "outputs": [
    {
     "name": "stdout",
     "output_type": "stream",
     "text": [
      "['wh_web_events_fact']\n",
      "['wh_website_users_dim']\n",
      "['wh_website_pages_fct']\n"
     ]
    }
   ],
   "source": [
    "listed_explores = get_all_values(nested_dictionary)"
   ]
  },
  {
   "cell_type": "code",
   "execution_count": 336,
   "id": "ec06da68-9a94-49fb-8a92-963b52243b3b",
   "metadata": {},
   "outputs": [
    {
     "ename": "TypeError",
     "evalue": "append() takes exactly one argument (0 given)",
     "output_type": "error",
     "traceback": [
      "\u001b[0;31m---------------------------------------------------------------------------\u001b[0m",
      "\u001b[0;31mTypeError\u001b[0m                                 Traceback (most recent call last)",
      "Input \u001b[0;32mIn [336]\u001b[0m, in \u001b[0;36m<module>\u001b[0;34m\u001b[0m\n\u001b[0;32m----> 1\u001b[0m data \u001b[38;5;241m=\u001b[39m \u001b[43mresult\u001b[49m\u001b[43m(\u001b[49m\u001b[43mexplores\u001b[49m\u001b[43m)\u001b[49m\n",
      "Input \u001b[0;32mIn [333]\u001b[0m, in \u001b[0;36mresult\u001b[0;34m(nested_dictionary)\u001b[0m\n\u001b[1;32m      5\u001b[0m \u001b[38;5;28;01mfor\u001b[39;00m key,value \u001b[38;5;129;01min\u001b[39;00m explores\u001b[38;5;241m.\u001b[39mitems():\n\u001b[1;32m      7\u001b[0m     \u001b[38;5;28;01mfor\u001b[39;00m key,value \u001b[38;5;129;01min\u001b[39;00m value\u001b[38;5;241m.\u001b[39mitems():\n\u001b[0;32m----> 9\u001b[0m         \u001b[43mvalues\u001b[49m\u001b[38;5;241;43m.\u001b[39;49m\u001b[43mappend\u001b[49m\u001b[43m(\u001b[49m\u001b[43m)\u001b[49m\n\u001b[1;32m     11\u001b[0m \u001b[38;5;28;01mreturn\u001b[39;00m values\n",
      "\u001b[0;31mTypeError\u001b[0m: append() takes exactly one argument (0 given)"
     ]
    }
   ],
   "source": [
    "data = result(explores)"
   ]
  },
  {
   "cell_type": "code",
   "execution_count": null,
   "id": "a2caec01-dbdd-4bdf-80a5-f8db10f74d6e",
   "metadata": {},
   "outputs": [],
   "source": [
    "lst=[]\n",
    "for y in [0,8] : \n",
    "    for z in [0,1,2,3] :\n",
    "        x=y+z\n",
    "        lst.append(x)\n",
    "\n",
    "print lst"
   ]
  }
 ],
 "metadata": {
  "kernelspec": {
   "display_name": "Python 3 (ipykernel)",
   "language": "python",
   "name": "python3"
  },
  "language_info": {
   "codemirror_mode": {
    "name": "ipython",
    "version": 3
   },
   "file_extension": ".py",
   "mimetype": "text/x-python",
   "name": "python",
   "nbconvert_exporter": "python",
   "pygments_lexer": "ipython3",
   "version": "3.8.12"
  }
 },
 "nbformat": 4,
 "nbformat_minor": 5
}
