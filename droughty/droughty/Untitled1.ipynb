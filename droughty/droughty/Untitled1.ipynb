{
 "cells": [
  {
   "cell_type": "code",
   "execution_count": 1,
   "id": "d884e659-a413-4ebb-af08-2cebf291f24e",
   "metadata": {},
   "outputs": [],
   "source": [
    "import os\n",
    "import yaml\n",
    "\n",
    "from google.oauth2 import service_account\n",
    "import os\n",
    "import yaml\n",
    "import git\n",
    "\n",
    "## source vars\n",
    "\n",
    "path = os.path.expanduser('~')\n",
    "\n",
    "profile_pass = os.path.join(path,\".droughty/profile.yaml\")\n",
    "\n",
    "with open(profile_pass) as f:\n",
    "    lookml_config = yaml.load(f, Loader=yaml.FullLoader)\n",
    "\n",
    "def get_git_root(path):\n",
    "\n",
    "        git_repo = git.Repo(path, search_parent_directories=True)\n",
    "        git_root = git_repo.git.rev_parse(\"--show-toplevel\")\n",
    "        return (git_root)\n",
    "    \n",
    "    \n",
    "git_def_path = get_git_root(os.getcwd())\n",
    "\n",
    "git_path = git_def_path\n",
    "\n",
    "filename = 'droughty_project.yaml'\n",
    "\n",
    "droughty_project = os.path.join(git_path,filename)\n",
    "\n",
    "with open(droughty_project) as f:\n",
    "    enviroment_project = yaml.load(f, Loader=yaml.FullLoader)\n",
    "\n",
    "project_value = list(enviroment_project.values())"
   ]
  },
  {
   "cell_type": "code",
   "execution_count": 2,
   "id": "fb77b763-ce4e-42f5-81f9-e4ee0ff234fe",
   "metadata": {},
   "outputs": [],
   "source": [
    "explores = (enviroment_project.get(\"explores\"))"
   ]
  },
  {
   "cell_type": "code",
   "execution_count": 3,
   "id": "e3a75f9a-49fc-4780-b808-5f5835eb8028",
   "metadata": {},
   "outputs": [],
   "source": [
    "list = []\n",
    "\n",
    "for key,value in explores.items():\n",
    "\n",
    "    for key,value in value.items():\n",
    "\n",
    "        list.append(value)\n"
   ]
  },
  {
   "cell_type": "code",
   "execution_count": 4,
   "id": "01ac3782-72a4-41ba-8fb3-d17f4e111093",
   "metadata": {},
   "outputs": [
    {
     "data": {
      "text/plain": [
       "[['wh_web_events_fact'], ['wh_website_users_dim'], ['wh_website_pages_fct']]"
      ]
     },
     "execution_count": 4,
     "metadata": {},
     "output_type": "execute_result"
    }
   ],
   "source": [
    "list"
   ]
  },
  {
   "cell_type": "code",
   "execution_count": 6,
   "id": "27366a15-3efa-4342-b4e0-4c8b26d3b9ea",
   "metadata": {},
   "outputs": [],
   "source": [
    "lookml_explore_schema =     \"\"\"\n",
    "\n",
    "\n",
    "        select * from {0}.information_schema.columns\n",
    "\n",
    "        where table_name in ('{0}','{1}','{2}') \n",
    "\n",
    "        ## assign a for loop for the table names ##\n",
    "\n",
    "\n",
    "\"\"\".format(list[0],list[1],list[2])"
   ]
  },
  {
   "cell_type": "code",
   "execution_count": 7,
   "id": "a6fd9b47-bf6d-4f9d-91b4-20f173e80f97",
   "metadata": {},
   "outputs": [
    {
     "data": {
      "text/plain": [
       "\"\\n\\n\\n        select * from ['wh_web_events_fact'].information_schema.columns\\n\\n        where table_name in ('['wh_web_events_fact']','['wh_website_users_dim']','['wh_website_pages_fct']') \\n\\n        ## assign a for loop for the table names ##\\n\\n\\n\""
      ]
     },
     "execution_count": 7,
     "metadata": {},
     "output_type": "execute_result"
    }
   ],
   "source": [
    "lookml_explore_schema"
   ]
  },
  {
   "cell_type": "code",
   "execution_count": 8,
   "id": "c2cbb622-f33a-41b7-afe5-f28fd3c3b6e3",
   "metadata": {},
   "outputs": [
    {
     "data": {
      "text/plain": [
       "list"
      ]
     },
     "execution_count": 8,
     "metadata": {},
     "output_type": "execute_result"
    }
   ],
   "source": [
    "type(list)"
   ]
  },
  {
   "cell_type": "code",
   "execution_count": null,
   "id": "be202718-bb1a-4932-a263-c3a46ce07764",
   "metadata": {},
   "outputs": [],
   "source": []
  }
 ],
 "metadata": {
  "kernelspec": {
   "display_name": "Python 3 (ipykernel)",
   "language": "python",
   "name": "python3"
  },
  "language_info": {
   "codemirror_mode": {
    "name": "ipython",
    "version": 3
   },
   "file_extension": ".py",
   "mimetype": "text/x-python",
   "name": "python",
   "nbconvert_exporter": "python",
   "pygments_lexer": "ipython3",
   "version": "3.8.12"
  }
 },
 "nbformat": 4,
 "nbformat_minor": 5
}
