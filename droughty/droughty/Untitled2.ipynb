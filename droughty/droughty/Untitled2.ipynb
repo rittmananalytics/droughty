{
 "cells": [
  {
   "cell_type": "code",
   "execution_count": null,
   "id": "caad5395",
   "metadata": {},
   "outputs": [],
   "source": []
  },
  {
   "cell_type": "code",
   "execution_count": null,
   "id": "8dce2aa4",
   "metadata": {},
   "outputs": [],
   "source": [
    "from dataclasses import dataclass\n",
    "import typer\n",
    "\n",
    "app = typer.Typer()\n",
    "@dataclass\n",
    "class Common:\n",
    "    profile_dir: str\n",
    "        \n",
    "\n",
    "@app.callback()\n",
    "def profile_callback(ctx: typer.Context,\n",
    "                     profile_dir: str = typer.Option(..., )):\n",
    "\n",
    "    typer.echo(f\"Hello {profile_dir}\")\n",
    "\n",
    "    test_dir = \"hello\"\n",
    "\n",
    "    \"\"\"Common Entry Point\"\"\"\n",
    "    ctx.obj = Common(ctx)\n",
    "\n",
    "    return (test_dir)\n",
    "\n",
    "print(ctx.obj.a)\n"
   ]
  },
  {
   "cell_type": "code",
   "execution_count": null,
   "id": "bec31c76",
   "metadata": {},
   "outputs": [],
   "source": [
    "class Config(object):\n",
    "\n",
    "    def __init__(self, config):\n",
    "        # do something with config here ...\n",
    "        self.a = 'example_A'\n",
    "        self.b = 'example_B'\n",
    "\n",
    "# in your def cli()\n",
    "ctx.obj = Config(config)\n",
    "# in your commands you can works with your prepared data like this:\n",
    "print(ctx.obj.a)\n",
    "print(ctx.obj.b)"
   ]
  },
  {
   "cell_type": "code",
   "execution_count": null,
   "id": "4d7e72ee",
   "metadata": {},
   "outputs": [],
   "source": [
    "def profile_callback(ctx,profile_dir):\n",
    "    \n",
    "    print (ctx + \" \" + profile_dir)\n",
    "\n",
    "cli_profile_path = profile_callback(\"lewis\",\"baker\")\n",
    "\n",
    "    \n",
    "    "
   ]
  },
  {
   "cell_type": "code",
   "execution_count": null,
   "id": "18e849f3",
   "metadata": {},
   "outputs": [],
   "source": [
    "def my_function(fname, lname):\n",
    "  print(fname + \" \" + lname)\n",
    "\n",
    "my_function(\"Lewis\", \"Baker\")\n"
   ]
  },
  {
   "cell_type": "code",
   "execution_count": null,
   "id": "deb2a06f",
   "metadata": {},
   "outputs": [],
   "source": [
    "def func():\n",
    "  func.variable = \"John\"\n",
    "\n",
    "func()\n",
    "\n",
    "print(func.variable)"
   ]
  },
  {
   "cell_type": "code",
   "execution_count": null,
   "id": "b95d4b63",
   "metadata": {},
   "outputs": [],
   "source": [
    "@dataclass\n",
    "class Common:\n",
    "\n",
    "    profile_dir: str\n",
    "\n",
    "    @app.callback()\n",
    "    def profile_callback(ctx: typer.Context,\n",
    "                        profile_dir: str = typer.Option(..., )):\n",
    "\n",
    "        typer.echo(f\"Hello {profile_dir}\")\n",
    "\n",
    "        path = (f\"{profile_dir}\")\n",
    "\n",
    "        ctx.obj = Common(profile_dir)\n",
    "\n",
    "        return path\n",
    "\n",
    "\n",
    "profile_path = Common()\n",
    "\n",
    "##profile_path = Common(\"profile_dir\")\n",
    "\n",
    "cli_profile_path = (profile_path.profile_dir)"
   ]
  },
  {
   "cell_type": "code",
   "execution_count": null,
   "id": "e3b6bc6c",
   "metadata": {},
   "outputs": [],
   "source": [
    "@dataclass\n",
    "class Common:\n",
    "\n",
    "    #profile_dir: str\n",
    "    root = str\n",
    "\n",
    "    @app.callback()\n",
    "    def profile_callback(##ctx: typer.Context,\n",
    "                        profile_dir: str = typer.Option(..., )):\n",
    "        \n",
    "        #typer.echo(f\"Hello {profile_dir}\")\n",
    "        \n",
    "        print(\"I'm a\", profile_dir.root)\n",
    "        \n",
    "        ##ctx.obj = Common(profile_dir)\n",
    "\n",
    "\n",
    "profile_path = Common()\n",
    "\n",
    "##profile_path = Common(\"profile_dir\")\n",
    "\n",
    "print(profile_path.root)\n",
    "profile_path.profile_callback()"
   ]
  },
  {
   "cell_type": "code",
   "execution_count": 7,
   "id": "cf3cb023",
   "metadata": {},
   "outputs": [
    {
     "name": "stdout",
     "output_type": "stream",
     "text": [
      "Hello, my name is Nikhil\n"
     ]
    }
   ],
   "source": [
    "# A Sample class with init method\n",
    "class Person:\n",
    "   \n",
    "    # init method or constructor \n",
    "    def __init__(self, name):\n",
    "        self.name = name\n",
    "   \n",
    "    # Sample Method \n",
    "    def say_hi(self):\n",
    "        print('Hello, my name is', self.name)\n",
    "   \n",
    "    def assignment():\n",
    "    \n",
    "        p = Person('Nikhil')\n",
    "    \n",
    "        p.say_hi()\n",
    "        \n",
    "Person.assignment()"
   ]
  },
  {
   "cell_type": "code",
   "execution_count": 29,
   "id": "e59552a2",
   "metadata": {},
   "outputs": [
    {
     "name": "stdout",
     "output_type": "stream",
     "text": [
      "Hello, my name is directory\n"
     ]
    }
   ],
   "source": [
    "from dataclasses import dataclass\n",
    "import typer\n",
    "\n",
    "app = typer.Typer()\n",
    "\n",
    "\n",
    "@dataclass\n",
    "class Common:\n",
    "\n",
    "    def __init__(profile_dir, name):\n",
    "        profile_dir.name = name\n",
    "\n",
    "    @app.callback()\n",
    "    def profile_callback(##ctx: typer.Context,\n",
    "                        profile_dir: str = typer.Option(..., )):\n",
    "        \n",
    "        print('Hello, my name is', profile_dir.name)\n",
    "        \n",
    "        ##path = self.profile_dir\n",
    "        \n",
    "        ##ctx.obj = Common(profile_dir)\n",
    "\n",
    "        \n",
    "    def assignment():\n",
    "    \n",
    "        p = Common('directory')\n",
    "        p.profile_callback()\n",
    "\n",
    "Common.assignment()\n"
   ]
  },
  {
   "cell_type": "code",
   "execution_count": 48,
   "id": "cde9dca0",
   "metadata": {},
   "outputs": [
    {
     "name": "stdout",
     "output_type": "stream",
     "text": [
      "Hello, my name is directory\n"
     ]
    }
   ],
   "source": [
    "from dataclasses import dataclass\n",
    "import typer\n",
    "\n",
    "import os\n",
    "import yaml\n",
    "\n",
    "app = typer.Typer()\n",
    "\n",
    "\n",
    "@dataclass\n",
    "class Common:\n",
    "\n",
    "    def __init__(profile_dir, name):\n",
    "        profile_dir.name = name\n",
    "\n",
    "    @app.callback()\n",
    "    def profile_callback(##ctx: typer.Context,\n",
    "                        profile_dir: str = typer.Option(..., )):\n",
    "        \n",
    "        print('Hello, my name is', profile_dir.name)\n",
    "        \n",
    "        ##path = self.profile_dir\n",
    "        \n",
    "        ##ctx.obj = Common(profile_dir)\n",
    "\n",
    "        \n",
    "    def assignment():\n",
    "    \n",
    "        p = Common('directory')\n",
    "        p.profile_callback()\n",
    "\n",
    "\n",
    "Common.assignment()\n",
    "\n",
    "\n"
   ]
  },
  {
   "cell_type": "code",
   "execution_count": 57,
   "id": "b8239fcf",
   "metadata": {},
   "outputs": [
    {
     "name": "stdout",
     "output_type": "stream",
     "text": [
      " assignment test <typer.models.OptionInfo object at 0x10dff5580>\n"
     ]
    }
   ],
   "source": [
    "from dataclasses import dataclass\n",
    "import typer\n",
    "\n",
    "import os\n",
    "import yaml\n",
    "\n",
    "app = typer.Typer()\n",
    "\n",
    "\n",
    "@dataclass\n",
    "class Common:\n",
    "\n",
    "    def __init__(profile_dir, lookml_config, name):\n",
    "        profile_dir.name = name\n",
    "        lookml_config.name = name\n",
    "\n",
    "    @app.callback()\n",
    "    def profile_callback(ctx: typer.Context,\n",
    "                        profile_dir: str = typer.Option(..., ),\n",
    "                        lookml_config: str\n",
    "                        ):\n",
    "        \n",
    "        print(f\"Hello, my name is {profile_dir}\")\n",
    "\n",
    "        ctx.obj = Common(profile_dir)\n",
    "\n",
    "\n",
    "        path = {profile_dir}\n",
    "\n",
    "        profile_pass = os.path.join(path,\"profile.yaml\")\n",
    "\n",
    "        with open(profile_pass) as f:\n",
    "            lookml_config = yaml.load(f, Loader=yaml.FullLoader)\n",
    "\n",
    "    def assignment(profile_dir: str = typer.Option(..., )):\n",
    "    \n",
    "        p = (f\" assignment test {profile_dir}\")\n",
    "        print (p)\n",
    "        return p\n",
    "    \n",
    "cli_profile_path = Common.assignment()\n",
    "\n"
   ]
  },
  {
   "cell_type": "code",
   "execution_count": 49,
   "id": "f39e18ab",
   "metadata": {},
   "outputs": [
    {
     "name": "stdout",
     "output_type": "stream",
     "text": [
      "mammal\n",
      "I'm a mammal\n",
      "I'm a dog\n"
     ]
    }
   ],
   "source": [
    "class Dog:\n",
    "     \n",
    "    # A simple class\n",
    "    # attribute\n",
    "    attr1 = \"mammal\"\n",
    "    attr2 = \"dog\"\n",
    " \n",
    "    # A sample method \n",
    "    def fun(self):\n",
    "        print(\"I'm a\", self.attr1)\n",
    "        print(\"I'm a\", self.attr2)\n",
    " \n",
    "# Driver code\n",
    "# Object instantiation\n",
    "Rodger = Dog()\n",
    " \n",
    "# Accessing class attributes\n",
    "# and method through objects\n",
    "print(Rodger.attr1)\n",
    "Rodger.fun()"
   ]
  },
  {
   "cell_type": "code",
   "execution_count": 69,
   "id": "d26e174f",
   "metadata": {},
   "outputs": [
    {
     "name": "stdout",
     "output_type": "stream",
     "text": [
      "Hello, my name is directory\n"
     ]
    },
    {
     "ename": "TypeError",
     "evalue": "__init__() missing 1 required positional argument: 'name'",
     "output_type": "error",
     "traceback": [
      "\u001b[0;31m---------------------------------------------------------------------------\u001b[0m",
      "\u001b[0;31mTypeError\u001b[0m                                 Traceback (most recent call last)",
      "Input \u001b[0;32mIn [69]\u001b[0m, in \u001b[0;36m<module>\u001b[0;34m\u001b[0m\n\u001b[1;32m     32\u001b[0m         p\u001b[38;5;241m.\u001b[39mprofile_callback()\n\u001b[1;32m     35\u001b[0m Common\u001b[38;5;241m.\u001b[39massignment()\n\u001b[0;32m---> 37\u001b[0m Rodger \u001b[38;5;241m=\u001b[39m \u001b[43mCommon\u001b[49m\u001b[43m(\u001b[49m\u001b[43m)\u001b[49m\n\u001b[1;32m     39\u001b[0m \u001b[38;5;28mprint\u001b[39m (Rodger\u001b[38;5;241m.\u001b[39mprofile_dir)\n",
      "\u001b[0;31mTypeError\u001b[0m: __init__() missing 1 required positional argument: 'name'"
     ]
    }
   ],
   "source": [
    "from dataclasses import dataclass\n",
    "import typer\n",
    "\n",
    "import os\n",
    "import yaml\n",
    "\n",
    "app = typer.Typer()\n",
    "\n",
    "\n",
    "@dataclass\n",
    "class Common:\n",
    "\n",
    "    def __init__(profile_dir, name):\n",
    "        profile_dir.name = name\n",
    "\n",
    "    @app.callback()\n",
    "    def profile_callback(##ctx: typer.Context,\n",
    "                        profile_dir: str = typer.Option(..., )):\n",
    "        \n",
    "        print('Hello, my name is', profile_dir.name)\n",
    "        \n",
    "        test = Common(\"test\")\n",
    "        \n",
    "        ##path = self.profile_dir\n",
    "        \n",
    "        ##ctx.obj = Common(profile_dir)\n",
    "\n",
    "        \n",
    "    def assignment():\n",
    "    \n",
    "        p = Common('directory')\n",
    "        p.profile_callback()\n",
    "\n",
    "\n",
    "Common.assignment()\n",
    "\n",
    "Rodger = Common()\n",
    "\n",
    "print (Rodger.profile_dir)\n"
   ]
  },
  {
   "cell_type": "code",
   "execution_count": 90,
   "id": "58bbcfd7",
   "metadata": {},
   "outputs": [
    {
     "name": "stdout",
     "output_type": "stream",
     "text": [
      "Hello, my name is Common(profile_dir='directory')\n"
     ]
    }
   ],
   "source": [
    "from dataclasses import dataclass\n",
    "import typer\n",
    "\n",
    "import os\n",
    "import yaml\n",
    "\n",
    "app = typer.Typer()\n",
    "\n",
    "\n",
    "@dataclass\n",
    "class Common:\n",
    "\n",
    "    profile_dir: str\n",
    "\n",
    "    @app.callback()\n",
    "    def profile_callback(##ctx: typer.Context,\n",
    "                        profile_dir: str = typer.Option(..., )):\n",
    "        \n",
    "        print('Hello, my name is', profile_dir)\n",
    "        \n",
    "        test = Common(\"test\")\n",
    "        \n",
    "        ##p = Common('directory')\n",
    "        ##p.profile_callback()\n",
    "        \n",
    "        ##path = self.profile_dir\n",
    "        \n",
    "        ##ctx.obj = Common(profile_dir)\n",
    "\n",
    "        \n",
    "    def assignment():\n",
    "    \n",
    "        p = Common('directory')\n",
    "        p.profile_callback()\n",
    "\n",
    "\n",
    "Common.assignment()\n",
    "\n",
    "\n"
   ]
  },
  {
   "cell_type": "code",
   "execution_count": null,
   "id": "a6563180",
   "metadata": {},
   "outputs": [],
   "source": []
  }
 ],
 "metadata": {
  "kernelspec": {
   "display_name": "Python 3 (ipykernel)",
   "language": "python",
   "name": "python3"
  },
  "language_info": {
   "codemirror_mode": {
    "name": "ipython",
    "version": 3
   },
   "file_extension": ".py",
   "mimetype": "text/x-python",
   "name": "python",
   "nbconvert_exporter": "python",
   "pygments_lexer": "ipython3",
   "version": "3.8.12"
  }
 },
 "nbformat": 4,
 "nbformat_minor": 5
}
