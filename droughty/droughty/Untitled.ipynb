{
 "cells": [
  {
   "cell_type": "code",
   "execution_count": 34,
   "id": "c7df87b5",
   "metadata": {},
   "outputs": [],
   "source": [
    "import markdown\n",
    "import sys\n",
    "\n",
    "\n",
    "def get_git_root(path):\n",
    "\n",
    "        git_repo = git.Repo(path, search_parent_directories=True)\n",
    "        git_root = git_repo.git.rev_parse(\"--show-toplevel\")\n",
    "        return (git_root)\n",
    "    \n",
    "    \n",
    "git_def_path = get_git_root(os.getcwd())\n",
    "\n",
    "git_path = git_def_path\n",
    "\n",
    "documents_path = 'warehouse_docs'\n",
    "\n",
    "filename = 'field_descriptions.md'\n",
    "\n",
    "droughty_project = os.path.join(git_path,documents_path,filename)\n",
    "\n",
    "with open(droughty_project) as f:\n",
    "    htmlmarkdown=markdown.markdown( f.read() )\n",
    "    "
   ]
  },
  {
   "cell_type": "code",
   "execution_count": 22,
   "id": "b686a5ff",
   "metadata": {},
   "outputs": [],
   "source": [
    "def get_next_words(text, match, sep=' '):\n",
    "    words = iter(text.split(sep))\n",
    "    for word in words:\n",
    "        if word == match:\n",
    "            yield next(words)\n",
    "            \n",
    "text = htmlmarkdown\n",
    "words = get_next_words(text, 'docs')\n",
    "\n",
    "described_columns_list = []\n",
    "\n",
    "for w in words:\n",
    "    \n",
    "    described_columns_list.append (w)"
   ]
  },
  {
   "cell_type": "code",
   "execution_count": 24,
   "id": "60e8fb50",
   "metadata": {},
   "outputs": [
    {
     "data": {
      "text/plain": [
       "'/Users/lewischarlesbaker/Documents/GitHub/droughty'"
      ]
     },
     "execution_count": 24,
     "metadata": {},
     "output_type": "execute_result"
    }
   ],
   "source": [
    "git_path"
   ]
  },
  {
   "cell_type": "code",
   "execution_count": 27,
   "id": "9098658a",
   "metadata": {},
   "outputs": [],
   "source": [
    "documents_path = 'docs'"
   ]
  },
  {
   "cell_type": "code",
   "execution_count": 30,
   "id": "bbea9c07",
   "metadata": {},
   "outputs": [
    {
     "name": "stdout",
     "output_type": "stream",
     "text": [
      "None\n"
     ]
    }
   ],
   "source": [
    "print(documents_path)"
   ]
  },
  {
   "cell_type": "code",
   "execution_count": 23,
   "id": "56d7cb90",
   "metadata": {},
   "outputs": [
    {
     "data": {
      "text/plain": [
       "['web_event_pk',\n",
       " 'web_event_session_fk',\n",
       " 'web_event_compound_key',\n",
       " 'web_event_row_no_per_session',\n",
       " 'web_event_bundle_sequence_natural_key',\n",
       " 'web_visitor_natural_key',\n",
       " 'web_user_natural_key',\n",
       " 'web_event_session_natural_key',\n",
       " 'web_event_vehicle_deal_natural_key',\n",
       " 'web_event_ecommerce_transaction_natural_key',\n",
       " 'web_event_data_source',\n",
       " 'web_event_session_number',\n",
       " 'web_event_name',\n",
       " 'web_event_page_type',\n",
       " 'web_event_page_location',\n",
       " 'web_event_page_title',\n",
       " 'web_event_page_referrer',\n",
       " 'web_event_page_referrer_ignore',\n",
       " 'web_event_entrance',\n",
       " 'web_event_link_text',\n",
       " 'web_event_link_domain',\n",
       " 'web_link_url',\n",
       " 'web_event_channel',\n",
       " 'web_event_source',\n",
       " 'web_event_medium',\n",
       " 'web_event_campaign',\n",
       " 'web_event_content',\n",
       " 'web_event_term',\n",
       " 'web_event_visitor_first_campaign',\n",
       " 'web_event_visitor_first_medium',\n",
       " 'web_event_visitor_first_source',\n",
       " 'web_event_device_category',\n",
       " 'web_event_device_mobile_brand_name',\n",
       " 'web_event_device_mobile_model_name',\n",
       " 'web_event_device_mobile_marketing_name',\n",
       " 'web_event_device_mobile_os_hardware_model',\n",
       " 'web_event_device_operating_system',\n",
       " 'web_event_device_operating_system_version',\n",
       " 'web_event_device_vendor_id',\n",
       " 'web_event_device_advertising_id',\n",
       " 'web_event_device_language',\n",
       " 'web_event_device_is_limited_ad_tracking',\n",
       " 'web_event_device_browser',\n",
       " 'web_event_device_browser_version',\n",
       " 'web_event_device_screen_resolution',\n",
       " 'web_event_page_hostname',\n",
       " 'web_event_geo_continent',\n",
       " 'web_event_geo_sub_continent',\n",
       " 'web_event_geo_country',\n",
       " 'web_event_geo_region',\n",
       " 'web_event_geo_metro',\n",
       " 'web_event_geo_city',\n",
       " 'web_event_cms_block_position',\n",
       " 'web_event_cms_slice_name',\n",
       " 'web_event_cms_slice_position',\n",
       " 'web_event_cms_component_name',\n",
       " 'web_event_cms_component_position',\n",
       " 'web_event_cms_component_title',\n",
       " 'web_event_cms_card_name',\n",
       " 'web_event_cms_card_position',\n",
       " 'web_event_cms_card_title',\n",
       " 'web_event_cms_clickable_element_name',\n",
       " 'web_event_cms_clickable_element_position',\n",
       " 'web_event_cms_clickable_element_title',\n",
       " 'web_event_enquiry_template',\n",
       " 'web_event_enquiry_topic',\n",
       " 'web_event_enquiry_category',\n",
       " 'web_event_enquiry_sub_category',\n",
       " 'web_event_error_type',\n",
       " 'web_event_error_details',\n",
       " 'web_event_purchase_type',\n",
       " 'web_event_content_type',\n",
       " 'web_event_search_type',\n",
       " 'web_event_search_term',\n",
       " 'web_event_debug_mode',\n",
       " 'web_event_outbound_link_click',\n",
       " 'web_event_engaged_session_event',\n",
       " 'web_event_privacy_info_ads_storage',\n",
       " 'web_event_privacy_info_analytics_storage',\n",
       " 'web_event_privacy_info_uses_transient_token',\n",
       " 'web_event_ecommerce_total_item_quantity',\n",
       " 'web_event_ecommerce_unique_items',\n",
       " 'web_event_value_in_usd',\n",
       " 'web_event_ecommerce_purchase_revenue_in_usd',\n",
       " 'web_event_ecommerce_purchase_revenue',\n",
       " 'web_event_ecommerce_refund_value_in_usd',\n",
       " 'web_event_ecommerce_refund_value',\n",
       " 'web_event_ecommerce_shipping_value_in_usd',\n",
       " 'web_event_ecommerce_shipping_value',\n",
       " 'web_event_ecommerce_tax_value_in_usd',\n",
       " 'web_event_ecommerce_tax_value',\n",
       " 'web_event_is_ga_engaged_session',\n",
       " 'web_event_server_timestamp_offset_ts',\n",
       " 'web_event_dt',\n",
       " 'web_event_ts',\n",
       " 'web_event_item_affiliation',\n",
       " 'web_event_item_body_type',\n",
       " 'web_event_item_brand']"
      ]
     },
     "execution_count": 23,
     "metadata": {},
     "output_type": "execute_result"
    }
   ],
   "source": [
    "described_columns_list"
   ]
  },
  {
   "cell_type": "code",
   "execution_count": null,
   "id": "762cea27",
   "metadata": {},
   "outputs": [],
   "source": []
  }
 ],
 "metadata": {
  "kernelspec": {
   "display_name": "Python 3 (ipykernel)",
   "language": "python",
   "name": "python3"
  },
  "language_info": {
   "codemirror_mode": {
    "name": "ipython",
    "version": 3
   },
   "file_extension": ".py",
   "mimetype": "text/x-python",
   "name": "python",
   "nbconvert_exporter": "python",
   "pygments_lexer": "ipython3",
   "version": "3.8.12"
  }
 },
 "nbformat": 4,
 "nbformat_minor": 5
}
