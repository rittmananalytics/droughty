{
 "cells": [
  {
   "cell_type": "code",
   "execution_count": 80,
   "id": "cdba7d77-c47a-46cb-9f38-68fd25c8c506",
   "metadata": {},
   "outputs": [],
   "source": [
    "import os\n",
    "import yaml\n",
    "\n",
    "from google.oauth2 import service_account\n",
    "import os\n",
    "import yaml\n",
    "import git\n",
    "\n",
    "## source vars\n",
    "\n",
    "path = os.path.expanduser('~')\n",
    "\n",
    "profile_pass = os.path.join(path,\".droughty/profile.yaml\")\n",
    "\n",
    "with open(profile_pass) as f:\n",
    "    lookml_config = yaml.load(f, Loader=yaml.FullLoader)\n",
    "\n",
    "def get_git_root(path):\n",
    "\n",
    "        git_repo = git.Repo(path, search_parent_directories=True)\n",
    "        git_root = git_repo.git.rev_parse(\"--show-toplevel\")\n",
    "        return (git_root)\n",
    "    \n",
    "    \n",
    "git_def_path = get_git_root(os.getcwd())\n",
    "\n",
    "git_path = git_def_path\n",
    "\n",
    "filename = 'droughty_project.yaml'\n",
    "\n",
    "droughty_project = os.path.join(git_path,filename)\n",
    "\n",
    "with open(droughty_project) as f:\n",
    "    enviroment_project = yaml.load(f, Loader=yaml.FullLoader)\n",
    "\n",
    "\n",
    "\n",
    "for key,value in enviroment_project.items():\n",
    "    \n",
    "    if key == 'profile':\n",
    "\n",
    "        if lookml_config[value]['warehouse_name'] == 'big_query':\n",
    "\n",
    "            if value in lookml_config:\n",
    "\n",
    "        ## global vars \n",
    "\n",
    "                warehouse_name =  lookml_config[value]['warehouse_name']\n",
    "                project_name =  lookml_config[value]['project_name']\n",
    "                schema_name =  lookml_config[value]['schema_name']\n",
    "                test_schemas = lookml_config[value]['test_schemas']\n",
    "                \n",
    "                warehouse_schema =   \"\"\"\n",
    "\n",
    "                with source as (\n",
    "\n",
    "                    select * from `{0}.{1}.INFORMATION_SCHEMA.COLUMN_FIELD_PATHS`\n",
    "\n",
    "                    )\n",
    "\n",
    "                    select * from source\n",
    "\n",
    "                \"\"\".format(project_name,schema_name)\n",
    "\n",
    "                dbml_reference_dict = \"\"\"\n",
    "\n",
    "\n",
    "                with source as (\n",
    "\n",
    "                select * from `{0}.{1}.INFORMATION_SCHEMA.COLUMN_FIELD_PATHS`\n",
    "\n",
    "                ),\n",
    "\n",
    "                    pks as (\n",
    "                    select \n",
    "                    table_name as pk_table_name,\n",
    "                    column_name as pk_column_name,\n",
    "                    trim(column_name, \"_pk\") as pk_sk,\n",
    "                    from source\n",
    "                    where column_name like '%pk%'\n",
    "                    ),\n",
    "\n",
    "                    fks as (\n",
    "                    select\n",
    "                    table_name as fk_table_name,\n",
    "                    column_name as fk_column_name,\n",
    "                    trim(column_name, \"_fk\") as fk_sk,\n",
    "                    from source\n",
    "                    where column_name like '%fk%'\n",
    "\n",
    "                    ),\n",
    "\n",
    "                    references as (\n",
    "                    select * from pks\n",
    "\n",
    "                    inner join fks on pks.pk_sk = fks.fk_sk\n",
    "\n",
    "                    )\n",
    "\n",
    "                    select \n",
    "                    \n",
    "                    *except (pk_column_name,pk_table_name),\n",
    "\n",
    "                    case when pk_column_name is null\n",
    "                        then 'not_available'\n",
    "                    else pk_column_name\n",
    "                    end as pk_column_name,\n",
    "\n",
    "                    case when pk_table_name is null\n",
    "                        then 'not_available'\n",
    "                    else pk_table_name\n",
    "                    end as pk_table_name                   \n",
    "                    from source\n",
    "\n",
    "                    left join references on source.column_name = references.fk_column_name and references.fk_table_name = source.table_name\n",
    "                \n",
    "                \"\"\".format(project_name,schema_name)\n",
    "\n",
    "        elif lookml_config[value]['warehouse_name'] == 'snowflake':\n",
    "            \n",
    "            if value in lookml_config:\n",
    "\n",
    "                warehouse_name =  lookml_config[value]['warehouse_name']\n",
    "                project_name =  lookml_config[value]['project_name']\n",
    "                schema_name =  lookml_config[value]['schema_name']\n",
    "                test_schemas = lookml_config[value]['test_schemas']\n",
    "                database = lookml_config[value]['database']\n",
    "\n",
    "                snowflake_schema = '''\n",
    "\n",
    "                select * from {0}.information_schema.columns;\n",
    "\n",
    "                '''.format(database)\n",
    "\n",
    "    ## warehouse test schemas\n",
    "\n",
    "test_warehouse_schema =   \"\"\"\n",
    "\n",
    "        with source_1 as (\n",
    "\n",
    "            select * from `{0}.{1}.INFORMATION_SCHEMA.COLUMNS`\n",
    "\n",
    "            ),\n",
    "\n",
    "        source_2 as (\n",
    "\n",
    "        select * from `{0}.{2}.INFORMATION_SCHEMA.COLUMNS`\n",
    "        \n",
    "        ),\n",
    "        \n",
    "        source_3 as (\n",
    "\n",
    "        select * from `{0}.{3}.INFORMATION_SCHEMA.COLUMNS`\n",
    "        \n",
    "        ),\n",
    "        \n",
    "        unioned as (\n",
    "\n",
    "        select * from source_1\n",
    "        \n",
    "        union all\n",
    "        \n",
    "        select * from source_2\n",
    "        \n",
    "        union all\n",
    "        \n",
    "        select * from source_3\n",
    "        \n",
    "        )\n",
    "\n",
    "        select * from unioned\n",
    "\n",
    "\"\"\".format(project_name,test_schemas[0],test_schemas[1],test_schemas[2])\n",
    "\n",
    "explores = (enviroment_project.get(\"explores\"))\n",
    "\n",
    "\n",
    "explore_tables = []\n",
    "\n",
    "for key,value in explores.items():\n",
    "\n",
    "    for key,value in value.items():\n",
    "\n",
    "        explore_tables.append(value)\n",
    "        \n",
    "single_list_tables = [i[0] for i in explore_tables]\n",
    "        \n",
    "lookml_explore_schema =     \"\"\"\n",
    "\n",
    "\n",
    "                        with source as (\n",
    "\n",
    "                        select * from `{0}.{1}.INFORMATION_SCHEMA.COLUMN_FIELD_PATHS`\n",
    "\n",
    "                        where table_name in ('{2}','{3}','{4}')\n",
    "\n",
    "                        ),\n",
    "\n",
    "                        pks as (\n",
    "                            select \n",
    "                            table_name as pk_table_name,\n",
    "                            column_name as pk_column_name,\n",
    "                            trim(column_name, \"_pk\") as pk_sk,\n",
    "                            from source\n",
    "                            where column_name like '%pk%'\n",
    "                            ),\n",
    "\n",
    "                            fks as (\n",
    "                            select\n",
    "                            table_name as fk_table_name,\n",
    "                            column_name as fk_column_name,\n",
    "                            trim(column_name, \"_fk\") as fk_sk,\n",
    "                            from source\n",
    "                            where column_name like '%fk%'\n",
    "\n",
    "                            )\n",
    "\n",
    "\n",
    "                            select \n",
    "\n",
    "                            pk_table_name,\n",
    "                            pk_column_name,\n",
    "                            fk_table_name,\n",
    "                            pk_table_name as pk_table_name_value,\n",
    "                            fk_column_name\n",
    "                            from pks\n",
    "\n",
    "                            inner join fks on pks.pk_sk = fks.fk_sk\n",
    "\n",
    "\n",
    "\n",
    "        \"\"\".format(project_name,schema_name,single_list_tables[0],single_list_tables[1],single_list_tables[2])"
   ]
  },
  {
   "cell_type": "code",
   "execution_count": 81,
   "id": "5ab75b76-2b33-42a6-b30f-d4a383dec817",
   "metadata": {},
   "outputs": [
    {
     "data": {
      "text/plain": [
       "'\\n\\n\\n                        with source as (\\n\\n                        select * from `ra-development.jordan_analytics_dev.INFORMATION_SCHEMA.COLUMN_FIELD_PATHS`\\n\\n                        where table_name in (\\'wh_web_events_fact\\',\\'wh_website_users_dim\\',\\'wh_website_pages_fact\\')\\n\\n                        ),\\n\\n                        pks as (\\n                            select \\n                            table_name as pk_table_name,\\n                            column_name as pk_column_name,\\n                            trim(column_name, \"_pk\") as pk_sk,\\n                            from source\\n                            where column_name like \\'%pk%\\'\\n                            ),\\n\\n                            fks as (\\n                            select\\n                            table_name as fk_table_name,\\n                            column_name as fk_column_name,\\n                            trim(column_name, \"_fk\") as fk_sk,\\n                            from source\\n                            where column_name like \\'%fk%\\'\\n\\n                            )\\n\\n\\n                            select \\n\\n                            pk_table_name,\\n                            pk_column_name,\\n                            fk_table_name,\\n                            pk_table_name as pk_table_name_value,\\n                            fk_column_name\\n                            from pks\\n\\n                            inner join fks on pks.pk_sk = fks.fk_sk\\n\\n\\n\\n        '"
      ]
     },
     "execution_count": 81,
     "metadata": {},
     "output_type": "execute_result"
    }
   ],
   "source": [
    "lookml_explore_schema"
   ]
  },
  {
   "cell_type": "code",
   "execution_count": 6,
   "id": "01160e04-c443-4dfd-9779-f64c9739020a",
   "metadata": {},
   "outputs": [
    {
     "name": "stdout",
     "output_type": "stream",
     "text": [
      "['wh_web_events_fact']\n",
      "['wh_website_users_dim']\n",
      "['wh_website_pages_fact']\n"
     ]
    }
   ],
   "source": [
    "for key,value in explores.items():\n",
    "\n",
    "    for key,value in value.items():\n",
    "        \n",
    "        print(value)"
   ]
  },
  {
   "cell_type": "code",
   "execution_count": 72,
   "id": "4661bf45-ba02-4583-92e2-c80b55f6130d",
   "metadata": {},
   "outputs": [],
   "source": [
    "explore_tables = []\n",
    "\n",
    "for key,value in explores.items():\n",
    "    \n",
    "    for key,value in value.items():\n",
    "\n",
    "        explore_tables.append(value)"
   ]
  },
  {
   "cell_type": "code",
   "execution_count": 73,
   "id": "01cc66f0-b4f8-496f-945f-de1c92fcb81b",
   "metadata": {},
   "outputs": [
    {
     "data": {
      "text/plain": [
       "[['wh_web_events_fact'], ['wh_website_users_dim'], ['wh_website_pages_fact']]"
      ]
     },
     "execution_count": 73,
     "metadata": {},
     "output_type": "execute_result"
    }
   ],
   "source": [
    "explore_tables"
   ]
  },
  {
   "cell_type": "code",
   "execution_count": 30,
   "id": "164bbea1-e70f-49be-aa61-f2f1a61a422e",
   "metadata": {},
   "outputs": [
    {
     "data": {
      "text/plain": [
       "'\\n\\n        with source_1 as (\\n\\n            select * from `ra-development.jordan_analytics_dev_staging.INFORMATION_SCHEMA.COLUMNS`\\n\\n            ),\\n\\n        source_2 as (\\n\\n        select * from `ra-development.jordan_analytics_dev_integration.INFORMATION_SCHEMA.COLUMNS`\\n        \\n        ),\\n        \\n        source_3 as (\\n\\n        select * from `ra-development.jordan_analytics_dev.INFORMATION_SCHEMA.COLUMNS`\\n        \\n        ),\\n        \\n        unioned as (\\n\\n        select * from source_1\\n        \\n        union all\\n        \\n        select * from source_2\\n        \\n        union all\\n        \\n        select * from source_3\\n        \\n        )\\n\\n        select * from unioned\\n\\n'"
      ]
     },
     "execution_count": 30,
     "metadata": {},
     "output_type": "execute_result"
    }
   ],
   "source": [
    "test_warehouse_schema"
   ]
  },
  {
   "cell_type": "code",
   "execution_count": 57,
   "id": "9c4d8269-2df5-48f3-baef-1e9aa23b012d",
   "metadata": {},
   "outputs": [],
   "source": [
    "looker_explores = enviroment_project['explores']"
   ]
  },
  {
   "cell_type": "code",
   "execution_count": 58,
   "id": "7f6429a3-402c-4f3e-b6a2-f499f024b567",
   "metadata": {},
   "outputs": [
    {
     "data": {
      "text/plain": [
       "{'sales_explore': {'parent_table': ['wh_web_events_fact',\n",
       "   'wh_website_users_dim',\n",
       "   'wh_website_pages_fact']}}"
      ]
     },
     "execution_count": 58,
     "metadata": {},
     "output_type": "execute_result"
    }
   ],
   "source": [
    "looker_explores"
   ]
  },
  {
   "cell_type": "code",
   "execution_count": 48,
   "id": "c612a719-90de-4c83-9ad4-841efbc13149",
   "metadata": {},
   "outputs": [
    {
     "data": {
      "text/plain": [
       "['jordan_analytics_dev_staging',\n",
       " 'jordan_analytics_dev_integration',\n",
       " 'jordan_analytics_dev']"
      ]
     },
     "execution_count": 48,
     "metadata": {},
     "output_type": "execute_result"
    }
   ],
   "source": [
    "test_schemas"
   ]
  },
  {
   "cell_type": "code",
   "execution_count": 52,
   "id": "43afed20-fd43-43e0-95a6-33a14b04e13b",
   "metadata": {},
   "outputs": [],
   "source": [
    "explore_tables = []\n",
    "\n",
    "for key,value in explores.items():\n",
    "\n",
    "    for key,value in value.items():\n",
    "\n",
    "        explore_tables.append(value)"
   ]
  },
  {
   "cell_type": "code",
   "execution_count": 74,
   "id": "d3a63782-985b-4206-bbad-4bc95cb45824",
   "metadata": {},
   "outputs": [
    {
     "data": {
      "text/plain": [
       "['wh_web_events_fact']"
      ]
     },
     "execution_count": 74,
     "metadata": {},
     "output_type": "execute_result"
    }
   ],
   "source": [
    "explore_tables[0]"
   ]
  },
  {
   "cell_type": "code",
   "execution_count": 75,
   "id": "258e40ad-fe03-41d8-a411-03da95ffab06",
   "metadata": {},
   "outputs": [
    {
     "data": {
      "text/plain": [
       "'jordan_analytics_dev_staging'"
      ]
     },
     "execution_count": 75,
     "metadata": {},
     "output_type": "execute_result"
    }
   ],
   "source": [
    "test_schemas[0]"
   ]
  },
  {
   "cell_type": "code",
   "execution_count": 76,
   "id": "a0e77f23-08dc-4ab5-8b06-5fc0bd08fce6",
   "metadata": {},
   "outputs": [
    {
     "name": "stdout",
     "output_type": "stream",
     "text": [
      "['wh_web_events_fact', 'wh_website_users_dim', 'wh_website_pages_fact']\n"
     ]
    }
   ],
   "source": [
    "newest = [i[0] for i in explore_tables]\n",
    "print(newest)"
   ]
  },
  {
   "cell_type": "code",
   "execution_count": 77,
   "id": "48747467-657d-4b50-956d-cd87d623e9a4",
   "metadata": {},
   "outputs": [
    {
     "data": {
      "text/plain": [
       "'wh_web_events_fact'"
      ]
     },
     "execution_count": 77,
     "metadata": {},
     "output_type": "execute_result"
    }
   ],
   "source": [
    "newest[0]"
   ]
  },
  {
   "cell_type": "code",
   "execution_count": null,
   "id": "ac0004d5-93d7-4a5c-9f9e-40e3d8e73f13",
   "metadata": {},
   "outputs": [],
   "source": []
  }
 ],
 "metadata": {
  "kernelspec": {
   "display_name": "Python 3 (ipykernel)",
   "language": "python",
   "name": "python3"
  },
  "language_info": {
   "codemirror_mode": {
    "name": "ipython",
    "version": 3
   },
   "file_extension": ".py",
   "mimetype": "text/x-python",
   "name": "python",
   "nbconvert_exporter": "python",
   "pygments_lexer": "ipython3",
   "version": "3.8.12"
  }
 },
 "nbformat": 4,
 "nbformat_minor": 5
}
