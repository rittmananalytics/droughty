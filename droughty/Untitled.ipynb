{
 "cells": [
  {
   "cell_type": "code",
   "execution_count": 55,
   "id": "0a9000af",
   "metadata": {},
   "outputs": [],
   "source": [
    "import yaml\n",
    "\n",
    "with open('/Users/lewischarlesbaker/.droughty/droughty_project_sytner.yaml', 'r') as file:\n",
    "    d = yaml.safe_load(file)"
   ]
  },
  {
   "cell_type": "code",
   "execution_count": 56,
   "id": "28817f5a",
   "metadata": {},
   "outputs": [
    {
     "data": {
      "text/plain": [
       "{'profile': 'sytner',\n",
       " 'dimensional_inference': 'disabled',\n",
       " 'field_description_path': 'warehouse_docs',\n",
       " 'field_description_file_name': 'field_descriptions.md',\n",
       " 'explores': None,\n",
       " 'test_schemas': ['amir_analytics_dev_staging',\n",
       "  'amir_analytics_dev_integration',\n",
       "  'amir_analytics_dev'],\n",
       " 'ignore_tests': {'models': {'wh_marketing__web_event_items_fact': {'columns': {'web_event_item_pk': {'tests': ['not null',\n",
       "       'unique']}}}}},\n",
       " 'dbml_schemas': ['amir_analytics_dev_staging',\n",
       "  'amir_analytics_dev_integration',\n",
       "  'amir_analytics_dev'],\n",
       " 'lookml_pop': {'views': None}}"
      ]
     },
     "execution_count": 56,
     "metadata": {},
     "output_type": "execute_result"
    }
   ],
   "source": [
    "d"
   ]
  },
  {
   "cell_type": "code",
   "execution_count": 57,
   "id": "cbb43afe",
   "metadata": {},
   "outputs": [],
   "source": [
    "ignore_tests = (d.get(\"ignore_tests\"))"
   ]
  },
  {
   "cell_type": "code",
   "execution_count": 58,
   "id": "daa28bb1",
   "metadata": {},
   "outputs": [
    {
     "data": {
      "text/plain": [
       "{'models': {'wh_marketing__web_event_items_fact': {'columns': {'web_event_item_pk': {'tests': ['not null',\n",
       "      'unique']}}}}}"
      ]
     },
     "execution_count": 58,
     "metadata": {},
     "output_type": "execute_result"
    }
   ],
   "source": [
    "ignore_tests"
   ]
  },
  {
   "cell_type": "code",
   "execution_count": 63,
   "id": "b60a10b3",
   "metadata": {},
   "outputs": [
    {
     "data": {
      "text/plain": [
       "dict"
      ]
     },
     "execution_count": 63,
     "metadata": {},
     "output_type": "execute_result"
    }
   ],
   "source": [
    "type(ignore_tests)"
   ]
  },
  {
   "cell_type": "code",
   "execution_count": 31,
   "id": "f5845ca4",
   "metadata": {},
   "outputs": [],
   "source": [
    "d = {'name':'j','surname': ['g','g']}"
   ]
  },
  {
   "cell_type": "code",
   "execution_count": 32,
   "id": "54eb5425",
   "metadata": {},
   "outputs": [
    {
     "data": {
      "text/plain": [
       "{'name': 'j', 'surname': ['g', 'g']}"
      ]
     },
     "execution_count": 32,
     "metadata": {},
     "output_type": "execute_result"
    }
   ],
   "source": [
    "d"
   ]
  },
  {
   "cell_type": "code",
   "execution_count": 62,
   "id": "bd72ead6",
   "metadata": {},
   "outputs": [
    {
     "data": {
      "text/plain": [
       "dict"
      ]
     },
     "execution_count": 62,
     "metadata": {},
     "output_type": "execute_result"
    }
   ],
   "source": [
    "type(d)"
   ]
  },
  {
   "cell_type": "code",
   "execution_count": 74,
   "id": "5cbca18f",
   "metadata": {},
   "outputs": [],
   "source": [
    "\n",
    "\n",
    "def test ():\n",
    "    \n",
    "    for key, value in ignore_tests.items():\n",
    "\n",
    "        for key1 in value.items():\n",
    "\n",
    "            return (key1)\n",
    "        \n",
    "test_2 = test()\n"
   ]
  },
  {
   "cell_type": "code",
   "execution_count": 75,
   "id": "12ae64c4",
   "metadata": {},
   "outputs": [
    {
     "name": "stdout",
     "output_type": "stream",
     "text": [
      "('wh_marketing__web_event_items_fact', {'columns': {'web_event_item_pk': {'tests': ['not null', 'unique']}}})\n"
     ]
    }
   ],
   "source": [
    "print(test_2)"
   ]
  },
  {
   "cell_type": "code",
   "execution_count": 36,
   "id": "e0cc6d0d",
   "metadata": {},
   "outputs": [
    {
     "name": "stdout",
     "output_type": "stream",
     "text": [
      "[{'wh_marketing__web_event_items_fact': [{'columns': {'web_event_item_pk': {'tests': ['not null', 'unique']}}}]}]\n"
     ]
    }
   ],
   "source": [
    "for dic in ignore_tests:\n",
    "    for key in dic:\n",
    "        print(dic[key])"
   ]
  },
  {
   "cell_type": "code",
   "execution_count": 38,
   "id": "b17ab52e",
   "metadata": {},
   "outputs": [
    {
     "ename": "TypeError",
     "evalue": "'list' object is not callable",
     "output_type": "error",
     "traceback": [
      "\u001b[0;31m---------------------------------------------------------------------------\u001b[0m",
      "\u001b[0;31mTypeError\u001b[0m                                 Traceback (most recent call last)",
      "Input \u001b[0;32mIn [38]\u001b[0m, in \u001b[0;36m<module>\u001b[0;34m\u001b[0m\n\u001b[0;32m----> 1\u001b[0m output \u001b[38;5;241m=\u001b[39m \u001b[43mignore_tests\u001b[49m\u001b[43m(\u001b[49m\u001b[38;5;28;43mdict\u001b[39;49m\u001b[43m)\u001b[49m\n\u001b[1;32m      3\u001b[0m \u001b[38;5;28;01mfor\u001b[39;00m person \u001b[38;5;129;01min\u001b[39;00m people:\n\u001b[1;32m      4\u001b[0m     output[person[\u001b[38;5;124m'\u001b[39m\u001b[38;5;124mName\u001b[39m\u001b[38;5;124m'\u001b[39m]][person[\u001b[38;5;124m'\u001b[39m\u001b[38;5;124mAttribute\u001b[39m\u001b[38;5;124m'\u001b[39m]] \u001b[38;5;241m=\u001b[39m person[\u001b[38;5;124m'\u001b[39m\u001b[38;5;124mValue\u001b[39m\u001b[38;5;124m'\u001b[39m]\n",
      "\u001b[0;31mTypeError\u001b[0m: 'list' object is not callable"
     ]
    }
   ],
   "source": [
    "output = ignore_tests(dict)\n",
    "\n",
    "for person in people:\n",
    "    output[person['Name']][person['Attribute']] = person['Value']"
   ]
  },
  {
   "cell_type": "code",
   "execution_count": 41,
   "id": "e31fb5cb",
   "metadata": {},
   "outputs": [],
   "source": [
    "import pandas as pd\n",
    "test = pd.DataFrame(ignore_tests).to_dict(orient=\"records\")"
   ]
  },
  {
   "cell_type": "code",
   "execution_count": 42,
   "id": "19e7ca00",
   "metadata": {},
   "outputs": [
    {
     "data": {
      "text/plain": [
       "[{'models': [{'wh_marketing__web_event_items_fact': [{'columns': {'web_event_item_pk': {'tests': ['not null',\n",
       "         'unique']}}}]}]}]"
      ]
     },
     "execution_count": 42,
     "metadata": {},
     "output_type": "execute_result"
    }
   ],
   "source": [
    "test"
   ]
  },
  {
   "cell_type": "code",
   "execution_count": 43,
   "id": "2ccdc313",
   "metadata": {},
   "outputs": [],
   "source": [
    "nd={}\n",
    "for d in ignore_tests:\n",
    "    for k,v in d.items():\n",
    "        try:\n",
    "            nd[k].append(v)\n",
    "        except KeyError:\n",
    "            nd[k]=[v]"
   ]
  },
  {
   "cell_type": "code",
   "execution_count": 44,
   "id": "278c051c",
   "metadata": {},
   "outputs": [
    {
     "data": {
      "text/plain": [
       "{'models': [[{'wh_marketing__web_event_items_fact': [{'columns': {'web_event_item_pk': {'tests': ['not null',\n",
       "         'unique']}}}]}]]}"
      ]
     },
     "execution_count": 44,
     "metadata": {},
     "output_type": "execute_result"
    }
   ],
   "source": [
    "nd"
   ]
  },
  {
   "cell_type": "code",
   "execution_count": 50,
   "id": "128f8047",
   "metadata": {},
   "outputs": [
    {
     "ename": "SyntaxError",
     "evalue": "invalid syntax (3276067978.py, line 3)",
     "output_type": "error",
     "traceback": [
      "\u001b[0;36m  Input \u001b[0;32mIn [50]\u001b[0;36m\u001b[0m\n\u001b[0;31m    for key1 in value.items[]:\u001b[0m\n\u001b[0m                            ^\u001b[0m\n\u001b[0;31mSyntaxError\u001b[0m\u001b[0;31m:\u001b[0m invalid syntax\n"
     ]
    }
   ],
   "source": [
    "for key, value in nd.items():\n",
    "    \n",
    "    for key1 in value.items[]:\n",
    "\n",
    "        print (value)"
   ]
  },
  {
   "cell_type": "code",
   "execution_count": 47,
   "id": "168f835a",
   "metadata": {},
   "outputs": [
    {
     "data": {
      "text/plain": [
       "dict"
      ]
     },
     "execution_count": 47,
     "metadata": {},
     "output_type": "execute_result"
    }
   ],
   "source": [
    "type(nd)"
   ]
  },
  {
   "cell_type": "code",
   "execution_count": null,
   "id": "9f43859f",
   "metadata": {},
   "outputs": [],
   "source": []
  }
 ],
 "metadata": {
  "kernelspec": {
   "display_name": "Python 3 (ipykernel)",
   "language": "python",
   "name": "python3"
  },
  "language_info": {
   "codemirror_mode": {
    "name": "ipython",
    "version": 3
   },
   "file_extension": ".py",
   "mimetype": "text/x-python",
   "name": "python",
   "nbconvert_exporter": "python",
   "pygments_lexer": "ipython3",
   "version": "3.8.12"
  }
 },
 "nbformat": 4,
 "nbformat_minor": 5
}
