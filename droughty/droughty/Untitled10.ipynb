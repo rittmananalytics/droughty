{
 "cells": [
  {
   "cell_type": "code",
   "execution_count": 15,
   "id": "cc4f8c2a-0acc-40e2-bd1f-6d1fe2bef14c",
   "metadata": {},
   "outputs": [],
   "source": [
    "import os\n",
    "import yaml\n",
    "\n",
    "from google.oauth2 import service_account\n",
    "import os\n",
    "import yaml\n",
    "import git\n",
    "\n",
    "## source vars\n",
    "\n",
    "path = os.path.expanduser('~')\n",
    "\n",
    "profile_pass = os.path.join(path,\".droughty/profile.yaml\")\n",
    "\n",
    "with open(profile_pass) as f:\n",
    "    lookml_config = yaml.load(f, Loader=yaml.FullLoader)\n",
    "\n",
    "def get_git_root(path):\n",
    "\n",
    "        git_repo = git.Repo(path, search_parent_directories=True)\n",
    "        git_root = git_repo.git.rev_parse(\"--show-toplevel\")\n",
    "        return (git_root)\n",
    "    \n",
    "    \n",
    "git_def_path = get_git_root(os.getcwd())\n",
    "\n",
    "git_path = git_def_path\n",
    "\n",
    "filename = 'droughty_project.yaml'\n",
    "\n",
    "droughty_project = os.path.join(git_path,filename)\n",
    "\n",
    "with open(droughty_project) as f:\n",
    "    enviroment_project = yaml.load(f, Loader=yaml.FullLoader)\n",
    "\n",
    "for key,value in enviroment_project.items():\n",
    "    \n",
    "    if key == 'profile':\n",
    "\n",
    "        if lookml_config[value]['warehouse_name'] == 'big_query':\n",
    "\n",
    "            if value in lookml_config:\n",
    "\n",
    "            ## global vars \n",
    "\n",
    "                warehouse_name =  lookml_config[value]['warehouse_name']\n",
    "                project_name =  lookml_config[value]['project_name']\n",
    "                schema_name =  lookml_config[value]['schema_name']\n",
    "                test_schemas = lookml_config[value]['test_schemas']\n",
    "                \n",
    "explores = (enviroment_project.get(\"explores\"))\n",
    "\n",
    "list = []\n",
    "\n",
    "for key,value in explores.items():\n",
    "\n",
    "    for key,value in value.items():\n",
    "\n",
    "        list.append(value)\n",
    "        \n",
    "lookml_explore_schema =     \"\"\"\n",
    "\n",
    "\n",
    "        select * from {0}.information_schema.columns\n",
    "\n",
    "        where table_name in ('{1}','{2}','{3}') \n",
    "\n",
    "\n",
    "\"\"\".format(project_name,list[0],list[1],list[2])"
   ]
  },
  {
   "cell_type": "code",
   "execution_count": 16,
   "id": "8bb914f2-2267-4526-9670-698d30f336e4",
   "metadata": {},
   "outputs": [
    {
     "data": {
      "text/plain": [
       "\"\\n\\n\\n        select * from client-kaplan-poc.information_schema.columns\\n\\n        where table_name in ('['wh_web_events_fact']','['wh_website_users_dim']','['wh_website_pages_fact']') \\n\\n\\n\""
      ]
     },
     "execution_count": 16,
     "metadata": {},
     "output_type": "execute_result"
    }
   ],
   "source": [
    "lookml_explore_schema"
   ]
  },
  {
   "cell_type": "code",
   "execution_count": 5,
   "id": "9295ec47-fe6f-4a40-a4a3-60367e4b3e2f",
   "metadata": {},
   "outputs": [
    {
     "data": {
      "text/plain": [
       "[['wh_web_events_fact'], ['wh_website_users_dim'], ['wh_website_pages_fact']]"
      ]
     },
     "execution_count": 5,
     "metadata": {},
     "output_type": "execute_result"
    }
   ],
   "source": [
    "list"
   ]
  },
  {
   "cell_type": "code",
   "execution_count": 47,
   "id": "b9cc4fd2-5821-412c-bf6a-e00eda2e8532",
   "metadata": {},
   "outputs": [],
   "source": [
    "list = []\n",
    "\n",
    "for key,value in explores.items():\n",
    "\n",
    "    for key,value in value.items():\n",
    "\n",
    "        list.append(value)"
   ]
  },
  {
   "cell_type": "code",
   "execution_count": 48,
   "id": "2fbf502e-756f-4691-bf93-ef67fda54748",
   "metadata": {},
   "outputs": [
    {
     "data": {
      "text/plain": [
       "[['wh_web_events_fact'], ['wh_website_users_dim'], ['wh_website_pages_fact']]"
      ]
     },
     "execution_count": 48,
     "metadata": {},
     "output_type": "execute_result"
    }
   ],
   "source": [
    "list"
   ]
  },
  {
   "cell_type": "code",
   "execution_count": 9,
   "id": "3f967744-a424-4851-a80f-66b1a9347658",
   "metadata": {},
   "outputs": [
    {
     "data": {
      "text/plain": [
       "list"
      ]
     },
     "execution_count": 9,
     "metadata": {},
     "output_type": "execute_result"
    }
   ],
   "source": [
    "type(list)"
   ]
  },
  {
   "cell_type": "code",
   "execution_count": 10,
   "id": "9fb6e54e-c430-4a0a-bd03-a8a5f5b2c4b2",
   "metadata": {},
   "outputs": [
    {
     "data": {
      "text/plain": [
       "list"
      ]
     },
     "execution_count": 10,
     "metadata": {},
     "output_type": "execute_result"
    }
   ],
   "source": [
    "type(test_schemas)"
   ]
  },
  {
   "cell_type": "code",
   "execution_count": 49,
   "id": "2040ad7f-7c04-4bd7-8ff9-c1aa8acbaddc",
   "metadata": {},
   "outputs": [],
   "source": [
    "profile_targets = []\n",
    "\n",
    "for key in explores.keys():\n",
    "\n",
    "    profile_targets.append(key)"
   ]
  },
  {
   "cell_type": "code",
   "execution_count": 50,
   "id": "1d691e73-bccc-4f28-8703-31202a1677ed",
   "metadata": {},
   "outputs": [
    {
     "data": {
      "text/plain": [
       "['sales_explore']"
      ]
     },
     "execution_count": 50,
     "metadata": {},
     "output_type": "execute_result"
    }
   ],
   "source": [
    "profile_targets"
   ]
  },
  {
   "cell_type": "code",
   "execution_count": 30,
   "id": "64d62b33-d707-4327-a484-130d8f5aa341",
   "metadata": {},
   "outputs": [],
   "source": [
    "d_items = enviroment_project.items()"
   ]
  },
  {
   "cell_type": "code",
   "execution_count": 31,
   "id": "e98727a7-7c6b-4b4e-ae83-3f6cec191426",
   "metadata": {},
   "outputs": [
    {
     "data": {
      "text/plain": [
       "dict_items([('profile', 'kaplan_poc'), ('explores', {'sales_explore': {'parent_table': ['wh_web_events_fact'], 'dimensions': ['wh_website_users_dim'], 'facts': ['wh_website_pages_fact']}})])"
      ]
     },
     "execution_count": 31,
     "metadata": {},
     "output_type": "execute_result"
    }
   ],
   "source": [
    "d_items"
   ]
  },
  {
   "cell_type": "code",
   "execution_count": 32,
   "id": "4dfeb876-e9e3-420c-9ffd-3dbd4ca035f1",
   "metadata": {},
   "outputs": [
    {
     "name": "stdout",
     "output_type": "stream",
     "text": [
      "('profile', 'kaplan_poc')\n",
      "('explores', {'sales_explore': {'parent_table': ['wh_web_events_fact'], 'dimensions': ['wh_website_users_dim'], 'facts': ['wh_website_pages_fact']}})\n"
     ]
    }
   ],
   "source": [
    "for item in enviroment_project.items():\n",
    "    print(item)"
   ]
  },
  {
   "cell_type": "code",
   "execution_count": 33,
   "id": "fc9d1295-2682-474a-b7ed-4fee027fe964",
   "metadata": {},
   "outputs": [
    {
     "name": "stdout",
     "output_type": "stream",
     "text": [
      "kaplan_poc\n",
      "{'sales_explore': {'parent_table': ['wh_web_events_fact'], 'dimensions': ['wh_website_users_dim'], 'facts': ['wh_website_pages_fact']}}\n"
     ]
    }
   ],
   "source": [
    "for value in enviroment_project.values():\n",
    "    print(value)"
   ]
  },
  {
   "cell_type": "code",
   "execution_count": 3,
   "id": "293aa3f6-2321-402f-8621-f5678ad2e3d7",
   "metadata": {},
   "outputs": [
    {
     "data": {
      "text/plain": [
       "'big_query'"
      ]
     },
     "execution_count": 3,
     "metadata": {},
     "output_type": "execute_result"
    }
   ],
   "source": [
    "warehouse_name"
   ]
  },
  {
   "cell_type": "code",
   "execution_count": 38,
   "id": "89399732-43d3-4e94-bea1-39b627831d79",
   "metadata": {},
   "outputs": [
    {
     "data": {
      "text/plain": [
       "'client-kaplan-poc'"
      ]
     },
     "execution_count": 38,
     "metadata": {},
     "output_type": "execute_result"
    }
   ],
   "source": [
    "project_name"
   ]
  },
  {
   "cell_type": "code",
   "execution_count": 39,
   "id": "a3fd5403-77f0-4207-b2e5-d6a35fe08e9a",
   "metadata": {},
   "outputs": [
    {
     "data": {
      "text/plain": [
       "['lewis_analytics_dev_staging',\n",
       " 'lewis_analytics_dev_integration',\n",
       " 'lewis_analytics_dev']"
      ]
     },
     "execution_count": 39,
     "metadata": {},
     "output_type": "execute_result"
    }
   ],
   "source": [
    "test_schemas"
   ]
  },
  {
   "cell_type": "code",
   "execution_count": 4,
   "id": "a8b9a363-f100-41dd-b032-2b5877d18d32",
   "metadata": {},
   "outputs": [
    {
     "data": {
      "text/plain": [
       "'big_query'"
      ]
     },
     "execution_count": 4,
     "metadata": {},
     "output_type": "execute_result"
    }
   ],
   "source": [
    "warehouse_name"
   ]
  },
  {
   "cell_type": "code",
   "execution_count": 12,
   "id": "452ae089-d0cf-4211-b5a1-4126896b6068",
   "metadata": {},
   "outputs": [
    {
     "data": {
      "text/plain": [
       "\"\\n\\n\\n        select * from client-kaplan-poc.information_schema.columns\\n\\n        where table_name in ('client-kaplan-poc','['wh_web_events_fact']','['wh_website_users_dim']') \\n\\n\\n\""
      ]
     },
     "execution_count": 12,
     "metadata": {},
     "output_type": "execute_result"
    }
   ],
   "source": [
    "lookml_explore_schema"
   ]
  },
  {
   "cell_type": "code",
   "execution_count": 13,
   "id": "d8556771-5935-4855-aa26-cb1db69258a4",
   "metadata": {},
   "outputs": [
    {
     "ename": "TypeError",
     "evalue": "'list' object is not callable",
     "output_type": "error",
     "traceback": [
      "\u001b[0;31m---------------------------------------------------------------------------\u001b[0m",
      "\u001b[0;31mTypeError\u001b[0m                                 Traceback (most recent call last)",
      "Input \u001b[0;32mIn [13]\u001b[0m, in \u001b[0;36m<module>\u001b[0;34m\u001b[0m\n\u001b[0;32m----> 1\u001b[0m profile_key \u001b[38;5;241m=\u001b[39m \u001b[38;5;28;43mlist\u001b[39;49m\u001b[43m(\u001b[49m\u001b[43menviroment_project\u001b[49m\u001b[38;5;241;43m.\u001b[39;49m\u001b[43mkeys\u001b[49m\u001b[43m(\u001b[49m\u001b[43m)\u001b[49m\u001b[43m)\u001b[49m\n",
      "\u001b[0;31mTypeError\u001b[0m: 'list' object is not callable"
     ]
    }
   ],
   "source": [
    "profile_key = list(enviroment_project.keys())"
   ]
  },
  {
   "cell_type": "code",
   "execution_count": null,
   "id": "58419bb8-7c9a-4b8b-bc97-75a15cf59e8c",
   "metadata": {},
   "outputs": [],
   "source": []
  }
 ],
 "metadata": {
  "kernelspec": {
   "display_name": "Python 3 (ipykernel)",
   "language": "python",
   "name": "python3"
  },
  "language_info": {
   "codemirror_mode": {
    "name": "ipython",
    "version": 3
   },
   "file_extension": ".py",
   "mimetype": "text/x-python",
   "name": "python",
   "nbconvert_exporter": "python",
   "pygments_lexer": "ipython3",
   "version": "3.8.12"
  }
 },
 "nbformat": 4,
 "nbformat_minor": 5
}
