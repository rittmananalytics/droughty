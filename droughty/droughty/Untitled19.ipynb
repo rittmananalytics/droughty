{
 "cells": [
  {
   "cell_type": "code",
   "execution_count": 240,
   "id": "cdba7d77-c47a-46cb-9f38-68fd25c8c506",
   "metadata": {},
   "outputs": [],
   "source": [
    "import os\n",
    "import yaml\n",
    "\n",
    "from google.oauth2 import service_account\n",
    "import os\n",
    "import yaml\n",
    "import git\n",
    "\n",
    "## source vars\n",
    "\n",
    "path = os.path.expanduser('~')\n",
    "\n",
    "profile_pass = os.path.join(path,\".droughty/profile.yaml\")\n",
    "\n",
    "with open(profile_pass) as f:\n",
    "    lookml_config = yaml.load(f, Loader=yaml.FullLoader)\n",
    "\n",
    "def get_git_root(path):\n",
    "\n",
    "        git_repo = git.Repo(path, search_parent_directories=True)\n",
    "        git_root = git_repo.git.rev_parse(\"--show-toplevel\")\n",
    "        return (git_root)\n",
    "    \n",
    "    \n",
    "git_def_path = get_git_root(os.getcwd())\n",
    "\n",
    "git_path = git_def_path\n",
    "\n",
    "filename = 'droughty_project.yaml'\n",
    "\n",
    "droughty_project = os.path.join(git_path,filename)\n",
    "\n",
    "with open(droughty_project) as f:\n",
    "    enviroment_project = yaml.load(f, Loader=yaml.FullLoader)\n",
    "\n",
    "\n",
    "\n",
    "for key,value in enviroment_project.items():\n",
    "    \n",
    "    if key == 'profile':\n",
    "\n",
    "        if lookml_config[value]['warehouse_name'] == 'big_query':\n",
    "\n",
    "            if value in lookml_config:\n",
    "\n",
    "        ## global vars \n",
    "\n",
    "                warehouse_name =  lookml_config[value]['warehouse_name']\n",
    "                project_name =  lookml_config[value]['project_name']\n",
    "                schema_name =  lookml_config[value]['schema_name']\n",
    "                test_schemas = lookml_config[value]['test_schemas']\n",
    "                \n",
    "                warehouse_schema =   \"\"\"\n",
    "\n",
    "                with source as (\n",
    "\n",
    "                    select * from `{0}.{1}.INFORMATION_SCHEMA.COLUMN_FIELD_PATHS`\n",
    "\n",
    "                    )\n",
    "\n",
    "                    select * from source\n",
    "\n",
    "                \"\"\".format(project_name,schema_name)\n",
    "\n",
    "                dbml_reference_dict = \"\"\"\n",
    "\n",
    "\n",
    "                with source as (\n",
    "\n",
    "                select * from `{0}.{1}.INFORMATION_SCHEMA.COLUMN_FIELD_PATHS`\n",
    "\n",
    "                ),\n",
    "\n",
    "                    pks as (\n",
    "                    select \n",
    "                    table_name as pk_table_name,\n",
    "                    column_name as pk_column_name,\n",
    "                    trim(column_name, \"_pk\") as pk_sk,\n",
    "                    from source\n",
    "                    where column_name like '%pk%'\n",
    "                    ),\n",
    "\n",
    "                    fks as (\n",
    "                    select\n",
    "                    table_name as fk_table_name,\n",
    "                    column_name as fk_column_name,\n",
    "                    trim(column_name, \"_fk\") as fk_sk,\n",
    "                    from source\n",
    "                    where column_name like '%fk%'\n",
    "\n",
    "                    ),\n",
    "\n",
    "                    references as (\n",
    "                    select * from pks\n",
    "\n",
    "                    inner join fks on pks.pk_sk = fks.fk_sk\n",
    "\n",
    "                    )\n",
    "\n",
    "                    select \n",
    "                    \n",
    "                    *except (pk_column_name,pk_table_name),\n",
    "\n",
    "                    case when pk_column_name is null\n",
    "                        then 'not_available'\n",
    "                    else pk_column_name\n",
    "                    end as pk_column_name,\n",
    "\n",
    "                    case when pk_table_name is null\n",
    "                        then 'not_available'\n",
    "                    else pk_table_name\n",
    "                    end as pk_table_name                   \n",
    "                    from source\n",
    "\n",
    "                    left join references on source.column_name = references.fk_column_name and references.fk_table_name = source.table_name\n",
    "                \n",
    "                \"\"\".format(project_name,schema_name)\n",
    "\n",
    "        elif lookml_config[value]['warehouse_name'] == 'snowflake':\n",
    "            \n",
    "            if value in lookml_config:\n",
    "\n",
    "                warehouse_name =  lookml_config[value]['warehouse_name']\n",
    "                project_name =  lookml_config[value]['project_name']\n",
    "                schema_name =  lookml_config[value]['schema_name']\n",
    "                test_schemas = lookml_config[value]['test_schemas']\n",
    "                database = lookml_config[value]['database']\n",
    "\n",
    "                snowflake_schema = '''\n",
    "\n",
    "                select * from {0}.information_schema.columns;\n",
    "\n",
    "                '''.format(database)\n",
    "\n",
    "    ## warehouse test schemas\n",
    "\n",
    "test_warehouse_schema =   \"\"\"\n",
    "\n",
    "        with source_1 as (\n",
    "\n",
    "            select * from `{0}.{1}.INFORMATION_SCHEMA.COLUMNS`\n",
    "\n",
    "            ),\n",
    "\n",
    "        source_2 as (\n",
    "\n",
    "        select * from `{0}.{2}.INFORMATION_SCHEMA.COLUMNS`\n",
    "        \n",
    "        ),\n",
    "        \n",
    "        source_3 as (\n",
    "\n",
    "        select * from `{0}.{3}.INFORMATION_SCHEMA.COLUMNS`\n",
    "        \n",
    "        ),\n",
    "        \n",
    "        unioned as (\n",
    "\n",
    "        select * from source_1\n",
    "        \n",
    "        union all\n",
    "        \n",
    "        select * from source_2\n",
    "        \n",
    "        union all\n",
    "        \n",
    "        select * from source_3\n",
    "        \n",
    "        )\n",
    "\n",
    "        select * from unioned\n",
    "\n",
    "\"\"\".format(project_name,test_schemas[0],test_schemas[1],test_schemas[2])\n",
    "\n",
    "explores = (enviroment_project.get(\"explores\"))\n",
    "\n",
    "\n",
    "explore_tables = []\n",
    "\n",
    "for key,value in explores.items():\n",
    "\n",
    "    for key,value in value.items():\n",
    "\n",
    "        explore_tables.append(value)\n",
    "        \n",
    "single_list_tables = [i[0] for i in explore_tables]\n",
    "\n",
    "        \n",
    "lookml_explore_schema =     \"\"\"\n",
    "\n",
    "\n",
    "                        with source as (\n",
    "\n",
    "                        select * from `{0}.{1}.INFORMATION_SCHEMA.COLUMN_FIELD_PATHS`\n",
    "\n",
    "                        where table_name in ('{2}','{3}','{4}')\n",
    "\n",
    "                        ),\n",
    "                \n",
    "\n",
    "                        pks as (\n",
    "                            select \n",
    "                            table_name as pk_table_name,\n",
    "                            column_name as pk_column_name,\n",
    "                            trim(column_name, \"_pk\") as pk_sk,\n",
    "                            from source\n",
    "                            where column_name like '%pk%'\n",
    "                            ),\n",
    "\n",
    "                        fks as (\n",
    "                            select\n",
    "                            table_name as fk_table_name,\n",
    "                            column_name as fk_column_name,\n",
    "                            trim(column_name, \"_fk\") as fk_sk,\n",
    "                            from source\n",
    "                            where column_name like '%fk%'\n",
    "\n",
    "                            ),\n",
    "\n",
    "\n",
    "                            select \n",
    "\n",
    "                            pk_table_name,\n",
    "                            pk_column_name,\n",
    "                            fk_table_name,\n",
    "                            pk_table_name as pk_table_name_value,\n",
    "                            fk_column_name\n",
    "                            from pks\n",
    "\n",
    "                            inner join fks on pks.pk_sk = fks.fk_sk\n",
    "\n",
    "\n",
    "\n",
    "        \"\"\".format(project_name,schema_name,single_list_tables[0],single_list_tables[1],single_list_tables[2])"
   ]
  },
  {
   "cell_type": "code",
   "execution_count": 340,
   "id": "56e0569e-f8be-447b-b093-f244d823c60a",
   "metadata": {},
   "outputs": [],
   "source": [
    "user_transaction_template = '''\n",
    "\n",
    "with source as (\n",
    "\n",
    "select * from `{{project_id}}.{{schema_id}}.INFORMATION_SCHEMA.COLUMN_FIELD_PATHS`\n",
    "where table_name in \n",
    "{% for tables in table_names [2:] %} {{ table_names | inclause }} {% endfor %}\n",
    "\n",
    "),\n",
    "\n",
    "{% for value in table_names  %}\n",
    "\n",
    "explore_table_row_count_{{ value | sqlsafe }} as (\n",
    "\n",
    "select \n",
    "\n",
    "'{{ value | sqlsafe }}' as table_name,\n",
    "count(*) as {{ value | sqlsafe }}_row_count\n",
    "\n",
    "from `{{project_id}}.{{schema_id}}.{{ value | sqlsafe }}`\n",
    "\n",
    "group by 1\n",
    "\n",
    "),\n",
    "\n",
    "{% endfor %}\n",
    "\n",
    "\n",
    "merge_counts as (\n",
    "\n",
    "select * from source \n",
    "\n",
    "{% for value in table_names  %}\n",
    "\n",
    "left join \n",
    "\n",
    "explore_table_row_count_{{value | sqlsafe }} on source.table_name = explore_table_row_count_{{value | sqlsafe }}.table_name\n",
    "\n",
    "{% endfor %}\n",
    "\n",
    "),\n",
    "\n",
    "pks as (\n",
    "    select \n",
    "    table_name as pk_table_name,\n",
    "    column_name as pk_column_name,\n",
    "    trim(column_name, \"_pk\") as pk_sk,\n",
    "    from source\n",
    "    where column_name like '%pk%'\n",
    "),\n",
    "\n",
    "fks as (\n",
    "    select\n",
    "    table_name as fk_table_name,\n",
    "    column_name as fk_column_name,\n",
    "    trim(column_name, \"_fk\") as fk_sk,\n",
    "    from source\n",
    "    where column_name like '%fk%'\n",
    "\n",
    "),\n",
    "    \n",
    "final as (\n",
    "\n",
    "select \n",
    "\n",
    "pk_table_name,\n",
    "pk_column_name,\n",
    "fk_table_name,\n",
    "fk_column_name,\n",
    "\n",
    "\n",
    "from pks\n",
    "\n",
    "inner join fks on pks.pk_sk = fks.fk_sk\n",
    "\n",
    "\n",
    "select * from \n",
    "\n",
    "select * from merge_counts\n",
    "\n",
    "\n",
    "\n",
    "'''"
   ]
  },
  {
   "cell_type": "code",
   "execution_count": 341,
   "id": "7581ee90-7bde-4e21-a099-b91a6e00f1d2",
   "metadata": {},
   "outputs": [
    {
     "data": {
      "text/plain": [
       "{'project_id': 'ra-development',\n",
       " 'schema_id': 'jordan_analytics_dev',\n",
       " 'table_names': ['wh_marketing_website_event_pages_fact',\n",
       "  'wh_marketing_website_users_dim',\n",
       "  'wh_marketing_website_event_tracks_fact']}"
      ]
     },
     "execution_count": 341,
     "metadata": {},
     "output_type": "execute_result"
    }
   ],
   "source": [
    "params"
   ]
  },
  {
   "cell_type": "code",
   "execution_count": 342,
   "id": "8e8224d0-7a09-4406-9822-465ab6e01f75",
   "metadata": {},
   "outputs": [],
   "source": [
    "params = {\n",
    "    'project_id': project_name,\n",
    "    'schema_id': schema_name, \n",
    "    'table_names': flat_list\n",
    "    \n",
    "}\n",
    "\n",
    "explores = (enviroment_project.get(\"explores\"))\n"
   ]
  },
  {
   "cell_type": "code",
   "execution_count": 343,
   "id": "cb3de0fb-f4c9-4127-84dd-e67945b620d1",
   "metadata": {},
   "outputs": [
    {
     "data": {
      "text/plain": [
       "{'sales_explore': {'parent_table': ['wh_marketing_website_event_pages_fact'],\n",
       "  'dimensions': ['wh_marketing_website_users_dim'],\n",
       "  'facts': ['wh_marketing_website_event_tracks_fact']}}"
      ]
     },
     "execution_count": 343,
     "metadata": {},
     "output_type": "execute_result"
    }
   ],
   "source": [
    "explores"
   ]
  },
  {
   "cell_type": "code",
   "execution_count": 344,
   "id": "e207a8b6-7ba1-4516-b45b-38e787c165a7",
   "metadata": {},
   "outputs": [
    {
     "data": {
      "text/plain": [
       "{'project_id': 'ra-development',\n",
       " 'schema_id': 'jordan_analytics_dev',\n",
       " 'table_names': ['wh_marketing_website_event_pages_fact',\n",
       "  'wh_marketing_website_users_dim',\n",
       "  'wh_marketing_website_event_tracks_fact']}"
      ]
     },
     "execution_count": 344,
     "metadata": {},
     "output_type": "execute_result"
    }
   ],
   "source": [
    "params"
   ]
  },
  {
   "cell_type": "code",
   "execution_count": 345,
   "id": "0d28968c-848d-493f-b20d-371df9cec276",
   "metadata": {},
   "outputs": [],
   "source": [
    "flat_list = []\n",
    "for sublist in explore_tables:\n",
    "    for item in sublist:\n",
    "        flat_list.append(item)"
   ]
  },
  {
   "cell_type": "code",
   "execution_count": 346,
   "id": "5521cded-0048-4030-917d-b19040f74255",
   "metadata": {},
   "outputs": [
    {
     "data": {
      "text/plain": [
       "['wh_marketing_website_event_pages_fact',\n",
       " 'wh_marketing_website_users_dim',\n",
       " 'wh_marketing_website_event_tracks_fact']"
      ]
     },
     "execution_count": 346,
     "metadata": {},
     "output_type": "execute_result"
    }
   ],
   "source": [
    "flat_list"
   ]
  },
  {
   "cell_type": "code",
   "execution_count": 347,
   "id": "b24bc448-e4e7-4b07-807a-124ea25576f6",
   "metadata": {},
   "outputs": [],
   "source": [
    "from jinjasql import JinjaSql\n",
    "j = JinjaSql(param_style='pyformat')\n",
    "query, bind_params = j.prepare_query(user_transaction_template,params)"
   ]
  },
  {
   "cell_type": "code",
   "execution_count": 348,
   "id": "44fec927-c1a1-4285-b058-42b3809e187a",
   "metadata": {},
   "outputs": [
    {
     "name": "stdout",
     "output_type": "stream",
     "text": [
      "\n",
      "\n",
      "with source as (\n",
      "\n",
      "select * from `%(project_id_1)s.%(schema_id_2)s.INFORMATION_SCHEMA.COLUMN_FIELD_PATHS`\n",
      "where table_name in \n",
      " (%(inclause_3)s,%(inclause_4)s,%(inclause_5)s) \n",
      "\n",
      "),\n",
      "\n",
      "\n",
      "\n",
      "explore_table_row_count_wh_marketing_website_event_pages_fact as (\n",
      "\n",
      "select \n",
      "\n",
      "'wh_marketing_website_event_pages_fact' as table_name,\n",
      "count(*) as wh_marketing_website_event_pages_fact_row_count\n",
      "\n",
      "from `%(project_id_6)s.%(schema_id_7)s.wh_marketing_website_event_pages_fact`\n",
      "\n",
      "group by 1\n",
      "\n",
      "),\n",
      "\n",
      "\n",
      "\n",
      "explore_table_row_count_wh_marketing_website_users_dim as (\n",
      "\n",
      "select \n",
      "\n",
      "'wh_marketing_website_users_dim' as table_name,\n",
      "count(*) as wh_marketing_website_users_dim_row_count\n",
      "\n",
      "from `%(project_id_8)s.%(schema_id_9)s.wh_marketing_website_users_dim`\n",
      "\n",
      "group by 1\n",
      "\n",
      "),\n",
      "\n",
      "\n",
      "\n",
      "explore_table_row_count_wh_marketing_website_event_tracks_fact as (\n",
      "\n",
      "select \n",
      "\n",
      "'wh_marketing_website_event_tracks_fact' as table_name,\n",
      "count(*) as wh_marketing_website_event_tracks_fact_row_count\n",
      "\n",
      "from `%(project_id_10)s.%(schema_id_11)s.wh_marketing_website_event_tracks_fact`\n",
      "\n",
      "group by 1\n",
      "\n",
      "),\n",
      "\n",
      "\n",
      "\n",
      "\n",
      "merge_counts as (\n",
      "\n",
      "select * from source \n",
      "\n",
      "\n",
      "\n",
      "left join \n",
      "\n",
      "explore_table_row_count_wh_marketing_website_event_pages_fact on source.table_name = explore_table_row_count_wh_marketing_website_event_pages_fact.table_name\n",
      "\n",
      "\n",
      "\n",
      "left join \n",
      "\n",
      "explore_table_row_count_wh_marketing_website_users_dim on source.table_name = explore_table_row_count_wh_marketing_website_users_dim.table_name\n",
      "\n",
      "\n",
      "\n",
      "left join \n",
      "\n",
      "explore_table_row_count_wh_marketing_website_event_tracks_fact on source.table_name = explore_table_row_count_wh_marketing_website_event_tracks_fact.table_name\n",
      "\n",
      "\n",
      "\n",
      ")\n",
      "\n",
      "select * from merge_counts\n",
      "\n",
      "\n",
      "\n"
     ]
    }
   ],
   "source": [
    "print(query)"
   ]
  },
  {
   "cell_type": "code",
   "execution_count": 349,
   "id": "44feca5f-dd52-4b1f-8585-845cb1f56f45",
   "metadata": {},
   "outputs": [
    {
     "name": "stdout",
     "output_type": "stream",
     "text": [
      "\n",
      "\n",
      "with source as (\n",
      "\n",
      "select * from `ra-development.jordan_analytics_dev.INFORMATION_SCHEMA.COLUMN_FIELD_PATHS`\n",
      "where table_name in \n",
      " (wh_marketing_website_event_pages_fact,wh_marketing_website_users_dim,wh_marketing_website_event_tracks_fact) \n",
      "\n",
      "),\n",
      "\n",
      "\n",
      "\n",
      "explore_table_row_count_wh_marketing_website_event_pages_fact as (\n",
      "\n",
      "select \n",
      "\n",
      "'wh_marketing_website_event_pages_fact' as table_name,\n",
      "count(*) as wh_marketing_website_event_pages_fact_row_count\n",
      "\n",
      "from `ra-development.jordan_analytics_dev.wh_marketing_website_event_pages_fact`\n",
      "\n",
      "group by 1\n",
      "\n",
      "),\n",
      "\n",
      "\n",
      "\n",
      "explore_table_row_count_wh_marketing_website_users_dim as (\n",
      "\n",
      "select \n",
      "\n",
      "'wh_marketing_website_users_dim' as table_name,\n",
      "count(*) as wh_marketing_website_users_dim_row_count\n",
      "\n",
      "from `ra-development.jordan_analytics_dev.wh_marketing_website_users_dim`\n",
      "\n",
      "group by 1\n",
      "\n",
      "),\n",
      "\n",
      "\n",
      "\n",
      "explore_table_row_count_wh_marketing_website_event_tracks_fact as (\n",
      "\n",
      "select \n",
      "\n",
      "'wh_marketing_website_event_tracks_fact' as table_name,\n",
      "count(*) as wh_marketing_website_event_tracks_fact_row_count\n",
      "\n",
      "from `ra-development.jordan_analytics_dev.wh_marketing_website_event_tracks_fact`\n",
      "\n",
      "group by 1\n",
      "\n",
      "),\n",
      "\n",
      "\n",
      "\n",
      "\n",
      "merge_counts as (\n",
      "\n",
      "select * from source \n",
      "\n",
      "\n",
      "\n",
      "left join \n",
      "\n",
      "explore_table_row_count_wh_marketing_website_event_pages_fact on source.table_name = explore_table_row_count_wh_marketing_website_event_pages_fact.table_name\n",
      "\n",
      "\n",
      "\n",
      "left join \n",
      "\n",
      "explore_table_row_count_wh_marketing_website_users_dim on source.table_name = explore_table_row_count_wh_marketing_website_users_dim.table_name\n",
      "\n",
      "\n",
      "\n",
      "left join \n",
      "\n",
      "explore_table_row_count_wh_marketing_website_event_tracks_fact on source.table_name = explore_table_row_count_wh_marketing_website_event_tracks_fact.table_name\n",
      "\n",
      "\n",
      "\n",
      ")\n",
      "\n",
      "select * from merge_counts\n",
      "\n",
      "\n",
      "\n"
     ]
    }
   ],
   "source": [
    "print(query % bind_params)"
   ]
  },
  {
   "cell_type": "code",
   "execution_count": 350,
   "id": "dc4c2734-bbca-4432-b090-8f4b9e842710",
   "metadata": {},
   "outputs": [
    {
     "data": {
      "text/plain": [
       "False"
      ]
     },
     "execution_count": 350,
     "metadata": {},
     "output_type": "execute_result"
    }
   ],
   "source": [
    "from six import string_types\n",
    "isinstance(value, string_types)"
   ]
  },
  {
   "cell_type": "code",
   "execution_count": 52,
   "id": "99a9513a-2d66-416a-b740-d5df7086c0b6",
   "metadata": {},
   "outputs": [],
   "source": [
    "from six import string_types\n",
    "def quote_sql_string(value):\n",
    "    '''\n",
    "    If `value` is a string type, escapes single quotes in the string\n",
    "    and returns the string enclosed in single quotes.\n",
    "    '''\n",
    "    if isinstance(value, string_types):\n",
    "        new_value = str(value)\n",
    "        new_value = new_value.replace(\"'\", \"''\")\n",
    "        return \"'{}'\".format(new_value)\n",
    "    return value"
   ]
  },
  {
   "cell_type": "code",
   "execution_count": 53,
   "id": "62da03c8-5a7a-4e58-8fac-d98ffca3e07f",
   "metadata": {},
   "outputs": [],
   "source": [
    "from copy import deepcopy\n",
    "def get_sql_from_template(query, bind_params):\n",
    "    if not bind_params:\n",
    "        return query\n",
    "    params = deepcopy(bind_params)\n",
    "    for key, val in params.items():\n",
    "        params[key] = quote_sql_string(val)\n",
    "    return query % params"
   ]
  },
  {
   "cell_type": "code",
   "execution_count": 54,
   "id": "02a6e7ff-fd51-4be6-af1b-4973409289c8",
   "metadata": {},
   "outputs": [],
   "source": [
    "from jinjasql import JinjaSql\n",
    "\n",
    "def apply_sql_template(template, parameters):\n",
    "    '''\n",
    "    Apply a JinjaSql template (string) substituting parameters (dict) and return\n",
    "    the final SQL.\n",
    "    '''\n",
    "    j = JinjaSql(param_style='pyformat')\n",
    "    query, bind_params = j.prepare_query(template, parameters)\n",
    "    return get_sql_from_template(query, bind_params)"
   ]
  },
  {
   "cell_type": "code",
   "execution_count": 55,
   "id": "50b9ec48-740a-46ca-866f-aec9373e1cfc",
   "metadata": {},
   "outputs": [],
   "source": [
    "sql = get_sql_from_template(query, bind_params)"
   ]
  },
  {
   "cell_type": "code",
   "execution_count": 56,
   "id": "d1d8b41b-f519-45f1-916a-9fe8e3ab0f70",
   "metadata": {},
   "outputs": [
    {
     "data": {
      "text/plain": [
       "\"\\n\\nwith source as (\\n\\nselect * from `'ra-development'.'jordan_analytics_dev'.INFORMATION_SCHEMA.COLUMN_FIELD_PATHS`\\nwhere table_name in (\\n, (['wh_website_event_pages_fact'],['wh_website_users_dim'],['wh_website_event_tracks_fact', 'wh_website_test_fact'])\\n\\n),\\n\\n\\n\\nexplore_table_row_count_['wh_website_event_tracks_fact', 'wh_website_test_fact'] as (\\n\\nselect \\n\\ntable_name,\\ncount(*)\\n\\nfrom source \\n\\nwhere table_name = ['wh_website_event_pages_fact']\\n\\ngroup by 1\\n\\n\\n\\nexplore_table_row_count_['wh_website_event_tracks_fact', 'wh_website_test_fact'] as (\\n\\nselect \\n\\ntable_name,\\ncount(*)\\n\\nfrom source \\n\\nwhere table_name = ['wh_website_event_pages_fact']\\n\\ngroup by 1\\n\\n\\n\\nexplore_table_row_count_['wh_website_event_tracks_fact', 'wh_website_test_fact'] as (\\n\\nselect \\n\\ntable_name,\\ncount(*)\\n\\nfrom source \\n\\nwhere table_name = ['wh_website_event_pages_fact']\\n\\ngroup by 1\\n\\n\\n\\n\""
      ]
     },
     "execution_count": 56,
     "metadata": {},
     "output_type": "execute_result"
    }
   ],
   "source": [
    "sql"
   ]
  },
  {
   "cell_type": "code",
   "execution_count": 336,
   "id": "ac0004d5-93d7-4a5c-9f9e-40e3d8e73f13",
   "metadata": {},
   "outputs": [],
   "source": [
    "import os\n",
    "def strip_blank_lines(text):\n",
    "    '''\n",
    "    Removes blank lines from the text, including those containing only spaces.\n",
    "    https://stackoverflow.com/questions/1140958/whats-a-quick-one-liner-to-remove-empty-lines-from-a-python-string\n",
    "    '''\n",
    "    return os.linesep.join([s for s in text.splitlines() if s.strip()])"
   ]
  },
  {
   "cell_type": "code",
   "execution_count": 40,
   "id": "5265d36a-f19e-4e3a-9005-ca574ed0d384",
   "metadata": {},
   "outputs": [
    {
     "data": {
      "text/plain": [
       "{'profile': 'ra-development',\n",
       " 'explores': {'sales_explore': {'parent_table': ['wh_website_event_pages_fact'],\n",
       "   'dimensions': ['wh_website_users_dim'],\n",
       "   'facts': ['wh_website_event_tracks_fact', 'wh_website_test_fact']}}}"
      ]
     },
     "execution_count": 40,
     "metadata": {},
     "output_type": "execute_result"
    }
   ],
   "source": [
    "enviroment_project"
   ]
  },
  {
   "cell_type": "code",
   "execution_count": 41,
   "id": "8724d7d8-c400-496e-8c85-ebaf4396ee20",
   "metadata": {},
   "outputs": [],
   "source": [
    "explore_tables = []\n",
    "\n",
    "for key,value in explores.items():\n",
    "\n",
    "    for key,value in value.items():\n",
    "\n",
    "        explore_tables.append(value)"
   ]
  },
  {
   "cell_type": "code",
   "execution_count": 42,
   "id": "c9ba663f-a480-4570-812e-e34a85ea65e8",
   "metadata": {},
   "outputs": [
    {
     "data": {
      "text/plain": [
       "[['wh_website_event_pages_fact'],\n",
       " ['wh_website_users_dim'],\n",
       " ['wh_website_event_tracks_fact', 'wh_website_test_fact']]"
      ]
     },
     "execution_count": 59,
     "metadata": {},
     "output_type": "execute_result"
    }
   ],
   "source": [
    "explore_tables"
   ]
  },
  {
   "cell_type": "code",
   "execution_count": 106,
   "id": "cd2c08a7-21e0-45c4-8406-1859dbe097f2",
   "metadata": {},
   "outputs": [],
   "source": [
    "single_list_tables = [i for i in explore_tables]\n"
   ]
  },
  {
   "cell_type": "code",
   "execution_count": 103,
   "id": "b170f363-7e69-4a5e-a139-b66031c9a864",
   "metadata": {},
   "outputs": [],
   "source": [
    "single_list_tables = [i [0] for i in explore_tables]\n"
   ]
  },
  {
   "cell_type": "code",
   "execution_count": 97,
   "id": "c21f7158-0370-4b3b-a460-f8af7e0d4527",
   "metadata": {},
   "outputs": [
    {
     "data": {
      "text/plain": [
       "['wh_website_event_pages_fact',\n",
       " 'wh_website_users_dim',\n",
       " 'wh_website_event_tracks_fact']"
      ]
     },
     "execution_count": 97,
     "metadata": {},
     "output_type": "execute_result"
    }
   ],
   "source": [
    "single_list_tables"
   ]
  },
  {
   "cell_type": "code",
   "execution_count": 88,
   "id": "1a95934e-d2d9-4402-9ee5-4eb8c69f91d5",
   "metadata": {},
   "outputs": [],
   "source": [
    "single_list_tables = [i [0:2] for i in explore_tables]\n"
   ]
  },
  {
   "cell_type": "code",
   "execution_count": 112,
   "id": "75f6a2ee-32b5-4023-a8ef-eb2901807aa9",
   "metadata": {},
   "outputs": [
    {
     "data": {
      "text/plain": [
       "[['wh_website_event_pages_fact'],\n",
       " ['wh_website_users_dim'],\n",
       " ['wh_website_event_tracks_fact', 'wh_website_test_fact']]"
      ]
     },
     "execution_count": 112,
     "metadata": {},
     "output_type": "execute_result"
    }
   ],
   "source": [
    "single_list_tables"
   ]
  },
  {
   "cell_type": "code",
   "execution_count": 110,
   "id": "994cae7f-c659-4a0a-ada4-b3f5bab9a65b",
   "metadata": {},
   "outputs": [],
   "source": [
    "single_list_tables_test = [i [0] for i in single_list_tables]"
   ]
  },
  {
   "cell_type": "code",
   "execution_count": 111,
   "id": "d1b9abf2-29fa-4ef4-b606-9d12cc08cbbb",
   "metadata": {},
   "outputs": [
    {
     "data": {
      "text/plain": [
       "['wh_website_event_pages_fact',\n",
       " 'wh_website_users_dim',\n",
       " 'wh_website_event_tracks_fact']"
      ]
     },
     "execution_count": 111,
     "metadata": {},
     "output_type": "execute_result"
    }
   ],
   "source": [
    "single_list_tables_test"
   ]
  },
  {
   "cell_type": "code",
   "execution_count": 113,
   "id": "68bc3f6b-0ad1-4b72-81d7-d0f29e95d89e",
   "metadata": {},
   "outputs": [
    {
     "data": {
      "text/plain": [
       "[['wh_website_event_pages_fact'],\n",
       " ['wh_website_users_dim'],\n",
       " ['wh_website_event_tracks_fact', 'wh_website_test_fact']]"
      ]
     },
     "execution_count": 113,
     "metadata": {},
     "output_type": "execute_result"
    }
   ],
   "source": [
    "explore_tables"
   ]
  },
  {
   "cell_type": "code",
   "execution_count": 114,
   "id": "91a7aef1-b971-4352-b1d6-e659698de401",
   "metadata": {},
   "outputs": [
    {
     "data": {
      "text/plain": [
       "list"
      ]
     },
     "execution_count": 114,
     "metadata": {},
     "output_type": "execute_result"
    }
   ],
   "source": [
    "type(explore_tables)"
   ]
  },
  {
   "cell_type": "code",
   "execution_count": 115,
   "id": "f1f6b1e0-770c-494b-8bc8-a8f8f8a637c8",
   "metadata": {},
   "outputs": [
    {
     "ename": "NameError",
     "evalue": "name 'X_inter' is not defined",
     "output_type": "error",
     "traceback": [
      "\u001b[0;31m---------------------------------------------------------------------------\u001b[0m",
      "\u001b[0;31mNameError\u001b[0m                                 Traceback (most recent call last)",
      "Input \u001b[0;32mIn [115]\u001b[0m, in \u001b[0;36m<module>\u001b[0;34m\u001b[0m\n\u001b[1;32m      3\u001b[0m     \u001b[38;5;28;01mfor\u001b[39;00m val \u001b[38;5;129;01min\u001b[39;00m sublist: \n\u001b[1;32m      4\u001b[0m         flattened\u001b[38;5;241m.\u001b[39mappend(val) \n\u001b[0;32m----> 6\u001b[0m \u001b[43mX_inter\u001b[49m\u001b[38;5;241m.\u001b[39miloc[:, flattened]\n",
      "\u001b[0;31mNameError\u001b[0m: name 'X_inter' is not defined"
     ]
    }
   ],
   "source": [
    "flattened = [] \n",
    "for sublist in explore_tables: \n",
    "    for val in sublist: \n",
    "        flattened.append(val) \n",
    "\n",
    "X_inter.iloc[:, flattened]"
   ]
  },
  {
   "cell_type": "code",
   "execution_count": 119,
   "id": "32e3f5cb-021f-454a-985f-b4189ee2095c",
   "metadata": {},
   "outputs": [
    {
     "data": {
      "text/plain": [
       "[['wh_website_event_pages_fact'],\n",
       " ['wh_website_users_dim'],\n",
       " ['wh_website_event_tracks_fact', 'wh_website_test_fact']]"
      ]
     },
     "execution_count": 119,
     "metadata": {},
     "output_type": "execute_result"
    }
   ],
   "source": [
    "explore_tables[0:4]"
   ]
  },
  {
   "cell_type": "code",
   "execution_count": 122,
   "id": "a442ded0-b93e-4666-9109-168762262869",
   "metadata": {},
   "outputs": [],
   "source": [
    "explore_tables = []\n",
    "\n",
    "for key,value in explores.items():\n",
    "\n",
    "    for key,value in value.items():\n",
    "\n",
    "        explore_tables.append(value)"
   ]
  },
  {
   "cell_type": "code",
   "execution_count": 124,
   "id": "8ea3b548-f19a-4ab3-aee0-ff66edeec1a6",
   "metadata": {},
   "outputs": [
    {
     "data": {
      "text/plain": [
       "[['wh_website_event_pages_fact'],\n",
       " ['wh_website_users_dim'],\n",
       " ['wh_website_event_tracks_fact', 'wh_website_test_fact']]"
      ]
     },
     "execution_count": 124,
     "metadata": {},
     "output_type": "execute_result"
    }
   ],
   "source": [
    "explore_tables"
   ]
  },
  {
   "cell_type": "code",
   "execution_count": null,
   "id": "cb24f090-9729-4ab4-9bd6-1d8ed4a72965",
   "metadata": {},
   "outputs": [],
   "source": []
  }
 ],
 "metadata": {
  "kernelspec": {
   "display_name": "Python 3 (ipykernel)",
   "language": "python",
   "name": "python3"
  },
  "language_info": {
   "codemirror_mode": {
    "name": "ipython",
    "version": 3
   },
   "file_extension": ".py",
   "mimetype": "text/x-python",
   "name": "python",
   "nbconvert_exporter": "python",
   "pygments_lexer": "ipython3",
   "version": "3.8.12"
  }
 },
 "nbformat": 4,
 "nbformat_minor": 5
}
