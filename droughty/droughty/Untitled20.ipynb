{
 "cells": [
  {
   "cell_type": "code",
   "execution_count": 1,
   "id": "0b8d7ca3-80a9-48b3-a94f-fa11d513bb31",
   "metadata": {},
   "outputs": [],
   "source": [
    "import lkml as looker\n",
    "from pprint import pprint\n",
    "from google.oauth2 import service_account\n",
    "import pandas_gbq\n",
    "from contextlib import redirect_stdout\n",
    "import snowflake.connector\n",
    "from sqlalchemy import create_engine\n",
    "from snowflake.sqlalchemy import URL\n",
    "import pandas as pd\n",
    "import pandas\n",
    "import os\n",
    "import json\n",
    "import sys\n",
    "import yaml\n",
    "import git\n",
    "\n",
    "from lookml_base_dict import d2\n",
    "from lookml_base_dict import d5\n",
    "\n",
    "\n",
    "def get_all_values(nested_dictionary):\n",
    "    \n",
    "    for key,value in nested_dictionary.items():\n",
    "\n",
    "        explore = {\n",
    "\n",
    "            \"explore\": key,\n",
    "\n",
    "            \"view_name\": key\n",
    "                \n",
    "        }\n",
    "            \n",
    "        \n",
    "        yield(looker.dump(explore))\n",
    "\n",
    "        for key1 in value.keys():     \n",
    "\n",
    "            join = {\n",
    "\n",
    "                \"joins\": [\n",
    "                    {\n",
    "                    \"sql_on\": key1[1]+\".\"+key1[2]+\" = \"+ key+\".\"+key1[0],\n",
    "                    \"name\": key1[1]\n",
    "                    }\n",
    "\n",
    "                ]\n",
    "                }\n",
    "\n",
    "            yield(looker.dump(join))\n",
    "\n",
    "\n",
    "nested_dictionary = d2\n",
    "\n",
    "get_all_values(nested_dictionary)\n",
    "\n",
    "def get_git_root(path):\n",
    "\n",
    "        git_repo = git.Repo(path, search_parent_directories=True)\n",
    "        git_root = git_repo.git.rev_parse(\"--show-toplevel\")\n",
    "        return (git_root)\n",
    "\n",
    "git_def_path = get_git_root(os.getcwd())\n",
    "\n",
    "\n",
    "def explore_output():\n",
    "    \n",
    "    git_path = git_def_path\n",
    "\n",
    "    rel_path = \"base\"\n",
    "\n",
    "    path = os.path.join(git_path, rel_path)\n",
    "\n",
    "    if not os.path.exists(path):\n",
    "        os.makedirs(path)\n",
    "        \n",
    "    filename = '_explore.layer.lkml'\n",
    "\n",
    "    with open(os.path.join(path, filename), 'w') as file:\n",
    "\n",
    "        with redirect_stdout(file):\n",
    "\n",
    "                for value in get_all_values(nested_dictionary):\n",
    "\n",
    "                    print(value)\n",
    "\n",
    "explore_output()\n",
    "    "
   ]
  },
  {
   "cell_type": "code",
   "execution_count": 2,
   "id": "6edb25c9-faa6-4591-b238-d559b459ec95",
   "metadata": {},
   "outputs": [
    {
     "data": {
      "text/plain": [
       "{}"
      ]
     },
     "execution_count": 2,
     "metadata": {},
     "output_type": "execute_result"
    }
   ],
   "source": [
    "d2"
   ]
  },
  {
   "cell_type": "code",
   "execution_count": null,
   "id": "22d2962d-4abc-4af7-858f-322787da3de2",
   "metadata": {},
   "outputs": [],
   "source": []
  },
  {
   "cell_type": "code",
   "execution_count": null,
   "id": "affeae03-1668-4396-9dc7-724230917b84",
   "metadata": {},
   "outputs": [],
   "source": []
  }
 ],
 "metadata": {
  "kernelspec": {
   "display_name": "Python 3 (ipykernel)",
   "language": "python",
   "name": "python3"
  },
  "language_info": {
   "codemirror_mode": {
    "name": "ipython",
    "version": 3
   },
   "file_extension": ".py",
   "mimetype": "text/x-python",
   "name": "python",
   "nbconvert_exporter": "python",
   "pygments_lexer": "ipython3",
   "version": "3.8.12"
  }
 },
 "nbformat": 4,
 "nbformat_minor": 5
}
