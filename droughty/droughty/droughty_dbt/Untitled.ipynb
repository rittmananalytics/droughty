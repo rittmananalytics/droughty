{
 "cells": [
  {
   "cell_type": "code",
   "execution_count": 1,
   "id": "fb8f00e7",
   "metadata": {},
   "outputs": [],
   "source": [
    "test_schemas = {'test_schemas': ['amir_analytics_dev_staging', 'amir_analytics_dev_integration', 'amir_analytics_dev'], 'ignore_tests': [{'models': [{'wh_operations__events_fact': [{'columns': {'document_fk': {'tests': ['not null', 'unique']}}}]}]}]}"
   ]
  },
  {
   "cell_type": "code",
   "execution_count": 2,
   "id": "1d7c50e3",
   "metadata": {},
   "outputs": [
    {
     "name": "stdout",
     "output_type": "stream",
     "text": [
      "{'test_schemas': ['amir_analytics_dev_staging', 'amir_analytics_dev_integration', 'amir_analytics_dev'], 'ignore_tests': [{'models': [{'wh_operations__events_fact': [{'columns': {'document_fk': {'tests': ['not null', 'unique']}}}]}]}]}\n"
     ]
    }
   ],
   "source": [
    "print (test_schemas)"
   ]
  },
  {
   "cell_type": "code",
   "execution_count": 3,
   "id": "05c24cee",
   "metadata": {},
   "outputs": [
    {
     "name": "stdout",
     "output_type": "stream",
     "text": [
      "[{'models': [{'wh_operations__events_fact': [{'columns': {'document_fk': {'tests': ['not null', 'unique']}}}]}]}]\n"
     ]
    }
   ],
   "source": [
    "print (test_schemas['ignore_tests'])"
   ]
  },
  {
   "cell_type": "code",
   "execution_count": 4,
   "id": "97eae5e6",
   "metadata": {},
   "outputs": [],
   "source": [
    "ignore_tests = (test_schemas['ignore_tests'])"
   ]
  },
  {
   "cell_type": "code",
   "execution_count": 5,
   "id": "fc096cce",
   "metadata": {},
   "outputs": [
    {
     "data": {
      "text/plain": [
       "[{'models': [{'wh_operations__events_fact': [{'columns': {'document_fk': {'tests': ['not null',\n",
       "         'unique']}}}]}]}]"
      ]
     },
     "execution_count": 5,
     "metadata": {},
     "output_type": "execute_result"
    }
   ],
   "source": [
    "ignore_tests"
   ]
  },
  {
   "cell_type": "code",
   "execution_count": 6,
   "id": "ce382297",
   "metadata": {},
   "outputs": [
    {
     "data": {
      "text/plain": [
       "list"
      ]
     },
     "execution_count": 6,
     "metadata": {},
     "output_type": "execute_result"
    }
   ],
   "source": [
    "type(ignore_tests)"
   ]
  },
  {
   "cell_type": "code",
   "execution_count": 7,
   "id": "ad0857cb",
   "metadata": {},
   "outputs": [],
   "source": [
    "x = test_schemas.get(\"models\")"
   ]
  },
  {
   "cell_type": "code",
   "execution_count": 8,
   "id": "92685cdc",
   "metadata": {},
   "outputs": [
    {
     "name": "stdout",
     "output_type": "stream",
     "text": [
      "None\n"
     ]
    }
   ],
   "source": [
    "print(x)"
   ]
  },
  {
   "cell_type": "code",
   "execution_count": 9,
   "id": "00eaad43",
   "metadata": {},
   "outputs": [
    {
     "data": {
      "text/plain": [
       "NoneType"
      ]
     },
     "execution_count": 9,
     "metadata": {},
     "output_type": "execute_result"
    }
   ],
   "source": [
    "type(x)"
   ]
  },
  {
   "cell_type": "code",
   "execution_count": 10,
   "id": "e52b8049",
   "metadata": {},
   "outputs": [],
   "source": [
    "ignore_tests = (test_schemas['ignore_tests'])"
   ]
  },
  {
   "cell_type": "code",
   "execution_count": 11,
   "id": "d0ae6d64",
   "metadata": {},
   "outputs": [
    {
     "name": "stdout",
     "output_type": "stream",
     "text": [
      "[{'models': [{'wh_operations__events_fact': [{'columns': {'document_fk': {'tests': ['not null', 'unique']}}}]}]}]\n"
     ]
    }
   ],
   "source": [
    "print(ignore_tests)"
   ]
  },
  {
   "cell_type": "code",
   "execution_count": 12,
   "id": "daf33998",
   "metadata": {},
   "outputs": [
    {
     "name": "stdout",
     "output_type": "stream",
     "text": [
      "[{'wh_operations__events_fact': [{'columns': {'document_fk': {'tests': ['not null', 'unique']}}}]}]\n"
     ]
    }
   ],
   "source": [
    "print(ignore_tests[0]['models'])\n"
   ]
  },
  {
   "cell_type": "code",
   "execution_count": 13,
   "id": "b4b535c7",
   "metadata": {},
   "outputs": [
    {
     "ename": "KeyError",
     "evalue": "'columns'",
     "output_type": "error",
     "traceback": [
      "\u001b[0;31m---------------------------------------------------------------------------\u001b[0m",
      "\u001b[0;31mKeyError\u001b[0m                                  Traceback (most recent call last)",
      "Input \u001b[0;32mIn [13]\u001b[0m, in \u001b[0;36m<module>\u001b[0;34m\u001b[0m\n\u001b[0;32m----> 1\u001b[0m \u001b[38;5;28mprint\u001b[39m(\u001b[43mignore_tests\u001b[49m\u001b[43m[\u001b[49m\u001b[38;5;241;43m0\u001b[39;49m\u001b[43m]\u001b[49m\u001b[43m[\u001b[49m\u001b[38;5;124;43m'\u001b[39;49m\u001b[38;5;124;43mcolumns\u001b[39;49m\u001b[38;5;124;43m'\u001b[39;49m\u001b[43m]\u001b[49m)\n",
      "\u001b[0;31mKeyError\u001b[0m: 'columns'"
     ]
    }
   ],
   "source": [
    "print(ignore_tests[0]['columns'])\n"
   ]
  },
  {
   "cell_type": "code",
   "execution_count": null,
   "id": "f8452be4",
   "metadata": {},
   "outputs": [],
   "source": [
    "test = [{'models': [{'wh_operations__events_fact': [{'columns': {'document_fk': {'tests': ['not null', 'unique']}}}]}, {'wh_operations__sessions_fact': [{'columns': {'sessions_pk': {'tests': ['not null']}}}]}]}]\n"
   ]
  },
  {
   "cell_type": "code",
   "execution_count": null,
   "id": "f79e6744",
   "metadata": {},
   "outputs": [],
   "source": [
    "print (test)"
   ]
  },
  {
   "cell_type": "code",
   "execution_count": null,
   "id": "0551445a",
   "metadata": {},
   "outputs": [],
   "source": [
    "print(test_schemas['models'])"
   ]
  },
  {
   "cell_type": "code",
   "execution_count": null,
   "id": "f8ada7a5",
   "metadata": {},
   "outputs": [],
   "source": [
    "for d in test:\n",
    "    print (d['models'])"
   ]
  },
  {
   "cell_type": "code",
   "execution_count": null,
   "id": "c755a4a2",
   "metadata": {},
   "outputs": [],
   "source": [
    "models = [x['models'] for x in test]"
   ]
  },
  {
   "cell_type": "code",
   "execution_count": null,
   "id": "965e7711",
   "metadata": {},
   "outputs": [],
   "source": [
    "type(models)"
   ]
  },
  {
   "cell_type": "code",
   "execution_count": null,
   "id": "1949a623",
   "metadata": {},
   "outputs": [],
   "source": [
    "models"
   ]
  },
  {
   "cell_type": "code",
   "execution_count": null,
   "id": "06c68d9d",
   "metadata": {},
   "outputs": [],
   "source": [
    "dlist = [{'a': 1}, {'b': 3}, {'c': 5}]\n",
    "for index in range(len(dlist)):\n",
    "    for key in dlist[index]:\n",
    "        print(dlist[index][key])"
   ]
  },
  {
   "cell_type": "code",
   "execution_count": null,
   "id": "8f7003af",
   "metadata": {},
   "outputs": [],
   "source": [
    "dlist = [{'a': 1}, {'b': 3}, {'c': 5}]\n",
    "for index in range(len(models)):\n",
    "    for key in models[index]:\n",
    "        print(models[index][key])"
   ]
  },
  {
   "cell_type": "code",
   "execution_count": null,
   "id": "4430c17f",
   "metadata": {},
   "outputs": [],
   "source": [
    "dList = models\n",
    "for dic in dList:\n",
    "    for val in dic.values():\n",
    "        print(val)"
   ]
  },
  {
   "cell_type": "code",
   "execution_count": null,
   "id": "0ec08284",
   "metadata": {},
   "outputs": [],
   "source": [
    "nested_dict = {'test_schemas': ['amir_analytics_dev_staging', 'amir_analytics_dev_integration', 'amir_analytics_dev'], 'ignore_tests': [{'models': [{'wh_operations__events_fact': [{'columns': {'document_fk': {'tests': ['not null', 'unique']}}}]}, {'wh_operations__sessions_fact': [{'columns': {'sessions_pk': {'tests': ['not null']}}}]}]}]}"
   ]
  },
  {
   "cell_type": "code",
   "execution_count": null,
   "id": "9570e5ed",
   "metadata": {},
   "outputs": [],
   "source": [
    "print(nested_dict)"
   ]
  },
  {
   "cell_type": "code",
   "execution_count": null,
   "id": "1c319ed2",
   "metadata": {},
   "outputs": [],
   "source": [
    "ignore_test = nested_dict.get('ignore_tests')"
   ]
  },
  {
   "cell_type": "code",
   "execution_count": null,
   "id": "b10ea6cc",
   "metadata": {},
   "outputs": [],
   "source": []
  },
  {
   "cell_type": "markdown",
   "id": "4cd632db",
   "metadata": {},
   "source": [
    "print(nested_dict.get(models).get('ignore_tests'))\n"
   ]
  },
  {
   "cell_type": "code",
   "execution_count": null,
   "id": "6e5908ec",
   "metadata": {},
   "outputs": [],
   "source": [
    "print(nested_dict.get('models').get('ignore_tests'))\n"
   ]
  },
  {
   "cell_type": "code",
   "execution_count": null,
   "id": "5dcbe1ff",
   "metadata": {},
   "outputs": [],
   "source": [
    "print(nested_dict['ignore_tests']['models'])"
   ]
  },
  {
   "cell_type": "code",
   "execution_count": null,
   "id": "1e8fdb9c",
   "metadata": {},
   "outputs": [],
   "source": [
    "age = nested_dict.get(\"ignore_tests\").get(\"models\", None)"
   ]
  },
  {
   "cell_type": "code",
   "execution_count": null,
   "id": "f6c8c75b",
   "metadata": {},
   "outputs": [],
   "source": [
    "my_list = [\n",
    "    {'id': 1, 'name': 'Alice'},\n",
    "    {'id': 2, 'name': 'Bob'},\n",
    "    {'id': 3, 'name': 'Carl'},\n",
    "]\n",
    "\n",
    "result = my_list[0].get('name')"
   ]
  },
  {
   "cell_type": "code",
   "execution_count": null,
   "id": "867770e5",
   "metadata": {},
   "outputs": [],
   "source": [
    "result"
   ]
  },
  {
   "cell_type": "code",
   "execution_count": null,
   "id": "b7abdbd7",
   "metadata": {},
   "outputs": [],
   "source": [
    "models = nested_dict.get('ignore_tests')"
   ]
  },
  {
   "cell_type": "code",
   "execution_count": null,
   "id": "2e995132",
   "metadata": {},
   "outputs": [],
   "source": [
    "print(models)"
   ]
  },
  {
   "cell_type": "code",
   "execution_count": null,
   "id": "1b619764",
   "metadata": {},
   "outputs": [],
   "source": [
    "result = models[0].get('mm')"
   ]
  },
  {
   "cell_type": "code",
   "execution_count": null,
   "id": "a733b573",
   "metadata": {},
   "outputs": [],
   "source": [
    "print(result)"
   ]
  },
  {
   "cell_type": "code",
   "execution_count": null,
   "id": "45b0b47c",
   "metadata": {},
   "outputs": [],
   "source": [
    "from functools import reduce\n",
    "data={'apple':{'data':{'price':{'actual':5, 'discounted': 4}}}}\n",
    "\n",
    "path = ['apple', 'data', 'price', 'actual']\n",
    "actual_price = reduce(dict.get, path, data)\n",
    "print(actual_price)  # 5"
   ]
  },
  {
   "cell_type": "code",
   "execution_count": null,
   "id": "1a1cd34a",
   "metadata": {},
   "outputs": [],
   "source": [
    "from functools import reduce\n",
    "data=nested_dict\n",
    "\n",
    "path = ['models','columns', 'tests']\n",
    "actual_price = reduce(dict.get, path, data)\n",
    "print(actual_price)  # 5"
   ]
  },
  {
   "cell_type": "code",
   "execution_count": null,
   "id": "16635f9d",
   "metadata": {},
   "outputs": [],
   "source": [
    "import glom\n",
    "data={'apple':{'data':{'price':{'actual':10, 'discounted': 4}}}}\n",
    "\n",
    "path = \"apple.data.price.actual\"\n",
    "actual = glom.glom(data, path)\n",
    "print(actual)  # 10"
   ]
  },
  {
   "cell_type": "code",
   "execution_count": null,
   "id": "e567547e",
   "metadata": {},
   "outputs": [],
   "source": [
    "import glom\n",
    "data=nested_dict\n",
    "\n",
    "path = \"ignore_tests.models.columns\"\n",
    "actual = glom.glom(data, path)\n",
    "print(actual)  # 10"
   ]
  },
  {
   "cell_type": "code",
   "execution_count": null,
   "id": "6557a05f",
   "metadata": {},
   "outputs": [],
   "source": [
    " from glom import glom\n",
    "\n",
    "target = nested_dict\n",
    "glom(target, \"ignore_tests.models.columns\")  # returns 'd'"
   ]
  },
  {
   "cell_type": "code",
   "execution_count": null,
   "id": "a42b1cf0",
   "metadata": {},
   "outputs": [],
   "source": [
    "from glom import glom, Check, Coalesce, SKIP\n",
    "\n",
    "LEG_SPEC = {'Client': Coalesce('menuName', default=''),\n",
    "            'Number': Coalesce('to.number', default=''),\n",
    "            'Linked ID': 'serviceId',\n",
    "            'Queue': 'queueName'}\n",
    "entries_spec = ('legs', \n",
    "                [Check('legType', one_of=('Dial', 'EnterIVR'), default=SKIP)],\n",
    "                [LEG_SPEC])\n",
    "pprint(glom(target, entries_spec))"
   ]
  },
  {
   "cell_type": "code",
   "execution_count": null,
   "id": "fab06698",
   "metadata": {},
   "outputs": [],
   "source": []
  }
 ],
 "metadata": {
  "kernelspec": {
   "display_name": "Python 3 (ipykernel)",
   "language": "python",
   "name": "python3"
  },
  "language_info": {
   "codemirror_mode": {
    "name": "ipython",
    "version": 3
   },
   "file_extension": ".py",
   "mimetype": "text/x-python",
   "name": "python",
   "nbconvert_exporter": "python",
   "pygments_lexer": "ipython3",
   "version": "3.8.12"
  }
 },
 "nbformat": 4,
 "nbformat_minor": 5
}
