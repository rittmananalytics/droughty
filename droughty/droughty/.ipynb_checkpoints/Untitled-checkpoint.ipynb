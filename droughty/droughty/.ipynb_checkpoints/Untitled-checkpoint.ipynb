{
 "cells": [
  {
   "cell_type": "code",
   "execution_count": 20,
   "id": "b4aa0138",
   "metadata": {},
   "outputs": [],
   "source": [
    "from google.oauth2 import service_account\n",
    "import os\n",
    "import yaml\n",
    "import git\n",
    "\n",
    "## global vars\n",
    "\n",
    "path = os.path.expanduser('~')\n",
    "\n",
    "def get_git_root(path):\n",
    "\n",
    "        git_repo = git.Repo(path, search_parent_directories=True)\n",
    "        git_root = git_repo.git.rev_parse(\"--show-toplevel\")\n",
    "        return (git_root)\n",
    "    \n",
    "    \n",
    "git_def_path = get_git_root(os.getcwd())\n",
    "\n",
    "git_path = git_def_path\n",
    "\n",
    "## profile vars \n",
    "\n",
    "filename = 'profile.yaml'\n",
    "\n",
    "profile_pass = os.path.join(git_path,filename)\n",
    "\n",
    "with open(profile_pass) as f:\n",
    "    lookml_config = yaml.load(f, Loader=yaml.FullLoader)\n",
    "\n",
    "profile_key = list(lookml_config.keys())\n",
    "\n",
    "## project vars \n",
    "\n",
    "filename = 'droughty_project.yaml'\n",
    "\n",
    "droughty_project = os.path.join(git_path,filename)\n",
    "\n",
    "with open(droughty_project) as f:\n",
    "    enviroment_project = yaml.load(f, Loader=yaml.FullLoader)\n",
    "\n",
    "for key,value in enviroment_project.items():\n",
    "    \n",
    "    if key == 'profile':\n",
    "\n",
    "        if value in lookml_config:\n",
    "        \n",
    "    ## global vars\n",
    "\n",
    "            warehouse_name =  lookml_config[value]['warehouse_name']\n",
    "            project_name =  lookml_config[value]['project_name']\n",
    "            enviroment_project = enviroment_project['profile']\n",
    "            \n",
    "\n",
    "            ## big_query vars\n",
    "\n",
    "            if warehouse_name == 'big_query':\n",
    "\n",
    "                service_account_path = lookml_config[value]['key_file']\n",
    "\n",
    "                warehouse_name =  lookml_config[value]['warehouse_name']\n",
    "                project_name =  lookml_config[value]['project_name']\n",
    "\n",
    "                service_account = service_account.Credentials.from_service_account_file(\n",
    "                    service_account_path,\n",
    "                )\n",
    "\n",
    "            elif warehouse_name == 'red_shift':\n",
    "\n",
    "            ## red_shift vars\n",
    "\n",
    "                red_shift_project =  lookml_config[value]['project_name']\n",
    "                red_shift_host =  lookml_config[value]['host']\n",
    "                red_shift_port =  lookml_config[value]['port']\n",
    "                red_shift_user =  lookml_config[value]['user']\n",
    "                red_shift_password =  lookml_config[value]['password']\n",
    "\n",
    "            ## snowflake vars\n",
    "\n",
    "            elif warehouse_name == 'snowflake':\n",
    "\n",
    "                snowflake_account = lookml_config[value]['account']\n",
    "                snowflake_user = lookml_config[value]['user']\n",
    "                snowflake_schema = lookml_config[value]['schema_name']\n",
    "                snowflake_database = lookml_config[value]['database']\n",
    "                snowflake_password = lookml_config[value]['password']\n",
    "                snowflake_warehouse = lookml_config[value]['warehouse']\n",
    "                snowflake_role = lookml_config[value]['role']\n",
    "\n",
    "                warehouse_name =  lookml_config[value]['warehouse_name']\n",
    "                project_name =  lookml_config[value]['project_name']"
   ]
  },
  {
   "cell_type": "code",
   "execution_count": 21,
   "id": "8674c127",
   "metadata": {},
   "outputs": [
    {
     "data": {
      "text/plain": [
       "'big_query'"
      ]
     },
     "execution_count": 21,
     "metadata": {},
     "output_type": "execute_result"
    }
   ],
   "source": [
    "warehouse_name"
   ]
  },
  {
   "cell_type": "code",
   "execution_count": 22,
   "id": "4d66e26a",
   "metadata": {},
   "outputs": [
    {
     "data": {
      "text/plain": [
       "'sytner'"
      ]
     },
     "execution_count": 22,
     "metadata": {},
     "output_type": "execute_result"
    }
   ],
   "source": [
    "enviroment_project"
   ]
  },
  {
   "cell_type": "code",
   "execution_count": null,
   "id": "71c3428a",
   "metadata": {},
   "outputs": [],
   "source": []
  }
 ],
 "metadata": {
  "kernelspec": {
   "display_name": "Python 3 (ipykernel)",
   "language": "python",
   "name": "python3"
  },
  "language_info": {
   "codemirror_mode": {
    "name": "ipython",
    "version": 3
   },
   "file_extension": ".py",
   "mimetype": "text/x-python",
   "name": "python",
   "nbconvert_exporter": "python",
   "pygments_lexer": "ipython3",
   "version": "3.8.12"
  }
 },
 "nbformat": 4,
 "nbformat_minor": 5
}
