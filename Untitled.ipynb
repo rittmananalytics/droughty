{
 "cells": [
  {
   "cell_type": "code",
   "execution_count": 57,
   "id": "2d4d1b5e",
   "metadata": {},
   "outputs": [],
   "source": [
    "d = {'wh_delivery__harvest_clients_dim': ['harvest_client_name', 'harvest_client_id'], 'wh_delivery__jira_proects_dim': ['jira_project_name', 'jira_project_id']}"
   ]
  },
  {
   "cell_type": "code",
   "execution_count": 58,
   "id": "e2ce7457",
   "metadata": {},
   "outputs": [
    {
     "data": {
      "text/plain": [
       "{'wh_delivery__harvest_clients_dim': ['harvest_client_name',\n",
       "  'harvest_client_id'],\n",
       " 'wh_delivery__jira_proects_dim': ['jira_project_name', 'jira_project_id']}"
      ]
     },
     "execution_count": 58,
     "metadata": {},
     "output_type": "execute_result"
    }
   ],
   "source": [
    "d"
   ]
  },
  {
   "cell_type": "code",
   "execution_count": 59,
   "id": "c945849b",
   "metadata": {},
   "outputs": [
    {
     "data": {
      "text/plain": [
       "[['harvest_client_name', 'harvest_client_id'],\n",
       " ['jira_project_name', 'jira_project_id']]"
      ]
     },
     "execution_count": 59,
     "metadata": {},
     "output_type": "execute_result"
    }
   ],
   "source": [
    "list(d.values())"
   ]
  },
  {
   "cell_type": "code",
   "execution_count": 32,
   "id": "614ea8ce",
   "metadata": {},
   "outputs": [],
   "source": [
    "f = d.get('column_names')"
   ]
  },
  {
   "cell_type": "code",
   "execution_count": 33,
   "id": "8453d3bb",
   "metadata": {},
   "outputs": [],
   "source": [
    "f"
   ]
  },
  {
   "cell_type": "code",
   "execution_count": 34,
   "id": "e8825e15",
   "metadata": {},
   "outputs": [
    {
     "data": {
      "text/plain": [
       "{'wh_delivery__harvest_clients_dim': ['harvest_client_name'],\n",
       " 'wh_delivery__jira_proects_dim': ['jira_project_name']}"
      ]
     },
     "execution_count": 34,
     "metadata": {},
     "output_type": "execute_result"
    }
   ],
   "source": [
    "d"
   ]
  },
  {
   "cell_type": "code",
   "execution_count": 12,
   "id": "d1d7c292",
   "metadata": {},
   "outputs": [
    {
     "data": {
      "text/plain": [
       "['wh_delivery__harvest_clients_dim']"
      ]
     },
     "execution_count": 12,
     "metadata": {},
     "output_type": "execute_result"
    }
   ],
   "source": [
    "list(d.keys())"
   ]
  },
  {
   "cell_type": "code",
   "execution_count": 13,
   "id": "811b6221",
   "metadata": {},
   "outputs": [
    {
     "data": {
      "text/plain": [
       "[{'column_names': ['harvest_client_name']}]"
      ]
     },
     "execution_count": 13,
     "metadata": {},
     "output_type": "execute_result"
    }
   ],
   "source": [
    "list(d.values())"
   ]
  },
  {
   "cell_type": "code",
   "execution_count": 14,
   "id": "70eba1a4",
   "metadata": {},
   "outputs": [],
   "source": [
    "l = list(d.values())"
   ]
  },
  {
   "cell_type": "code",
   "execution_count": 15,
   "id": "1e21bdd2",
   "metadata": {},
   "outputs": [
    {
     "data": {
      "text/plain": [
       "[{'column_names': ['harvest_client_name']}]"
      ]
     },
     "execution_count": 15,
     "metadata": {},
     "output_type": "execute_result"
    }
   ],
   "source": [
    "l"
   ]
  },
  {
   "cell_type": "code",
   "execution_count": 17,
   "id": "577efca3",
   "metadata": {},
   "outputs": [
    {
     "ename": "AttributeError",
     "evalue": "'list' object has no attribute 'values'",
     "output_type": "error",
     "traceback": [
      "\u001b[0;31m---------------------------------------------------------------------------\u001b[0m",
      "\u001b[0;31mAttributeError\u001b[0m                            Traceback (most recent call last)",
      "Input \u001b[0;32mIn [17]\u001b[0m, in \u001b[0;36m<cell line: 1>\u001b[0;34m()\u001b[0m\n\u001b[0;32m----> 1\u001b[0m \u001b[38;5;28;01mfor\u001b[39;00m key \u001b[38;5;129;01min\u001b[39;00m \u001b[43ml\u001b[49m\u001b[38;5;241;43m.\u001b[39;49m\u001b[43mvalues\u001b[49m():\n\u001b[1;32m      2\u001b[0m     \u001b[38;5;28mprint\u001b[39m(key)\n",
      "\u001b[0;31mAttributeError\u001b[0m: 'list' object has no attribute 'values'"
     ]
    }
   ],
   "source": [
    "for key in l.values():\n",
    "    print(key)"
   ]
  },
  {
   "cell_type": "code",
   "execution_count": 19,
   "id": "6ec0cd4f",
   "metadata": {},
   "outputs": [
    {
     "name": "stdout",
     "output_type": "stream",
     "text": [
      "dict_keys(['column_names'])\n"
     ]
    }
   ],
   "source": [
    "for i in d:\n",
    "  # display\n",
    "    print(d[i].keys())"
   ]
  },
  {
   "cell_type": "code",
   "execution_count": null,
   "id": "70dff5c5",
   "metadata": {},
   "outputs": [],
   "source": [
    "for i in d:\n",
    "  # display\n",
    "    print(d[i].keys())"
   ]
  },
  {
   "cell_type": "code",
   "execution_count": 27,
   "id": "a5796fa6",
   "metadata": {},
   "outputs": [
    {
     "name": "stdout",
     "output_type": "stream",
     "text": [
      "wh_delivery__harvest_clients_dim\n",
      "wh_delivery__jira_proects_dim\n"
     ]
    }
   ],
   "source": [
    "for key,value in d.items():\n",
    "    \n",
    "    print(key)"
   ]
  },
  {
   "cell_type": "code",
   "execution_count": 41,
   "id": "8a93ad86",
   "metadata": {},
   "outputs": [
    {
     "name": "stdout",
     "output_type": "stream",
     "text": [
      "wh_delivery__harvest_clients_dim ['harvest_client_name', 'harvest_client_id']\n",
      "wh_delivery__jira_proects_dim ['jira_project_name', 'jira_project_id']\n"
     ]
    }
   ],
   "source": [
    "for key,value in d.items():\n",
    "    \n",
    "    print(key,value)\n",
    "    "
   ]
  },
  {
   "cell_type": "code",
   "execution_count": 44,
   "id": "15986d90",
   "metadata": {},
   "outputs": [],
   "source": [
    "resolution_columns = list(d.values())"
   ]
  },
  {
   "cell_type": "code",
   "execution_count": 45,
   "id": "cc3373f6",
   "metadata": {},
   "outputs": [
    {
     "data": {
      "text/plain": [
       "[['harvest_client_name', 'harvest_client_id'],\n",
       " ['jira_project_name', 'jira_project_id']]"
      ]
     },
     "execution_count": 45,
     "metadata": {},
     "output_type": "execute_result"
    }
   ],
   "source": [
    "resolution_columns"
   ]
  },
  {
   "cell_type": "code",
   "execution_count": 46,
   "id": "ff8e2cf9",
   "metadata": {},
   "outputs": [],
   "source": [
    "xs = ['1', '2', '3']\n",
    "s = ''.join(xs)"
   ]
  },
  {
   "cell_type": "code",
   "execution_count": 47,
   "id": "0a5aba47",
   "metadata": {},
   "outputs": [
    {
     "data": {
      "text/plain": [
       "'123'"
      ]
     },
     "execution_count": 47,
     "metadata": {},
     "output_type": "execute_result"
    }
   ],
   "source": [
    "s"
   ]
  },
  {
   "cell_type": "code",
   "execution_count": 48,
   "id": "e73c19bd",
   "metadata": {},
   "outputs": [],
   "source": [
    "resolution_tables_string = ','.join(xs)"
   ]
  },
  {
   "cell_type": "code",
   "execution_count": 49,
   "id": "759de72b",
   "metadata": {},
   "outputs": [
    {
     "data": {
      "text/plain": [
       "'1,2,3'"
      ]
     },
     "execution_count": 49,
     "metadata": {},
     "output_type": "execute_result"
    }
   ],
   "source": [
    "resolution_tables_string"
   ]
  },
  {
   "cell_type": "code",
   "execution_count": 50,
   "id": "61315d89",
   "metadata": {},
   "outputs": [
    {
     "data": {
      "text/plain": [
       "['1', '2', '3']"
      ]
     },
     "execution_count": 50,
     "metadata": {},
     "output_type": "execute_result"
    }
   ],
   "source": [
    "xs"
   ]
  },
  {
   "cell_type": "code",
   "execution_count": 53,
   "id": "9ba50216",
   "metadata": {},
   "outputs": [
    {
     "data": {
      "text/plain": [
       "'\"1\", \"2\", \"3\"'"
      ]
     },
     "execution_count": 53,
     "metadata": {},
     "output_type": "execute_result"
    }
   ],
   "source": [
    "', '.join(f'\"{w}\"' for w in xs)"
   ]
  },
  {
   "cell_type": "code",
   "execution_count": 54,
   "id": "d145cde4",
   "metadata": {},
   "outputs": [],
   "source": [
    "res = str(xs)[1:-1]"
   ]
  },
  {
   "cell_type": "code",
   "execution_count": 55,
   "id": "bd196584",
   "metadata": {},
   "outputs": [
    {
     "data": {
      "text/plain": [
       "\"'1', '2', '3'\""
      ]
     },
     "execution_count": 55,
     "metadata": {},
     "output_type": "execute_result"
    }
   ],
   "source": [
    "res"
   ]
  },
  {
   "cell_type": "code",
   "execution_count": 56,
   "id": "769eedc7",
   "metadata": {},
   "outputs": [
    {
     "data": {
      "text/plain": [
       "'\"1\", \"2\", \"3\"'"
      ]
     },
     "execution_count": 56,
     "metadata": {},
     "output_type": "execute_result"
    }
   ],
   "source": [
    "', '.join('\"{0}\"'.format(w) for w in xs)"
   ]
  },
  {
   "cell_type": "code",
   "execution_count": 60,
   "id": "21564dac",
   "metadata": {},
   "outputs": [],
   "source": [
    "resolution_tables = list(d.keys())\n"
   ]
  },
  {
   "cell_type": "code",
   "execution_count": 61,
   "id": "f0ddfa6a",
   "metadata": {},
   "outputs": [
    {
     "data": {
      "text/plain": [
       "['wh_delivery__harvest_clients_dim', 'wh_delivery__jira_proects_dim']"
      ]
     },
     "execution_count": 61,
     "metadata": {},
     "output_type": "execute_result"
    }
   ],
   "source": [
    "resolution_tables"
   ]
  },
  {
   "cell_type": "code",
   "execution_count": 62,
   "id": "189e66a1",
   "metadata": {},
   "outputs": [],
   "source": [
    "resolution_columns = list(d.values())\n"
   ]
  },
  {
   "cell_type": "code",
   "execution_count": 63,
   "id": "9dac3347",
   "metadata": {},
   "outputs": [
    {
     "data": {
      "text/plain": [
       "[['harvest_client_name', 'harvest_client_id'],\n",
       " ['jira_project_name', 'jira_project_id']]"
      ]
     },
     "execution_count": 63,
     "metadata": {},
     "output_type": "execute_result"
    }
   ],
   "source": [
    "resolution_columns"
   ]
  },
  {
   "cell_type": "code",
   "execution_count": null,
   "id": "784e7de5",
   "metadata": {},
   "outputs": [],
   "source": []
  }
 ],
 "metadata": {
  "kernelspec": {
   "display_name": "Python 3 (ipykernel)",
   "language": "python",
   "name": "python3"
  },
  "language_info": {
   "codemirror_mode": {
    "name": "ipython",
    "version": 3
   },
   "file_extension": ".py",
   "mimetype": "text/x-python",
   "name": "python",
   "nbconvert_exporter": "python",
   "pygments_lexer": "ipython3",
   "version": "3.9.12"
  }
 },
 "nbformat": 4,
 "nbformat_minor": 5
}
