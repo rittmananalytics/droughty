{
 "cells": [
  {
   "cell_type": "code",
   "execution_count": 25,
   "id": "b0793f33-e828-49a0-a278-e81a499a72b8",
   "metadata": {},
   "outputs": [],
   "source": [
    "import lkml as looker\n",
    "from pprint import pprint\n",
    "from google.oauth2 import service_account\n",
    "import pandas_gbq\n",
    "from contextlib import redirect_stdout\n",
    "import snowflake.connector\n",
    "from sqlalchemy import create_engine\n",
    "from snowflake.sqlalchemy import URL\n",
    "import pandas as pd\n",
    "import pandas\n",
    "import os\n",
    "import json\n",
    "import sys\n",
    "import yaml\n",
    "import git\n",
    "\n",
    "from lookml_base_dict import d2\n",
    "from lookml_base_dict import d5\n",
    "\n",
    "\n",
    "def get_all_values(nested_dictionary):\n",
    "    \n",
    "    for key,value in nested_dictionary.items():\n",
    "\n",
    "        explore = {\n",
    "\n",
    "            \"explore\": key,\n",
    "\n",
    "            \"view_name\": key\n",
    "                \n",
    "        }\n",
    "            \n",
    "        \n",
    "        yield(looker.dump(explore))\n",
    "\n",
    "        for key1 in value.keys():\n",
    "                    \n",
    "\n",
    "            join = {\n",
    "\n",
    "                \"joins\": [\n",
    "                    {\n",
    "                    \"sql_on\": key1[1]+\".\"+key1[2]+\" = \"+ key+\".\"+key1[0],\n",
    "                    \"name\": key1[1]\n",
    "                    }\n",
    "\n",
    "                ]\n",
    "                }\n",
    "\n",
    "            yield(looker.dump(join))\n",
    "\n",
    "\n",
    "nested_dictionary = d2\n",
    "\n",
    "get_all_values(nested_dictionary)\n",
    "\n",
    "def get_git_root(path):\n",
    "\n",
    "        git_repo = git.Repo(path, search_parent_directories=True)\n",
    "        git_root = git_repo.git.rev_parse(\"--show-toplevel\")\n",
    "        return (git_root)\n",
    "\n",
    "git_def_path = get_git_root(os.getcwd())\n",
    "\n",
    "\n",
    "def explore_output():\n",
    "    \n",
    "    git_path = git_def_path\n",
    "\n",
    "    rel_path = \"base\"\n",
    "\n",
    "    path = os.path.join(git_path, rel_path)\n",
    "\n",
    "    if not os.path.exists(path):\n",
    "        os.makedirs(path)\n",
    "        \n",
    "    filename = '_explore.layer.lkml'\n",
    "\n",
    "    with open(os.path.join(path, filename), 'w') as file:\n",
    "\n",
    "        with redirect_stdout(file):\n",
    "\n",
    "                for value in get_all_values(nested_dictionary):\n",
    "\n",
    "                    print(value)\n",
    "\n",
    "explore_output()\n",
    "    "
   ]
  },
  {
   "cell_type": "code",
   "execution_count": 26,
   "id": "d56f1f5e-02f6-45a5-b3bc-7f2364f2a263",
   "metadata": {},
   "outputs": [
    {
     "data": {
      "text/plain": [
       "{'wh_website_users_dim': {('user_blended_pk',\n",
       "   'wh_website_event_pages_fct',\n",
       "   'user_blended_fk'): {'pk_table_name_value': 'wh_website_users_dim'},\n",
       "  ('user_blended_pk',\n",
       "   'wh_website_event_tracks_fct',\n",
       "   'user_blended_fk'): {'pk_table_name_value': 'wh_website_users_dim'}}}"
      ]
     },
     "execution_count": 26,
     "metadata": {},
     "output_type": "execute_result"
    }
   ],
   "source": [
    "d2"
   ]
  },
  {
   "cell_type": "code",
   "execution_count": 27,
   "id": "694347b6-061a-4394-9a2a-5d907e230a36",
   "metadata": {},
   "outputs": [
    {
     "data": {
      "text/plain": [
       "{'wh_website_users_dim': {'user_blended_pk': {'wh_website_event_pages_fct': {'wh_website_users_dim': 'user_blended_fk'},\n",
       "   'wh_website_event_tracks_fct': {'wh_website_users_dim': 'user_blended_fk'}}}}"
      ]
     },
     "execution_count": 27,
     "metadata": {},
     "output_type": "execute_result"
    }
   ],
   "source": [
    "d5"
   ]
  },
  {
   "cell_type": "code",
   "execution_count": 28,
   "id": "2470c771-5e4e-4a63-bbf0-7cad50c16e68",
   "metadata": {},
   "outputs": [
    {
     "name": "stdout",
     "output_type": "stream",
     "text": [
      "explore: wh_website_users_dim\n",
      "view_name: wh_website_users_dim\n",
      "join: wh_website_event_pages_fct {\n",
      "  sql_on: wh_website_event_pages_fct.user_blended_fk = wh_website_users_dim.user_blended_pk ;;\n",
      "}\n",
      "join: wh_website_event_tracks_fct {\n",
      "  sql_on: wh_website_event_tracks_fct.user_blended_fk = wh_website_users_dim.user_blended_pk ;;\n",
      "}\n"
     ]
    }
   ],
   "source": [
    "                for value in get_all_values(nested_dictionary):\n",
    "\n",
    "                    print(value)"
   ]
  },
  {
   "cell_type": "code",
   "execution_count": null,
   "id": "6954b180-28f7-4052-ad62-b30e40b7a709",
   "metadata": {},
   "outputs": [],
   "source": [
    "def get_all_values(nested_dictionary):\n",
    "    res = []\n",
    "    \n",
    "    for key,value in nested_dictionary.items():\n",
    "            seq = []\n",
    "            res.append([{\"explore\": key, \"columns\": seq}])\n",
    "            # for key1, value1 in value.items():  # not using value1\n",
    "            for key1 in value.keys():\n",
    "                    \n",
    "                elem = {\"name\": key1, \"tests\": [\"not_null\", \"unique\"]}\n",
    "                seq.append(elem)\n",
    "                    \n",
    "\n",
    "    return res"
   ]
  }
 ],
 "metadata": {
  "kernelspec": {
   "display_name": "Python 3 (ipykernel)",
   "language": "python",
   "name": "python3"
  },
  "language_info": {
   "codemirror_mode": {
    "name": "ipython",
    "version": 3
   },
   "file_extension": ".py",
   "mimetype": "text/x-python",
   "name": "python",
   "nbconvert_exporter": "python",
   "pygments_lexer": "ipython3",
   "version": "3.8.12"
  }
 },
 "nbformat": 4,
 "nbformat_minor": 5
}
