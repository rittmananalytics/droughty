{
 "cells": [
  {
   "cell_type": "code",
   "execution_count": 8,
   "id": "0750da74",
   "metadata": {},
   "outputs": [],
   "source": [
    "d = {'wh_delivery__harvest_clients_dim': {'column_names': ['harvest_client_name']}}"
   ]
  },
  {
   "cell_type": "code",
   "execution_count": 2,
   "id": "a9ba4853",
   "metadata": {},
   "outputs": [
    {
     "data": {
      "text/plain": [
       "{'wh_delivery__harvest_clients_dim': {'column_names': ['harvest_client_name']}}"
      ]
     },
     "execution_count": 2,
     "metadata": {},
     "output_type": "execute_result"
    }
   ],
   "source": [
    "d"
   ]
  },
  {
   "cell_type": "code",
   "execution_count": 3,
   "id": "21f7faa6",
   "metadata": {},
   "outputs": [
    {
     "data": {
      "text/plain": [
       "[{'column_names': ['harvest_client_name']}]"
      ]
     },
     "execution_count": 3,
     "metadata": {},
     "output_type": "execute_result"
    }
   ],
   "source": [
    "list(d.values())"
   ]
  },
  {
   "cell_type": "code",
   "execution_count": 9,
   "id": "caee6a79",
   "metadata": {},
   "outputs": [],
   "source": [
    "f = d.get('column_names')"
   ]
  },
  {
   "cell_type": "code",
   "execution_count": 10,
   "id": "693e8495",
   "metadata": {},
   "outputs": [],
   "source": [
    "f"
   ]
  },
  {
   "cell_type": "code",
   "execution_count": 11,
   "id": "723a6b21",
   "metadata": {},
   "outputs": [
    {
     "data": {
      "text/plain": [
       "{'wh_delivery__harvest_clients_dim': {'column_names': ['harvest_client_name']}}"
      ]
     },
     "execution_count": 11,
     "metadata": {},
     "output_type": "execute_result"
    }
   ],
   "source": [
    "d"
   ]
  },
  {
   "cell_type": "code",
   "execution_count": null,
   "id": "a6e11fa5",
   "metadata": {},
   "outputs": [],
   "source": []
  }
 ],
 "metadata": {
  "kernelspec": {
   "display_name": "Python 3 (ipykernel)",
   "language": "python",
   "name": "python3"
  },
  "language_info": {
   "codemirror_mode": {
    "name": "ipython",
    "version": 3
   },
   "file_extension": ".py",
   "mimetype": "text/x-python",
   "name": "python",
   "nbconvert_exporter": "python",
   "pygments_lexer": "ipython3",
   "version": "3.9.12"
  }
 },
 "nbformat": 4,
 "nbformat_minor": 5
}
