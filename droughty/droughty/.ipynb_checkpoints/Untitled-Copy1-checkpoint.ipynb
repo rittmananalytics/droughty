{
 "cells": [
  {
   "cell_type": "code",
   "execution_count": 1,
   "id": "4aff6666",
   "metadata": {},
   "outputs": [],
   "source": [
    "import yaml\n",
    "\n",
    "with open('example.yaml', 'r') as file:\n",
    "\n",
    "    prime_service = yaml.safe_load(file)"
   ]
  },
  {
   "cell_type": "code",
   "execution_count": 2,
   "id": "9d0df7d9",
   "metadata": {},
   "outputs": [],
   "source": [
    "with open('example.yaml', 'r') as f:\n",
    "    droughty_project = yaml.load(f, Loader=yaml.FullLoader)"
   ]
  },
  {
   "cell_type": "code",
   "execution_count": 3,
   "id": "89187eb7",
   "metadata": {},
   "outputs": [
    {
     "data": {
      "text/plain": [
       "{'profile': 'snowflake_demo_olivier',\n",
       " 'field_description_path': 'warehouse_docs',\n",
       " 'field_description_file_name': 'field_descriptions.md',\n",
       " 'test_schemas': ['analytics_qa',\n",
       "  'analytics_staging',\n",
       "  'analytics_integration'],\n",
       " 'dbml_schemas': ['analytics_qa',\n",
       "  'analytics_staging',\n",
       "  'analytics_integration'],\n",
       " 'lookml_pop': {'views': {'example_1': {'date_dimensions': ['example_2']},\n",
       "   'example_3': {'date_dimensions': ['example_4', 'example_5']}}}}"
      ]
     },
     "execution_count": 3,
     "metadata": {},
     "output_type": "execute_result"
    }
   ],
   "source": [
    "prime_service"
   ]
  },
  {
   "cell_type": "code",
   "execution_count": 4,
   "id": "6d75d98e",
   "metadata": {},
   "outputs": [
    {
     "name": "stdout",
     "output_type": "stream",
     "text": [
      "{'example_1': {'date_dimensions': ['example_2']}, 'example_3': {'date_dimensions': ['example_4', 'example_5']}}\n"
     ]
    }
   ],
   "source": [
    "print(prime_service['lookml_pop']['views'])"
   ]
  },
  {
   "cell_type": "code",
   "execution_count": 5,
   "id": "81e46e14",
   "metadata": {},
   "outputs": [],
   "source": [
    "test = prime_service['lookml_pop']['views']"
   ]
  },
  {
   "cell_type": "code",
   "execution_count": 6,
   "id": "ce99ba3e",
   "metadata": {},
   "outputs": [
    {
     "data": {
      "text/plain": [
       "{'example_1': {'date_dimensions': ['example_2']},\n",
       " 'example_3': {'date_dimensions': ['example_4', 'example_5']}}"
      ]
     },
     "execution_count": 6,
     "metadata": {},
     "output_type": "execute_result"
    }
   ],
   "source": [
    "test"
   ]
  },
  {
   "cell_type": "code",
   "execution_count": 7,
   "id": "15bf596c",
   "metadata": {},
   "outputs": [
    {
     "data": {
      "text/plain": [
       "dict"
      ]
     },
     "execution_count": 7,
     "metadata": {},
     "output_type": "execute_result"
    }
   ],
   "source": [
    "type(test)"
   ]
  },
  {
   "cell_type": "code",
   "execution_count": 8,
   "id": "81a2eb92",
   "metadata": {},
   "outputs": [
    {
     "name": "stdout",
     "output_type": "stream",
     "text": [
      "<built-in method values of dict object at 0x1079fdf00>\n"
     ]
    }
   ],
   "source": [
    "print(test.values)"
   ]
  },
  {
   "cell_type": "code",
   "execution_count": 9,
   "id": "2eea1f65",
   "metadata": {},
   "outputs": [
    {
     "name": "stdout",
     "output_type": "stream",
     "text": [
      "example_1\n",
      "example_3\n"
     ]
    }
   ],
   "source": [
    "for k in test:\n",
    "\n",
    "    print (k)"
   ]
  },
  {
   "cell_type": "code",
   "execution_count": 10,
   "id": "deca3787",
   "metadata": {},
   "outputs": [
    {
     "name": "stdout",
     "output_type": "stream",
     "text": [
      "example_1\n",
      "date_dimensions: ['example_2']\n",
      "example_3\n",
      "date_dimensions: ['example_4', 'example_5']\n"
     ]
    }
   ],
   "source": [
    "for key, value in test.items():\n",
    "    print(key)\n",
    "    \n",
    "    for key1 in value:\n",
    "        print(key1 + ':', value[key1])"
   ]
  },
  {
   "cell_type": "code",
   "execution_count": 11,
   "id": "7650a2fb",
   "metadata": {},
   "outputs": [
    {
     "name": "stdout",
     "output_type": "stream",
     "text": [
      "example_1\n",
      "['example_2']\n",
      "example_3\n",
      "['example_4', 'example_5']\n"
     ]
    }
   ],
   "source": [
    "for key, value in test.items():\n",
    "    print(key)\n",
    "    \n",
    "    for key1 in value:\n",
    "        print(value[key1])"
   ]
  },
  {
   "cell_type": "code",
   "execution_count": 12,
   "id": "df961d4a",
   "metadata": {},
   "outputs": [
    {
     "data": {
      "text/plain": [
       "{'profile': 'snowflake_demo_olivier',\n",
       " 'field_description_path': 'warehouse_docs',\n",
       " 'field_description_file_name': 'field_descriptions.md',\n",
       " 'test_schemas': ['analytics_qa',\n",
       "  'analytics_staging',\n",
       "  'analytics_integration'],\n",
       " 'dbml_schemas': ['analytics_qa',\n",
       "  'analytics_staging',\n",
       "  'analytics_integration'],\n",
       " 'lookml_pop': {'views': {'example_1': {'date_dimensions': ['example_2']},\n",
       "   'example_3': {'date_dimensions': ['example_4', 'example_5']}}}}"
      ]
     },
     "execution_count": 12,
     "metadata": {},
     "output_type": "execute_result"
    }
   ],
   "source": [
    "droughty_project"
   ]
  },
  {
   "cell_type": "code",
   "execution_count": 13,
   "id": "5b655ee9",
   "metadata": {},
   "outputs": [],
   "source": [
    "test_2 = droughty_project['lookml_pop']['views']"
   ]
  },
  {
   "cell_type": "code",
   "execution_count": 14,
   "id": "55007274",
   "metadata": {},
   "outputs": [
    {
     "data": {
      "text/plain": [
       "{'example_1': {'date_dimensions': ['example_2']},\n",
       " 'example_3': {'date_dimensions': ['example_4', 'example_5']}}"
      ]
     },
     "execution_count": 14,
     "metadata": {},
     "output_type": "execute_result"
    }
   ],
   "source": [
    "test_2"
   ]
  },
  {
   "cell_type": "code",
   "execution_count": 15,
   "id": "c48f4971",
   "metadata": {},
   "outputs": [
    {
     "name": "stdout",
     "output_type": "stream",
     "text": [
      "example_1\n",
      "['example_2']\n",
      "example_3\n",
      "['example_4', 'example_5']\n"
     ]
    }
   ],
   "source": [
    "for view_name, field_name in test_2.items():\n",
    "    print(view_name)\n",
    "    \n",
    "    for field_name_list in field_name:\n",
    "        print(field_name[field_name_list])"
   ]
  },
  {
   "cell_type": "code",
   "execution_count": 30,
   "id": "73336cab",
   "metadata": {},
   "outputs": [],
   "source": [
    "def test_3():\n",
    "        \n",
    "    for key, value in test_2.items():\n",
    "        yield(key)\n",
    "\n",
    "        for key1 in value:\n",
    "            yield(value[key1])\n",
    "            \n",
    "           \n",
    "test_4 = test_3()"
   ]
  },
  {
   "cell_type": "code",
   "execution_count": 31,
   "id": "a2d848c9",
   "metadata": {},
   "outputs": [
    {
     "name": "stdout",
     "output_type": "stream",
     "text": [
      "<generator object test_3 at 0x10c4d4eb0>\n"
     ]
    }
   ],
   "source": [
    "print(test_4)"
   ]
  },
  {
   "cell_type": "code",
   "execution_count": 38,
   "id": "ac200571",
   "metadata": {},
   "outputs": [],
   "source": [
    "view_names = {}\n",
    "field_names = {} #Empty dictionary to add values into\n",
    "\n",
    "for key, value in test_2.items():\n",
    "    view_names = key\n",
    "\n",
    "    for key1 in value:\n",
    "        field_names = value[key1]"
   ]
  },
  {
   "cell_type": "code",
   "execution_count": 39,
   "id": "d00290ca",
   "metadata": {},
   "outputs": [
    {
     "data": {
      "text/plain": [
       "'example_3'"
      ]
     },
     "execution_count": 39,
     "metadata": {},
     "output_type": "execute_result"
    }
   ],
   "source": [
    "view_names"
   ]
  },
  {
   "cell_type": "code",
   "execution_count": 41,
   "id": "fad6b868",
   "metadata": {},
   "outputs": [
    {
     "name": "stdout",
     "output_type": "stream",
     "text": [
      "Key ::  example_1\n",
      "{'date_dimensions': ['example_4', 'example_5']}\n",
      "Key ::  example_3\n",
      "{'date_dimensions': ['example_4', 'example_5']}\n"
     ]
    }
   ],
   "source": [
    "# Create a dictionary where multiple values are\n",
    "# associated with a key\n",
    "word_freq = test_2\n",
    "\n",
    "# Iterate over a dictionary with list values using nested for loop\n",
    "for key, values in word_freq.items():\n",
    "    print('Key :: ', key)\n",
    "    if(isinstance(values, list)):\n",
    "        for value in values:\n",
    "            print(value)\n",
    "    else:\n",
    "        print(value)"
   ]
  },
  {
   "cell_type": "code",
   "execution_count": 27,
   "id": "a4ec86cc",
   "metadata": {},
   "outputs": [
    {
     "name": "stdout",
     "output_type": "stream",
     "text": [
      "view_example_1\n",
      "example_2\n",
      "example_3\n",
      "view_example_4\n",
      "example_5\n",
      "example_6\n"
     ]
    }
   ],
   "source": [
    "# Create a dictionary where multiple values are\n",
    "# associated with a key\n",
    "word_freq = {'view_example_1': ['example_2', 'example_3'],\n",
    "             'view_example_4': ['example_5', 'example_6']\n",
    "            }\n",
    "# Iterate over a dictionary with list values using nested for loop\n",
    "for key, values in word_freq.items():\n",
    "    print(key)\n",
    "    if(isinstance(values, list)):\n",
    "        for value in values:\n",
    "            print(value)\n",
    "    else:\n",
    "        print(value)"
   ]
  },
  {
   "cell_type": "code",
   "execution_count": null,
   "id": "17796978",
   "metadata": {},
   "outputs": [],
   "source": [
    "for view_name, field_name in test_2.items():\n",
    "    print(view_name)\n",
    "    \n",
    "    for field_name_list in field_name:\n",
    "        print(field_name[field_name_list])"
   ]
  },
  {
   "cell_type": "code",
   "execution_count": 34,
   "id": "7eb6bd2c",
   "metadata": {},
   "outputs": [
    {
     "ename": "ValueError",
     "evalue": "too many values to unpack (expected 2)",
     "output_type": "error",
     "traceback": [
      "\u001b[0;31m---------------------------------------------------------------------------\u001b[0m",
      "\u001b[0;31mValueError\u001b[0m                                Traceback (most recent call last)",
      "Input \u001b[0;32mIn [34]\u001b[0m, in \u001b[0;36m<module>\u001b[0;34m\u001b[0m\n\u001b[1;32m     11\u001b[0m         \u001b[38;5;28;01melse\u001b[39;00m:\n\u001b[1;32m     12\u001b[0m             \u001b[38;5;28mprint\u001b[39m(value)\n\u001b[0;32m---> 14\u001b[0m tested \u001b[38;5;241m=\u001b[39m \u001b[43mtest\u001b[49m\u001b[43m(\u001b[49m\u001b[43m)\u001b[49m\n",
      "Input \u001b[0;32mIn [34]\u001b[0m, in \u001b[0;36mtest\u001b[0;34m()\u001b[0m\n\u001b[1;32m      3\u001b[0m     word_freq \u001b[38;5;241m=\u001b[39m test_3()\n\u001b[1;32m      5\u001b[0m \u001b[38;5;66;03m# Iterate over a dictionary with list values using nested for loop\u001b[39;00m\n\u001b[0;32m----> 6\u001b[0m     \u001b[38;5;28;01mfor\u001b[39;00m key, values \u001b[38;5;129;01min\u001b[39;00m word_freq:\n\u001b[1;32m      7\u001b[0m         \u001b[38;5;28mprint\u001b[39m(key)\n\u001b[1;32m      8\u001b[0m         \u001b[38;5;28;01mif\u001b[39;00m(\u001b[38;5;28misinstance\u001b[39m(values, \u001b[38;5;28mlist\u001b[39m)):\n",
      "\u001b[0;31mValueError\u001b[0m: too many values to unpack (expected 2)"
     ]
    }
   ],
   "source": [
    "def test():\n",
    "    \n",
    "    word_freq = test_3()\n",
    "\n",
    "# Iterate over a dictionary with list values using nested for loop\n",
    "    for key, values in word_freq:\n",
    "        print(key)\n",
    "        if(isinstance(values, list)):\n",
    "            for value in values:\n",
    "                print(value)\n",
    "        else:\n",
    "            print(value)\n",
    "            \n",
    "tested = test()\n"
   ]
  },
  {
   "cell_type": "code",
   "execution_count": 51,
   "id": "3671e9c4",
   "metadata": {},
   "outputs": [
    {
     "name": "stdout",
     "output_type": "stream",
     "text": [
      "example_1\n",
      "['example_2']\n",
      "example_3\n",
      "['example_4', 'example_5']\n"
     ]
    }
   ],
   "source": [
    "for view_name, field_name in test_2.items():\n",
    "    print(view_name)\n",
    "    \n",
    "    for field_name_list in field_name:\n",
    "        print(field_name[field_name_list])"
   ]
  },
  {
   "cell_type": "code",
   "execution_count": null,
   "id": "69060ae2",
   "metadata": {},
   "outputs": [],
   "source": []
  }
 ],
 "metadata": {
  "kernelspec": {
   "display_name": "Python 3 (ipykernel)",
   "language": "python",
   "name": "python3"
  },
  "language_info": {
   "codemirror_mode": {
    "name": "ipython",
    "version": 3
   },
   "file_extension": ".py",
   "mimetype": "text/x-python",
   "name": "python",
   "nbconvert_exporter": "python",
   "pygments_lexer": "ipython3",
   "version": "3.8.12"
  }
 },
 "nbformat": 4,
 "nbformat_minor": 5
}
