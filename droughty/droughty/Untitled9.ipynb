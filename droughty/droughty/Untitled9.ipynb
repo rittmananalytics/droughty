{
 "cells": [
  {
   "cell_type": "code",
   "execution_count": 28,
   "id": "a1bbff27-5c51-4067-9eeb-e6a59969cedd",
   "metadata": {},
   "outputs": [
    {
     "ename": "KeyError",
     "evalue": "'warehouse_name'",
     "output_type": "error",
     "traceback": [
      "\u001b[0;31m---------------------------------------------------------------------------\u001b[0m",
      "\u001b[0;31mKeyError\u001b[0m                                  Traceback (most recent call last)",
      "Input \u001b[0;32mIn [28]\u001b[0m, in \u001b[0;36m<module>\u001b[0;34m\u001b[0m\n\u001b[1;32m     43\u001b[0m droughty_project_name \u001b[38;5;241m=\u001b[39m  enviroment_project[\u001b[38;5;124m'\u001b[39m\u001b[38;5;124mprofile\u001b[39m\u001b[38;5;124m'\u001b[39m]\n\u001b[1;32m     47\u001b[0m \u001b[38;5;28;01mif\u001b[39;00m droughty_project_name \u001b[38;5;129;01min\u001b[39;00m profile_key:\n\u001b[1;32m     48\u001b[0m \n\u001b[1;32m     49\u001b[0m \u001b[38;5;66;03m## global vars \u001b[39;00m\n\u001b[0;32m---> 51\u001b[0m     warehouse_name \u001b[38;5;241m=\u001b[39m  \u001b[43mlookml_config\u001b[49m\u001b[43m[\u001b[49m\u001b[38;5;124;43m'\u001b[39;49m\u001b[38;5;124;43mwarehouse_name\u001b[39;49m\u001b[38;5;124;43m'\u001b[39;49m\u001b[43m]\u001b[49m\n\u001b[1;32m     52\u001b[0m     project_name \u001b[38;5;241m=\u001b[39m  lookml_config[\u001b[38;5;124m'\u001b[39m\u001b[38;5;124mproject_name\u001b[39m\u001b[38;5;124m'\u001b[39m]\n\u001b[1;32m     53\u001b[0m     schema_name \u001b[38;5;241m=\u001b[39m  lookml_config[\u001b[38;5;124m'\u001b[39m\u001b[38;5;124mschema_name\u001b[39m\u001b[38;5;124m'\u001b[39m]\n",
      "\u001b[0;31mKeyError\u001b[0m: 'warehouse_name'"
     ]
    }
   ],
   "source": [
    "import os\n",
    "import yaml\n",
    "\n",
    "from google.oauth2 import service_account\n",
    "import os\n",
    "import yaml\n",
    "import git\n",
    "\n",
    "## source vars\n",
    "\n",
    "path = os.path.expanduser('~')\n",
    "\n",
    "profile_pass = os.path.join(path,\".droughty/profile.yaml\")\n",
    "\n",
    "with open(profile_pass) as f:\n",
    "    lookml_config = yaml.load(f, Loader=yaml.FullLoader)\n",
    "\n",
    "def get_git_root(path):\n",
    "\n",
    "        git_repo = git.Repo(path, search_parent_directories=True)\n",
    "        git_root = git_repo.git.rev_parse(\"--show-toplevel\")\n",
    "        return (git_root)\n",
    "    \n",
    "    \n",
    "git_def_path = get_git_root(os.getcwd())\n",
    "\n",
    "git_path = git_def_path\n",
    "\n",
    "filename = 'droughty_project.yaml'\n",
    "\n",
    "droughty_project = os.path.join(git_path,filename)\n",
    "\n",
    "with open(droughty_project) as f:\n",
    "    enviroment_project = yaml.load(f, Loader=yaml.FullLoader)\n",
    "\n",
    "project_value = list(enviroment_project.values())\n",
    "profile_key = list(lookml_config.keys())\n",
    "\n",
    "dict_pairs = enviroment_project.items()\n",
    "pairs_iterator = iter(dict_pairs)\n",
    "first_pair = next(pairs_iterator)\n",
    "\n",
    "droughty_project_name =  enviroment_project['profile']\n",
    "\n",
    "\n",
    "\n",
    "if droughty_project_name in profile_key:\n",
    "\n",
    "    warehouse_name =  lookml_config['warehouse_name']\n",
    "    project_name =  lookml_config['project_name']\n",
    "    schema_name =  lookml_config['schema_name']\n",
    "    test_schemas = lookml_config['test_schemas']\n",
    "\n",
    "        "
   ]
  },
  {
   "cell_type": "code",
   "execution_count": 30,
   "id": "119297c3-adf7-473e-893c-2b804a735a6f",
   "metadata": {},
   "outputs": [
    {
     "ename": "KeyError",
     "evalue": "'warehouse_name'",
     "output_type": "error",
     "traceback": [
      "\u001b[0;31m---------------------------------------------------------------------------\u001b[0m",
      "\u001b[0;31mKeyError\u001b[0m                                  Traceback (most recent call last)",
      "Input \u001b[0;32mIn [30]\u001b[0m, in \u001b[0;36m<module>\u001b[0;34m\u001b[0m\n\u001b[0;32m----> 1\u001b[0m warehouse_name \u001b[38;5;241m=\u001b[39m  \u001b[43mlookml_config\u001b[49m\u001b[43m[\u001b[49m\u001b[38;5;124;43m'\u001b[39;49m\u001b[38;5;124;43mwarehouse_name\u001b[39;49m\u001b[38;5;124;43m'\u001b[39;49m\u001b[43m]\u001b[49m\n",
      "\u001b[0;31mKeyError\u001b[0m: 'warehouse_name'"
     ]
    }
   ],
   "source": [
    "warehouse_name =  lookml_config['warehouse_name']"
   ]
  },
  {
   "cell_type": "code",
   "execution_count": 33,
   "id": "64ab56c0-2bc3-4b1a-ba93-81370b258e97",
   "metadata": {},
   "outputs": [],
   "source": [
    "warehouse_name = lookml_config.get('warehouse_name')"
   ]
  },
  {
   "cell_type": "code",
   "execution_count": 35,
   "id": "d9e39896-6df5-438e-a0d0-df3e4470de92",
   "metadata": {},
   "outputs": [],
   "source": [
    "warehouse_name"
   ]
  },
  {
   "cell_type": "code",
   "execution_count": 2,
   "id": "d3318258-37e3-40f0-b133-13ab645ecebc",
   "metadata": {},
   "outputs": [],
   "source": [
    "profile_targets = []\n",
    "\n",
    "for key in lookml_config.keys():\n",
    "\n",
    "    profile_targets.append(key)"
   ]
  },
  {
   "cell_type": "code",
   "execution_count": 3,
   "id": "30596aac-8133-4c73-9a5b-30dbbd2776cf",
   "metadata": {},
   "outputs": [
    {
     "data": {
      "text/plain": [
       "['snowflake_demo', 'snowflake_demo_2', 'kaplan_poc', 'kaplan_prod', 'rixo']"
      ]
     },
     "execution_count": 3,
     "metadata": {},
     "output_type": "execute_result"
    }
   ],
   "source": [
    "profile_targets"
   ]
  },
  {
   "cell_type": "code",
   "execution_count": 5,
   "id": "dfab02ee-9861-4a21-879c-48c93f5cc950",
   "metadata": {},
   "outputs": [
    {
     "data": {
      "text/plain": [
       "{'profile': 'kaplan_poc',\n",
       " 'explores': {'sales_explore': {'parent_table': ['wh_web_events_fact'],\n",
       "   'dimensions': ['wh_website_users_dim'],\n",
       "   'facts': ['wh_website_pages_fct']}}}"
      ]
     },
     "execution_count": 5,
     "metadata": {},
     "output_type": "execute_result"
    }
   ],
   "source": [
    "enviroment_project"
   ]
  },
  {
   "cell_type": "code",
   "execution_count": 6,
   "id": "ce12315d-04d6-483d-a590-ba81e65c1c25",
   "metadata": {},
   "outputs": [
    {
     "data": {
      "text/plain": [
       "dict_items([('profile', 'kaplan_poc'), ('explores', {'sales_explore': {'parent_table': ['wh_web_events_fact'], 'dimensions': ['wh_website_users_dim'], 'facts': ['wh_website_pages_fct']}})])"
      ]
     },
     "execution_count": 6,
     "metadata": {},
     "output_type": "execute_result"
    }
   ],
   "source": [
    "enviroment_project.items()"
   ]
  },
  {
   "cell_type": "code",
   "execution_count": 7,
   "id": "c0202077-4039-4c24-bebe-eb3377669b62",
   "metadata": {},
   "outputs": [
    {
     "data": {
      "text/plain": [
       "dict_keys(['profile', 'explores'])"
      ]
     },
     "execution_count": 7,
     "metadata": {},
     "output_type": "execute_result"
    }
   ],
   "source": [
    "enviroment_project.keys()"
   ]
  },
  {
   "cell_type": "code",
   "execution_count": 9,
   "id": "62066184-9453-4b7f-ad3f-7fb0af98fb33",
   "metadata": {},
   "outputs": [
    {
     "data": {
      "text/plain": [
       "'kaplan_poc'"
      ]
     },
     "execution_count": 9,
     "metadata": {},
     "output_type": "execute_result"
    }
   ],
   "source": [
    "enviroment_project['profile']"
   ]
  },
  {
   "cell_type": "code",
   "execution_count": 13,
   "id": "fef7c318-90df-4775-8d5f-81b5a66361ae",
   "metadata": {},
   "outputs": [],
   "source": [
    "profile_dict = []\n",
    "\n",
    "for d in enviroment_project.values():\n",
    "    \n",
    "    profile_dict.append(d)\n"
   ]
  },
  {
   "cell_type": "code",
   "execution_count": 14,
   "id": "88e7a154-39ca-438f-9334-8b42c613ea9c",
   "metadata": {},
   "outputs": [
    {
     "data": {
      "text/plain": [
       "['kaplan_poc',\n",
       " {'sales_explore': {'parent_table': ['wh_web_events_fact'],\n",
       "   'dimensions': ['wh_website_users_dim'],\n",
       "   'facts': ['wh_website_pages_fct']}}]"
      ]
     },
     "execution_count": 14,
     "metadata": {},
     "output_type": "execute_result"
    }
   ],
   "source": [
    "profile_dict"
   ]
  },
  {
   "cell_type": "code",
   "execution_count": null,
   "id": "0046d6f2-9052-4f37-b9a3-91f709e6f453",
   "metadata": {},
   "outputs": [],
   "source": [
    "mydict = {}\n",
    "mydict['item'] = input_value"
   ]
  },
  {
   "cell_type": "code",
   "execution_count": 16,
   "id": "8335cb37-c425-44eb-a13e-607b5f11f641",
   "metadata": {},
   "outputs": [
    {
     "ename": "AttributeError",
     "evalue": "'dict' object has no attribute 'iteritems'",
     "output_type": "error",
     "traceback": [
      "\u001b[0;31m---------------------------------------------------------------------------\u001b[0m",
      "\u001b[0;31mAttributeError\u001b[0m                            Traceback (most recent call last)",
      "Input \u001b[0;32mIn [16]\u001b[0m, in \u001b[0;36m<module>\u001b[0;34m\u001b[0m\n\u001b[0;32m----> 1\u001b[0m \u001b[38;5;28;01mfor\u001b[39;00m key, value \u001b[38;5;129;01min\u001b[39;00m \u001b[43menviroment_project\u001b[49m\u001b[38;5;241;43m.\u001b[39;49m\u001b[43miteritems\u001b[49m():\n\u001b[1;32m      2\u001b[0m     \u001b[38;5;28mprint\u001b[39m (key, value)\n",
      "\u001b[0;31mAttributeError\u001b[0m: 'dict' object has no attribute 'iteritems'"
     ]
    }
   ],
   "source": [
    "for key, value in enviroment_project.iteritems():\n",
    "    print (key, value)"
   ]
  },
  {
   "cell_type": "code",
   "execution_count": 22,
   "id": "e271fb09-62e3-4964-abaf-3d2d27a8b81b",
   "metadata": {},
   "outputs": [],
   "source": [
    "droughty_project_name =  enviroment_project['profile']"
   ]
  },
  {
   "cell_type": "code",
   "execution_count": 23,
   "id": "4969b618-ea54-4b24-a60b-8a4a2f26f64b",
   "metadata": {},
   "outputs": [
    {
     "data": {
      "text/plain": [
       "'kaplan_poc'"
      ]
     },
     "execution_count": 23,
     "metadata": {},
     "output_type": "execute_result"
    }
   ],
   "source": [
    "droughty_project_name"
   ]
  },
  {
   "cell_type": "code",
   "execution_count": null,
   "id": "ec620e40-de51-43e4-be1a-ad58a585922b",
   "metadata": {},
   "outputs": [],
   "source": []
  }
 ],
 "metadata": {
  "kernelspec": {
   "display_name": "Python 3 (ipykernel)",
   "language": "python",
   "name": "python3"
  },
  "language_info": {
   "codemirror_mode": {
    "name": "ipython",
    "version": 3
   },
   "file_extension": ".py",
   "mimetype": "text/x-python",
   "name": "python",
   "nbconvert_exporter": "python",
   "pygments_lexer": "ipython3",
   "version": "3.8.12"
  }
 },
 "nbformat": 4,
 "nbformat_minor": 5
}
