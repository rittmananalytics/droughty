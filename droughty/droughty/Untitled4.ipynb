{
 "cells": [
  {
   "cell_type": "code",
   "execution_count": 1,
   "id": "abcf6859",
   "metadata": {},
   "outputs": [
    {
     "ename": "NameError",
     "evalue": "name 'Common' is not defined",
     "output_type": "error",
     "traceback": [
      "\u001b[0;31m---------------------------------------------------------------------------\u001b[0m",
      "\u001b[0;31mNameError\u001b[0m                                 Traceback (most recent call last)",
      "Input \u001b[0;32mIn [1]\u001b[0m, in \u001b[0;36m<module>\u001b[0;34m\u001b[0m\n\u001b[1;32m     29\u001b[0m git_path \u001b[38;5;241m=\u001b[39m get_git_root(os\u001b[38;5;241m.\u001b[39mgetcwd())\n\u001b[1;32m     32\u001b[0m \u001b[38;5;66;03m## profile vars\u001b[39;00m\n\u001b[1;32m     34\u001b[0m \u001b[38;5;129m@dataclass\u001b[39m\n\u001b[0;32m---> 35\u001b[0m \u001b[38;5;28;01mclass\u001b[39;00m \u001b[38;5;21;01mIdentifyConfigVariables\u001b[39;00m(\u001b[43mCommon\u001b[49m):\n\u001b[1;32m     37\u001b[0m     path_source: \u001b[38;5;28mstr\u001b[39m\n\u001b[1;32m     38\u001b[0m     profile_path: \u001b[38;5;28mstr\u001b[39m\n",
      "\u001b[0;31mNameError\u001b[0m: name 'Common' is not defined"
     ]
    }
   ],
   "source": [
    "import os\n",
    "import yaml\n",
    "import git\n",
    "\n",
    "from cgi import test\n",
    "from dataclasses import dataclass\n",
    "from google.oauth2 import service_account\n",
    "\n",
    "def cli_option_path_import():\n",
    "\n",
    "    ##from droughty import config_cli\n",
    "\n",
    "    ##return(config_cli.cli_profile_path)\n",
    "    \n",
    "    test = 'dir'\n",
    "    \n",
    "    return test\n",
    "\n",
    "path = os.path.expanduser('~')\n",
    "\n",
    "def get_git_root(path):\n",
    "    \n",
    "        git_repo = git.Repo(path, search_parent_directories=True)\n",
    "        git_root = git_repo.git.rev_parse(\"--show-toplevel\")\n",
    "        return (git_root)\n",
    "    \n",
    "##def return_git_path():\n",
    "    \n",
    "git_path = get_git_root(os.getcwd())\n",
    "\n",
    "\n",
    "## profile vars\n",
    "\n",
    "@dataclass\n",
    "class IdentifyConfigVariables(Common):\n",
    "    \n",
    "    path_source: str\n",
    "    profile_path: str\n",
    "    full_path: str\n",
    "\n",
    "def assign_droughty_paths():\n",
    "\n",
    "    if cli_option_path_import() != None : \n",
    "        \n",
    "        IdentifyConfigVariables.profile_path = cli_option_path_import()\n",
    "\n",
    "        print (\"Using option path\")\n",
    "\n",
    "\n",
    "    else:\n",
    "\n",
    "        path = os.path.expanduser('~')\n",
    "\n",
    "        IdentifyConfigVariables.profile_pass = os.path.join(path,\".droughty/profile.yaml\")       \n",
    "\n",
    "        print (\"Using default path\")\n",
    "        \n",
    "paths = assign_droughty_paths()"
   ]
  },
  {
   "cell_type": "code",
   "execution_count": null,
   "id": "54561ac7",
   "metadata": {},
   "outputs": [],
   "source": []
  }
 ],
 "metadata": {
  "kernelspec": {
   "display_name": "Python 3 (ipykernel)",
   "language": "python",
   "name": "python3"
  },
  "language_info": {
   "codemirror_mode": {
    "name": "ipython",
    "version": 3
   },
   "file_extension": ".py",
   "mimetype": "text/x-python",
   "name": "python",
   "nbconvert_exporter": "python",
   "pygments_lexer": "ipython3",
   "version": "3.8.12"
  }
 },
 "nbformat": 4,
 "nbformat_minor": 5
}
