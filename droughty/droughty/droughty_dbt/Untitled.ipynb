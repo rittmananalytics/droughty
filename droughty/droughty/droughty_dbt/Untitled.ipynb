{
 "cells": [
  {
   "cell_type": "code",
   "execution_count": 24,
   "id": "fb8f00e7",
   "metadata": {},
   "outputs": [],
   "source": [
    "test_schemas = {'test_schemas': ['amir_analytics_dev_staging', 'amir_analytics_dev_integration', 'amir_analytics_dev'], 'ignore_tests': [{'models': [{'wh_operations__events_fact': [{'columns': {'document_fk': {'tests': ['not null', 'unique']}}}]}]}]}"
   ]
  },
  {
   "cell_type": "code",
   "execution_count": 25,
   "id": "1d7c50e3",
   "metadata": {},
   "outputs": [
    {
     "name": "stdout",
     "output_type": "stream",
     "text": [
      "{'test_schemas': ['amir_analytics_dev_staging', 'amir_analytics_dev_integration', 'amir_analytics_dev'], 'ignore_tests': [{'models': [{'wh_operations__events_fact': [{'columns': {'document_fk': {'tests': ['not null', 'unique']}}}]}]}]}\n"
     ]
    }
   ],
   "source": [
    "print (test_schemas)"
   ]
  },
  {
   "cell_type": "code",
   "execution_count": 27,
   "id": "05c24cee",
   "metadata": {},
   "outputs": [
    {
     "name": "stdout",
     "output_type": "stream",
     "text": [
      "[{'models': [{'wh_operations__events_fact': [{'columns': {'document_fk': {'tests': ['not null', 'unique']}}}]}]}]\n"
     ]
    }
   ],
   "source": [
    "print (test_schemas['ignore_tests'])"
   ]
  },
  {
   "cell_type": "code",
   "execution_count": 38,
   "id": "97eae5e6",
   "metadata": {},
   "outputs": [],
   "source": [
    "ignore_tests = (test_schemas['ignore_tests'])"
   ]
  },
  {
   "cell_type": "code",
   "execution_count": 39,
   "id": "fc096cce",
   "metadata": {},
   "outputs": [
    {
     "data": {
      "text/plain": [
       "[{'models': [{'wh_operations__events_fact': [{'columns': {'document_fk': {'tests': ['not null',\n",
       "         'unique']}}}]}]}]"
      ]
     },
     "execution_count": 39,
     "metadata": {},
     "output_type": "execute_result"
    }
   ],
   "source": [
    "ignore_tests"
   ]
  },
  {
   "cell_type": "code",
   "execution_count": 41,
   "id": "ce382297",
   "metadata": {},
   "outputs": [
    {
     "data": {
      "text/plain": [
       "list"
      ]
     },
     "execution_count": 41,
     "metadata": {},
     "output_type": "execute_result"
    }
   ],
   "source": [
    "type(ignore_tests)"
   ]
  },
  {
   "cell_type": "code",
   "execution_count": 46,
   "id": "ad0857cb",
   "metadata": {},
   "outputs": [],
   "source": [
    "x = test_schemas.get(\"models\")"
   ]
  },
  {
   "cell_type": "code",
   "execution_count": 48,
   "id": "92685cdc",
   "metadata": {},
   "outputs": [
    {
     "name": "stdout",
     "output_type": "stream",
     "text": [
      "None\n"
     ]
    }
   ],
   "source": [
    "print(x)"
   ]
  },
  {
   "cell_type": "code",
   "execution_count": 45,
   "id": "00eaad43",
   "metadata": {},
   "outputs": [
    {
     "data": {
      "text/plain": [
       "list"
      ]
     },
     "execution_count": 45,
     "metadata": {},
     "output_type": "execute_result"
    }
   ],
   "source": [
    "type(x)"
   ]
  },
  {
   "cell_type": "code",
   "execution_count": 50,
   "id": "e52b8049",
   "metadata": {},
   "outputs": [],
   "source": [
    "ignore_tests = (test_schemas['ignore_tests'])"
   ]
  },
  {
   "cell_type": "code",
   "execution_count": 51,
   "id": "d0ae6d64",
   "metadata": {},
   "outputs": [
    {
     "name": "stdout",
     "output_type": "stream",
     "text": [
      "[{'models': [{'wh_operations__events_fact': [{'columns': {'document_fk': {'tests': ['not null', 'unique']}}}]}]}]\n"
     ]
    }
   ],
   "source": [
    "print(ignore_tests)"
   ]
  },
  {
   "cell_type": "code",
   "execution_count": 52,
   "id": "daf33998",
   "metadata": {},
   "outputs": [
    {
     "name": "stdout",
     "output_type": "stream",
     "text": [
      "[{'wh_operations__events_fact': [{'columns': {'document_fk': {'tests': ['not null', 'unique']}}}]}]\n"
     ]
    }
   ],
   "source": [
    "print(ignore_tests[0]['models'])\n"
   ]
  },
  {
   "cell_type": "code",
   "execution_count": 53,
   "id": "b4b535c7",
   "metadata": {},
   "outputs": [
    {
     "ename": "KeyError",
     "evalue": "'columns'",
     "output_type": "error",
     "traceback": [
      "\u001b[0;31m---------------------------------------------------------------------------\u001b[0m",
      "\u001b[0;31mKeyError\u001b[0m                                  Traceback (most recent call last)",
      "Input \u001b[0;32mIn [53]\u001b[0m, in \u001b[0;36m<module>\u001b[0;34m\u001b[0m\n\u001b[0;32m----> 1\u001b[0m \u001b[38;5;28mprint\u001b[39m(\u001b[43mignore_tests\u001b[49m\u001b[43m[\u001b[49m\u001b[38;5;241;43m0\u001b[39;49m\u001b[43m]\u001b[49m\u001b[43m[\u001b[49m\u001b[38;5;124;43m'\u001b[39;49m\u001b[38;5;124;43mcolumns\u001b[39;49m\u001b[38;5;124;43m'\u001b[39;49m\u001b[43m]\u001b[49m)\n",
      "\u001b[0;31mKeyError\u001b[0m: 'columns'"
     ]
    }
   ],
   "source": [
    "print(ignore_tests[0]['columns'])\n"
   ]
  },
  {
   "cell_type": "code",
   "execution_count": 55,
   "id": "f8452be4",
   "metadata": {},
   "outputs": [],
   "source": [
    "test = [{'models': [{'wh_operations__events_fact': [{'columns': {'document_fk': {'tests': ['not null', 'unique']}}}]}, {'wh_operations__sessions_fact': [{'columns': {'sessions_pk': {'tests': ['not null']}}}]}]}]\n"
   ]
  },
  {
   "cell_type": "code",
   "execution_count": 56,
   "id": "f79e6744",
   "metadata": {},
   "outputs": [
    {
     "name": "stdout",
     "output_type": "stream",
     "text": [
      "[{'models': [{'wh_operations__events_fact': [{'columns': {'document_fk': {'tests': ['not null', 'unique']}}}]}, {'wh_operations__sessions_fact': [{'columns': {'sessions_pk': {'tests': ['not null']}}}]}]}]\n"
     ]
    }
   ],
   "source": [
    "print (test)"
   ]
  },
  {
   "cell_type": "code",
   "execution_count": 61,
   "id": "0551445a",
   "metadata": {},
   "outputs": [
    {
     "ename": "KeyError",
     "evalue": "'models'",
     "output_type": "error",
     "traceback": [
      "\u001b[0;31m---------------------------------------------------------------------------\u001b[0m",
      "\u001b[0;31mKeyError\u001b[0m                                  Traceback (most recent call last)",
      "Input \u001b[0;32mIn [61]\u001b[0m, in \u001b[0;36m<module>\u001b[0;34m\u001b[0m\n\u001b[0;32m----> 1\u001b[0m \u001b[38;5;28mprint\u001b[39m(\u001b[43mtest_schemas\u001b[49m\u001b[43m[\u001b[49m\u001b[38;5;124;43m'\u001b[39;49m\u001b[38;5;124;43mmodels\u001b[39;49m\u001b[38;5;124;43m'\u001b[39;49m\u001b[43m]\u001b[49m)\n",
      "\u001b[0;31mKeyError\u001b[0m: 'models'"
     ]
    }
   ],
   "source": [
    "print(test_schemas['models'])"
   ]
  },
  {
   "cell_type": "code",
   "execution_count": 65,
   "id": "f8ada7a5",
   "metadata": {},
   "outputs": [
    {
     "name": "stdout",
     "output_type": "stream",
     "text": [
      "[{'wh_operations__events_fact': [{'columns': {'document_fk': {'tests': ['not null', 'unique']}}}]}, {'wh_operations__sessions_fact': [{'columns': {'sessions_pk': {'tests': ['not null']}}}]}]\n"
     ]
    }
   ],
   "source": [
    "for d in test:\n",
    "    print (d['models'])"
   ]
  },
  {
   "cell_type": "code",
   "execution_count": 69,
   "id": "c755a4a2",
   "metadata": {},
   "outputs": [],
   "source": [
    "models = [x['models'] for x in test]"
   ]
  },
  {
   "cell_type": "code",
   "execution_count": 71,
   "id": "965e7711",
   "metadata": {},
   "outputs": [
    {
     "data": {
      "text/plain": [
       "list"
      ]
     },
     "execution_count": 71,
     "metadata": {},
     "output_type": "execute_result"
    }
   ],
   "source": [
    "type(models)"
   ]
  },
  {
   "cell_type": "code",
   "execution_count": 72,
   "id": "1949a623",
   "metadata": {},
   "outputs": [
    {
     "data": {
      "text/plain": [
       "[[{'wh_operations__events_fact': [{'columns': {'document_fk': {'tests': ['not null',\n",
       "        'unique']}}}]},\n",
       "  {'wh_operations__sessions_fact': [{'columns': {'sessions_pk': {'tests': ['not null']}}}]}]]"
      ]
     },
     "execution_count": 72,
     "metadata": {},
     "output_type": "execute_result"
    }
   ],
   "source": [
    "models"
   ]
  },
  {
   "cell_type": "code",
   "execution_count": 74,
   "id": "06c68d9d",
   "metadata": {},
   "outputs": [
    {
     "name": "stdout",
     "output_type": "stream",
     "text": [
      "1\n",
      "3\n",
      "5\n"
     ]
    }
   ],
   "source": [
    "dlist = [{'a': 1}, {'b': 3}, {'c': 5}]\n",
    "for index in range(len(dlist)):\n",
    "    for key in dlist[index]:\n",
    "        print(dlist[index][key])"
   ]
  },
  {
   "cell_type": "code",
   "execution_count": 75,
   "id": "8f7003af",
   "metadata": {},
   "outputs": [
    {
     "ename": "TypeError",
     "evalue": "list indices must be integers or slices, not dict",
     "output_type": "error",
     "traceback": [
      "\u001b[0;31m---------------------------------------------------------------------------\u001b[0m",
      "\u001b[0;31mTypeError\u001b[0m                                 Traceback (most recent call last)",
      "Input \u001b[0;32mIn [75]\u001b[0m, in \u001b[0;36m<module>\u001b[0;34m\u001b[0m\n\u001b[1;32m      2\u001b[0m \u001b[38;5;28;01mfor\u001b[39;00m index \u001b[38;5;129;01min\u001b[39;00m \u001b[38;5;28mrange\u001b[39m(\u001b[38;5;28mlen\u001b[39m(models)):\n\u001b[1;32m      3\u001b[0m     \u001b[38;5;28;01mfor\u001b[39;00m key \u001b[38;5;129;01min\u001b[39;00m models[index]:\n\u001b[0;32m----> 4\u001b[0m         \u001b[38;5;28mprint\u001b[39m(\u001b[43mmodels\u001b[49m\u001b[43m[\u001b[49m\u001b[43mindex\u001b[49m\u001b[43m]\u001b[49m\u001b[43m[\u001b[49m\u001b[43mkey\u001b[49m\u001b[43m]\u001b[49m)\n",
      "\u001b[0;31mTypeError\u001b[0m: list indices must be integers or slices, not dict"
     ]
    }
   ],
   "source": [
    "dlist = [{'a': 1}, {'b': 3}, {'c': 5}]\n",
    "for index in range(len(models)):\n",
    "    for key in models[index]:\n",
    "        print(models[index][key])"
   ]
  },
  {
   "cell_type": "code",
   "execution_count": 76,
   "id": "4430c17f",
   "metadata": {},
   "outputs": [
    {
     "ename": "AttributeError",
     "evalue": "'list' object has no attribute 'values'",
     "output_type": "error",
     "traceback": [
      "\u001b[0;31m---------------------------------------------------------------------------\u001b[0m",
      "\u001b[0;31mAttributeError\u001b[0m                            Traceback (most recent call last)",
      "Input \u001b[0;32mIn [76]\u001b[0m, in \u001b[0;36m<module>\u001b[0;34m\u001b[0m\n\u001b[1;32m      1\u001b[0m dList \u001b[38;5;241m=\u001b[39m models\n\u001b[1;32m      2\u001b[0m \u001b[38;5;28;01mfor\u001b[39;00m dic \u001b[38;5;129;01min\u001b[39;00m dList:\n\u001b[0;32m----> 3\u001b[0m     \u001b[38;5;28;01mfor\u001b[39;00m val \u001b[38;5;129;01min\u001b[39;00m \u001b[43mdic\u001b[49m\u001b[38;5;241;43m.\u001b[39;49m\u001b[43mvalues\u001b[49m():\n\u001b[1;32m      4\u001b[0m         \u001b[38;5;28mprint\u001b[39m(val)\n",
      "\u001b[0;31mAttributeError\u001b[0m: 'list' object has no attribute 'values'"
     ]
    }
   ],
   "source": [
    "dList = models\n",
    "for dic in dList:\n",
    "    for val in dic.values():\n",
    "        print(val)"
   ]
  },
  {
   "cell_type": "code",
   "execution_count": 88,
   "id": "0ec08284",
   "metadata": {},
   "outputs": [],
   "source": [
    "nested_dict = {'test_schemas': ['amir_analytics_dev_staging', 'amir_analytics_dev_integration', 'amir_analytics_dev'], 'ignore_tests': [{'models': [{'wh_operations__events_fact': [{'columns': {'document_fk': {'tests': ['not null', 'unique']}}}]}, {'wh_operations__sessions_fact': [{'columns': {'sessions_pk': {'tests': ['not null']}}}]}]}]}"
   ]
  },
  {
   "cell_type": "code",
   "execution_count": 89,
   "id": "9570e5ed",
   "metadata": {},
   "outputs": [
    {
     "name": "stdout",
     "output_type": "stream",
     "text": [
      "{'test_schemas': ['amir_analytics_dev_staging', 'amir_analytics_dev_integration', 'amir_analytics_dev'], 'ignore_tests': [{'models': [{'wh_operations__events_fact': [{'columns': {'document_fk': {'tests': ['not null', 'unique']}}}]}, {'wh_operations__sessions_fact': [{'columns': {'sessions_pk': {'tests': ['not null']}}}]}]}]}\n"
     ]
    }
   ],
   "source": [
    "print(nested_dict)"
   ]
  },
  {
   "cell_type": "code",
   "execution_count": 86,
   "id": "1c319ed2",
   "metadata": {},
   "outputs": [],
   "source": [
    "ignore_test = nested_dict.get('ignore_tests')"
   ]
  },
  {
   "cell_type": "code",
   "execution_count": 91,
   "id": "b10ea6cc",
   "metadata": {},
   "outputs": [
    {
     "data": {
      "text/plain": [
       "[{'models': [{'wh_operations__events_fact': [{'columns': {'document_fk': {'tests': ['not null',\n",
       "         'unique']}}}]},\n",
       "   {'wh_operations__sessions_fact': [{'columns': {'sessions_pk': {'tests': ['not null']}}}]}]}]"
      ]
     },
     "execution_count": 91,
     "metadata": {},
     "output_type": "execute_result"
    }
   ],
   "source": []
  },
  {
   "cell_type": "markdown",
   "id": "4cd632db",
   "metadata": {},
   "source": [
    "print(nested_dict.get(models).get('ignore_tests'))\n"
   ]
  },
  {
   "cell_type": "code",
   "execution_count": 93,
   "id": "6e5908ec",
   "metadata": {},
   "outputs": [
    {
     "ename": "AttributeError",
     "evalue": "'NoneType' object has no attribute 'get'",
     "output_type": "error",
     "traceback": [
      "\u001b[0;31m---------------------------------------------------------------------------\u001b[0m",
      "\u001b[0;31mAttributeError\u001b[0m                            Traceback (most recent call last)",
      "Input \u001b[0;32mIn [93]\u001b[0m, in \u001b[0;36m<module>\u001b[0;34m\u001b[0m\n\u001b[0;32m----> 1\u001b[0m \u001b[38;5;28mprint\u001b[39m(\u001b[43mnested_dict\u001b[49m\u001b[38;5;241;43m.\u001b[39;49m\u001b[43mget\u001b[49m\u001b[43m(\u001b[49m\u001b[38;5;124;43m'\u001b[39;49m\u001b[38;5;124;43mmodels\u001b[39;49m\u001b[38;5;124;43m'\u001b[39;49m\u001b[43m)\u001b[49m\u001b[38;5;241;43m.\u001b[39;49m\u001b[43mget\u001b[49m(\u001b[38;5;124m'\u001b[39m\u001b[38;5;124mignore_tests\u001b[39m\u001b[38;5;124m'\u001b[39m))\n",
      "\u001b[0;31mAttributeError\u001b[0m: 'NoneType' object has no attribute 'get'"
     ]
    }
   ],
   "source": [
    "print(nested_dict.get('models').get('ignore_tests'))\n"
   ]
  },
  {
   "cell_type": "code",
   "execution_count": 95,
   "id": "5dcbe1ff",
   "metadata": {},
   "outputs": [
    {
     "ename": "TypeError",
     "evalue": "list indices must be integers or slices, not str",
     "output_type": "error",
     "traceback": [
      "\u001b[0;31m---------------------------------------------------------------------------\u001b[0m",
      "\u001b[0;31mTypeError\u001b[0m                                 Traceback (most recent call last)",
      "Input \u001b[0;32mIn [95]\u001b[0m, in \u001b[0;36m<module>\u001b[0;34m\u001b[0m\n\u001b[0;32m----> 1\u001b[0m \u001b[38;5;28mprint\u001b[39m(\u001b[43mnested_dict\u001b[49m\u001b[43m[\u001b[49m\u001b[38;5;124;43m'\u001b[39;49m\u001b[38;5;124;43mignore_tests\u001b[39;49m\u001b[38;5;124;43m'\u001b[39;49m\u001b[43m]\u001b[49m\u001b[43m[\u001b[49m\u001b[38;5;124;43m'\u001b[39;49m\u001b[38;5;124;43mmodels\u001b[39;49m\u001b[38;5;124;43m'\u001b[39;49m\u001b[43m]\u001b[49m)\n",
      "\u001b[0;31mTypeError\u001b[0m: list indices must be integers or slices, not str"
     ]
    }
   ],
   "source": [
    "print(nested_dict['ignore_tests']['models'])"
   ]
  },
  {
   "cell_type": "code",
   "execution_count": 96,
   "id": "1e8fdb9c",
   "metadata": {},
   "outputs": [
    {
     "ename": "AttributeError",
     "evalue": "'list' object has no attribute 'get'",
     "output_type": "error",
     "traceback": [
      "\u001b[0;31m---------------------------------------------------------------------------\u001b[0m",
      "\u001b[0;31mAttributeError\u001b[0m                            Traceback (most recent call last)",
      "Input \u001b[0;32mIn [96]\u001b[0m, in \u001b[0;36m<module>\u001b[0;34m\u001b[0m\n\u001b[0;32m----> 1\u001b[0m age \u001b[38;5;241m=\u001b[39m \u001b[43mnested_dict\u001b[49m\u001b[38;5;241;43m.\u001b[39;49m\u001b[43mget\u001b[49m\u001b[43m(\u001b[49m\u001b[38;5;124;43m\"\u001b[39;49m\u001b[38;5;124;43mignore_tests\u001b[39;49m\u001b[38;5;124;43m\"\u001b[39;49m\u001b[43m)\u001b[49m\u001b[38;5;241;43m.\u001b[39;49m\u001b[43mget\u001b[49m(\u001b[38;5;124m\"\u001b[39m\u001b[38;5;124mmodels\u001b[39m\u001b[38;5;124m\"\u001b[39m, \u001b[38;5;28;01mNone\u001b[39;00m)\n",
      "\u001b[0;31mAttributeError\u001b[0m: 'list' object has no attribute 'get'"
     ]
    }
   ],
   "source": [
    "age = nested_dict.get(\"ignore_tests\").get(\"models\", None)"
   ]
  },
  {
   "cell_type": "code",
   "execution_count": 97,
   "id": "f6c8c75b",
   "metadata": {},
   "outputs": [],
   "source": [
    "my_list = [\n",
    "    {'id': 1, 'name': 'Alice'},\n",
    "    {'id': 2, 'name': 'Bob'},\n",
    "    {'id': 3, 'name': 'Carl'},\n",
    "]\n",
    "\n",
    "result = my_list[0].get('name')"
   ]
  },
  {
   "cell_type": "code",
   "execution_count": 98,
   "id": "867770e5",
   "metadata": {},
   "outputs": [
    {
     "data": {
      "text/plain": [
       "'Alice'"
      ]
     },
     "execution_count": 98,
     "metadata": {},
     "output_type": "execute_result"
    }
   ],
   "source": [
    "result"
   ]
  },
  {
   "cell_type": "code",
   "execution_count": 103,
   "id": "b7abdbd7",
   "metadata": {},
   "outputs": [],
   "source": [
    "models = nested_dict.get('ignore_tests')"
   ]
  },
  {
   "cell_type": "code",
   "execution_count": 104,
   "id": "2e995132",
   "metadata": {},
   "outputs": [
    {
     "name": "stdout",
     "output_type": "stream",
     "text": [
      "[{'models': [{'wh_operations__events_fact': [{'columns': {'document_fk': {'tests': ['not null', 'unique']}}}]}, {'wh_operations__sessions_fact': [{'columns': {'sessions_pk': {'tests': ['not null']}}}]}]}]\n"
     ]
    }
   ],
   "source": [
    "print(models)"
   ]
  },
  {
   "cell_type": "code",
   "execution_count": 110,
   "id": "1b619764",
   "metadata": {},
   "outputs": [],
   "source": [
    "result = models[0].get('mm')"
   ]
  },
  {
   "cell_type": "code",
   "execution_count": 111,
   "id": "a733b573",
   "metadata": {},
   "outputs": [
    {
     "name": "stdout",
     "output_type": "stream",
     "text": [
      "None\n"
     ]
    }
   ],
   "source": [
    "print(result)"
   ]
  },
  {
   "cell_type": "code",
   "execution_count": 112,
   "id": "45b0b47c",
   "metadata": {},
   "outputs": [
    {
     "name": "stdout",
     "output_type": "stream",
     "text": [
      "5\n"
     ]
    }
   ],
   "source": [
    "from functools import reduce\n",
    "data={'apple':{'data':{'price':{'actual':5, 'discounted': 4}}}}\n",
    "\n",
    "path = ['apple', 'data', 'price', 'actual']\n",
    "actual_price = reduce(dict.get, path, data)\n",
    "print(actual_price)  # 5"
   ]
  },
  {
   "cell_type": "code",
   "execution_count": 114,
   "id": "1a1cd34a",
   "metadata": {},
   "outputs": [
    {
     "ename": "TypeError",
     "evalue": "descriptor 'get' for 'dict' objects doesn't apply to a 'NoneType' object",
     "output_type": "error",
     "traceback": [
      "\u001b[0;31m---------------------------------------------------------------------------\u001b[0m",
      "\u001b[0;31mTypeError\u001b[0m                                 Traceback (most recent call last)",
      "Input \u001b[0;32mIn [114]\u001b[0m, in \u001b[0;36m<module>\u001b[0;34m\u001b[0m\n\u001b[1;32m      2\u001b[0m data\u001b[38;5;241m=\u001b[39mnested_dict\n\u001b[1;32m      4\u001b[0m path \u001b[38;5;241m=\u001b[39m [\u001b[38;5;124m'\u001b[39m\u001b[38;5;124mmodels\u001b[39m\u001b[38;5;124m'\u001b[39m,\u001b[38;5;124m'\u001b[39m\u001b[38;5;124mcolumns\u001b[39m\u001b[38;5;124m'\u001b[39m, \u001b[38;5;124m'\u001b[39m\u001b[38;5;124mtests\u001b[39m\u001b[38;5;124m'\u001b[39m]\n\u001b[0;32m----> 5\u001b[0m actual_price \u001b[38;5;241m=\u001b[39m \u001b[43mreduce\u001b[49m\u001b[43m(\u001b[49m\u001b[38;5;28;43mdict\u001b[39;49m\u001b[38;5;241;43m.\u001b[39;49m\u001b[43mget\u001b[49m\u001b[43m,\u001b[49m\u001b[43m \u001b[49m\u001b[43mpath\u001b[49m\u001b[43m,\u001b[49m\u001b[43m \u001b[49m\u001b[43mdata\u001b[49m\u001b[43m)\u001b[49m\n\u001b[1;32m      6\u001b[0m \u001b[38;5;28mprint\u001b[39m(actual_price)\n",
      "\u001b[0;31mTypeError\u001b[0m: descriptor 'get' for 'dict' objects doesn't apply to a 'NoneType' object"
     ]
    }
   ],
   "source": [
    "from functools import reduce\n",
    "data=nested_dict\n",
    "\n",
    "path = ['models','columns', 'tests']\n",
    "actual_price = reduce(dict.get, path, data)\n",
    "print(actual_price)  # 5"
   ]
  },
  {
   "cell_type": "code",
   "execution_count": 115,
   "id": "16635f9d",
   "metadata": {},
   "outputs": [
    {
     "name": "stdout",
     "output_type": "stream",
     "text": [
      "10\n"
     ]
    }
   ],
   "source": [
    "import glom\n",
    "data={'apple':{'data':{'price':{'actual':10, 'discounted': 4}}}}\n",
    "\n",
    "path = \"apple.data.price.actual\"\n",
    "actual = glom.glom(data, path)\n",
    "print(actual)  # 10"
   ]
  },
  {
   "cell_type": "code",
   "execution_count": 117,
   "id": "e567547e",
   "metadata": {},
   "outputs": [
    {
     "ename": "PathAccessError",
     "evalue": "error raised while processing, details below.\n Target-spec trace (most recent last):\n - Target: {'ignore_tests': [{'models': [{'wh_operations__events_fact': [{'columns': {'document_f... (len=2)\n - Spec: 'ignore_tests.models.columns'\nglom.core.PathAccessError: could not access 'models', part 1 of Path('ignore_tests', 'models', 'columns'), got error: ValueError(\"invalid literal for int() with base 10: 'models'\")",
     "output_type": "error",
     "traceback": [
      "\u001b[0;31m---------------------------------------------------------------------------\u001b[0m",
      "\u001b[0;31mPathAccessError\u001b[0m                           Traceback (most recent call last)",
      "Input \u001b[0;32mIn [117]\u001b[0m, in \u001b[0;36m<module>\u001b[0;34m\u001b[0m\n\u001b[1;32m      2\u001b[0m data\u001b[38;5;241m=\u001b[39mnested_dict\n\u001b[1;32m      4\u001b[0m path \u001b[38;5;241m=\u001b[39m \u001b[38;5;124m\"\u001b[39m\u001b[38;5;124mignore_tests.models.columns\u001b[39m\u001b[38;5;124m\"\u001b[39m\n\u001b[0;32m----> 5\u001b[0m actual \u001b[38;5;241m=\u001b[39m \u001b[43mglom\u001b[49m\u001b[38;5;241;43m.\u001b[39;49m\u001b[43mglom\u001b[49m\u001b[43m(\u001b[49m\u001b[43mdata\u001b[49m\u001b[43m,\u001b[49m\u001b[43m \u001b[49m\u001b[43mpath\u001b[49m\u001b[43m)\u001b[49m\n\u001b[1;32m      6\u001b[0m \u001b[38;5;28mprint\u001b[39m(actual)\n",
      "File \u001b[0;32m~/.virtualenvs/droughty_dev_0.1.0/lib/python3.8/site-packages/glom/core.py:2294\u001b[0m, in \u001b[0;36mglom\u001b[0;34m(target, spec, **kwargs)\u001b[0m\n\u001b[1;32m   2291\u001b[0m         \u001b[38;5;28;01mraise\u001b[39;00m\n\u001b[1;32m   2293\u001b[0m \u001b[38;5;28;01mif\u001b[39;00m err:\n\u001b[0;32m-> 2294\u001b[0m     \u001b[38;5;28;01mraise\u001b[39;00m err\n\u001b[1;32m   2295\u001b[0m \u001b[38;5;28;01mreturn\u001b[39;00m ret\n",
      "\u001b[0;31mPathAccessError\u001b[0m: error raised while processing, details below.\n Target-spec trace (most recent last):\n - Target: {'ignore_tests': [{'models': [{'wh_operations__events_fact': [{'columns': {'document_f... (len=2)\n - Spec: 'ignore_tests.models.columns'\nglom.core.PathAccessError: could not access 'models', part 1 of Path('ignore_tests', 'models', 'columns'), got error: ValueError(\"invalid literal for int() with base 10: 'models'\")"
     ]
    }
   ],
   "source": [
    "import glom\n",
    "data=nested_dict\n",
    "\n",
    "path = \"ignore_tests.models.columns\"\n",
    "actual = glom.glom(data, path)\n",
    "print(actual)  # 10"
   ]
  },
  {
   "cell_type": "code",
   "execution_count": 120,
   "id": "6557a05f",
   "metadata": {},
   "outputs": [
    {
     "ename": "PathAccessError",
     "evalue": "error raised while processing, details below.\n Target-spec trace (most recent last):\n - Target: {'ignore_tests': [{'models': [{'wh_operations__events_fact': [{'columns': {'document_f... (len=2)\n - Spec: 'ignore_tests.models.columns'\nglom.core.PathAccessError: could not access 'models', part 1 of Path('ignore_tests', 'models', 'columns'), got error: ValueError(\"invalid literal for int() with base 10: 'models'\")",
     "output_type": "error",
     "traceback": [
      "\u001b[0;31m---------------------------------------------------------------------------\u001b[0m",
      "\u001b[0;31mPathAccessError\u001b[0m                           Traceback (most recent call last)",
      "Input \u001b[0;32mIn [120]\u001b[0m, in \u001b[0;36m<module>\u001b[0;34m\u001b[0m\n\u001b[1;32m      1\u001b[0m \u001b[38;5;28;01mfrom\u001b[39;00m \u001b[38;5;21;01mglom\u001b[39;00m \u001b[38;5;28;01mimport\u001b[39;00m glom\n\u001b[1;32m      3\u001b[0m target \u001b[38;5;241m=\u001b[39m nested_dict\n\u001b[0;32m----> 4\u001b[0m \u001b[43mglom\u001b[49m\u001b[43m(\u001b[49m\u001b[43mtarget\u001b[49m\u001b[43m,\u001b[49m\u001b[43m \u001b[49m\u001b[38;5;124;43m\"\u001b[39;49m\u001b[38;5;124;43mignore_tests.models.columns\u001b[39;49m\u001b[38;5;124;43m\"\u001b[39;49m\u001b[43m)\u001b[49m\n",
      "File \u001b[0;32m~/.virtualenvs/droughty_dev_0.1.0/lib/python3.8/site-packages/glom/core.py:2294\u001b[0m, in \u001b[0;36mglom\u001b[0;34m(target, spec, **kwargs)\u001b[0m\n\u001b[1;32m   2291\u001b[0m         \u001b[38;5;28;01mraise\u001b[39;00m\n\u001b[1;32m   2293\u001b[0m \u001b[38;5;28;01mif\u001b[39;00m err:\n\u001b[0;32m-> 2294\u001b[0m     \u001b[38;5;28;01mraise\u001b[39;00m err\n\u001b[1;32m   2295\u001b[0m \u001b[38;5;28;01mreturn\u001b[39;00m ret\n",
      "\u001b[0;31mPathAccessError\u001b[0m: error raised while processing, details below.\n Target-spec trace (most recent last):\n - Target: {'ignore_tests': [{'models': [{'wh_operations__events_fact': [{'columns': {'document_f... (len=2)\n - Spec: 'ignore_tests.models.columns'\nglom.core.PathAccessError: could not access 'models', part 1 of Path('ignore_tests', 'models', 'columns'), got error: ValueError(\"invalid literal for int() with base 10: 'models'\")"
     ]
    }
   ],
   "source": [
    " from glom import glom\n",
    "\n",
    "target = nested_dict\n",
    "glom(target, \"ignore_tests.models.columns\")  # returns 'd'"
   ]
  },
  {
   "cell_type": "code",
   "execution_count": 122,
   "id": "a42b1cf0",
   "metadata": {},
   "outputs": [
    {
     "ename": "NameError",
     "evalue": "name 'pprint' is not defined",
     "output_type": "error",
     "traceback": [
      "\u001b[0;31m---------------------------------------------------------------------------\u001b[0m",
      "\u001b[0;31mNameError\u001b[0m                                 Traceback (most recent call last)",
      "Input \u001b[0;32mIn [122]\u001b[0m, in \u001b[0;36m<module>\u001b[0;34m\u001b[0m\n\u001b[1;32m      3\u001b[0m LEG_SPEC \u001b[38;5;241m=\u001b[39m {\u001b[38;5;124m'\u001b[39m\u001b[38;5;124mClient\u001b[39m\u001b[38;5;124m'\u001b[39m: Coalesce(\u001b[38;5;124m'\u001b[39m\u001b[38;5;124mmenuName\u001b[39m\u001b[38;5;124m'\u001b[39m, default\u001b[38;5;241m=\u001b[39m\u001b[38;5;124m'\u001b[39m\u001b[38;5;124m'\u001b[39m),\n\u001b[1;32m      4\u001b[0m             \u001b[38;5;124m'\u001b[39m\u001b[38;5;124mNumber\u001b[39m\u001b[38;5;124m'\u001b[39m: Coalesce(\u001b[38;5;124m'\u001b[39m\u001b[38;5;124mto.number\u001b[39m\u001b[38;5;124m'\u001b[39m, default\u001b[38;5;241m=\u001b[39m\u001b[38;5;124m'\u001b[39m\u001b[38;5;124m'\u001b[39m),\n\u001b[1;32m      5\u001b[0m             \u001b[38;5;124m'\u001b[39m\u001b[38;5;124mLinked ID\u001b[39m\u001b[38;5;124m'\u001b[39m: \u001b[38;5;124m'\u001b[39m\u001b[38;5;124mserviceId\u001b[39m\u001b[38;5;124m'\u001b[39m,\n\u001b[1;32m      6\u001b[0m             \u001b[38;5;124m'\u001b[39m\u001b[38;5;124mQueue\u001b[39m\u001b[38;5;124m'\u001b[39m: \u001b[38;5;124m'\u001b[39m\u001b[38;5;124mqueueName\u001b[39m\u001b[38;5;124m'\u001b[39m}\n\u001b[1;32m      7\u001b[0m entries_spec \u001b[38;5;241m=\u001b[39m (\u001b[38;5;124m'\u001b[39m\u001b[38;5;124mlegs\u001b[39m\u001b[38;5;124m'\u001b[39m, \n\u001b[1;32m      8\u001b[0m                 [Check(\u001b[38;5;124m'\u001b[39m\u001b[38;5;124mlegType\u001b[39m\u001b[38;5;124m'\u001b[39m, one_of\u001b[38;5;241m=\u001b[39m(\u001b[38;5;124m'\u001b[39m\u001b[38;5;124mDial\u001b[39m\u001b[38;5;124m'\u001b[39m, \u001b[38;5;124m'\u001b[39m\u001b[38;5;124mEnterIVR\u001b[39m\u001b[38;5;124m'\u001b[39m), default\u001b[38;5;241m=\u001b[39mSKIP)],\n\u001b[1;32m      9\u001b[0m                 [LEG_SPEC])\n\u001b[0;32m---> 10\u001b[0m \u001b[43mpprint\u001b[49m(glom(target, entries_spec))\n",
      "\u001b[0;31mNameError\u001b[0m: name 'pprint' is not defined"
     ]
    }
   ],
   "source": [
    "from glom import glom, Check, Coalesce, SKIP\n",
    "\n",
    "LEG_SPEC = {'Client': Coalesce('menuName', default=''),\n",
    "            'Number': Coalesce('to.number', default=''),\n",
    "            'Linked ID': 'serviceId',\n",
    "            'Queue': 'queueName'}\n",
    "entries_spec = ('legs', \n",
    "                [Check('legType', one_of=('Dial', 'EnterIVR'), default=SKIP)],\n",
    "                [LEG_SPEC])\n",
    "pprint(glom(target, entries_spec))"
   ]
  },
  {
   "cell_type": "code",
   "execution_count": null,
   "id": "fab06698",
   "metadata": {},
   "outputs": [],
   "source": []
  }
 ],
 "metadata": {
  "kernelspec": {
   "display_name": "Python 3 (ipykernel)",
   "language": "python",
   "name": "python3"
  },
  "language_info": {
   "codemirror_mode": {
    "name": "ipython",
    "version": 3
   },
   "file_extension": ".py",
   "mimetype": "text/x-python",
   "name": "python",
   "nbconvert_exporter": "python",
   "pygments_lexer": "ipython3",
   "version": "3.8.12"
  }
 },
 "nbformat": 4,
 "nbformat_minor": 5
}
