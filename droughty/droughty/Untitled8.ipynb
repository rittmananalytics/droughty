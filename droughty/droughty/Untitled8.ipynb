{
 "cells": [
  {
   "cell_type": "code",
   "execution_count": 58,
   "id": "7ece9da9-780a-4803-8230-fb9a994f26b3",
   "metadata": {},
   "outputs": [
    {
     "ename": "AttributeError",
     "evalue": "'str' object has no attribute 'keys'",
     "output_type": "error",
     "traceback": [
      "\u001b[0;31m---------------------------------------------------------------------------\u001b[0m",
      "\u001b[0;31mAttributeError\u001b[0m                            Traceback (most recent call last)",
      "Input \u001b[0;32mIn [58]\u001b[0m, in \u001b[0;36m<module>\u001b[0;34m\u001b[0m\n\u001b[1;32m     46\u001b[0m     profile_targets\u001b[38;5;241m.\u001b[39mappend(key)\n\u001b[1;32m     48\u001b[0m \u001b[38;5;66;03m##\u001b[39;00m\n\u001b[0;32m---> 50\u001b[0m \u001b[38;5;28;01mfor\u001b[39;00m value \u001b[38;5;129;01min\u001b[39;00m \u001b[43minner\u001b[49m\u001b[38;5;241;43m.\u001b[39;49m\u001b[43mkeys\u001b[49m:\n\u001b[1;32m     52\u001b[0m     \u001b[38;5;28;01mif\u001b[39;00m lookml_config[value][\u001b[38;5;124m'\u001b[39m\u001b[38;5;124mwarehouse_name\u001b[39m\u001b[38;5;124m'\u001b[39m] \u001b[38;5;241m==\u001b[39m \u001b[38;5;124m'\u001b[39m\u001b[38;5;124mbig_query\u001b[39m\u001b[38;5;124m'\u001b[39m:\n\u001b[1;32m     54\u001b[0m         \u001b[38;5;28;01mif\u001b[39;00m value \u001b[38;5;129;01min\u001b[39;00m lookml_config:\n\u001b[1;32m     55\u001b[0m \n\u001b[1;32m     56\u001b[0m         \u001b[38;5;66;03m## global vars \u001b[39;00m\n",
      "\u001b[0;31mAttributeError\u001b[0m: 'str' object has no attribute 'keys'"
     ]
    }
   ],
   "source": [
    "import os\n",
    "import yaml\n",
    "\n",
    "from google.oauth2 import service_account\n",
    "import os\n",
    "import yaml\n",
    "import git\n",
    "\n",
    "## source vars\n",
    "\n",
    "path = os.path.expanduser('~')\n",
    "\n",
    "profile_pass = os.path.join(path,\".droughty/profile.yaml\")\n",
    "\n",
    "with open(profile_pass) as f:\n",
    "    lookml_config = yaml.load(f, Loader=yaml.FullLoader)\n",
    "\n",
    "def get_git_root(path):\n",
    "\n",
    "        git_repo = git.Repo(path, search_parent_directories=True)\n",
    "        git_root = git_repo.git.rev_parse(\"--show-toplevel\")\n",
    "        return (git_root)\n",
    "    \n",
    "    \n",
    "git_def_path = get_git_root(os.getcwd())\n",
    "\n",
    "git_path = git_def_path\n",
    "\n",
    "filename = 'droughty_project.yaml'\n",
    "\n",
    "droughty_project = os.path.join(git_path,filename)\n",
    "\n",
    "with open(droughty_project) as f:\n",
    "    enviroment_project = yaml.load(f, Loader=yaml.FullLoader)\n",
    "\n",
    "##project_value = list(enviroment_project.values())\n",
    "##profile_key = list(lookml_config.keys())\n",
    "explores = (enviroment_project.get(\"explores\"))\n",
    "profile_name = (enviroment_project.get(\"profile\"))\n",
    "inner = enviroment_project['profile']\n",
    "\n",
    "profile_targets = []\n",
    "\n",
    "for key in lookml_config.keys():\n",
    "\n",
    "    profile_targets.append(key)\n",
    "    \n",
    "##\n",
    "\n",
    "for value in inner.keys:\n",
    "\n",
    "    if lookml_config[value]['warehouse_name'] == 'big_query':\n",
    "\n",
    "        if value in lookml_config:\n",
    "\n",
    "        ## global vars \n",
    "\n",
    "            warehouse_name =  lookml_config[value]['warehouse_name']\n",
    "            project_name =  lookml_config[value]['project_name']\n",
    "            schema_name =  lookml_config[value]['schema_name']\n",
    "            test_schemas = lookml_config[value]['test_schemas']\n",
    "\n",
    "            warehouse_schema =   \"\"\"\n",
    "\n",
    "            with source as (\n",
    "\n",
    "                select * from `{0}.{1}.INFORMATION_SCHEMA.COLUMN_FIELD_PATHS`\n",
    "\n",
    "                )\n",
    "\n",
    "                select * from source\n",
    "\n",
    "            \"\"\".format(project_name,schema_name)\n",
    "\n",
    "\n"
   ]
  },
  {
   "cell_type": "code",
   "execution_count": 36,
   "id": "9dff5f43-5065-4dde-b132-8bc62c7208c1",
   "metadata": {},
   "outputs": [
    {
     "data": {
      "text/plain": [
       "'kaplan_poc'"
      ]
     },
     "execution_count": 36,
     "metadata": {},
     "output_type": "execute_result"
    }
   ],
   "source": [
    "profile_name"
   ]
  },
  {
   "cell_type": "code",
   "execution_count": 37,
   "id": "748d986e-e8a5-49b6-99c5-a4db2702ada2",
   "metadata": {},
   "outputs": [
    {
     "data": {
      "text/plain": [
       "['snowflake_demo', 'snowflake_demo_2', 'kaplan_poc', 'kaplan_prod', 'rixo']"
      ]
     },
     "execution_count": 37,
     "metadata": {},
     "output_type": "execute_result"
    }
   ],
   "source": [
    "profile_targets"
   ]
  },
  {
   "cell_type": "code",
   "execution_count": 17,
   "id": "6d1b4bf1-4ea1-477f-9977-0b9553f9b0e1",
   "metadata": {},
   "outputs": [
    {
     "data": {
      "text/plain": [
       "dict_keys(['snowflake_demo', 'snowflake_demo_2', 'kaplan_poc', 'kaplan_prod', 'rixo'])"
      ]
     },
     "execution_count": 17,
     "metadata": {},
     "output_type": "execute_result"
    }
   ],
   "source": [
    "lookml_config.keys()"
   ]
  },
  {
   "cell_type": "code",
   "execution_count": 44,
   "id": "b095b23b-e52e-4dfb-944b-e720c6bde615",
   "metadata": {},
   "outputs": [
    {
     "data": {
      "text/plain": [
       "dict_keys(['profile', 'explores'])"
      ]
     },
     "execution_count": 44,
     "metadata": {},
     "output_type": "execute_result"
    }
   ],
   "source": [
    "enviroment_project.keys()"
   ]
  },
  {
   "cell_type": "code",
   "execution_count": 21,
   "id": "fcdd7ffc-3152-4a87-bbe0-fb0a85ab9d5a",
   "metadata": {},
   "outputs": [
    {
     "ename": "KeyError",
     "evalue": "'kaplan_poc'",
     "output_type": "error",
     "traceback": [
      "\u001b[0;31m---------------------------------------------------------------------------\u001b[0m",
      "\u001b[0;31mKeyError\u001b[0m                                  Traceback (most recent call last)",
      "Input \u001b[0;32mIn [21]\u001b[0m, in \u001b[0;36m<module>\u001b[0;34m\u001b[0m\n\u001b[0;32m----> 1\u001b[0m explore_table_names \u001b[38;5;241m=\u001b[39m \u001b[43menviroment_project\u001b[49m\u001b[43m[\u001b[49m\u001b[43mvalue\u001b[49m\u001b[43m]\u001b[49m[\u001b[38;5;124m'\u001b[39m\u001b[38;5;124mexplores\u001b[39m\u001b[38;5;124m'\u001b[39m]\n",
      "\u001b[0;31mKeyError\u001b[0m: 'kaplan_poc'"
     ]
    }
   ],
   "source": [
    "explore_table_names = enviroment_project[value]['explores']"
   ]
  },
  {
   "cell_type": "code",
   "execution_count": 22,
   "id": "dda4a7b1-e9e2-4e9c-a63a-0000c04ab56b",
   "metadata": {},
   "outputs": [],
   "source": [
    "list = []\n",
    "\n",
    "for key,value in explores.items():\n",
    "\n",
    "    for key,value in value.items():\n",
    "\n",
    "        list.append(value)"
   ]
  },
  {
   "cell_type": "code",
   "execution_count": 23,
   "id": "e8805c14-5ed1-45bf-8f5d-5b56c1fb0f34",
   "metadata": {},
   "outputs": [
    {
     "data": {
      "text/plain": [
       "[['wh_web_events_fact'], ['wh_website_users_dim'], ['wh_website_pages_fct']]"
      ]
     },
     "execution_count": 23,
     "metadata": {},
     "output_type": "execute_result"
    }
   ],
   "source": [
    "list"
   ]
  },
  {
   "cell_type": "code",
   "execution_count": 38,
   "id": "970d9998-5c70-4ce6-b99f-8bb5b9bec922",
   "metadata": {},
   "outputs": [
    {
     "data": {
      "text/plain": [
       "'big_query'"
      ]
     },
     "execution_count": 41,
     "metadata": {},
     "output_type": "execute_result"
    }
   ],
   "source": [
    "warehouse_name"
   ]
  },
  {
   "cell_type": "code",
   "execution_count": 39,
   "id": "9a1bcc95-d4d8-4240-b0b3-371b66ae2f84",
   "metadata": {},
   "outputs": [
    {
     "data": {
      "text/plain": [
       "'project-x-ray'"
      ]
     },
     "execution_count": 42,
     "metadata": {},
     "output_type": "execute_result"
    }
   ],
   "source": [
    "project_name"
   ]
  },
  {
   "cell_type": "code",
   "execution_count": 45,
   "id": "9e4178ae-62e9-481e-bdda-7ae0e7a3a6ab",
   "metadata": {},
   "outputs": [
    {
     "ename": "SyntaxError",
     "evalue": "invalid syntax (1557576915.py, line 1)",
     "output_type": "error",
     "traceback": [
      "\u001b[0;36m  Input \u001b[0;32mIn [45]\u001b[0;36m\u001b[0m\n\u001b[0;31m    enviroment_project.get(key[, value])\u001b[0m\n\u001b[0m                               ^\u001b[0m\n\u001b[0;31mSyntaxError\u001b[0m\u001b[0;31m:\u001b[0m invalid syntax\n"
     ]
    }
   ],
   "source": [
    "enviroment_project.get(key[, value]) "
   ]
  },
  {
   "cell_type": "code",
   "execution_count": 47,
   "id": "18612a65-75b4-44f4-a08c-adb4fe908634",
   "metadata": {},
   "outputs": [
    {
     "data": {
      "text/plain": [
       "'kaplan_poc'"
      ]
     },
     "execution_count": 47,
     "metadata": {},
     "output_type": "execute_result"
    }
   ],
   "source": [
    "enviroment_project.get('profile')"
   ]
  },
  {
   "cell_type": "code",
   "execution_count": 52,
   "id": "16ca098e-def9-400c-8005-1ac224183941",
   "metadata": {},
   "outputs": [
    {
     "name": "stdout",
     "output_type": "stream",
     "text": [
      "k\n",
      "a\n",
      "p\n",
      "l\n",
      "a\n",
      "n\n",
      "_\n",
      "p\n",
      "o\n",
      "c\n"
     ]
    }
   ],
   "source": [
    "for key in enviroment_project.get('profile'):\n",
    "    \n",
    "    print (key)"
   ]
  },
  {
   "cell_type": "code",
   "execution_count": 55,
   "id": "50c28eb2-d573-481d-b25c-142ccb96ad7c",
   "metadata": {},
   "outputs": [],
   "source": [
    "inner = enviroment_project['profile']"
   ]
  },
  {
   "cell_type": "code",
   "execution_count": 56,
   "id": "55939324-4a2a-4ca4-bffb-5361a8e33bec",
   "metadata": {},
   "outputs": [
    {
     "data": {
      "text/plain": [
       "'kaplan_poc'"
      ]
     },
     "execution_count": 56,
     "metadata": {},
     "output_type": "execute_result"
    }
   ],
   "source": [
    "inner"
   ]
  },
  {
   "cell_type": "code",
   "execution_count": 60,
   "id": "4f45a720-30ae-4527-b5ed-867912621f8e",
   "metadata": {},
   "outputs": [
    {
     "data": {
      "text/plain": [
       "str"
      ]
     },
     "execution_count": 60,
     "metadata": {},
     "output_type": "execute_result"
    }
   ],
   "source": [
    "type(inner)"
   ]
  },
  {
   "cell_type": "code",
   "execution_count": 61,
   "id": "59d9edfa-40ef-4537-855f-c7452b3f95c5",
   "metadata": {},
   "outputs": [
    {
     "ename": "KeyError",
     "evalue": "1",
     "output_type": "error",
     "traceback": [
      "\u001b[0;31m---------------------------------------------------------------------------\u001b[0m",
      "\u001b[0;31mKeyError\u001b[0m                                  Traceback (most recent call last)",
      "Input \u001b[0;32mIn [61]\u001b[0m, in \u001b[0;36m<module>\u001b[0;34m\u001b[0m\n\u001b[0;32m----> 1\u001b[0m dict2 \u001b[38;5;241m=\u001b[39m \u001b[43menviroment_project\u001b[49m\u001b[43m[\u001b[49m\u001b[38;5;241;43m1\u001b[39;49m\u001b[43m]\u001b[49m\n",
      "\u001b[0;31mKeyError\u001b[0m: 1"
     ]
    }
   ],
   "source": [
    "dict2 = enviroment_project[1]"
   ]
  },
  {
   "cell_type": "code",
   "execution_count": 62,
   "id": "b64c70d6-03d3-49e1-955d-467a42de5c71",
   "metadata": {},
   "outputs": [
    {
     "data": {
      "text/plain": [
       "{'profile': 'kaplan_poc',\n",
       " 'explores': {'sales_explore': {'parent_table': ['wh_web_events_fact'],\n",
       "   'dimensions': ['wh_website_users_dim'],\n",
       "   'facts': ['wh_website_pages_fct']}}}"
      ]
     },
     "execution_count": 62,
     "metadata": {},
     "output_type": "execute_result"
    }
   ],
   "source": [
    "enviroment_project"
   ]
  },
  {
   "cell_type": "code",
   "execution_count": null,
   "id": "8d782c0f-c01c-4700-9e8a-6c77ddaeec0b",
   "metadata": {},
   "outputs": [],
   "source": []
  }
 ],
 "metadata": {
  "kernelspec": {
   "display_name": "Python 3 (ipykernel)",
   "language": "python",
   "name": "python3"
  },
  "language_info": {
   "codemirror_mode": {
    "name": "ipython",
    "version": 3
   },
   "file_extension": ".py",
   "mimetype": "text/x-python",
   "name": "python",
   "nbconvert_exporter": "python",
   "pygments_lexer": "ipython3",
   "version": "3.8.12"
  }
 },
 "nbformat": 4,
 "nbformat_minor": 5
}
