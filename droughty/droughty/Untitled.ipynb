{
 "cells": [
  {
   "cell_type": "code",
   "execution_count": 7,
   "id": "d2526038",
   "metadata": {},
   "outputs": [],
   "source": [
    "from google.oauth2 import service_account\n",
    "import os\n",
    "import yaml\n",
    "import git\n",
    "\n",
    "## global vars\n",
    "\n",
    "path = os.path.expanduser('~')\n",
    "\n",
    "def get_git_root(path):\n",
    "\n",
    "        git_repo = git.Repo(path, search_parent_directories=True)\n",
    "        git_root = git_repo.git.rev_parse(\"--show-toplevel\")\n",
    "        return (git_root)\n",
    "    \n",
    "    \n",
    "git_def_path = get_git_root(os.getcwd())\n",
    "\n",
    "git_path = git_def_path\n",
    "\n",
    "## profile vars\n",
    "\n",
    "try:\n",
    "\n",
    "    path_source = 'local_vars'\n",
    "\n",
    "    path = os.path.expanduser('~')\n",
    "\n",
    "    profile_pass = os.path.join(path,\".droughty/profile.yaml\")\n",
    "\n",
    "    with open(profile_pass) as f:\n",
    "        lookml_config = yaml.load(f, Loader=yaml.FullLoader)\n",
    "\n",
    "except:\n",
    "\n",
    "    path_source = 'external_vars'\n",
    "\n",
    "    filename = 'profile.yaml'\n",
    "\n",
    "    profile_pass = os.path.join(git_path,filename)\n",
    "\n",
    "    with open(profile_pass) as f:\n",
    "        lookml_config = yaml.load(f, Loader=yaml.FullLoader)\n",
    "\n",
    "## project vars \n",
    "\n",
    "filename = 'droughty_project.yaml'\n",
    "\n",
    "droughty_project = os.path.join(git_path,filename)\n",
    "\n",
    "with open(droughty_project) as f:\n",
    "    environment_project = yaml.load(f, Loader=yaml.FullLoader)\n",
    "\n",
    "for key,value in environment_project.items():\n",
    "    \n",
    "    if key == 'profile':\n",
    "\n",
    "        if value in lookml_config:\n",
    "\n",
    "            ## global vars\n",
    "\n",
    "            if path_source == 'local_vars':\n",
    "\n",
    "                warehouse_name =  lookml_config[value]['warehouse_name']\n",
    "                schema_name = lookml_config[value]['schema_name']\n",
    "                test_schemas = lookml_config[value]['test_schemas']\n",
    "\n",
    "            elif path_source == 'external_vars':\n",
    "\n",
    "                warehouse_name =  [\"test\"]\n",
    "                schema_name = os.environ.get('BIG_QUERY_DATASET_DEV')\n",
    "                test_schemas = lookml_config[value]['test_schemas']\n"
   ]
  },
  {
   "cell_type": "code",
   "execution_count": 8,
   "id": "741655c6",
   "metadata": {},
   "outputs": [
    {
     "data": {
      "text/plain": [
       "['lewis_analytics_dev_staging',\n",
       " 'lewis_analytics_dev_integration',\n",
       " 'lewis_analytics_dev']"
      ]
     },
     "execution_count": 8,
     "metadata": {},
     "output_type": "execute_result"
    }
   ],
   "source": [
    "test_schemas"
   ]
  },
  {
   "cell_type": "code",
   "execution_count": 6,
   "id": "027aae4b",
   "metadata": {},
   "outputs": [
    {
     "data": {
      "text/plain": [
       "'external_vars'"
      ]
     },
     "execution_count": 6,
     "metadata": {},
     "output_type": "execute_result"
    }
   ],
   "source": [
    "path_source"
   ]
  },
  {
   "cell_type": "code",
   "execution_count": null,
   "id": "eec49961",
   "metadata": {},
   "outputs": [],
   "source": []
  }
 ],
 "metadata": {
  "kernelspec": {
   "display_name": "Python 3 (ipykernel)",
   "language": "python",
   "name": "python3"
  },
  "language_info": {
   "codemirror_mode": {
    "name": "ipython",
    "version": 3
   },
   "file_extension": ".py",
   "mimetype": "text/x-python",
   "name": "python",
   "nbconvert_exporter": "python",
   "pygments_lexer": "ipython3",
   "version": "3.8.12"
  }
 },
 "nbformat": 4,
 "nbformat_minor": 5
}
