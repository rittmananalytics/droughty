{
 "cells": [
  {
   "cell_type": "code",
   "execution_count": 1,
   "id": "40d4f6b4",
   "metadata": {},
   "outputs": [],
   "source": [
    "import yaml\n",
    "\n",
    "with open('example.yaml', 'r') as file:\n",
    "\n",
    "    prime_service = yaml.safe_load(file)"
   ]
  },
  {
   "cell_type": "code",
   "execution_count": 2,
   "id": "ae692029",
   "metadata": {},
   "outputs": [],
   "source": [
    "with open('example.yaml', 'r') as f:\n",
    "    droughty_project = yaml.load(f, Loader=yaml.FullLoader)"
   ]
  },
  {
   "cell_type": "code",
   "execution_count": 3,
   "id": "854df4e4",
   "metadata": {},
   "outputs": [
    {
     "data": {
      "text/plain": [
       "{'profile': 'snowflake_demo_olivier',\n",
       " 'field_description_path': 'warehouse_docs',\n",
       " 'field_description_file_name': 'field_descriptions.md',\n",
       " 'test_schemas': ['analytics_qa',\n",
       "  'analytics_staging',\n",
       "  'analytics_integration'],\n",
       " 'dbml_schemas': ['analytics_qa',\n",
       "  'analytics_staging',\n",
       "  'analytics_integration'],\n",
       " 'lookml_pop': {'views': {'example_1': ['example_2'],\n",
       "   'example_3': ['example_4', 'example_5']}}}"
      ]
     },
     "execution_count": 3,
     "metadata": {},
     "output_type": "execute_result"
    }
   ],
   "source": [
    "prime_service"
   ]
  },
  {
   "cell_type": "code",
   "execution_count": 4,
   "id": "efe7ac53",
   "metadata": {},
   "outputs": [
    {
     "name": "stdout",
     "output_type": "stream",
     "text": [
      "{'example_1': ['example_2'], 'example_3': ['example_4', 'example_5']}\n"
     ]
    }
   ],
   "source": [
    "print(prime_service['lookml_pop']['views'])"
   ]
  },
  {
   "cell_type": "code",
   "execution_count": 5,
   "id": "5eb45f55",
   "metadata": {},
   "outputs": [],
   "source": [
    "test = prime_service['lookml_pop']['views']"
   ]
  },
  {
   "cell_type": "code",
   "execution_count": 6,
   "id": "08b30c44",
   "metadata": {},
   "outputs": [
    {
     "data": {
      "text/plain": [
       "{'example_1': ['example_2'], 'example_3': ['example_4', 'example_5']}"
      ]
     },
     "execution_count": 6,
     "metadata": {},
     "output_type": "execute_result"
    }
   ],
   "source": [
    "test"
   ]
  },
  {
   "cell_type": "code",
   "execution_count": 7,
   "id": "8823e58e",
   "metadata": {},
   "outputs": [
    {
     "data": {
      "text/plain": [
       "dict"
      ]
     },
     "execution_count": 7,
     "metadata": {},
     "output_type": "execute_result"
    }
   ],
   "source": [
    "type(test)"
   ]
  },
  {
   "cell_type": "code",
   "execution_count": 8,
   "id": "23763da3",
   "metadata": {},
   "outputs": [
    {
     "name": "stdout",
     "output_type": "stream",
     "text": [
      "<built-in method values of dict object at 0x106fcd140>\n"
     ]
    }
   ],
   "source": [
    "print(test.values)"
   ]
  },
  {
   "cell_type": "code",
   "execution_count": 9,
   "id": "18d90f78",
   "metadata": {},
   "outputs": [
    {
     "name": "stdout",
     "output_type": "stream",
     "text": [
      "example_1\n",
      "example_3\n"
     ]
    }
   ],
   "source": [
    "for k in test:\n",
    "\n",
    "    print (k)"
   ]
  },
  {
   "cell_type": "code",
   "execution_count": 11,
   "id": "e68a587a",
   "metadata": {},
   "outputs": [
    {
     "name": "stdout",
     "output_type": "stream",
     "text": [
      "example_1\n"
     ]
    },
    {
     "ename": "TypeError",
     "evalue": "list indices must be integers or slices, not str",
     "output_type": "error",
     "traceback": [
      "\u001b[0;31m---------------------------------------------------------------------------\u001b[0m",
      "\u001b[0;31mTypeError\u001b[0m                                 Traceback (most recent call last)",
      "Input \u001b[0;32mIn [11]\u001b[0m, in \u001b[0;36m<module>\u001b[0;34m\u001b[0m\n\u001b[1;32m      2\u001b[0m \u001b[38;5;28mprint\u001b[39m(key)\n\u001b[1;32m      4\u001b[0m \u001b[38;5;28;01mfor\u001b[39;00m key1 \u001b[38;5;129;01min\u001b[39;00m value:\n\u001b[0;32m----> 5\u001b[0m     \u001b[38;5;28mprint\u001b[39m(\u001b[43mvalue\u001b[49m\u001b[43m[\u001b[49m\u001b[43mkey1\u001b[49m\u001b[43m]\u001b[49m)\n",
      "\u001b[0;31mTypeError\u001b[0m: list indices must be integers or slices, not str"
     ]
    }
   ],
   "source": [
    "for key, value in test.items():\n",
    "    print(key)\n",
    "    \n",
    "    for key1 in value:\n",
    "        print(value[key1])"
   ]
  },
  {
   "cell_type": "code",
   "execution_count": 12,
   "id": "73fcb147",
   "metadata": {},
   "outputs": [
    {
     "data": {
      "text/plain": [
       "{'profile': 'snowflake_demo_olivier',\n",
       " 'field_description_path': 'warehouse_docs',\n",
       " 'field_description_file_name': 'field_descriptions.md',\n",
       " 'test_schemas': ['analytics_qa',\n",
       "  'analytics_staging',\n",
       "  'analytics_integration'],\n",
       " 'dbml_schemas': ['analytics_qa',\n",
       "  'analytics_staging',\n",
       "  'analytics_integration'],\n",
       " 'lookml_pop': {'views': {'example_1': ['example_2'],\n",
       "   'example_3': ['example_4', 'example_5']}}}"
      ]
     },
     "execution_count": 12,
     "metadata": {},
     "output_type": "execute_result"
    }
   ],
   "source": [
    "droughty_project"
   ]
  },
  {
   "cell_type": "code",
   "execution_count": 13,
   "id": "2927f79d",
   "metadata": {},
   "outputs": [],
   "source": [
    "test_2 = droughty_project['lookml_pop']['views']"
   ]
  },
  {
   "cell_type": "code",
   "execution_count": 14,
   "id": "521d634a",
   "metadata": {},
   "outputs": [
    {
     "data": {
      "text/plain": [
       "{'example_1': ['example_2'], 'example_3': ['example_4', 'example_5']}"
      ]
     },
     "execution_count": 14,
     "metadata": {},
     "output_type": "execute_result"
    }
   ],
   "source": [
    "test_2"
   ]
  },
  {
   "cell_type": "code",
   "execution_count": 15,
   "id": "859ec2cc",
   "metadata": {},
   "outputs": [
    {
     "name": "stdout",
     "output_type": "stream",
     "text": [
      "example_1\n"
     ]
    },
    {
     "ename": "TypeError",
     "evalue": "list indices must be integers or slices, not str",
     "output_type": "error",
     "traceback": [
      "\u001b[0;31m---------------------------------------------------------------------------\u001b[0m",
      "\u001b[0;31mTypeError\u001b[0m                                 Traceback (most recent call last)",
      "Input \u001b[0;32mIn [15]\u001b[0m, in \u001b[0;36m<module>\u001b[0;34m\u001b[0m\n\u001b[1;32m      2\u001b[0m \u001b[38;5;28mprint\u001b[39m(view_name)\n\u001b[1;32m      4\u001b[0m \u001b[38;5;28;01mfor\u001b[39;00m field_name_list \u001b[38;5;129;01min\u001b[39;00m field_name:\n\u001b[0;32m----> 5\u001b[0m     \u001b[38;5;28mprint\u001b[39m(\u001b[43mfield_name\u001b[49m\u001b[43m[\u001b[49m\u001b[43mfield_name_list\u001b[49m\u001b[43m]\u001b[49m)\n",
      "\u001b[0;31mTypeError\u001b[0m: list indices must be integers or slices, not str"
     ]
    }
   ],
   "source": [
    "for view_name, field_name in test_2.items():\n",
    "    print(view_name)\n",
    "    \n",
    "    for field_name_list in field_name:\n",
    "        print(field_name[field_name_list])"
   ]
  },
  {
   "cell_type": "code",
   "execution_count": 16,
   "id": "c6df0929",
   "metadata": {},
   "outputs": [],
   "source": [
    "def test_3():\n",
    "        \n",
    "    for key, value in test_2.items():\n",
    "        yield(key)\n",
    "\n",
    "        for key1 in value:\n",
    "            yield(value[key1])\n",
    "            \n",
    "           \n",
    "test_4 = test_3()"
   ]
  },
  {
   "cell_type": "code",
   "execution_count": 17,
   "id": "9abb5519",
   "metadata": {},
   "outputs": [
    {
     "name": "stdout",
     "output_type": "stream",
     "text": [
      "<generator object test_3 at 0x10b9d2660>\n"
     ]
    }
   ],
   "source": [
    "print(test_4)"
   ]
  },
  {
   "cell_type": "code",
   "execution_count": 18,
   "id": "9c16f5cb",
   "metadata": {},
   "outputs": [
    {
     "ename": "TypeError",
     "evalue": "list indices must be integers or slices, not str",
     "output_type": "error",
     "traceback": [
      "\u001b[0;31m---------------------------------------------------------------------------\u001b[0m",
      "\u001b[0;31mTypeError\u001b[0m                                 Traceback (most recent call last)",
      "Input \u001b[0;32mIn [18]\u001b[0m, in \u001b[0;36m<module>\u001b[0;34m\u001b[0m\n\u001b[1;32m      5\u001b[0m view_names \u001b[38;5;241m=\u001b[39m key\n\u001b[1;32m      7\u001b[0m \u001b[38;5;28;01mfor\u001b[39;00m key1 \u001b[38;5;129;01min\u001b[39;00m value:\n\u001b[0;32m----> 8\u001b[0m     field_names \u001b[38;5;241m=\u001b[39m \u001b[43mvalue\u001b[49m\u001b[43m[\u001b[49m\u001b[43mkey1\u001b[49m\u001b[43m]\u001b[49m\n",
      "\u001b[0;31mTypeError\u001b[0m: list indices must be integers or slices, not str"
     ]
    }
   ],
   "source": [
    "view_names = {}\n",
    "field_names = {} #Empty dictionary to add values into\n",
    "\n",
    "for key, value in test_2.items():\n",
    "    view_names = key\n",
    "\n",
    "    for key1 in value:\n",
    "        field_names = value[key1]"
   ]
  },
  {
   "cell_type": "code",
   "execution_count": 19,
   "id": "22d367e8",
   "metadata": {},
   "outputs": [
    {
     "data": {
      "text/plain": [
       "'example_1'"
      ]
     },
     "execution_count": 19,
     "metadata": {},
     "output_type": "execute_result"
    }
   ],
   "source": [
    "view_names"
   ]
  },
  {
   "cell_type": "code",
   "execution_count": 20,
   "id": "bca71afe",
   "metadata": {},
   "outputs": [
    {
     "name": "stdout",
     "output_type": "stream",
     "text": [
      "Key ::  example_1\n",
      "example_2\n",
      "Key ::  example_3\n",
      "example_4\n",
      "example_5\n"
     ]
    }
   ],
   "source": [
    "# Create a dictionary where multiple values are\n",
    "# associated with a key\n",
    "word_freq = test_2\n",
    "\n",
    "# Iterate over a dictionary with list values using nested for loop\n",
    "for key, values in word_freq.items():\n",
    "    print('Key :: ', key)\n",
    "    if(isinstance(values, list)):\n",
    "        for value in values:\n",
    "            print(value)\n",
    "    else:\n",
    "        print(value)"
   ]
  },
  {
   "cell_type": "code",
   "execution_count": 21,
   "id": "93118f10",
   "metadata": {},
   "outputs": [
    {
     "name": "stdout",
     "output_type": "stream",
     "text": [
      "view_example_1\n",
      "example_2\n",
      "example_3\n",
      "view_example_4\n",
      "example_5\n",
      "example_6\n"
     ]
    }
   ],
   "source": [
    "# Create a dictionary where multiple values are\n",
    "# associated with a key\n",
    "word_freq = {'view_example_1': ['example_2', 'example_3'],\n",
    "             'view_example_4': ['example_5', 'example_6']\n",
    "            }\n",
    "# Iterate over a dictionary with list values using nested for loop\n",
    "for key, values in word_freq.items():\n",
    "    print(key)\n",
    "    if(isinstance(values, list)):\n",
    "        for value in values:\n",
    "            print(value)\n",
    "    else:\n",
    "        print(value)"
   ]
  },
  {
   "cell_type": "code",
   "execution_count": 22,
   "id": "761f9231",
   "metadata": {},
   "outputs": [
    {
     "name": "stdout",
     "output_type": "stream",
     "text": [
      "example_1\n"
     ]
    },
    {
     "ename": "TypeError",
     "evalue": "list indices must be integers or slices, not str",
     "output_type": "error",
     "traceback": [
      "\u001b[0;31m---------------------------------------------------------------------------\u001b[0m",
      "\u001b[0;31mTypeError\u001b[0m                                 Traceback (most recent call last)",
      "Input \u001b[0;32mIn [22]\u001b[0m, in \u001b[0;36m<module>\u001b[0;34m\u001b[0m\n\u001b[1;32m      2\u001b[0m \u001b[38;5;28mprint\u001b[39m(view_name)\n\u001b[1;32m      4\u001b[0m \u001b[38;5;28;01mfor\u001b[39;00m field_name_list \u001b[38;5;129;01min\u001b[39;00m field_name:\n\u001b[0;32m----> 5\u001b[0m     \u001b[38;5;28mprint\u001b[39m(\u001b[43mfield_name\u001b[49m\u001b[43m[\u001b[49m\u001b[43mfield_name_list\u001b[49m\u001b[43m]\u001b[49m)\n",
      "\u001b[0;31mTypeError\u001b[0m: list indices must be integers or slices, not str"
     ]
    }
   ],
   "source": [
    "for view_name, field_name in test_2.items():\n",
    "    print(view_name)\n",
    "    \n",
    "    for field_name_list in field_name:\n",
    "        print(field_name[field_name_list])"
   ]
  },
  {
   "cell_type": "code",
   "execution_count": 23,
   "id": "7c892f16",
   "metadata": {},
   "outputs": [
    {
     "ename": "ValueError",
     "evalue": "too many values to unpack (expected 2)",
     "output_type": "error",
     "traceback": [
      "\u001b[0;31m---------------------------------------------------------------------------\u001b[0m",
      "\u001b[0;31mValueError\u001b[0m                                Traceback (most recent call last)",
      "Input \u001b[0;32mIn [23]\u001b[0m, in \u001b[0;36m<module>\u001b[0;34m\u001b[0m\n\u001b[1;32m     11\u001b[0m         \u001b[38;5;28;01melse\u001b[39;00m:\n\u001b[1;32m     12\u001b[0m             \u001b[38;5;28mprint\u001b[39m(value)\n\u001b[0;32m---> 14\u001b[0m tested \u001b[38;5;241m=\u001b[39m \u001b[43mtest\u001b[49m\u001b[43m(\u001b[49m\u001b[43m)\u001b[49m\n",
      "Input \u001b[0;32mIn [23]\u001b[0m, in \u001b[0;36mtest\u001b[0;34m()\u001b[0m\n\u001b[1;32m      3\u001b[0m     word_freq \u001b[38;5;241m=\u001b[39m test_3()\n\u001b[1;32m      5\u001b[0m \u001b[38;5;66;03m# Iterate over a dictionary with list values using nested for loop\u001b[39;00m\n\u001b[0;32m----> 6\u001b[0m     \u001b[38;5;28;01mfor\u001b[39;00m key, values \u001b[38;5;129;01min\u001b[39;00m word_freq:\n\u001b[1;32m      7\u001b[0m         \u001b[38;5;28mprint\u001b[39m(key)\n\u001b[1;32m      8\u001b[0m         \u001b[38;5;28;01mif\u001b[39;00m(\u001b[38;5;28misinstance\u001b[39m(values, \u001b[38;5;28mlist\u001b[39m)):\n",
      "\u001b[0;31mValueError\u001b[0m: too many values to unpack (expected 2)"
     ]
    }
   ],
   "source": [
    "def test():\n",
    "    \n",
    "    word_freq = test_3()\n",
    "\n",
    "# Iterate over a dictionary with list values using nested for loop\n",
    "    for key, values in word_freq:\n",
    "        print(key)\n",
    "        if(isinstance(values, list)):\n",
    "            for value in values:\n",
    "                print(value)\n",
    "        else:\n",
    "            print(value)\n",
    "            \n",
    "tested = test()\n"
   ]
  },
  {
   "cell_type": "code",
   "execution_count": 24,
   "id": "001d55ac",
   "metadata": {},
   "outputs": [
    {
     "name": "stdout",
     "output_type": "stream",
     "text": [
      "example_1\n"
     ]
    },
    {
     "ename": "TypeError",
     "evalue": "list indices must be integers or slices, not str",
     "output_type": "error",
     "traceback": [
      "\u001b[0;31m---------------------------------------------------------------------------\u001b[0m",
      "\u001b[0;31mTypeError\u001b[0m                                 Traceback (most recent call last)",
      "Input \u001b[0;32mIn [24]\u001b[0m, in \u001b[0;36m<module>\u001b[0;34m\u001b[0m\n\u001b[1;32m      2\u001b[0m \u001b[38;5;28mprint\u001b[39m(view_name)\n\u001b[1;32m      4\u001b[0m \u001b[38;5;28;01mfor\u001b[39;00m field_name_list \u001b[38;5;129;01min\u001b[39;00m field_name:\n\u001b[0;32m----> 5\u001b[0m     \u001b[38;5;28mprint\u001b[39m(\u001b[43mfield_name\u001b[49m\u001b[43m[\u001b[49m\u001b[43mfield_name_list\u001b[49m\u001b[43m]\u001b[49m)\n",
      "\u001b[0;31mTypeError\u001b[0m: list indices must be integers or slices, not str"
     ]
    }
   ],
   "source": [
    "for view_name, field_name in test_2.items():\n",
    "    print(view_name)\n",
    "    \n",
    "    for field_name_list in field_name:\n",
    "        print(field_name[field_name_list])"
   ]
  },
  {
   "cell_type": "code",
   "execution_count": 25,
   "id": "7624962a",
   "metadata": {},
   "outputs": [
    {
     "ename": "TypeError",
     "evalue": "list indices must be integers or slices, not str",
     "output_type": "error",
     "traceback": [
      "\u001b[0;31m---------------------------------------------------------------------------\u001b[0m",
      "\u001b[0;31mTypeError\u001b[0m                                 Traceback (most recent call last)",
      "Input \u001b[0;32mIn [25]\u001b[0m, in \u001b[0;36m<module>\u001b[0;34m\u001b[0m\n\u001b[1;32m      7\u001b[0m base\u001b[38;5;241m.\u001b[39mappend([{\u001b[38;5;124m\"\u001b[39m\u001b[38;5;124mview\u001b[39m\u001b[38;5;124m\"\u001b[39m: view_name}])   \n\u001b[1;32m      9\u001b[0m \u001b[38;5;28;01mfor\u001b[39;00m field_name_list \u001b[38;5;129;01min\u001b[39;00m field_name:\n\u001b[0;32m---> 11\u001b[0m     elem \u001b[38;5;241m=\u001b[39m \u001b[43mfield_name\u001b[49m\u001b[43m[\u001b[49m\u001b[43mfield_name_list\u001b[49m\u001b[43m]\u001b[49m\n\u001b[1;32m     12\u001b[0m     views\u001b[38;5;241m.\u001b[39mappend(elem)\n",
      "\u001b[0;31mTypeError\u001b[0m: list indices must be integers or slices, not str"
     ]
    }
   ],
   "source": [
    "    \n",
    "base = []\n",
    "\n",
    "for view_name, field_name in test_2.items():\n",
    "\n",
    "    views = []\n",
    "\n",
    "    base.append([{\"view\": view_name}])   \n",
    "\n",
    "    for field_name_list in field_name:\n",
    "\n",
    "        elem = field_name[field_name_list]\n",
    "        views.append(elem)   \n"
   ]
  },
  {
   "cell_type": "code",
   "execution_count": 26,
   "id": "379ae91e",
   "metadata": {},
   "outputs": [
    {
     "data": {
      "text/plain": [
       "[[{'view': 'example_1'}]]"
      ]
     },
     "execution_count": 26,
     "metadata": {},
     "output_type": "execute_result"
    }
   ],
   "source": [
    "base"
   ]
  },
  {
   "cell_type": "code",
   "execution_count": 27,
   "id": "22c6ebd8",
   "metadata": {},
   "outputs": [
    {
     "ename": "TypeError",
     "evalue": "list indices must be integers or slices, not str",
     "output_type": "error",
     "traceback": [
      "\u001b[0;31m---------------------------------------------------------------------------\u001b[0m",
      "\u001b[0;31mTypeError\u001b[0m                                 Traceback (most recent call last)",
      "Input \u001b[0;32mIn [27]\u001b[0m, in \u001b[0;36m<module>\u001b[0;34m\u001b[0m\n\u001b[1;32m      7\u001b[0m base\u001b[38;5;241m.\u001b[39mappend(view_name)   \n\u001b[1;32m      9\u001b[0m \u001b[38;5;28;01mfor\u001b[39;00m field_name_list \u001b[38;5;129;01min\u001b[39;00m field_name:\n\u001b[0;32m---> 11\u001b[0m     elem \u001b[38;5;241m=\u001b[39m \u001b[43mfield_name\u001b[49m\u001b[43m[\u001b[49m\u001b[43mfield_name_list\u001b[49m\u001b[43m]\u001b[49m\n\u001b[1;32m     12\u001b[0m     base\u001b[38;5;241m.\u001b[39mappend(elem)\n",
      "\u001b[0;31mTypeError\u001b[0m: list indices must be integers or slices, not str"
     ]
    }
   ],
   "source": [
    "    \n",
    "base = []\n",
    "\n",
    "for view_name, field_name in test_2.items():\n",
    "\n",
    "    views = []\n",
    "\n",
    "    base.append(view_name)   \n",
    "\n",
    "    for field_name_list in field_name:\n",
    "\n",
    "        elem = field_name[field_name_list]\n",
    "        base.append(elem)   \n"
   ]
  },
  {
   "cell_type": "code",
   "execution_count": 28,
   "id": "71af46dc",
   "metadata": {},
   "outputs": [
    {
     "data": {
      "text/plain": [
       "['example_1']"
      ]
     },
     "execution_count": 28,
     "metadata": {},
     "output_type": "execute_result"
    }
   ],
   "source": [
    "base"
   ]
  },
  {
   "cell_type": "code",
   "execution_count": 29,
   "id": "d7f83fa1",
   "metadata": {},
   "outputs": [
    {
     "name": "stdout",
     "output_type": "stream",
     "text": [
      "example_1\n"
     ]
    },
    {
     "ename": "AttributeError",
     "evalue": "'str' object has no attribute 'keys'",
     "output_type": "error",
     "traceback": [
      "\u001b[0;31m---------------------------------------------------------------------------\u001b[0m",
      "\u001b[0;31mAttributeError\u001b[0m                            Traceback (most recent call last)",
      "Input \u001b[0;32mIn [29]\u001b[0m, in \u001b[0;36m<module>\u001b[0;34m\u001b[0m\n\u001b[1;32m      1\u001b[0m \u001b[38;5;28;01mfor\u001b[39;00m view_name,field_name \u001b[38;5;129;01min\u001b[39;00m test_2\u001b[38;5;241m.\u001b[39mitems():\n\u001b[1;32m      2\u001b[0m     \u001b[38;5;28mprint\u001b[39m(view_name)\n\u001b[0;32m----> 4\u001b[0m     \u001b[38;5;28;01mfor\u001b[39;00m field_name \u001b[38;5;129;01min\u001b[39;00m \u001b[43mview_name\u001b[49m\u001b[38;5;241;43m.\u001b[39;49m\u001b[43mkeys\u001b[49m():\n\u001b[1;32m      6\u001b[0m         \u001b[38;5;28mprint\u001b[39m (field_name)\n",
      "\u001b[0;31mAttributeError\u001b[0m: 'str' object has no attribute 'keys'"
     ]
    }
   ],
   "source": [
    "for view_name,field_name in test_2.items():\n",
    "    print(view_name)\n",
    "    \n",
    "    for field_name in view_name.keys():\n",
    "        \n",
    "        print (field_name)"
   ]
  },
  {
   "cell_type": "code",
   "execution_count": 30,
   "id": "795023c3",
   "metadata": {},
   "outputs": [],
   "source": [
    "import yaml\n",
    "\n",
    "def find(d, tag):\n",
    "    if tag in d:\n",
    "        yield d[tag]\n",
    "    for k, v in d.items():\n",
    "        if isinstance(v, dict):\n",
    "            for i in find(v, tag):\n",
    "                yield i\n",
    "\n",
    "for val in find(prime_service, 'date_dimensions'):\n",
    "    print (val)"
   ]
  },
  {
   "cell_type": "code",
   "execution_count": 31,
   "id": "37ae07fa",
   "metadata": {},
   "outputs": [
    {
     "name": "stdout",
     "output_type": "stream",
     "text": [
      "{'views': {'example_1': ['example_2'], 'example_3': ['example_4', 'example_5']}}\n"
     ]
    }
   ],
   "source": [
    "import yaml\n",
    "\n",
    "def find(d, tag):\n",
    "    if tag in d:\n",
    "        yield d[tag]\n",
    "    for k, v in d.items():\n",
    "        if isinstance(v, dict):\n",
    "            for i in find(v, tag):\n",
    "                yield i\n",
    "\n",
    "for val in find(prime_service, 'lookml_pop'):\n",
    "    print (val)"
   ]
  },
  {
   "cell_type": "code",
   "execution_count": 32,
   "id": "d3d3fcf2",
   "metadata": {},
   "outputs": [
    {
     "name": "stdout",
     "output_type": "stream",
     "text": [
      "{'example_1': ['example_2'], 'example_3': ['example_4', 'example_5']}\n"
     ]
    }
   ],
   "source": [
    "def dict_flatten(in_dict, dict_out=None, parent_key=None, separator=\"_\"):\n",
    "   if dict_out is None:\n",
    "      dict_out = {}\n",
    "\n",
    "   for k, v in in_dict.items():\n",
    "      k = f\"{parent_key}{separator}{k}\" if parent_key else k\n",
    "      if isinstance(v, dict):\n",
    "         dict_flatten(in_dict=v, dict_out=dict_out, parent_key=k)\n",
    "         continue\n",
    "\n",
    "      dict_out[k] = v\n",
    "\n",
    "   return dict_out\n",
    "\n",
    "final_dict = dict_flatten(test_2)\n",
    "print(final_dict)"
   ]
  },
  {
   "cell_type": "code",
   "execution_count": 33,
   "id": "6933fc36",
   "metadata": {},
   "outputs": [],
   "source": [
    "from pandas import json_normalize\n",
    "from os import getcwd, path\n",
    "from yaml import SafeLoader, load\n",
    "\n",
    "with open('example.yaml', 'r') as f:\n",
    "    droughty_project = yaml.load(f, Loader=SafeLoader)\n",
    "yaml_df = json_normalize(droughty_project)"
   ]
  },
  {
   "cell_type": "code",
   "execution_count": 34,
   "id": "eecddd06",
   "metadata": {},
   "outputs": [
    {
     "data": {
      "text/html": [
       "<div>\n",
       "<style scoped>\n",
       "    .dataframe tbody tr th:only-of-type {\n",
       "        vertical-align: middle;\n",
       "    }\n",
       "\n",
       "    .dataframe tbody tr th {\n",
       "        vertical-align: top;\n",
       "    }\n",
       "\n",
       "    .dataframe thead th {\n",
       "        text-align: right;\n",
       "    }\n",
       "</style>\n",
       "<table border=\"1\" class=\"dataframe\">\n",
       "  <thead>\n",
       "    <tr style=\"text-align: right;\">\n",
       "      <th></th>\n",
       "      <th>profile</th>\n",
       "      <th>field_description_path</th>\n",
       "      <th>field_description_file_name</th>\n",
       "      <th>test_schemas</th>\n",
       "      <th>dbml_schemas</th>\n",
       "      <th>lookml_pop.views.example_1</th>\n",
       "      <th>lookml_pop.views.example_3</th>\n",
       "    </tr>\n",
       "  </thead>\n",
       "  <tbody>\n",
       "    <tr>\n",
       "      <th>0</th>\n",
       "      <td>snowflake_demo_olivier</td>\n",
       "      <td>warehouse_docs</td>\n",
       "      <td>field_descriptions.md</td>\n",
       "      <td>[analytics_qa, analytics_staging, analytics_in...</td>\n",
       "      <td>[analytics_qa, analytics_staging, analytics_in...</td>\n",
       "      <td>[example_2]</td>\n",
       "      <td>[example_4, example_5]</td>\n",
       "    </tr>\n",
       "  </tbody>\n",
       "</table>\n",
       "</div>"
      ],
      "text/plain": [
       "                  profile field_description_path field_description_file_name  \\\n",
       "0  snowflake_demo_olivier         warehouse_docs       field_descriptions.md   \n",
       "\n",
       "                                        test_schemas  \\\n",
       "0  [analytics_qa, analytics_staging, analytics_in...   \n",
       "\n",
       "                                        dbml_schemas  \\\n",
       "0  [analytics_qa, analytics_staging, analytics_in...   \n",
       "\n",
       "  lookml_pop.views.example_1 lookml_pop.views.example_3  \n",
       "0                [example_2]     [example_4, example_5]  "
      ]
     },
     "execution_count": 34,
     "metadata": {},
     "output_type": "execute_result"
    }
   ],
   "source": [
    "yaml_df"
   ]
  },
  {
   "cell_type": "code",
   "execution_count": 38,
   "id": "931cfec7",
   "metadata": {},
   "outputs": [
    {
     "name": "stdout",
     "output_type": "stream",
     "text": [
      "example_1\n",
      "example_2\n",
      "example_3\n",
      "example_4\n",
      "example_5\n"
     ]
    }
   ],
   "source": [
    "# Create a dictionary where multiple values are\n",
    "# associated with a key\n",
    "word_freq = test_2\n",
    "\n",
    "# Iterate over a dictionary with list values using nested for loop\n",
    "for key, values in word_freq.items():\n",
    "    print(key)\n",
    "    if(isinstance(values, list)):\n",
    "        for value in values:\n",
    "            print(value)\n",
    "    else:\n",
    "        print(value)"
   ]
  },
  {
   "cell_type": "code",
   "execution_count": 42,
   "id": "2365e140",
   "metadata": {},
   "outputs": [
    {
     "name": "stdout",
     "output_type": "stream",
     "text": [
      "{'view': '+example_1', 'dimension': 'created_month_of_quarter_advanced', 'label': 'Orders Month of Quarter', 'group_label': 'Orders Dates', 'group_item_label': 'Month of Quarter', 'type': 'number', 'sql': 'case when ${example_1.example_2} IN (1,4,7,10) THEN 1 when ${example_1.example_2} IN (2,5,8,11) THEN 2 else 3 end'}\n",
      "{'view': '+example_3', 'dimension': 'created_month_of_quarter_advanced', 'label': 'Orders Month of Quarter', 'group_label': 'Orders Dates', 'group_item_label': 'Month of Quarter', 'type': 'number', 'sql': 'case when ${example_3.example_4} IN (1,4,7,10) THEN 1 when ${example_3.example_4} IN (2,5,8,11) THEN 2 else 3 end'}\n",
      "{'view': '+example_3', 'dimension': 'created_month_of_quarter_advanced', 'label': 'Orders Month of Quarter', 'group_label': 'Orders Dates', 'group_item_label': 'Month of Quarter', 'type': 'number', 'sql': 'case when ${example_3.example_5} IN (1,4,7,10) THEN 1 when ${example_3.example_5} IN (2,5,8,11) THEN 2 else 3 end'}\n"
     ]
    }
   ],
   "source": [
    "def pop():\n",
    "\n",
    "    for view_name, field_name in word_freq.items():\n",
    "\n",
    "        if(isinstance(field_name, list)):\n",
    "\n",
    "            for field_names in field_name:\n",
    "\n",
    "                pop_refinements = {\n",
    "\n",
    "                \"view\": \"+\"+view_name,\n",
    "\n",
    "                \"dimension\": \"created_month_of_quarter_advanced\",\n",
    "                    \"label\": \"Orders Month of Quarter\",\n",
    "                    \"group_label\": \"Orders Dates\",\n",
    "                    \"group_item_label\": \"Month of Quarter\",\n",
    "                    \"type\": \"number\",\n",
    "                    \"sql\":\n",
    "                    \"case when ${\"+view_name+\".\"+field_names+\"} IN (1,4,7,10) THEN 1 when ${\"+view_name+\".\"+field_names+\"} IN (2,5,8,11) THEN 2 else 3 end\"\n",
    "                    #;;\n",
    "                }\n",
    "\n",
    "                print(pop_refinements)\n",
    "                \n",
    "pop()"
   ]
  },
  {
   "cell_type": "code",
   "execution_count": null,
   "id": "f38815c3",
   "metadata": {},
   "outputs": [],
   "source": []
  }
 ],
 "metadata": {
  "kernelspec": {
   "display_name": "Python 3 (ipykernel)",
   "language": "python",
   "name": "python3"
  },
  "language_info": {
   "codemirror_mode": {
    "name": "ipython",
    "version": 3
   },
   "file_extension": ".py",
   "mimetype": "text/x-python",
   "name": "python",
   "nbconvert_exporter": "python",
   "pygments_lexer": "ipython3",
   "version": "3.8.12"
  }
 },
 "nbformat": 4,
 "nbformat_minor": 5
}
