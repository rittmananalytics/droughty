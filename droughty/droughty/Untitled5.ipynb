{
 "cells": [
  {
   "cell_type": "code",
   "execution_count": 4,
   "id": "2528909c-d10f-468b-9368-b6c220017c65",
   "metadata": {},
   "outputs": [
    {
     "ename": "KeyError",
     "evalue": "'warehouse_name'",
     "output_type": "error",
     "traceback": [
      "\u001b[0;31m---------------------------------------------------------------------------\u001b[0m",
      "\u001b[0;31mKeyError\u001b[0m                                  Traceback (most recent call last)",
      "Input \u001b[0;32mIn [4]\u001b[0m, in \u001b[0;36m<module>\u001b[0;34m\u001b[0m\n\u001b[1;32m     47\u001b[0m     profile_targets\u001b[38;5;241m.\u001b[39mappend(key)\n\u001b[1;32m     49\u001b[0m \u001b[38;5;66;03m##\u001b[39;00m\n\u001b[0;32m---> 51\u001b[0m warehouse_name \u001b[38;5;241m=\u001b[39m  \u001b[43mlookml_config\u001b[49m\u001b[43m[\u001b[49m\u001b[38;5;124;43m'\u001b[39;49m\u001b[38;5;124;43mwarehouse_name\u001b[39;49m\u001b[38;5;124;43m'\u001b[39;49m\u001b[43m]\u001b[49m\n\u001b[1;32m     52\u001b[0m project_name \u001b[38;5;241m=\u001b[39m  lookml_config[\u001b[38;5;124m'\u001b[39m\u001b[38;5;124mproject_name\u001b[39m\u001b[38;5;124m'\u001b[39m]\n\u001b[1;32m     53\u001b[0m schema_name \u001b[38;5;241m=\u001b[39m  lookml_config[\u001b[38;5;124m'\u001b[39m\u001b[38;5;124mschema_name\u001b[39m\u001b[38;5;124m'\u001b[39m]\n",
      "\u001b[0;31mKeyError\u001b[0m: 'warehouse_name'"
     ]
    }
   ],
   "source": [
    "import os\n",
    "import yaml\n",
    "\n",
    "from google.oauth2 import service_account\n",
    "import os\n",
    "import yaml\n",
    "import git\n",
    "\n",
    "## source vars\n",
    "\n",
    "path = os.path.expanduser('~')\n",
    "\n",
    "profile_pass = os.path.join(path,\".droughty/profile.yaml\")\n",
    "\n",
    "with open(profile_pass) as f:\n",
    "    lookml_config = yaml.load(f, Loader=yaml.FullLoader)\n",
    "\n",
    "def get_git_root(path):\n",
    "\n",
    "        git_repo = git.Repo(path, search_parent_directories=True)\n",
    "        git_root = git_repo.git.rev_parse(\"--show-toplevel\")\n",
    "        return (git_root)\n",
    "    \n",
    "    \n",
    "git_def_path = get_git_root(os.getcwd())\n",
    "\n",
    "git_path = git_def_path\n",
    "\n",
    "filename = 'droughty_project.yaml'\n",
    "\n",
    "droughty_project = os.path.join(git_path,filename)\n",
    "\n",
    "with open(droughty_project) as f:\n",
    "    enviroment_project = yaml.load(f, Loader=yaml.FullLoader)\n",
    "\n",
    "project_value = list(enviroment_project.values())\n",
    "profile_key = list(lookml_config.keys())\n",
    "explores = (enviroment_project.get(\"explores\"))\n",
    "profile_name = (enviroment_project.get(\"profile\"))\n",
    "\n",
    "## getting list of possible profile targets \n",
    "\n",
    "profile_targets = []\n",
    "\n",
    "for key in lookml_config.keys():\n",
    "\n",
    "    profile_targets.append(key)\n",
    "    \n",
    "##\n",
    "\n",
    "warehouse_name =  lookml_config['warehouse_name']\n",
    "project_name =  lookml_config['project_name']\n",
    "schema_name =  lookml_config['schema_name']\n",
    "test_schemas = lookml_config['test_schemas']\n",
    "    \n",
    "    \n",
    "    \n",
    "if profile_targets == profile_name:\n",
    "\n",
    "    if lookml_config[value]['warehouse_name'] == 'big_query':\n",
    "    \n",
    "        if x in lookml_config:\n",
    "            \n",
    "        ## global vars \n",
    "\n",
    "            warehouse_name =  lookml_config[value]['warehouse_name']\n",
    "            project_name =  lookml_config[value]['project_name']\n",
    "            schema_name =  lookml_config[value]['schema_name']\n",
    "            test_schemas = lookml_config[value]['test_schemas']\n",
    "\n",
    "            warehouse_schema =   \"\"\"\n",
    "\n",
    "            with source as (\n",
    "\n",
    "                select * from `{0}.{1}.INFORMATION_SCHEMA.COLUMN_FIELD_PATHS`\n",
    "\n",
    "                )\n",
    "\n",
    "                select * from source\n",
    "\n",
    "            \"\"\".format(project_name,schema_name)\n",
    "\n",
    "            dbml_reference_dict = \"\"\"\n",
    "\n",
    "\n",
    "            with source as (\n",
    "\n",
    "            select * from `{0}.{1}.INFORMATION_SCHEMA.COLUMN_FIELD_PATHS`\n",
    "\n",
    "            ),\n",
    "\n",
    "                pks as (\n",
    "                select \n",
    "                table_name as pk_table_name,\n",
    "                column_name as pk_column_name,\n",
    "                trim(column_name, \"_pk\") as pk_sk,\n",
    "                from source\n",
    "                where column_name like '%pk%'\n",
    "                ),\n",
    "\n",
    "                fks as (\n",
    "                select\n",
    "                table_name as fk_table_name,\n",
    "                column_name as fk_column_name,\n",
    "                trim(column_name, \"_fk\") as fk_sk,\n",
    "                from source\n",
    "                where column_name like '%fk%'\n",
    "\n",
    "                ),\n",
    "\n",
    "                references as (\n",
    "                select * from pks\n",
    "\n",
    "                inner join fks on pks.pk_sk = fks.fk_sk\n",
    "\n",
    "                )\n",
    "\n",
    "                select \n",
    "                \n",
    "                *except (pk_column_name,pk_table_name),\n",
    "\n",
    "                case when pk_column_name is null\n",
    "                    then 'not_available'\n",
    "                else pk_column_name\n",
    "                end as pk_column_name,\n",
    "\n",
    "                case when pk_table_name is null\n",
    "                    then 'not_available'\n",
    "                else pk_table_name\n",
    "                end as pk_table_name                   \n",
    "                 from source\n",
    "\n",
    "                left join references on source.column_name = references.fk_column_name and references.fk_table_name = source.table_name\n",
    "            \n",
    "            \"\"\".format(project_name,schema_name)\n",
    "\n",
    "\n",
    "    elif lookml_config[value]['warehouse_name'] == 'snowflake':\n",
    "        \n",
    "        if value in lookml_config:\n",
    "\n",
    "            warehouse_name =  lookml_config[value]['warehouse_name']\n",
    "            project_name =  lookml_config[value]['project_name']\n",
    "            schema_name =  lookml_config[value]['schema_name']\n",
    "            test_schemas = lookml_config[value]['test_schemas']\n",
    "            database = lookml_config[value]['database']\n",
    "\n",
    "            snowflake_schema = '''\n",
    "\n",
    "            select * from {0}.information_schema.columns;\n",
    "\n",
    "            '''.format(database)\n",
    "\n",
    "## warehouse test schemas\n",
    "\n",
    "test_warehouse_schema =   \"\"\"\n",
    "\n",
    "        with source_1 as (\n",
    "\n",
    "            select * from `{0}.{1}.INFORMATION_SCHEMA.COLUMNS`\n",
    "\n",
    "            ),\n",
    "\n",
    "        source_2 as (\n",
    "\n",
    "        select * from `{0}.{2}.INFORMATION_SCHEMA.COLUMNS`\n",
    "        \n",
    "        ),\n",
    "        \n",
    "        source_3 as (\n",
    "\n",
    "        select * from `{0}.{3}.INFORMATION_SCHEMA.COLUMNS`\n",
    "        \n",
    "        ),\n",
    "        \n",
    "        unioned as (\n",
    "\n",
    "        select * from source_1\n",
    "        \n",
    "        union all\n",
    "        \n",
    "        select * from source_2\n",
    "        \n",
    "        union all\n",
    "        \n",
    "        select * from source_3\n",
    "        \n",
    "        )\n",
    "\n",
    "        select * from unioned\n",
    "\n",
    "\"\"\".format(project_name,test_schemas[0],test_schemas[1],test_schemas[2])\n",
    "\n",
    "\n",
    "\n",
    "\n",
    "\n"
   ]
  },
  {
   "cell_type": "code",
   "execution_count": null,
   "id": "fec72d04-5882-4775-890d-a21a7d3359f9",
   "metadata": {},
   "outputs": [],
   "source": [
    "warehouse_name"
   ]
  },
  {
   "cell_type": "code",
   "execution_count": 5,
   "id": "17482d42-a16b-4ae6-8bbf-96bdae597f3c",
   "metadata": {},
   "outputs": [
    {
     "data": {
      "text/plain": [
       "{'snowflake_demo': {'host': None,\n",
       "  'key_file': None,\n",
       "  'account': 'vi54812.europe-west2.gcp',\n",
       "  'password': 'RAdevelopment2',\n",
       "  'port': None,\n",
       "  'project_name': None,\n",
       "  'schema_name': 'INFORMATION_SCHEMA',\n",
       "  'user': 'LEWIS',\n",
       "  'role': 'SYSADMIN',\n",
       "  'warehouse': 'COMPUTE_WH',\n",
       "  'database': 'SNOWFLAKE_SAMPLE_DATA',\n",
       "  'warehouse_name': 'snowflake',\n",
       "  'test_schemas': ['lewis_analytics_dev_staging',\n",
       "   'lewis_analytics_dev_integration',\n",
       "   'lewis_analytics_dev']},\n",
       " 'snowflake_demo_2': {'host': None,\n",
       "  'key_file': None,\n",
       "  'account': 'vi54812.europe-west2.gcp',\n",
       "  'password': 'RAdevelopment2',\n",
       "  'port': None,\n",
       "  'project_name': None,\n",
       "  'schema_name': 'INFORMATION_SCHEMA',\n",
       "  'user': 'LEWIS',\n",
       "  'role': 'SYSADMIN',\n",
       "  'warehouse': 'COMPUTE_WH',\n",
       "  'database': 'SNOWFLAKE_SAMPLE_DATA',\n",
       "  'warehouse_name': 'snowflake',\n",
       "  'test_schemas': ['lewis_analytics_dev_staging',\n",
       "   'lewis_analytics_dev_integration',\n",
       "   'lewis_analytics_dev']},\n",
       " 'kaplan_poc': {'host': None,\n",
       "  'key_file': '/Users/lewischarlesbaker/Documents/Kaplan/client-kaplan-poc-lookml-gen.json',\n",
       "  'password': None,\n",
       "  'port': None,\n",
       "  'project_name': 'client-kaplan-poc',\n",
       "  'schema_name': 'analytics_qa',\n",
       "  'user': None,\n",
       "  'warehouse_name': 'big_query',\n",
       "  'test_schemas': ['lewis_analytics_dev_staging',\n",
       "   'lewis_analytics_dev_integration',\n",
       "   'lewis_analytics_dev']},\n",
       " 'kaplan_prod': {'host': None,\n",
       "  'key_file': '/Users/lewischarlesbaker/Documents/Kaplan/kaplan-prod-secret.json',\n",
       "  'password': None,\n",
       "  'port': None,\n",
       "  'project_name': 'ki-advancedreporting',\n",
       "  'schema_name': 'lewis_analytics_dev',\n",
       "  'user': None,\n",
       "  'warehouse_name': 'big_query',\n",
       "  'test_schemas': ['lewis_analytics_dev_staging',\n",
       "   'lewis_analytics_dev_integration',\n",
       "   'lewis_analytics_dev']},\n",
       " 'rixo': {'host': None,\n",
       "  'key_file': '/Users/lewischarlesbaker/Documents/Rixo/project-x-ray-83c9345b5ca5.json',\n",
       "  'password': None,\n",
       "  'port': None,\n",
       "  'project_name': 'project-x-ray',\n",
       "  'schema_name': 'lewis_analytics_dev',\n",
       "  'user': None,\n",
       "  'warehouse_name': 'big_query',\n",
       "  'test_schemas': ['lewis_analytics_dev_staging',\n",
       "   'lewis_analytics_dev_integration',\n",
       "   'lewis_analytics_dev']}}"
      ]
     },
     "execution_count": 5,
     "metadata": {},
     "output_type": "execute_result"
    }
   ],
   "source": [
    "lookml_config"
   ]
  },
  {
   "cell_type": "code",
   "execution_count": null,
   "id": "f41ef042-096a-4364-a44b-3246be430896",
   "metadata": {},
   "outputs": [],
   "source": [
    "test_warehouse_schema"
   ]
  },
  {
   "cell_type": "code",
   "execution_count": 7,
   "id": "f73eb4d3-0cb6-4993-a472-2f7c09f7353a",
   "metadata": {},
   "outputs": [],
   "source": [
    "warehouse = (enviroment_project.get(\"warehouse_name\"))"
   ]
  },
  {
   "cell_type": "code",
   "execution_count": 9,
   "id": "2676dabe-2fb2-488f-8ba6-d5becb52fccc",
   "metadata": {},
   "outputs": [
    {
     "name": "stdout",
     "output_type": "stream",
     "text": [
      "None\n"
     ]
    }
   ],
   "source": [
    "print(warehouse)"
   ]
  },
  {
   "cell_type": "code",
   "execution_count": null,
   "id": "13a9f5e5-bfaf-4ed9-9083-4c83509566be",
   "metadata": {},
   "outputs": [],
   "source": [
    "type(lookml_config)"
   ]
  },
  {
   "cell_type": "code",
   "execution_count": null,
   "id": "e342d4c9-837f-41c3-ba51-d685444063fc",
   "metadata": {},
   "outputs": [],
   "source": [
    "for key in lookml_config.keys():\n",
    "  print(key)"
   ]
  },
  {
   "cell_type": "code",
   "execution_count": null,
   "id": "dd8d4989-cbad-4c80-835a-1677d02df907",
   "metadata": {},
   "outputs": [],
   "source": [
    "profile_targets = []\n",
    "\n",
    "for key in lookml_config.keys():\n",
    "\n",
    "    profile_targets.append(key)"
   ]
  },
  {
   "cell_type": "code",
   "execution_count": null,
   "id": "35581764-3405-4f12-a0ea-9220176908eb",
   "metadata": {},
   "outputs": [],
   "source": [
    "profile_targets"
   ]
  },
  {
   "cell_type": "code",
   "execution_count": null,
   "id": "42fb33ab-2fee-4a16-861f-0974e50074dd",
   "metadata": {},
   "outputs": [],
   "source": [
    "profile_key = list(lookml_config.keys())"
   ]
  },
  {
   "cell_type": "code",
   "execution_count": null,
   "id": "32383099-56e7-4331-8849-71f0c751d3b9",
   "metadata": {},
   "outputs": [],
   "source": [
    "profile_key"
   ]
  },
  {
   "cell_type": "code",
   "execution_count": null,
   "id": "09564880-5ad2-4cbe-8369-ffca6464dcdc",
   "metadata": {},
   "outputs": [],
   "source": [
    "type (profile_key)"
   ]
  },
  {
   "cell_type": "code",
   "execution_count": null,
   "id": "3f7366c9-7b74-4396-8c7d-4716d1367df5",
   "metadata": {},
   "outputs": [],
   "source": [
    "type (profile_targets)"
   ]
  },
  {
   "cell_type": "code",
   "execution_count": null,
   "id": "29a50926-b60f-46f7-8cb1-b48234a0f565",
   "metadata": {},
   "outputs": [],
   "source": [
    "print(lookml_config[value])"
   ]
  },
  {
   "cell_type": "code",
   "execution_count": 10,
   "id": "f5d7677d-0d6c-42cf-bddb-33ef7ba0f48c",
   "metadata": {},
   "outputs": [
    {
     "ename": "KeyError",
     "evalue": "'warehouse_name'",
     "output_type": "error",
     "traceback": [
      "\u001b[0;31m---------------------------------------------------------------------------\u001b[0m",
      "\u001b[0;31mKeyError\u001b[0m                                  Traceback (most recent call last)",
      "Input \u001b[0;32mIn [10]\u001b[0m, in \u001b[0;36m<module>\u001b[0;34m\u001b[0m\n\u001b[0;32m----> 1\u001b[0m \u001b[43mlookml_config\u001b[49m\u001b[43m[\u001b[49m\u001b[38;5;124;43m'\u001b[39;49m\u001b[38;5;124;43mwarehouse_name\u001b[39;49m\u001b[38;5;124;43m'\u001b[39;49m\u001b[43m]\u001b[49m\n",
      "\u001b[0;31mKeyError\u001b[0m: 'warehouse_name'"
     ]
    }
   ],
   "source": [
    "lookml_config['warehouse_name']"
   ]
  },
  {
   "cell_type": "code",
   "execution_count": 11,
   "id": "cf9d1fe7-15a3-427f-9367-264ba1fdb6e5",
   "metadata": {},
   "outputs": [
    {
     "ename": "KeyError",
     "evalue": "'warehouse_name'",
     "output_type": "error",
     "traceback": [
      "\u001b[0;31m---------------------------------------------------------------------------\u001b[0m",
      "\u001b[0;31mKeyError\u001b[0m                                  Traceback (most recent call last)",
      "Input \u001b[0;32mIn [11]\u001b[0m, in \u001b[0;36m<module>\u001b[0;34m\u001b[0m\n\u001b[0;32m----> 1\u001b[0m \u001b[38;5;28mprint\u001b[39m(\u001b[43mlookml_config\u001b[49m\u001b[43m[\u001b[49m\u001b[38;5;124;43m'\u001b[39;49m\u001b[38;5;124;43mwarehouse_name\u001b[39;49m\u001b[38;5;124;43m'\u001b[39;49m\u001b[43m]\u001b[49m)\n",
      "\u001b[0;31mKeyError\u001b[0m: 'warehouse_name'"
     ]
    }
   ],
   "source": [
    "\n",
    "print(lookml_config['warehouse_name'])"
   ]
  },
  {
   "cell_type": "code",
   "execution_count": 12,
   "id": "86bdf50a-b285-4ff6-96df-d5a539e5967a",
   "metadata": {},
   "outputs": [
    {
     "data": {
      "text/plain": [
       "{'snowflake_demo': {'host': None,\n",
       "  'key_file': None,\n",
       "  'account': 'vi54812.europe-west2.gcp',\n",
       "  'password': 'RAdevelopment2',\n",
       "  'port': None,\n",
       "  'project_name': None,\n",
       "  'schema_name': 'INFORMATION_SCHEMA',\n",
       "  'user': 'LEWIS',\n",
       "  'role': 'SYSADMIN',\n",
       "  'warehouse': 'COMPUTE_WH',\n",
       "  'database': 'SNOWFLAKE_SAMPLE_DATA',\n",
       "  'warehouse_name': 'snowflake',\n",
       "  'test_schemas': ['lewis_analytics_dev_staging',\n",
       "   'lewis_analytics_dev_integration',\n",
       "   'lewis_analytics_dev']},\n",
       " 'snowflake_demo_2': {'host': None,\n",
       "  'key_file': None,\n",
       "  'account': 'vi54812.europe-west2.gcp',\n",
       "  'password': 'RAdevelopment2',\n",
       "  'port': None,\n",
       "  'project_name': None,\n",
       "  'schema_name': 'INFORMATION_SCHEMA',\n",
       "  'user': 'LEWIS',\n",
       "  'role': 'SYSADMIN',\n",
       "  'warehouse': 'COMPUTE_WH',\n",
       "  'database': 'SNOWFLAKE_SAMPLE_DATA',\n",
       "  'warehouse_name': 'snowflake',\n",
       "  'test_schemas': ['lewis_analytics_dev_staging',\n",
       "   'lewis_analytics_dev_integration',\n",
       "   'lewis_analytics_dev']},\n",
       " 'kaplan_poc': {'host': None,\n",
       "  'key_file': '/Users/lewischarlesbaker/Documents/Kaplan/client-kaplan-poc-lookml-gen.json',\n",
       "  'password': None,\n",
       "  'port': None,\n",
       "  'project_name': 'client-kaplan-poc',\n",
       "  'schema_name': 'analytics_qa',\n",
       "  'user': None,\n",
       "  'warehouse_name': 'big_query',\n",
       "  'test_schemas': ['lewis_analytics_dev_staging',\n",
       "   'lewis_analytics_dev_integration',\n",
       "   'lewis_analytics_dev']},\n",
       " 'kaplan_prod': {'host': None,\n",
       "  'key_file': '/Users/lewischarlesbaker/Documents/Kaplan/kaplan-prod-secret.json',\n",
       "  'password': None,\n",
       "  'port': None,\n",
       "  'project_name': 'ki-advancedreporting',\n",
       "  'schema_name': 'lewis_analytics_dev',\n",
       "  'user': None,\n",
       "  'warehouse_name': 'big_query',\n",
       "  'test_schemas': ['lewis_analytics_dev_staging',\n",
       "   'lewis_analytics_dev_integration',\n",
       "   'lewis_analytics_dev']},\n",
       " 'rixo': {'host': None,\n",
       "  'key_file': '/Users/lewischarlesbaker/Documents/Rixo/project-x-ray-83c9345b5ca5.json',\n",
       "  'password': None,\n",
       "  'port': None,\n",
       "  'project_name': 'project-x-ray',\n",
       "  'schema_name': 'lewis_analytics_dev',\n",
       "  'user': None,\n",
       "  'warehouse_name': 'big_query',\n",
       "  'test_schemas': ['lewis_analytics_dev_staging',\n",
       "   'lewis_analytics_dev_integration',\n",
       "   'lewis_analytics_dev']}}"
      ]
     },
     "execution_count": 12,
     "metadata": {},
     "output_type": "execute_result"
    }
   ],
   "source": [
    "lookml_config"
   ]
  },
  {
   "cell_type": "code",
   "execution_count": null,
   "id": "5c28145e-1e63-4e55-afc5-8d59b6be8fc1",
   "metadata": {},
   "outputs": [],
   "source": []
  }
 ],
 "metadata": {
  "kernelspec": {
   "display_name": "Python 3 (ipykernel)",
   "language": "python",
   "name": "python3"
  },
  "language_info": {
   "codemirror_mode": {
    "name": "ipython",
    "version": 3
   },
   "file_extension": ".py",
   "mimetype": "text/x-python",
   "name": "python",
   "nbconvert_exporter": "python",
   "pygments_lexer": "ipython3",
   "version": "3.8.12"
  }
 },
 "nbformat": 4,
 "nbformat_minor": 5
}
